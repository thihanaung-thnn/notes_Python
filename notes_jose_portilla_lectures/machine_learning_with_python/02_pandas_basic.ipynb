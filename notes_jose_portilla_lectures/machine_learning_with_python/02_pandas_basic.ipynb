{
  "nbformat": 4,
  "nbformat_minor": 0,
  "metadata": {
    "colab": {
      "name": "02-pandas_basic.ipynb",
      "provenance": [],
      "collapsed_sections": [
        "L0u31CPiYDn7"
      ],
      "authorship_tag": "ABX9TyN6gCklQU+1WTL/5HGiF56V",
      "include_colab_link": true
    },
    "kernelspec": {
      "name": "python3",
      "display_name": "Python 3"
    },
    "language_info": {
      "name": "python"
    }
  },
  "cells": [
    {
      "cell_type": "markdown",
      "metadata": {
        "id": "view-in-github",
        "colab_type": "text"
      },
      "source": [
        "<a href=\"https://colab.research.google.com/github/thihanaung-thnn/notes_Python/blob/main/notes_jose_portilla_lectures/machine_learning_with_python/02_pandas_basic.ipynb\" target=\"_parent\"><img src=\"https://colab.research.google.com/assets/colab-badge.svg\" alt=\"Open In Colab\"/></a>"
      ]
    },
    {
      "cell_type": "markdown",
      "metadata": {
        "id": "APbCmnDyUro_"
      },
      "source": [
        "# Pandas "
      ]
    },
    {
      "cell_type": "markdown",
      "metadata": {
        "id": "L0u31CPiYDn7"
      },
      "source": [
        "## Series\n",
        "- Series is similar to NumPy array."
      ]
    },
    {
      "cell_type": "code",
      "metadata": {
        "id": "0y75iraAU91i"
      },
      "source": [
        "import numpy as np\n",
        "import pandas as pd"
      ],
      "execution_count": 39,
      "outputs": []
    },
    {
      "cell_type": "code",
      "metadata": {
        "colab": {
          "base_uri": "https://localhost:8080/"
        },
        "id": "8jix7-M8VAvb",
        "outputId": "1e09c1d4-8ca8-44f4-e752-369f34840faa"
      },
      "source": [
        "index = ['First','Second','Third']\n",
        "data = [22,33,44]\n",
        "pd.Series(data = data, index = index)"
      ],
      "execution_count": 40,
      "outputs": [
        {
          "output_type": "execute_result",
          "data": {
            "text/plain": [
              "First     22\n",
              "Second    33\n",
              "Third     44\n",
              "dtype: int64"
            ]
          },
          "metadata": {},
          "execution_count": 40
        }
      ]
    },
    {
      "cell_type": "code",
      "metadata": {
        "colab": {
          "base_uri": "https://localhost:8080/"
        },
        "id": "m54Vq_TaVozw",
        "outputId": "2547cb0c-d092-41ae-af79-140317813876"
      },
      "source": [
        "rand_data = np.random.randint(0,100,5)\n",
        "names = ['Chou','Saber','Franco','Angela','Myia']\n",
        "power = pd.Series(rand_data, names)\n",
        "power # names are indices. "
      ],
      "execution_count": 41,
      "outputs": [
        {
          "output_type": "execute_result",
          "data": {
            "text/plain": [
              "Chou      77\n",
              "Saber     74\n",
              "Franco    73\n",
              "Angela    75\n",
              "Myia      52\n",
              "dtype: int64"
            ]
          },
          "metadata": {},
          "execution_count": 41
        }
      ]
    },
    {
      "cell_type": "code",
      "metadata": {
        "colab": {
          "base_uri": "https://localhost:8080/"
        },
        "id": "YKhP79fUWCp8",
        "outputId": "a68065ae-f223-4436-f6e0-488299e03e64"
      },
      "source": [
        "# from dictionary\n",
        "ages = {'Tim':22, 'John':33, 'Rose':22}\n",
        "pds = pd.Series(ages)\n",
        "pds"
      ],
      "execution_count": 42,
      "outputs": [
        {
          "output_type": "execute_result",
          "data": {
            "text/plain": [
              "Tim     22\n",
              "John    33\n",
              "Rose    22\n",
              "dtype: int64"
            ]
          },
          "metadata": {},
          "execution_count": 42
        }
      ]
    },
    {
      "cell_type": "code",
      "metadata": {
        "colab": {
          "base_uri": "https://localhost:8080/"
        },
        "id": "n-OXIYWkXgKb",
        "outputId": "2ea25960-b762-40e7-ac7e-8c98a8c4da80"
      },
      "source": [
        "type(pds)"
      ],
      "execution_count": 43,
      "outputs": [
        {
          "output_type": "execute_result",
          "data": {
            "text/plain": [
              "pandas.core.series.Series"
            ]
          },
          "metadata": {},
          "execution_count": 43
        }
      ]
    },
    {
      "cell_type": "code",
      "metadata": {
        "colab": {
          "base_uri": "https://localhost:8080/"
        },
        "id": "DglHxs22WXbc",
        "outputId": "44271b72-cb98-4e08-b71f-b6a79a804cf6"
      },
      "source": [
        "# named index \n",
        "# same as indexing with list or dictionaries\n",
        "pds['Tim']"
      ],
      "execution_count": 44,
      "outputs": [
        {
          "output_type": "execute_result",
          "data": {
            "text/plain": [
              "22"
            ]
          },
          "metadata": {},
          "execution_count": 44
        }
      ]
    },
    {
      "cell_type": "code",
      "metadata": {
        "colab": {
          "base_uri": "https://localhost:8080/"
        },
        "id": "cVH9usPFW5e6",
        "outputId": "1fa465dc-f74f-454b-d7c9-5132f03aaa8d"
      },
      "source": [
        "pds[0]"
      ],
      "execution_count": 45,
      "outputs": [
        {
          "output_type": "execute_result",
          "data": {
            "text/plain": [
              "22"
            ]
          },
          "metadata": {},
          "execution_count": 45
        }
      ]
    },
    {
      "cell_type": "code",
      "metadata": {
        "colab": {
          "base_uri": "https://localhost:8080/"
        },
        "id": "1GGLtPNBW-la",
        "outputId": "bb14acb7-aa7b-4852-d834-529207e955ae"
      },
      "source": [
        "# Operations\n",
        "pds.keys()"
      ],
      "execution_count": 46,
      "outputs": [
        {
          "output_type": "execute_result",
          "data": {
            "text/plain": [
              "Index(['Tim', 'John', 'Rose'], dtype='object')"
            ]
          },
          "metadata": {},
          "execution_count": 46
        }
      ]
    },
    {
      "cell_type": "code",
      "metadata": {
        "colab": {
          "base_uri": "https://localhost:8080/"
        },
        "id": "PnnPhPa7Xi2z",
        "outputId": "0b31e4b4-ad80-42f2-9515-228b5aaa746e"
      },
      "source": [
        "pds*10"
      ],
      "execution_count": 47,
      "outputs": [
        {
          "output_type": "execute_result",
          "data": {
            "text/plain": [
              "Tim     220\n",
              "John    330\n",
              "Rose    220\n",
              "dtype: int64"
            ]
          },
          "metadata": {},
          "execution_count": 47
        }
      ]
    },
    {
      "cell_type": "code",
      "metadata": {
        "colab": {
          "base_uri": "https://localhost:8080/"
        },
        "id": "uzLqpXTrXs46",
        "outputId": "df8b6146-3781-44d5-ce43-d72d7821aaea"
      },
      "source": [
        "pds/2"
      ],
      "execution_count": 48,
      "outputs": [
        {
          "output_type": "execute_result",
          "data": {
            "text/plain": [
              "Tim     11.0\n",
              "John    16.5\n",
              "Rose    11.0\n",
              "dtype: float64"
            ]
          },
          "metadata": {},
          "execution_count": 48
        }
      ]
    },
    {
      "cell_type": "code",
      "metadata": {
        "colab": {
          "base_uri": "https://localhost:8080/"
        },
        "id": "5jOQHqnKXu3x",
        "outputId": "9a0df0d7-b360-4824-992c-306c66da1471"
      },
      "source": [
        "pds * pds"
      ],
      "execution_count": 49,
      "outputs": [
        {
          "output_type": "execute_result",
          "data": {
            "text/plain": [
              "Tim      484\n",
              "John    1089\n",
              "Rose     484\n",
              "dtype: int64"
            ]
          },
          "metadata": {},
          "execution_count": 49
        }
      ]
    },
    {
      "cell_type": "markdown",
      "metadata": {
        "id": "p9RnTAtyX8NS"
      },
      "source": [
        "## DataFrames\n",
        "- DataFrame consists of multiple Pandas Series that share index values"
      ]
    },
    {
      "cell_type": "markdown",
      "metadata": {
        "id": "5VVDR5J3YuCA"
      },
      "source": [
        "### Creating DataFrame"
      ]
    },
    {
      "cell_type": "code",
      "metadata": {
        "colab": {
          "base_uri": "https://localhost:8080/"
        },
        "id": "chjExtPRX3HK",
        "outputId": "66c1beb5-bd9d-45bf-9a34-7900434daee5"
      },
      "source": [
        "# help(pd.DataFrame)\n",
        "np.random.seed(13)\n",
        "data = np.random.randint(0,101, (4,3))\n",
        "data"
      ],
      "execution_count": 50,
      "outputs": [
        {
          "output_type": "execute_result",
          "data": {
            "text/plain": [
              "array([[82, 48, 74],\n",
              "       [16, 98, 25],\n",
              "       [58, 99, 26],\n",
              "       [66, 46, 54]])"
            ]
          },
          "metadata": {},
          "execution_count": 50
        }
      ]
    },
    {
      "cell_type": "code",
      "metadata": {
        "colab": {
          "base_uri": "https://localhost:8080/",
          "height": 0
        },
        "id": "7fcbdYqxYzF0",
        "outputId": "c896920f-553a-45f1-abe0-fe1b09c71545"
      },
      "source": [
        "names = ['Tigeral','Minotour','Johnson','Uranus']\n",
        "col = ['Str','Int','Att']\n",
        "pd.DataFrame(data=data)\n"
      ],
      "execution_count": 51,
      "outputs": [
        {
          "output_type": "execute_result",
          "data": {
            "text/html": [
              "<div>\n",
              "<style scoped>\n",
              "    .dataframe tbody tr th:only-of-type {\n",
              "        vertical-align: middle;\n",
              "    }\n",
              "\n",
              "    .dataframe tbody tr th {\n",
              "        vertical-align: top;\n",
              "    }\n",
              "\n",
              "    .dataframe thead th {\n",
              "        text-align: right;\n",
              "    }\n",
              "</style>\n",
              "<table border=\"1\" class=\"dataframe\">\n",
              "  <thead>\n",
              "    <tr style=\"text-align: right;\">\n",
              "      <th></th>\n",
              "      <th>0</th>\n",
              "      <th>1</th>\n",
              "      <th>2</th>\n",
              "    </tr>\n",
              "  </thead>\n",
              "  <tbody>\n",
              "    <tr>\n",
              "      <th>0</th>\n",
              "      <td>82</td>\n",
              "      <td>48</td>\n",
              "      <td>74</td>\n",
              "    </tr>\n",
              "    <tr>\n",
              "      <th>1</th>\n",
              "      <td>16</td>\n",
              "      <td>98</td>\n",
              "      <td>25</td>\n",
              "    </tr>\n",
              "    <tr>\n",
              "      <th>2</th>\n",
              "      <td>58</td>\n",
              "      <td>99</td>\n",
              "      <td>26</td>\n",
              "    </tr>\n",
              "    <tr>\n",
              "      <th>3</th>\n",
              "      <td>66</td>\n",
              "      <td>46</td>\n",
              "      <td>54</td>\n",
              "    </tr>\n",
              "  </tbody>\n",
              "</table>\n",
              "</div>"
            ],
            "text/plain": [
              "    0   1   2\n",
              "0  82  48  74\n",
              "1  16  98  25\n",
              "2  58  99  26\n",
              "3  66  46  54"
            ]
          },
          "metadata": {},
          "execution_count": 51
        }
      ]
    },
    {
      "cell_type": "code",
      "metadata": {
        "colab": {
          "base_uri": "https://localhost:8080/",
          "height": 0
        },
        "id": "QT42XV67ZgOK",
        "outputId": "ac754e39-84bb-4b0a-fded-22c0905ce7b8"
      },
      "source": [
        "df = pd.DataFrame(data = data, index=names, columns = col)\n",
        "df"
      ],
      "execution_count": 52,
      "outputs": [
        {
          "output_type": "execute_result",
          "data": {
            "text/html": [
              "<div>\n",
              "<style scoped>\n",
              "    .dataframe tbody tr th:only-of-type {\n",
              "        vertical-align: middle;\n",
              "    }\n",
              "\n",
              "    .dataframe tbody tr th {\n",
              "        vertical-align: top;\n",
              "    }\n",
              "\n",
              "    .dataframe thead th {\n",
              "        text-align: right;\n",
              "    }\n",
              "</style>\n",
              "<table border=\"1\" class=\"dataframe\">\n",
              "  <thead>\n",
              "    <tr style=\"text-align: right;\">\n",
              "      <th></th>\n",
              "      <th>Str</th>\n",
              "      <th>Int</th>\n",
              "      <th>Att</th>\n",
              "    </tr>\n",
              "  </thead>\n",
              "  <tbody>\n",
              "    <tr>\n",
              "      <th>Tigeral</th>\n",
              "      <td>82</td>\n",
              "      <td>48</td>\n",
              "      <td>74</td>\n",
              "    </tr>\n",
              "    <tr>\n",
              "      <th>Minotour</th>\n",
              "      <td>16</td>\n",
              "      <td>98</td>\n",
              "      <td>25</td>\n",
              "    </tr>\n",
              "    <tr>\n",
              "      <th>Johnson</th>\n",
              "      <td>58</td>\n",
              "      <td>99</td>\n",
              "      <td>26</td>\n",
              "    </tr>\n",
              "    <tr>\n",
              "      <th>Uranus</th>\n",
              "      <td>66</td>\n",
              "      <td>46</td>\n",
              "      <td>54</td>\n",
              "    </tr>\n",
              "  </tbody>\n",
              "</table>\n",
              "</div>"
            ],
            "text/plain": [
              "          Str  Int  Att\n",
              "Tigeral    82   48   74\n",
              "Minotour   16   98   25\n",
              "Johnson    58   99   26\n",
              "Uranus     66   46   54"
            ]
          },
          "metadata": {},
          "execution_count": 52
        }
      ]
    },
    {
      "cell_type": "markdown",
      "metadata": {
        "id": "L7ph6Q0baa5D"
      },
      "source": [
        "### Glimpsing DataFrame"
      ]
    },
    {
      "cell_type": "code",
      "metadata": {
        "id": "3hlYpwTqZs6Z"
      },
      "source": [
        "data = pd.read_csv('sample_data/california_housing_train.csv')\n",
        "df = data.copy()\n",
        "df = df.iloc[0:100]"
      ],
      "execution_count": 53,
      "outputs": []
    },
    {
      "cell_type": "code",
      "metadata": {
        "colab": {
          "base_uri": "https://localhost:8080/"
        },
        "id": "IbWTEV6AaGHz",
        "outputId": "96935559-8f8d-4d69-d714-9330915f275c"
      },
      "source": [
        "df.columns"
      ],
      "execution_count": 54,
      "outputs": [
        {
          "output_type": "execute_result",
          "data": {
            "text/plain": [
              "Index(['longitude', 'latitude', 'housing_median_age', 'total_rooms',\n",
              "       'total_bedrooms', 'population', 'households', 'median_income',\n",
              "       'median_house_value'],\n",
              "      dtype='object')"
            ]
          },
          "metadata": {},
          "execution_count": 54
        }
      ]
    },
    {
      "cell_type": "code",
      "metadata": {
        "colab": {
          "base_uri": "https://localhost:8080/"
        },
        "id": "lXnGbcsoaHNT",
        "outputId": "e82f35d0-35e4-49b8-89ba-93d33572566e"
      },
      "source": [
        "df.index"
      ],
      "execution_count": 55,
      "outputs": [
        {
          "output_type": "execute_result",
          "data": {
            "text/plain": [
              "RangeIndex(start=0, stop=100, step=1)"
            ]
          },
          "metadata": {},
          "execution_count": 55
        }
      ]
    },
    {
      "cell_type": "code",
      "metadata": {
        "colab": {
          "base_uri": "https://localhost:8080/",
          "height": 0
        },
        "id": "O8DQ8O_RZwWa",
        "outputId": "926d5e5b-b5cb-4611-ba54-7ca75cfeace5"
      },
      "source": [
        "df.head()"
      ],
      "execution_count": 56,
      "outputs": [
        {
          "output_type": "execute_result",
          "data": {
            "text/html": [
              "<div>\n",
              "<style scoped>\n",
              "    .dataframe tbody tr th:only-of-type {\n",
              "        vertical-align: middle;\n",
              "    }\n",
              "\n",
              "    .dataframe tbody tr th {\n",
              "        vertical-align: top;\n",
              "    }\n",
              "\n",
              "    .dataframe thead th {\n",
              "        text-align: right;\n",
              "    }\n",
              "</style>\n",
              "<table border=\"1\" class=\"dataframe\">\n",
              "  <thead>\n",
              "    <tr style=\"text-align: right;\">\n",
              "      <th></th>\n",
              "      <th>longitude</th>\n",
              "      <th>latitude</th>\n",
              "      <th>housing_median_age</th>\n",
              "      <th>total_rooms</th>\n",
              "      <th>total_bedrooms</th>\n",
              "      <th>population</th>\n",
              "      <th>households</th>\n",
              "      <th>median_income</th>\n",
              "      <th>median_house_value</th>\n",
              "    </tr>\n",
              "  </thead>\n",
              "  <tbody>\n",
              "    <tr>\n",
              "      <th>0</th>\n",
              "      <td>-114.31</td>\n",
              "      <td>34.19</td>\n",
              "      <td>15.0</td>\n",
              "      <td>5612.0</td>\n",
              "      <td>1283.0</td>\n",
              "      <td>1015.0</td>\n",
              "      <td>472.0</td>\n",
              "      <td>1.4936</td>\n",
              "      <td>66900.0</td>\n",
              "    </tr>\n",
              "    <tr>\n",
              "      <th>1</th>\n",
              "      <td>-114.47</td>\n",
              "      <td>34.40</td>\n",
              "      <td>19.0</td>\n",
              "      <td>7650.0</td>\n",
              "      <td>1901.0</td>\n",
              "      <td>1129.0</td>\n",
              "      <td>463.0</td>\n",
              "      <td>1.8200</td>\n",
              "      <td>80100.0</td>\n",
              "    </tr>\n",
              "    <tr>\n",
              "      <th>2</th>\n",
              "      <td>-114.56</td>\n",
              "      <td>33.69</td>\n",
              "      <td>17.0</td>\n",
              "      <td>720.0</td>\n",
              "      <td>174.0</td>\n",
              "      <td>333.0</td>\n",
              "      <td>117.0</td>\n",
              "      <td>1.6509</td>\n",
              "      <td>85700.0</td>\n",
              "    </tr>\n",
              "    <tr>\n",
              "      <th>3</th>\n",
              "      <td>-114.57</td>\n",
              "      <td>33.64</td>\n",
              "      <td>14.0</td>\n",
              "      <td>1501.0</td>\n",
              "      <td>337.0</td>\n",
              "      <td>515.0</td>\n",
              "      <td>226.0</td>\n",
              "      <td>3.1917</td>\n",
              "      <td>73400.0</td>\n",
              "    </tr>\n",
              "    <tr>\n",
              "      <th>4</th>\n",
              "      <td>-114.57</td>\n",
              "      <td>33.57</td>\n",
              "      <td>20.0</td>\n",
              "      <td>1454.0</td>\n",
              "      <td>326.0</td>\n",
              "      <td>624.0</td>\n",
              "      <td>262.0</td>\n",
              "      <td>1.9250</td>\n",
              "      <td>65500.0</td>\n",
              "    </tr>\n",
              "  </tbody>\n",
              "</table>\n",
              "</div>"
            ],
            "text/plain": [
              "   longitude  latitude  ...  median_income  median_house_value\n",
              "0    -114.31     34.19  ...         1.4936             66900.0\n",
              "1    -114.47     34.40  ...         1.8200             80100.0\n",
              "2    -114.56     33.69  ...         1.6509             85700.0\n",
              "3    -114.57     33.64  ...         3.1917             73400.0\n",
              "4    -114.57     33.57  ...         1.9250             65500.0\n",
              "\n",
              "[5 rows x 9 columns]"
            ]
          },
          "metadata": {},
          "execution_count": 56
        }
      ]
    },
    {
      "cell_type": "code",
      "metadata": {
        "colab": {
          "base_uri": "https://localhost:8080/",
          "height": 0
        },
        "id": "8efR4G8Ra-cH",
        "outputId": "9f65ed9e-c687-4634-8f6f-ff5f0dc9dd06"
      },
      "source": [
        "df.tail(3)"
      ],
      "execution_count": 57,
      "outputs": [
        {
          "output_type": "execute_result",
          "data": {
            "text/html": [
              "<div>\n",
              "<style scoped>\n",
              "    .dataframe tbody tr th:only-of-type {\n",
              "        vertical-align: middle;\n",
              "    }\n",
              "\n",
              "    .dataframe tbody tr th {\n",
              "        vertical-align: top;\n",
              "    }\n",
              "\n",
              "    .dataframe thead th {\n",
              "        text-align: right;\n",
              "    }\n",
              "</style>\n",
              "<table border=\"1\" class=\"dataframe\">\n",
              "  <thead>\n",
              "    <tr style=\"text-align: right;\">\n",
              "      <th></th>\n",
              "      <th>longitude</th>\n",
              "      <th>latitude</th>\n",
              "      <th>housing_median_age</th>\n",
              "      <th>total_rooms</th>\n",
              "      <th>total_bedrooms</th>\n",
              "      <th>population</th>\n",
              "      <th>households</th>\n",
              "      <th>median_income</th>\n",
              "      <th>median_house_value</th>\n",
              "    </tr>\n",
              "  </thead>\n",
              "  <tbody>\n",
              "    <tr>\n",
              "      <th>97</th>\n",
              "      <td>-115.58</td>\n",
              "      <td>32.79</td>\n",
              "      <td>14.0</td>\n",
              "      <td>1687.0</td>\n",
              "      <td>507.0</td>\n",
              "      <td>762.0</td>\n",
              "      <td>451.0</td>\n",
              "      <td>1.6635</td>\n",
              "      <td>64400.0</td>\n",
              "    </tr>\n",
              "    <tr>\n",
              "      <th>98</th>\n",
              "      <td>-115.58</td>\n",
              "      <td>32.78</td>\n",
              "      <td>5.0</td>\n",
              "      <td>2494.0</td>\n",
              "      <td>414.0</td>\n",
              "      <td>1416.0</td>\n",
              "      <td>421.0</td>\n",
              "      <td>5.7843</td>\n",
              "      <td>110100.0</td>\n",
              "    </tr>\n",
              "    <tr>\n",
              "      <th>99</th>\n",
              "      <td>-115.59</td>\n",
              "      <td>32.85</td>\n",
              "      <td>20.0</td>\n",
              "      <td>1608.0</td>\n",
              "      <td>274.0</td>\n",
              "      <td>862.0</td>\n",
              "      <td>248.0</td>\n",
              "      <td>4.8750</td>\n",
              "      <td>90800.0</td>\n",
              "    </tr>\n",
              "  </tbody>\n",
              "</table>\n",
              "</div>"
            ],
            "text/plain": [
              "    longitude  latitude  ...  median_income  median_house_value\n",
              "97    -115.58     32.79  ...         1.6635             64400.0\n",
              "98    -115.58     32.78  ...         5.7843            110100.0\n",
              "99    -115.59     32.85  ...         4.8750             90800.0\n",
              "\n",
              "[3 rows x 9 columns]"
            ]
          },
          "metadata": {},
          "execution_count": 57
        }
      ]
    },
    {
      "cell_type": "code",
      "metadata": {
        "colab": {
          "base_uri": "https://localhost:8080/"
        },
        "id": "OePY5JbIbKVq",
        "outputId": "f94b0ca5-9b7f-43f9-e01a-b2439299b92d"
      },
      "source": [
        "df.info()"
      ],
      "execution_count": 58,
      "outputs": [
        {
          "output_type": "stream",
          "name": "stdout",
          "text": [
            "<class 'pandas.core.frame.DataFrame'>\n",
            "RangeIndex: 100 entries, 0 to 99\n",
            "Data columns (total 9 columns):\n",
            " #   Column              Non-Null Count  Dtype  \n",
            "---  ------              --------------  -----  \n",
            " 0   longitude           100 non-null    float64\n",
            " 1   latitude            100 non-null    float64\n",
            " 2   housing_median_age  100 non-null    float64\n",
            " 3   total_rooms         100 non-null    float64\n",
            " 4   total_bedrooms      100 non-null    float64\n",
            " 5   population          100 non-null    float64\n",
            " 6   households          100 non-null    float64\n",
            " 7   median_income       100 non-null    float64\n",
            " 8   median_house_value  100 non-null    float64\n",
            "dtypes: float64(9)\n",
            "memory usage: 7.2 KB\n"
          ]
        }
      ]
    },
    {
      "cell_type": "code",
      "metadata": {
        "colab": {
          "base_uri": "https://localhost:8080/"
        },
        "id": "qbwA6m8xbMDq",
        "outputId": "6144cab8-359b-4266-9fa1-9ab59f3fbe0e"
      },
      "source": [
        "len(df)"
      ],
      "execution_count": 59,
      "outputs": [
        {
          "output_type": "execute_result",
          "data": {
            "text/plain": [
              "100"
            ]
          },
          "metadata": {},
          "execution_count": 59
        }
      ]
    },
    {
      "cell_type": "code",
      "metadata": {
        "colab": {
          "base_uri": "https://localhost:8080/",
          "height": 0
        },
        "id": "SuvdCP-0bPPi",
        "outputId": "7821d6a2-5424-4be7-97e7-1e9049c853da"
      },
      "source": [
        "df.describe()"
      ],
      "execution_count": 60,
      "outputs": [
        {
          "output_type": "execute_result",
          "data": {
            "text/html": [
              "<div>\n",
              "<style scoped>\n",
              "    .dataframe tbody tr th:only-of-type {\n",
              "        vertical-align: middle;\n",
              "    }\n",
              "\n",
              "    .dataframe tbody tr th {\n",
              "        vertical-align: top;\n",
              "    }\n",
              "\n",
              "    .dataframe thead th {\n",
              "        text-align: right;\n",
              "    }\n",
              "</style>\n",
              "<table border=\"1\" class=\"dataframe\">\n",
              "  <thead>\n",
              "    <tr style=\"text-align: right;\">\n",
              "      <th></th>\n",
              "      <th>longitude</th>\n",
              "      <th>latitude</th>\n",
              "      <th>housing_median_age</th>\n",
              "      <th>total_rooms</th>\n",
              "      <th>total_bedrooms</th>\n",
              "      <th>population</th>\n",
              "      <th>households</th>\n",
              "      <th>median_income</th>\n",
              "      <th>median_house_value</th>\n",
              "    </tr>\n",
              "  </thead>\n",
              "  <tbody>\n",
              "    <tr>\n",
              "      <th>count</th>\n",
              "      <td>100.000000</td>\n",
              "      <td>100.000000</td>\n",
              "      <td>100.000000</td>\n",
              "      <td>100.000000</td>\n",
              "      <td>100.000000</td>\n",
              "      <td>100.000000</td>\n",
              "      <td>100.000000</td>\n",
              "      <td>100.000000</td>\n",
              "      <td>100.000000</td>\n",
              "    </tr>\n",
              "    <tr>\n",
              "      <th>mean</th>\n",
              "      <td>-115.299100</td>\n",
              "      <td>33.144100</td>\n",
              "      <td>23.160000</td>\n",
              "      <td>1677.850000</td>\n",
              "      <td>376.220000</td>\n",
              "      <td>1077.710000</td>\n",
              "      <td>323.590000</td>\n",
              "      <td>2.462202</td>\n",
              "      <td>72825.000000</td>\n",
              "    </tr>\n",
              "    <tr>\n",
              "      <th>std</th>\n",
              "      <td>0.389058</td>\n",
              "      <td>0.597297</td>\n",
              "      <td>9.234017</td>\n",
              "      <td>1070.454528</td>\n",
              "      <td>260.708963</td>\n",
              "      <td>675.559585</td>\n",
              "      <td>183.525359</td>\n",
              "      <td>1.168484</td>\n",
              "      <td>22706.232736</td>\n",
              "    </tr>\n",
              "    <tr>\n",
              "      <th>min</th>\n",
              "      <td>-115.590000</td>\n",
              "      <td>32.670000</td>\n",
              "      <td>5.000000</td>\n",
              "      <td>44.000000</td>\n",
              "      <td>24.000000</td>\n",
              "      <td>29.000000</td>\n",
              "      <td>15.000000</td>\n",
              "      <td>0.857100</td>\n",
              "      <td>25000.000000</td>\n",
              "    </tr>\n",
              "    <tr>\n",
              "      <th>25%</th>\n",
              "      <td>-115.550000</td>\n",
              "      <td>32.790000</td>\n",
              "      <td>17.000000</td>\n",
              "      <td>1149.250000</td>\n",
              "      <td>231.500000</td>\n",
              "      <td>669.750000</td>\n",
              "      <td>206.250000</td>\n",
              "      <td>1.648050</td>\n",
              "      <td>60550.000000</td>\n",
              "    </tr>\n",
              "    <tr>\n",
              "      <th>50%</th>\n",
              "      <td>-115.515000</td>\n",
              "      <td>32.845000</td>\n",
              "      <td>21.000000</td>\n",
              "      <td>1492.500000</td>\n",
              "      <td>323.500000</td>\n",
              "      <td>949.500000</td>\n",
              "      <td>286.000000</td>\n",
              "      <td>2.107300</td>\n",
              "      <td>68850.000000</td>\n",
              "    </tr>\n",
              "    <tr>\n",
              "      <th>75%</th>\n",
              "      <td>-115.295000</td>\n",
              "      <td>33.287500</td>\n",
              "      <td>30.000000</td>\n",
              "      <td>1989.750000</td>\n",
              "      <td>443.500000</td>\n",
              "      <td>1314.000000</td>\n",
              "      <td>412.750000</td>\n",
              "      <td>3.196200</td>\n",
              "      <td>84950.000000</td>\n",
              "    </tr>\n",
              "    <tr>\n",
              "      <th>max</th>\n",
              "      <td>-114.310000</td>\n",
              "      <td>34.910000</td>\n",
              "      <td>48.000000</td>\n",
              "      <td>7650.000000</td>\n",
              "      <td>1901.000000</td>\n",
              "      <td>3565.000000</td>\n",
              "      <td>1056.000000</td>\n",
              "      <td>6.271500</td>\n",
              "      <td>146300.000000</td>\n",
              "    </tr>\n",
              "  </tbody>\n",
              "</table>\n",
              "</div>"
            ],
            "text/plain": [
              "        longitude    latitude  ...  median_income  median_house_value\n",
              "count  100.000000  100.000000  ...     100.000000          100.000000\n",
              "mean  -115.299100   33.144100  ...       2.462202        72825.000000\n",
              "std      0.389058    0.597297  ...       1.168484        22706.232736\n",
              "min   -115.590000   32.670000  ...       0.857100        25000.000000\n",
              "25%   -115.550000   32.790000  ...       1.648050        60550.000000\n",
              "50%   -115.515000   32.845000  ...       2.107300        68850.000000\n",
              "75%   -115.295000   33.287500  ...       3.196200        84950.000000\n",
              "max   -114.310000   34.910000  ...       6.271500       146300.000000\n",
              "\n",
              "[8 rows x 9 columns]"
            ]
          },
          "metadata": {},
          "execution_count": 60
        }
      ]
    },
    {
      "cell_type": "code",
      "metadata": {
        "colab": {
          "base_uri": "https://localhost:8080/",
          "height": 0
        },
        "id": "w9GlGm46bRXa",
        "outputId": "5f765163-7600-4636-dde3-12b7bf638523"
      },
      "source": [
        "df.describe().transpose()"
      ],
      "execution_count": 61,
      "outputs": [
        {
          "output_type": "execute_result",
          "data": {
            "text/html": [
              "<div>\n",
              "<style scoped>\n",
              "    .dataframe tbody tr th:only-of-type {\n",
              "        vertical-align: middle;\n",
              "    }\n",
              "\n",
              "    .dataframe tbody tr th {\n",
              "        vertical-align: top;\n",
              "    }\n",
              "\n",
              "    .dataframe thead th {\n",
              "        text-align: right;\n",
              "    }\n",
              "</style>\n",
              "<table border=\"1\" class=\"dataframe\">\n",
              "  <thead>\n",
              "    <tr style=\"text-align: right;\">\n",
              "      <th></th>\n",
              "      <th>count</th>\n",
              "      <th>mean</th>\n",
              "      <th>std</th>\n",
              "      <th>min</th>\n",
              "      <th>25%</th>\n",
              "      <th>50%</th>\n",
              "      <th>75%</th>\n",
              "      <th>max</th>\n",
              "    </tr>\n",
              "  </thead>\n",
              "  <tbody>\n",
              "    <tr>\n",
              "      <th>longitude</th>\n",
              "      <td>100.0</td>\n",
              "      <td>-115.299100</td>\n",
              "      <td>0.389058</td>\n",
              "      <td>-115.5900</td>\n",
              "      <td>-115.55000</td>\n",
              "      <td>-115.5150</td>\n",
              "      <td>-115.2950</td>\n",
              "      <td>-114.3100</td>\n",
              "    </tr>\n",
              "    <tr>\n",
              "      <th>latitude</th>\n",
              "      <td>100.0</td>\n",
              "      <td>33.144100</td>\n",
              "      <td>0.597297</td>\n",
              "      <td>32.6700</td>\n",
              "      <td>32.79000</td>\n",
              "      <td>32.8450</td>\n",
              "      <td>33.2875</td>\n",
              "      <td>34.9100</td>\n",
              "    </tr>\n",
              "    <tr>\n",
              "      <th>housing_median_age</th>\n",
              "      <td>100.0</td>\n",
              "      <td>23.160000</td>\n",
              "      <td>9.234017</td>\n",
              "      <td>5.0000</td>\n",
              "      <td>17.00000</td>\n",
              "      <td>21.0000</td>\n",
              "      <td>30.0000</td>\n",
              "      <td>48.0000</td>\n",
              "    </tr>\n",
              "    <tr>\n",
              "      <th>total_rooms</th>\n",
              "      <td>100.0</td>\n",
              "      <td>1677.850000</td>\n",
              "      <td>1070.454528</td>\n",
              "      <td>44.0000</td>\n",
              "      <td>1149.25000</td>\n",
              "      <td>1492.5000</td>\n",
              "      <td>1989.7500</td>\n",
              "      <td>7650.0000</td>\n",
              "    </tr>\n",
              "    <tr>\n",
              "      <th>total_bedrooms</th>\n",
              "      <td>100.0</td>\n",
              "      <td>376.220000</td>\n",
              "      <td>260.708963</td>\n",
              "      <td>24.0000</td>\n",
              "      <td>231.50000</td>\n",
              "      <td>323.5000</td>\n",
              "      <td>443.5000</td>\n",
              "      <td>1901.0000</td>\n",
              "    </tr>\n",
              "    <tr>\n",
              "      <th>population</th>\n",
              "      <td>100.0</td>\n",
              "      <td>1077.710000</td>\n",
              "      <td>675.559585</td>\n",
              "      <td>29.0000</td>\n",
              "      <td>669.75000</td>\n",
              "      <td>949.5000</td>\n",
              "      <td>1314.0000</td>\n",
              "      <td>3565.0000</td>\n",
              "    </tr>\n",
              "    <tr>\n",
              "      <th>households</th>\n",
              "      <td>100.0</td>\n",
              "      <td>323.590000</td>\n",
              "      <td>183.525359</td>\n",
              "      <td>15.0000</td>\n",
              "      <td>206.25000</td>\n",
              "      <td>286.0000</td>\n",
              "      <td>412.7500</td>\n",
              "      <td>1056.0000</td>\n",
              "    </tr>\n",
              "    <tr>\n",
              "      <th>median_income</th>\n",
              "      <td>100.0</td>\n",
              "      <td>2.462202</td>\n",
              "      <td>1.168484</td>\n",
              "      <td>0.8571</td>\n",
              "      <td>1.64805</td>\n",
              "      <td>2.1073</td>\n",
              "      <td>3.1962</td>\n",
              "      <td>6.2715</td>\n",
              "    </tr>\n",
              "    <tr>\n",
              "      <th>median_house_value</th>\n",
              "      <td>100.0</td>\n",
              "      <td>72825.000000</td>\n",
              "      <td>22706.232736</td>\n",
              "      <td>25000.0000</td>\n",
              "      <td>60550.00000</td>\n",
              "      <td>68850.0000</td>\n",
              "      <td>84950.0000</td>\n",
              "      <td>146300.0000</td>\n",
              "    </tr>\n",
              "  </tbody>\n",
              "</table>\n",
              "</div>"
            ],
            "text/plain": [
              "                    count          mean  ...         75%          max\n",
              "longitude           100.0   -115.299100  ...   -115.2950    -114.3100\n",
              "latitude            100.0     33.144100  ...     33.2875      34.9100\n",
              "housing_median_age  100.0     23.160000  ...     30.0000      48.0000\n",
              "total_rooms         100.0   1677.850000  ...   1989.7500    7650.0000\n",
              "total_bedrooms      100.0    376.220000  ...    443.5000    1901.0000\n",
              "population          100.0   1077.710000  ...   1314.0000    3565.0000\n",
              "households          100.0    323.590000  ...    412.7500    1056.0000\n",
              "median_income       100.0      2.462202  ...      3.1962       6.2715\n",
              "median_house_value  100.0  72825.000000  ...  84950.0000  146300.0000\n",
              "\n",
              "[9 rows x 8 columns]"
            ]
          },
          "metadata": {},
          "execution_count": 61
        }
      ]
    },
    {
      "cell_type": "markdown",
      "metadata": {
        "id": "xIQsakbVbb95"
      },
      "source": [
        "### Selection and Indexing"
      ]
    },
    {
      "cell_type": "code",
      "metadata": {
        "colab": {
          "base_uri": "https://localhost:8080/"
        },
        "id": "8rDCf5qlbVVK",
        "outputId": "42900d5e-dcb5-4081-fcb5-ad423e4ea22c"
      },
      "source": [
        "# columnns - single column\n",
        "df['population']"
      ],
      "execution_count": 62,
      "outputs": [
        {
          "output_type": "execute_result",
          "data": {
            "text/plain": [
              "0     1015.0\n",
              "1     1129.0\n",
              "2      333.0\n",
              "3      515.0\n",
              "4      624.0\n",
              "       ...  \n",
              "95     458.0\n",
              "96     533.0\n",
              "97     762.0\n",
              "98    1416.0\n",
              "99     862.0\n",
              "Name: population, Length: 100, dtype: float64"
            ]
          },
          "metadata": {},
          "execution_count": 62
        }
      ]
    },
    {
      "cell_type": "code",
      "metadata": {
        "colab": {
          "base_uri": "https://localhost:8080/"
        },
        "id": "YHoNe7nBbj1T",
        "outputId": "9f486e78-fda3-4be6-9a16-b23271dce573"
      },
      "source": [
        "type(df['population'])"
      ],
      "execution_count": 63,
      "outputs": [
        {
          "output_type": "execute_result",
          "data": {
            "text/plain": [
              "pandas.core.series.Series"
            ]
          },
          "metadata": {},
          "execution_count": 63
        }
      ]
    },
    {
      "cell_type": "code",
      "metadata": {
        "colab": {
          "base_uri": "https://localhost:8080/",
          "height": 0
        },
        "id": "OnWEntRMbowy",
        "outputId": "eab217e4-7932-426b-dc9b-4ac7c25ae3b0"
      },
      "source": [
        "# multiple columns\n",
        "df[['population','households']]"
      ],
      "execution_count": 64,
      "outputs": [
        {
          "output_type": "execute_result",
          "data": {
            "text/html": [
              "<div>\n",
              "<style scoped>\n",
              "    .dataframe tbody tr th:only-of-type {\n",
              "        vertical-align: middle;\n",
              "    }\n",
              "\n",
              "    .dataframe tbody tr th {\n",
              "        vertical-align: top;\n",
              "    }\n",
              "\n",
              "    .dataframe thead th {\n",
              "        text-align: right;\n",
              "    }\n",
              "</style>\n",
              "<table border=\"1\" class=\"dataframe\">\n",
              "  <thead>\n",
              "    <tr style=\"text-align: right;\">\n",
              "      <th></th>\n",
              "      <th>population</th>\n",
              "      <th>households</th>\n",
              "    </tr>\n",
              "  </thead>\n",
              "  <tbody>\n",
              "    <tr>\n",
              "      <th>0</th>\n",
              "      <td>1015.0</td>\n",
              "      <td>472.0</td>\n",
              "    </tr>\n",
              "    <tr>\n",
              "      <th>1</th>\n",
              "      <td>1129.0</td>\n",
              "      <td>463.0</td>\n",
              "    </tr>\n",
              "    <tr>\n",
              "      <th>2</th>\n",
              "      <td>333.0</td>\n",
              "      <td>117.0</td>\n",
              "    </tr>\n",
              "    <tr>\n",
              "      <th>3</th>\n",
              "      <td>515.0</td>\n",
              "      <td>226.0</td>\n",
              "    </tr>\n",
              "    <tr>\n",
              "      <th>4</th>\n",
              "      <td>624.0</td>\n",
              "      <td>262.0</td>\n",
              "    </tr>\n",
              "    <tr>\n",
              "      <th>...</th>\n",
              "      <td>...</td>\n",
              "      <td>...</td>\n",
              "    </tr>\n",
              "    <tr>\n",
              "      <th>95</th>\n",
              "      <td>458.0</td>\n",
              "      <td>143.0</td>\n",
              "    </tr>\n",
              "    <tr>\n",
              "      <th>96</th>\n",
              "      <td>533.0</td>\n",
              "      <td>201.0</td>\n",
              "    </tr>\n",
              "    <tr>\n",
              "      <th>97</th>\n",
              "      <td>762.0</td>\n",
              "      <td>451.0</td>\n",
              "    </tr>\n",
              "    <tr>\n",
              "      <th>98</th>\n",
              "      <td>1416.0</td>\n",
              "      <td>421.0</td>\n",
              "    </tr>\n",
              "    <tr>\n",
              "      <th>99</th>\n",
              "      <td>862.0</td>\n",
              "      <td>248.0</td>\n",
              "    </tr>\n",
              "  </tbody>\n",
              "</table>\n",
              "<p>100 rows × 2 columns</p>\n",
              "</div>"
            ],
            "text/plain": [
              "    population  households\n",
              "0       1015.0       472.0\n",
              "1       1129.0       463.0\n",
              "2        333.0       117.0\n",
              "3        515.0       226.0\n",
              "4        624.0       262.0\n",
              "..         ...         ...\n",
              "95       458.0       143.0\n",
              "96       533.0       201.0\n",
              "97       762.0       451.0\n",
              "98      1416.0       421.0\n",
              "99       862.0       248.0\n",
              "\n",
              "[100 rows x 2 columns]"
            ]
          },
          "metadata": {},
          "execution_count": 64
        }
      ]
    },
    {
      "cell_type": "code",
      "metadata": {
        "colab": {
          "base_uri": "https://localhost:8080/",
          "height": 0
        },
        "id": "rgyq9YAWb0Ta",
        "outputId": "b840ab39-514e-41fb-85fd-7cfb621932af"
      },
      "source": [
        "# adding new columns \n",
        "df['new_column'] = df['population']/df['households']\n",
        "df['new_column'] = np.round(df['new_column'], 2)\n",
        "df.head()"
      ],
      "execution_count": 65,
      "outputs": [
        {
          "output_type": "execute_result",
          "data": {
            "text/html": [
              "<div>\n",
              "<style scoped>\n",
              "    .dataframe tbody tr th:only-of-type {\n",
              "        vertical-align: middle;\n",
              "    }\n",
              "\n",
              "    .dataframe tbody tr th {\n",
              "        vertical-align: top;\n",
              "    }\n",
              "\n",
              "    .dataframe thead th {\n",
              "        text-align: right;\n",
              "    }\n",
              "</style>\n",
              "<table border=\"1\" class=\"dataframe\">\n",
              "  <thead>\n",
              "    <tr style=\"text-align: right;\">\n",
              "      <th></th>\n",
              "      <th>longitude</th>\n",
              "      <th>latitude</th>\n",
              "      <th>housing_median_age</th>\n",
              "      <th>total_rooms</th>\n",
              "      <th>total_bedrooms</th>\n",
              "      <th>population</th>\n",
              "      <th>households</th>\n",
              "      <th>median_income</th>\n",
              "      <th>median_house_value</th>\n",
              "      <th>new_column</th>\n",
              "    </tr>\n",
              "  </thead>\n",
              "  <tbody>\n",
              "    <tr>\n",
              "      <th>0</th>\n",
              "      <td>-114.31</td>\n",
              "      <td>34.19</td>\n",
              "      <td>15.0</td>\n",
              "      <td>5612.0</td>\n",
              "      <td>1283.0</td>\n",
              "      <td>1015.0</td>\n",
              "      <td>472.0</td>\n",
              "      <td>1.4936</td>\n",
              "      <td>66900.0</td>\n",
              "      <td>2.15</td>\n",
              "    </tr>\n",
              "    <tr>\n",
              "      <th>1</th>\n",
              "      <td>-114.47</td>\n",
              "      <td>34.40</td>\n",
              "      <td>19.0</td>\n",
              "      <td>7650.0</td>\n",
              "      <td>1901.0</td>\n",
              "      <td>1129.0</td>\n",
              "      <td>463.0</td>\n",
              "      <td>1.8200</td>\n",
              "      <td>80100.0</td>\n",
              "      <td>2.44</td>\n",
              "    </tr>\n",
              "    <tr>\n",
              "      <th>2</th>\n",
              "      <td>-114.56</td>\n",
              "      <td>33.69</td>\n",
              "      <td>17.0</td>\n",
              "      <td>720.0</td>\n",
              "      <td>174.0</td>\n",
              "      <td>333.0</td>\n",
              "      <td>117.0</td>\n",
              "      <td>1.6509</td>\n",
              "      <td>85700.0</td>\n",
              "      <td>2.85</td>\n",
              "    </tr>\n",
              "    <tr>\n",
              "      <th>3</th>\n",
              "      <td>-114.57</td>\n",
              "      <td>33.64</td>\n",
              "      <td>14.0</td>\n",
              "      <td>1501.0</td>\n",
              "      <td>337.0</td>\n",
              "      <td>515.0</td>\n",
              "      <td>226.0</td>\n",
              "      <td>3.1917</td>\n",
              "      <td>73400.0</td>\n",
              "      <td>2.28</td>\n",
              "    </tr>\n",
              "    <tr>\n",
              "      <th>4</th>\n",
              "      <td>-114.57</td>\n",
              "      <td>33.57</td>\n",
              "      <td>20.0</td>\n",
              "      <td>1454.0</td>\n",
              "      <td>326.0</td>\n",
              "      <td>624.0</td>\n",
              "      <td>262.0</td>\n",
              "      <td>1.9250</td>\n",
              "      <td>65500.0</td>\n",
              "      <td>2.38</td>\n",
              "    </tr>\n",
              "  </tbody>\n",
              "</table>\n",
              "</div>"
            ],
            "text/plain": [
              "   longitude  latitude  ...  median_house_value  new_column\n",
              "0    -114.31     34.19  ...             66900.0        2.15\n",
              "1    -114.47     34.40  ...             80100.0        2.44\n",
              "2    -114.56     33.69  ...             85700.0        2.85\n",
              "3    -114.57     33.64  ...             73400.0        2.28\n",
              "4    -114.57     33.57  ...             65500.0        2.38\n",
              "\n",
              "[5 rows x 10 columns]"
            ]
          },
          "metadata": {},
          "execution_count": 65
        }
      ]
    },
    {
      "cell_type": "code",
      "metadata": {
        "colab": {
          "base_uri": "https://localhost:8080/",
          "height": 0
        },
        "id": "j9WU1jdRcy3i",
        "outputId": "b0935ae8-f0af-496d-bbae-7afcc8ea3313"
      },
      "source": [
        "# remove column \n",
        "df = df.drop('new_column', axis = 1)\n",
        "df.head()"
      ],
      "execution_count": 66,
      "outputs": [
        {
          "output_type": "execute_result",
          "data": {
            "text/html": [
              "<div>\n",
              "<style scoped>\n",
              "    .dataframe tbody tr th:only-of-type {\n",
              "        vertical-align: middle;\n",
              "    }\n",
              "\n",
              "    .dataframe tbody tr th {\n",
              "        vertical-align: top;\n",
              "    }\n",
              "\n",
              "    .dataframe thead th {\n",
              "        text-align: right;\n",
              "    }\n",
              "</style>\n",
              "<table border=\"1\" class=\"dataframe\">\n",
              "  <thead>\n",
              "    <tr style=\"text-align: right;\">\n",
              "      <th></th>\n",
              "      <th>longitude</th>\n",
              "      <th>latitude</th>\n",
              "      <th>housing_median_age</th>\n",
              "      <th>total_rooms</th>\n",
              "      <th>total_bedrooms</th>\n",
              "      <th>population</th>\n",
              "      <th>households</th>\n",
              "      <th>median_income</th>\n",
              "      <th>median_house_value</th>\n",
              "    </tr>\n",
              "  </thead>\n",
              "  <tbody>\n",
              "    <tr>\n",
              "      <th>0</th>\n",
              "      <td>-114.31</td>\n",
              "      <td>34.19</td>\n",
              "      <td>15.0</td>\n",
              "      <td>5612.0</td>\n",
              "      <td>1283.0</td>\n",
              "      <td>1015.0</td>\n",
              "      <td>472.0</td>\n",
              "      <td>1.4936</td>\n",
              "      <td>66900.0</td>\n",
              "    </tr>\n",
              "    <tr>\n",
              "      <th>1</th>\n",
              "      <td>-114.47</td>\n",
              "      <td>34.40</td>\n",
              "      <td>19.0</td>\n",
              "      <td>7650.0</td>\n",
              "      <td>1901.0</td>\n",
              "      <td>1129.0</td>\n",
              "      <td>463.0</td>\n",
              "      <td>1.8200</td>\n",
              "      <td>80100.0</td>\n",
              "    </tr>\n",
              "    <tr>\n",
              "      <th>2</th>\n",
              "      <td>-114.56</td>\n",
              "      <td>33.69</td>\n",
              "      <td>17.0</td>\n",
              "      <td>720.0</td>\n",
              "      <td>174.0</td>\n",
              "      <td>333.0</td>\n",
              "      <td>117.0</td>\n",
              "      <td>1.6509</td>\n",
              "      <td>85700.0</td>\n",
              "    </tr>\n",
              "    <tr>\n",
              "      <th>3</th>\n",
              "      <td>-114.57</td>\n",
              "      <td>33.64</td>\n",
              "      <td>14.0</td>\n",
              "      <td>1501.0</td>\n",
              "      <td>337.0</td>\n",
              "      <td>515.0</td>\n",
              "      <td>226.0</td>\n",
              "      <td>3.1917</td>\n",
              "      <td>73400.0</td>\n",
              "    </tr>\n",
              "    <tr>\n",
              "      <th>4</th>\n",
              "      <td>-114.57</td>\n",
              "      <td>33.57</td>\n",
              "      <td>20.0</td>\n",
              "      <td>1454.0</td>\n",
              "      <td>326.0</td>\n",
              "      <td>624.0</td>\n",
              "      <td>262.0</td>\n",
              "      <td>1.9250</td>\n",
              "      <td>65500.0</td>\n",
              "    </tr>\n",
              "  </tbody>\n",
              "</table>\n",
              "</div>"
            ],
            "text/plain": [
              "   longitude  latitude  ...  median_income  median_house_value\n",
              "0    -114.31     34.19  ...         1.4936             66900.0\n",
              "1    -114.47     34.40  ...         1.8200             80100.0\n",
              "2    -114.56     33.69  ...         1.6509             85700.0\n",
              "3    -114.57     33.64  ...         3.1917             73400.0\n",
              "4    -114.57     33.57  ...         1.9250             65500.0\n",
              "\n",
              "[5 rows x 9 columns]"
            ]
          },
          "metadata": {},
          "execution_count": 66
        }
      ]
    },
    {
      "cell_type": "markdown",
      "metadata": {
        "id": "cJapO7ZIdVjP"
      },
      "source": [
        "### Indexing"
      ]
    },
    {
      "cell_type": "code",
      "metadata": {
        "colab": {
          "base_uri": "https://localhost:8080/",
          "height": 0
        },
        "id": "8r25yHNcdZL6",
        "outputId": "80b65403-9e6b-42d7-f5de-47eb3a1d673a"
      },
      "source": [
        "df['rand_col'] = np.arange(len(df))\n",
        "df['rand_col'] = ['A' + str(i) for i in df['rand_col']]\n",
        "df.head()"
      ],
      "execution_count": 67,
      "outputs": [
        {
          "output_type": "execute_result",
          "data": {
            "text/html": [
              "<div>\n",
              "<style scoped>\n",
              "    .dataframe tbody tr th:only-of-type {\n",
              "        vertical-align: middle;\n",
              "    }\n",
              "\n",
              "    .dataframe tbody tr th {\n",
              "        vertical-align: top;\n",
              "    }\n",
              "\n",
              "    .dataframe thead th {\n",
              "        text-align: right;\n",
              "    }\n",
              "</style>\n",
              "<table border=\"1\" class=\"dataframe\">\n",
              "  <thead>\n",
              "    <tr style=\"text-align: right;\">\n",
              "      <th></th>\n",
              "      <th>longitude</th>\n",
              "      <th>latitude</th>\n",
              "      <th>housing_median_age</th>\n",
              "      <th>total_rooms</th>\n",
              "      <th>total_bedrooms</th>\n",
              "      <th>population</th>\n",
              "      <th>households</th>\n",
              "      <th>median_income</th>\n",
              "      <th>median_house_value</th>\n",
              "      <th>rand_col</th>\n",
              "    </tr>\n",
              "  </thead>\n",
              "  <tbody>\n",
              "    <tr>\n",
              "      <th>0</th>\n",
              "      <td>-114.31</td>\n",
              "      <td>34.19</td>\n",
              "      <td>15.0</td>\n",
              "      <td>5612.0</td>\n",
              "      <td>1283.0</td>\n",
              "      <td>1015.0</td>\n",
              "      <td>472.0</td>\n",
              "      <td>1.4936</td>\n",
              "      <td>66900.0</td>\n",
              "      <td>A0</td>\n",
              "    </tr>\n",
              "    <tr>\n",
              "      <th>1</th>\n",
              "      <td>-114.47</td>\n",
              "      <td>34.40</td>\n",
              "      <td>19.0</td>\n",
              "      <td>7650.0</td>\n",
              "      <td>1901.0</td>\n",
              "      <td>1129.0</td>\n",
              "      <td>463.0</td>\n",
              "      <td>1.8200</td>\n",
              "      <td>80100.0</td>\n",
              "      <td>A1</td>\n",
              "    </tr>\n",
              "    <tr>\n",
              "      <th>2</th>\n",
              "      <td>-114.56</td>\n",
              "      <td>33.69</td>\n",
              "      <td>17.0</td>\n",
              "      <td>720.0</td>\n",
              "      <td>174.0</td>\n",
              "      <td>333.0</td>\n",
              "      <td>117.0</td>\n",
              "      <td>1.6509</td>\n",
              "      <td>85700.0</td>\n",
              "      <td>A2</td>\n",
              "    </tr>\n",
              "    <tr>\n",
              "      <th>3</th>\n",
              "      <td>-114.57</td>\n",
              "      <td>33.64</td>\n",
              "      <td>14.0</td>\n",
              "      <td>1501.0</td>\n",
              "      <td>337.0</td>\n",
              "      <td>515.0</td>\n",
              "      <td>226.0</td>\n",
              "      <td>3.1917</td>\n",
              "      <td>73400.0</td>\n",
              "      <td>A3</td>\n",
              "    </tr>\n",
              "    <tr>\n",
              "      <th>4</th>\n",
              "      <td>-114.57</td>\n",
              "      <td>33.57</td>\n",
              "      <td>20.0</td>\n",
              "      <td>1454.0</td>\n",
              "      <td>326.0</td>\n",
              "      <td>624.0</td>\n",
              "      <td>262.0</td>\n",
              "      <td>1.9250</td>\n",
              "      <td>65500.0</td>\n",
              "      <td>A4</td>\n",
              "    </tr>\n",
              "  </tbody>\n",
              "</table>\n",
              "</div>"
            ],
            "text/plain": [
              "   longitude  latitude  ...  median_house_value  rand_col\n",
              "0    -114.31     34.19  ...             66900.0        A0\n",
              "1    -114.47     34.40  ...             80100.0        A1\n",
              "2    -114.56     33.69  ...             85700.0        A2\n",
              "3    -114.57     33.64  ...             73400.0        A3\n",
              "4    -114.57     33.57  ...             65500.0        A4\n",
              "\n",
              "[5 rows x 10 columns]"
            ]
          },
          "metadata": {},
          "execution_count": 67
        }
      ]
    },
    {
      "cell_type": "code",
      "metadata": {
        "colab": {
          "base_uri": "https://localhost:8080/"
        },
        "id": "u9OpuIQed7bq",
        "outputId": "4692f295-105e-4fe0-9534-d6d9d28da9b4"
      },
      "source": [
        "df.index"
      ],
      "execution_count": 68,
      "outputs": [
        {
          "output_type": "execute_result",
          "data": {
            "text/plain": [
              "RangeIndex(start=0, stop=100, step=1)"
            ]
          },
          "metadata": {},
          "execution_count": 68
        }
      ]
    },
    {
      "cell_type": "code",
      "metadata": {
        "colab": {
          "base_uri": "https://localhost:8080/",
          "height": 0
        },
        "id": "RQLBwM8IeBkJ",
        "outputId": "fbf152f9-0adf-4d96-a32d-d6fbca823c73"
      },
      "source": [
        "df = df.set_index('rand_col')\n",
        "df.head()"
      ],
      "execution_count": 69,
      "outputs": [
        {
          "output_type": "execute_result",
          "data": {
            "text/html": [
              "<div>\n",
              "<style scoped>\n",
              "    .dataframe tbody tr th:only-of-type {\n",
              "        vertical-align: middle;\n",
              "    }\n",
              "\n",
              "    .dataframe tbody tr th {\n",
              "        vertical-align: top;\n",
              "    }\n",
              "\n",
              "    .dataframe thead th {\n",
              "        text-align: right;\n",
              "    }\n",
              "</style>\n",
              "<table border=\"1\" class=\"dataframe\">\n",
              "  <thead>\n",
              "    <tr style=\"text-align: right;\">\n",
              "      <th></th>\n",
              "      <th>longitude</th>\n",
              "      <th>latitude</th>\n",
              "      <th>housing_median_age</th>\n",
              "      <th>total_rooms</th>\n",
              "      <th>total_bedrooms</th>\n",
              "      <th>population</th>\n",
              "      <th>households</th>\n",
              "      <th>median_income</th>\n",
              "      <th>median_house_value</th>\n",
              "    </tr>\n",
              "    <tr>\n",
              "      <th>rand_col</th>\n",
              "      <th></th>\n",
              "      <th></th>\n",
              "      <th></th>\n",
              "      <th></th>\n",
              "      <th></th>\n",
              "      <th></th>\n",
              "      <th></th>\n",
              "      <th></th>\n",
              "      <th></th>\n",
              "    </tr>\n",
              "  </thead>\n",
              "  <tbody>\n",
              "    <tr>\n",
              "      <th>A0</th>\n",
              "      <td>-114.31</td>\n",
              "      <td>34.19</td>\n",
              "      <td>15.0</td>\n",
              "      <td>5612.0</td>\n",
              "      <td>1283.0</td>\n",
              "      <td>1015.0</td>\n",
              "      <td>472.0</td>\n",
              "      <td>1.4936</td>\n",
              "      <td>66900.0</td>\n",
              "    </tr>\n",
              "    <tr>\n",
              "      <th>A1</th>\n",
              "      <td>-114.47</td>\n",
              "      <td>34.40</td>\n",
              "      <td>19.0</td>\n",
              "      <td>7650.0</td>\n",
              "      <td>1901.0</td>\n",
              "      <td>1129.0</td>\n",
              "      <td>463.0</td>\n",
              "      <td>1.8200</td>\n",
              "      <td>80100.0</td>\n",
              "    </tr>\n",
              "    <tr>\n",
              "      <th>A2</th>\n",
              "      <td>-114.56</td>\n",
              "      <td>33.69</td>\n",
              "      <td>17.0</td>\n",
              "      <td>720.0</td>\n",
              "      <td>174.0</td>\n",
              "      <td>333.0</td>\n",
              "      <td>117.0</td>\n",
              "      <td>1.6509</td>\n",
              "      <td>85700.0</td>\n",
              "    </tr>\n",
              "    <tr>\n",
              "      <th>A3</th>\n",
              "      <td>-114.57</td>\n",
              "      <td>33.64</td>\n",
              "      <td>14.0</td>\n",
              "      <td>1501.0</td>\n",
              "      <td>337.0</td>\n",
              "      <td>515.0</td>\n",
              "      <td>226.0</td>\n",
              "      <td>3.1917</td>\n",
              "      <td>73400.0</td>\n",
              "    </tr>\n",
              "    <tr>\n",
              "      <th>A4</th>\n",
              "      <td>-114.57</td>\n",
              "      <td>33.57</td>\n",
              "      <td>20.0</td>\n",
              "      <td>1454.0</td>\n",
              "      <td>326.0</td>\n",
              "      <td>624.0</td>\n",
              "      <td>262.0</td>\n",
              "      <td>1.9250</td>\n",
              "      <td>65500.0</td>\n",
              "    </tr>\n",
              "  </tbody>\n",
              "</table>\n",
              "</div>"
            ],
            "text/plain": [
              "          longitude  latitude  ...  median_income  median_house_value\n",
              "rand_col                       ...                                   \n",
              "A0          -114.31     34.19  ...         1.4936             66900.0\n",
              "A1          -114.47     34.40  ...         1.8200             80100.0\n",
              "A2          -114.56     33.69  ...         1.6509             85700.0\n",
              "A3          -114.57     33.64  ...         3.1917             73400.0\n",
              "A4          -114.57     33.57  ...         1.9250             65500.0\n",
              "\n",
              "[5 rows x 9 columns]"
            ]
          },
          "metadata": {},
          "execution_count": 69
        }
      ]
    },
    {
      "cell_type": "code",
      "metadata": {
        "colab": {
          "base_uri": "https://localhost:8080/"
        },
        "id": "QHId1rn0hb8J",
        "outputId": "e8583464-0fc0-4950-8779-4c16e290d54c"
      },
      "source": [
        "# select single row\n",
        "# integer based\n",
        "df.iloc[0]"
      ],
      "execution_count": 70,
      "outputs": [
        {
          "output_type": "execute_result",
          "data": {
            "text/plain": [
              "longitude              -114.3100\n",
              "latitude                 34.1900\n",
              "housing_median_age       15.0000\n",
              "total_rooms            5612.0000\n",
              "total_bedrooms         1283.0000\n",
              "population             1015.0000\n",
              "households              472.0000\n",
              "median_income             1.4936\n",
              "median_house_value    66900.0000\n",
              "Name: A0, dtype: float64"
            ]
          },
          "metadata": {},
          "execution_count": 70
        }
      ]
    },
    {
      "cell_type": "code",
      "metadata": {
        "colab": {
          "base_uri": "https://localhost:8080/"
        },
        "id": "Z1_LqQRDht8y",
        "outputId": "3f78c5ca-5d98-4635-8a80-b31687d72787"
      },
      "source": [
        "# index name based\n",
        "df.loc['A1']"
      ],
      "execution_count": 71,
      "outputs": [
        {
          "output_type": "execute_result",
          "data": {
            "text/plain": [
              "longitude              -114.47\n",
              "latitude                 34.40\n",
              "housing_median_age       19.00\n",
              "total_rooms            7650.00\n",
              "total_bedrooms         1901.00\n",
              "population             1129.00\n",
              "households              463.00\n",
              "median_income             1.82\n",
              "median_house_value    80100.00\n",
              "Name: A1, dtype: float64"
            ]
          },
          "metadata": {},
          "execution_count": 71
        }
      ]
    },
    {
      "cell_type": "code",
      "metadata": {
        "colab": {
          "base_uri": "https://localhost:8080/",
          "height": 0
        },
        "id": "JCmXS9nZhxmq",
        "outputId": "b617c893-24a9-43fa-ca10-7daef03bcd71"
      },
      "source": [
        "# multiple rows\n",
        "df.iloc[0:3]"
      ],
      "execution_count": 72,
      "outputs": [
        {
          "output_type": "execute_result",
          "data": {
            "text/html": [
              "<div>\n",
              "<style scoped>\n",
              "    .dataframe tbody tr th:only-of-type {\n",
              "        vertical-align: middle;\n",
              "    }\n",
              "\n",
              "    .dataframe tbody tr th {\n",
              "        vertical-align: top;\n",
              "    }\n",
              "\n",
              "    .dataframe thead th {\n",
              "        text-align: right;\n",
              "    }\n",
              "</style>\n",
              "<table border=\"1\" class=\"dataframe\">\n",
              "  <thead>\n",
              "    <tr style=\"text-align: right;\">\n",
              "      <th></th>\n",
              "      <th>longitude</th>\n",
              "      <th>latitude</th>\n",
              "      <th>housing_median_age</th>\n",
              "      <th>total_rooms</th>\n",
              "      <th>total_bedrooms</th>\n",
              "      <th>population</th>\n",
              "      <th>households</th>\n",
              "      <th>median_income</th>\n",
              "      <th>median_house_value</th>\n",
              "    </tr>\n",
              "    <tr>\n",
              "      <th>rand_col</th>\n",
              "      <th></th>\n",
              "      <th></th>\n",
              "      <th></th>\n",
              "      <th></th>\n",
              "      <th></th>\n",
              "      <th></th>\n",
              "      <th></th>\n",
              "      <th></th>\n",
              "      <th></th>\n",
              "    </tr>\n",
              "  </thead>\n",
              "  <tbody>\n",
              "    <tr>\n",
              "      <th>A0</th>\n",
              "      <td>-114.31</td>\n",
              "      <td>34.19</td>\n",
              "      <td>15.0</td>\n",
              "      <td>5612.0</td>\n",
              "      <td>1283.0</td>\n",
              "      <td>1015.0</td>\n",
              "      <td>472.0</td>\n",
              "      <td>1.4936</td>\n",
              "      <td>66900.0</td>\n",
              "    </tr>\n",
              "    <tr>\n",
              "      <th>A1</th>\n",
              "      <td>-114.47</td>\n",
              "      <td>34.40</td>\n",
              "      <td>19.0</td>\n",
              "      <td>7650.0</td>\n",
              "      <td>1901.0</td>\n",
              "      <td>1129.0</td>\n",
              "      <td>463.0</td>\n",
              "      <td>1.8200</td>\n",
              "      <td>80100.0</td>\n",
              "    </tr>\n",
              "    <tr>\n",
              "      <th>A2</th>\n",
              "      <td>-114.56</td>\n",
              "      <td>33.69</td>\n",
              "      <td>17.0</td>\n",
              "      <td>720.0</td>\n",
              "      <td>174.0</td>\n",
              "      <td>333.0</td>\n",
              "      <td>117.0</td>\n",
              "      <td>1.6509</td>\n",
              "      <td>85700.0</td>\n",
              "    </tr>\n",
              "  </tbody>\n",
              "</table>\n",
              "</div>"
            ],
            "text/plain": [
              "          longitude  latitude  ...  median_income  median_house_value\n",
              "rand_col                       ...                                   \n",
              "A0          -114.31     34.19  ...         1.4936             66900.0\n",
              "A1          -114.47     34.40  ...         1.8200             80100.0\n",
              "A2          -114.56     33.69  ...         1.6509             85700.0\n",
              "\n",
              "[3 rows x 9 columns]"
            ]
          },
          "metadata": {},
          "execution_count": 72
        }
      ]
    },
    {
      "cell_type": "code",
      "metadata": {
        "colab": {
          "base_uri": "https://localhost:8080/",
          "height": 0
        },
        "id": "BqvKH3ETppWK",
        "outputId": "c1680d8f-03c7-406a-aaeb-6c9356d1abbc"
      },
      "source": [
        "df.loc[['A1','A3']]"
      ],
      "execution_count": 73,
      "outputs": [
        {
          "output_type": "execute_result",
          "data": {
            "text/html": [
              "<div>\n",
              "<style scoped>\n",
              "    .dataframe tbody tr th:only-of-type {\n",
              "        vertical-align: middle;\n",
              "    }\n",
              "\n",
              "    .dataframe tbody tr th {\n",
              "        vertical-align: top;\n",
              "    }\n",
              "\n",
              "    .dataframe thead th {\n",
              "        text-align: right;\n",
              "    }\n",
              "</style>\n",
              "<table border=\"1\" class=\"dataframe\">\n",
              "  <thead>\n",
              "    <tr style=\"text-align: right;\">\n",
              "      <th></th>\n",
              "      <th>longitude</th>\n",
              "      <th>latitude</th>\n",
              "      <th>housing_median_age</th>\n",
              "      <th>total_rooms</th>\n",
              "      <th>total_bedrooms</th>\n",
              "      <th>population</th>\n",
              "      <th>households</th>\n",
              "      <th>median_income</th>\n",
              "      <th>median_house_value</th>\n",
              "    </tr>\n",
              "    <tr>\n",
              "      <th>rand_col</th>\n",
              "      <th></th>\n",
              "      <th></th>\n",
              "      <th></th>\n",
              "      <th></th>\n",
              "      <th></th>\n",
              "      <th></th>\n",
              "      <th></th>\n",
              "      <th></th>\n",
              "      <th></th>\n",
              "    </tr>\n",
              "  </thead>\n",
              "  <tbody>\n",
              "    <tr>\n",
              "      <th>A1</th>\n",
              "      <td>-114.47</td>\n",
              "      <td>34.40</td>\n",
              "      <td>19.0</td>\n",
              "      <td>7650.0</td>\n",
              "      <td>1901.0</td>\n",
              "      <td>1129.0</td>\n",
              "      <td>463.0</td>\n",
              "      <td>1.8200</td>\n",
              "      <td>80100.0</td>\n",
              "    </tr>\n",
              "    <tr>\n",
              "      <th>A3</th>\n",
              "      <td>-114.57</td>\n",
              "      <td>33.64</td>\n",
              "      <td>14.0</td>\n",
              "      <td>1501.0</td>\n",
              "      <td>337.0</td>\n",
              "      <td>515.0</td>\n",
              "      <td>226.0</td>\n",
              "      <td>3.1917</td>\n",
              "      <td>73400.0</td>\n",
              "    </tr>\n",
              "  </tbody>\n",
              "</table>\n",
              "</div>"
            ],
            "text/plain": [
              "          longitude  latitude  ...  median_income  median_house_value\n",
              "rand_col                       ...                                   \n",
              "A1          -114.47     34.40  ...         1.8200             80100.0\n",
              "A3          -114.57     33.64  ...         3.1917             73400.0\n",
              "\n",
              "[2 rows x 9 columns]"
            ]
          },
          "metadata": {},
          "execution_count": 73
        }
      ]
    },
    {
      "cell_type": "code",
      "metadata": {
        "colab": {
          "base_uri": "https://localhost:8080/",
          "height": 0
        },
        "id": "dNiFo6X6pr0S",
        "outputId": "d97c7df4-456f-40a6-fdf5-798f8e2cfb6a"
      },
      "source": [
        "# remove rows\n",
        "df.drop('A0', axis=0).head()\n",
        "# error if use index"
      ],
      "execution_count": 74,
      "outputs": [
        {
          "output_type": "execute_result",
          "data": {
            "text/html": [
              "<div>\n",
              "<style scoped>\n",
              "    .dataframe tbody tr th:only-of-type {\n",
              "        vertical-align: middle;\n",
              "    }\n",
              "\n",
              "    .dataframe tbody tr th {\n",
              "        vertical-align: top;\n",
              "    }\n",
              "\n",
              "    .dataframe thead th {\n",
              "        text-align: right;\n",
              "    }\n",
              "</style>\n",
              "<table border=\"1\" class=\"dataframe\">\n",
              "  <thead>\n",
              "    <tr style=\"text-align: right;\">\n",
              "      <th></th>\n",
              "      <th>longitude</th>\n",
              "      <th>latitude</th>\n",
              "      <th>housing_median_age</th>\n",
              "      <th>total_rooms</th>\n",
              "      <th>total_bedrooms</th>\n",
              "      <th>population</th>\n",
              "      <th>households</th>\n",
              "      <th>median_income</th>\n",
              "      <th>median_house_value</th>\n",
              "    </tr>\n",
              "    <tr>\n",
              "      <th>rand_col</th>\n",
              "      <th></th>\n",
              "      <th></th>\n",
              "      <th></th>\n",
              "      <th></th>\n",
              "      <th></th>\n",
              "      <th></th>\n",
              "      <th></th>\n",
              "      <th></th>\n",
              "      <th></th>\n",
              "    </tr>\n",
              "  </thead>\n",
              "  <tbody>\n",
              "    <tr>\n",
              "      <th>A1</th>\n",
              "      <td>-114.47</td>\n",
              "      <td>34.40</td>\n",
              "      <td>19.0</td>\n",
              "      <td>7650.0</td>\n",
              "      <td>1901.0</td>\n",
              "      <td>1129.0</td>\n",
              "      <td>463.0</td>\n",
              "      <td>1.8200</td>\n",
              "      <td>80100.0</td>\n",
              "    </tr>\n",
              "    <tr>\n",
              "      <th>A2</th>\n",
              "      <td>-114.56</td>\n",
              "      <td>33.69</td>\n",
              "      <td>17.0</td>\n",
              "      <td>720.0</td>\n",
              "      <td>174.0</td>\n",
              "      <td>333.0</td>\n",
              "      <td>117.0</td>\n",
              "      <td>1.6509</td>\n",
              "      <td>85700.0</td>\n",
              "    </tr>\n",
              "    <tr>\n",
              "      <th>A3</th>\n",
              "      <td>-114.57</td>\n",
              "      <td>33.64</td>\n",
              "      <td>14.0</td>\n",
              "      <td>1501.0</td>\n",
              "      <td>337.0</td>\n",
              "      <td>515.0</td>\n",
              "      <td>226.0</td>\n",
              "      <td>3.1917</td>\n",
              "      <td>73400.0</td>\n",
              "    </tr>\n",
              "    <tr>\n",
              "      <th>A4</th>\n",
              "      <td>-114.57</td>\n",
              "      <td>33.57</td>\n",
              "      <td>20.0</td>\n",
              "      <td>1454.0</td>\n",
              "      <td>326.0</td>\n",
              "      <td>624.0</td>\n",
              "      <td>262.0</td>\n",
              "      <td>1.9250</td>\n",
              "      <td>65500.0</td>\n",
              "    </tr>\n",
              "    <tr>\n",
              "      <th>A5</th>\n",
              "      <td>-114.58</td>\n",
              "      <td>33.63</td>\n",
              "      <td>29.0</td>\n",
              "      <td>1387.0</td>\n",
              "      <td>236.0</td>\n",
              "      <td>671.0</td>\n",
              "      <td>239.0</td>\n",
              "      <td>3.3438</td>\n",
              "      <td>74000.0</td>\n",
              "    </tr>\n",
              "  </tbody>\n",
              "</table>\n",
              "</div>"
            ],
            "text/plain": [
              "          longitude  latitude  ...  median_income  median_house_value\n",
              "rand_col                       ...                                   \n",
              "A1          -114.47     34.40  ...         1.8200             80100.0\n",
              "A2          -114.56     33.69  ...         1.6509             85700.0\n",
              "A3          -114.57     33.64  ...         3.1917             73400.0\n",
              "A4          -114.57     33.57  ...         1.9250             65500.0\n",
              "A5          -114.58     33.63  ...         3.3438             74000.0\n",
              "\n",
              "[5 rows x 9 columns]"
            ]
          },
          "metadata": {},
          "execution_count": 74
        }
      ]
    },
    {
      "cell_type": "code",
      "metadata": {
        "colab": {
          "base_uri": "https://localhost:8080/",
          "height": 0
        },
        "id": "WI0Q1jsHp7wb",
        "outputId": "a194e141-4868-4319-8059-95611f45976e"
      },
      "source": [
        "# append row\n",
        "one_row = df.iloc[0]\n",
        "df.append(one_row).tail()"
      ],
      "execution_count": 75,
      "outputs": [
        {
          "output_type": "execute_result",
          "data": {
            "text/html": [
              "<div>\n",
              "<style scoped>\n",
              "    .dataframe tbody tr th:only-of-type {\n",
              "        vertical-align: middle;\n",
              "    }\n",
              "\n",
              "    .dataframe tbody tr th {\n",
              "        vertical-align: top;\n",
              "    }\n",
              "\n",
              "    .dataframe thead th {\n",
              "        text-align: right;\n",
              "    }\n",
              "</style>\n",
              "<table border=\"1\" class=\"dataframe\">\n",
              "  <thead>\n",
              "    <tr style=\"text-align: right;\">\n",
              "      <th></th>\n",
              "      <th>longitude</th>\n",
              "      <th>latitude</th>\n",
              "      <th>housing_median_age</th>\n",
              "      <th>total_rooms</th>\n",
              "      <th>total_bedrooms</th>\n",
              "      <th>population</th>\n",
              "      <th>households</th>\n",
              "      <th>median_income</th>\n",
              "      <th>median_house_value</th>\n",
              "    </tr>\n",
              "    <tr>\n",
              "      <th>rand_col</th>\n",
              "      <th></th>\n",
              "      <th></th>\n",
              "      <th></th>\n",
              "      <th></th>\n",
              "      <th></th>\n",
              "      <th></th>\n",
              "      <th></th>\n",
              "      <th></th>\n",
              "      <th></th>\n",
              "    </tr>\n",
              "  </thead>\n",
              "  <tbody>\n",
              "    <tr>\n",
              "      <th>A96</th>\n",
              "      <td>-115.58</td>\n",
              "      <td>32.81</td>\n",
              "      <td>10.0</td>\n",
              "      <td>1088.0</td>\n",
              "      <td>203.0</td>\n",
              "      <td>533.0</td>\n",
              "      <td>201.0</td>\n",
              "      <td>3.6597</td>\n",
              "      <td>87500.0</td>\n",
              "    </tr>\n",
              "    <tr>\n",
              "      <th>A97</th>\n",
              "      <td>-115.58</td>\n",
              "      <td>32.79</td>\n",
              "      <td>14.0</td>\n",
              "      <td>1687.0</td>\n",
              "      <td>507.0</td>\n",
              "      <td>762.0</td>\n",
              "      <td>451.0</td>\n",
              "      <td>1.6635</td>\n",
              "      <td>64400.0</td>\n",
              "    </tr>\n",
              "    <tr>\n",
              "      <th>A98</th>\n",
              "      <td>-115.58</td>\n",
              "      <td>32.78</td>\n",
              "      <td>5.0</td>\n",
              "      <td>2494.0</td>\n",
              "      <td>414.0</td>\n",
              "      <td>1416.0</td>\n",
              "      <td>421.0</td>\n",
              "      <td>5.7843</td>\n",
              "      <td>110100.0</td>\n",
              "    </tr>\n",
              "    <tr>\n",
              "      <th>A99</th>\n",
              "      <td>-115.59</td>\n",
              "      <td>32.85</td>\n",
              "      <td>20.0</td>\n",
              "      <td>1608.0</td>\n",
              "      <td>274.0</td>\n",
              "      <td>862.0</td>\n",
              "      <td>248.0</td>\n",
              "      <td>4.8750</td>\n",
              "      <td>90800.0</td>\n",
              "    </tr>\n",
              "    <tr>\n",
              "      <th>A0</th>\n",
              "      <td>-114.31</td>\n",
              "      <td>34.19</td>\n",
              "      <td>15.0</td>\n",
              "      <td>5612.0</td>\n",
              "      <td>1283.0</td>\n",
              "      <td>1015.0</td>\n",
              "      <td>472.0</td>\n",
              "      <td>1.4936</td>\n",
              "      <td>66900.0</td>\n",
              "    </tr>\n",
              "  </tbody>\n",
              "</table>\n",
              "</div>"
            ],
            "text/plain": [
              "          longitude  latitude  ...  median_income  median_house_value\n",
              "rand_col                       ...                                   \n",
              "A96         -115.58     32.81  ...         3.6597             87500.0\n",
              "A97         -115.58     32.79  ...         1.6635             64400.0\n",
              "A98         -115.58     32.78  ...         5.7843            110100.0\n",
              "A99         -115.59     32.85  ...         4.8750             90800.0\n",
              "A0          -114.31     34.19  ...         1.4936             66900.0\n",
              "\n",
              "[5 rows x 9 columns]"
            ]
          },
          "metadata": {},
          "execution_count": 75
        }
      ]
    },
    {
      "cell_type": "markdown",
      "metadata": {
        "id": "8I0xXAOrqXs4"
      },
      "source": [
        "## Conditional Filtering"
      ]
    },
    {
      "cell_type": "code",
      "metadata": {
        "id": "XeaZplhGp-0b"
      },
      "source": [
        "df = pd.read_csv('sample_data/tips.csv')"
      ],
      "execution_count": 79,
      "outputs": []
    },
    {
      "cell_type": "code",
      "metadata": {
        "colab": {
          "base_uri": "https://localhost:8080/",
          "height": 324
        },
        "id": "djLMSg6QruBK",
        "outputId": "d398fe8b-1c05-45b6-ab0a-43b2a8b94050"
      },
      "source": [
        "df.head()"
      ],
      "execution_count": 80,
      "outputs": [
        {
          "output_type": "execute_result",
          "data": {
            "text/html": [
              "<div>\n",
              "<style scoped>\n",
              "    .dataframe tbody tr th:only-of-type {\n",
              "        vertical-align: middle;\n",
              "    }\n",
              "\n",
              "    .dataframe tbody tr th {\n",
              "        vertical-align: top;\n",
              "    }\n",
              "\n",
              "    .dataframe thead th {\n",
              "        text-align: right;\n",
              "    }\n",
              "</style>\n",
              "<table border=\"1\" class=\"dataframe\">\n",
              "  <thead>\n",
              "    <tr style=\"text-align: right;\">\n",
              "      <th></th>\n",
              "      <th>total_bill</th>\n",
              "      <th>tip</th>\n",
              "      <th>sex</th>\n",
              "      <th>smoker</th>\n",
              "      <th>day</th>\n",
              "      <th>time</th>\n",
              "      <th>size</th>\n",
              "      <th>price_per_person</th>\n",
              "      <th>Payer Name</th>\n",
              "      <th>CC Number</th>\n",
              "      <th>Payment ID</th>\n",
              "    </tr>\n",
              "  </thead>\n",
              "  <tbody>\n",
              "    <tr>\n",
              "      <th>0</th>\n",
              "      <td>16.99</td>\n",
              "      <td>1.01</td>\n",
              "      <td>Female</td>\n",
              "      <td>No</td>\n",
              "      <td>Sun</td>\n",
              "      <td>Dinner</td>\n",
              "      <td>2</td>\n",
              "      <td>8.49</td>\n",
              "      <td>Christy Cunningham</td>\n",
              "      <td>3560325168603410</td>\n",
              "      <td>Sun2959</td>\n",
              "    </tr>\n",
              "    <tr>\n",
              "      <th>1</th>\n",
              "      <td>10.34</td>\n",
              "      <td>1.66</td>\n",
              "      <td>Male</td>\n",
              "      <td>No</td>\n",
              "      <td>Sun</td>\n",
              "      <td>Dinner</td>\n",
              "      <td>3</td>\n",
              "      <td>3.45</td>\n",
              "      <td>Douglas Tucker</td>\n",
              "      <td>4478071379779230</td>\n",
              "      <td>Sun4608</td>\n",
              "    </tr>\n",
              "    <tr>\n",
              "      <th>2</th>\n",
              "      <td>21.01</td>\n",
              "      <td>3.50</td>\n",
              "      <td>Male</td>\n",
              "      <td>No</td>\n",
              "      <td>Sun</td>\n",
              "      <td>Dinner</td>\n",
              "      <td>3</td>\n",
              "      <td>7.00</td>\n",
              "      <td>Travis Walters</td>\n",
              "      <td>6011812112971322</td>\n",
              "      <td>Sun4458</td>\n",
              "    </tr>\n",
              "    <tr>\n",
              "      <th>3</th>\n",
              "      <td>23.68</td>\n",
              "      <td>3.31</td>\n",
              "      <td>Male</td>\n",
              "      <td>No</td>\n",
              "      <td>Sun</td>\n",
              "      <td>Dinner</td>\n",
              "      <td>2</td>\n",
              "      <td>11.84</td>\n",
              "      <td>Nathaniel Harris</td>\n",
              "      <td>4676137647685994</td>\n",
              "      <td>Sun5260</td>\n",
              "    </tr>\n",
              "    <tr>\n",
              "      <th>4</th>\n",
              "      <td>24.59</td>\n",
              "      <td>3.61</td>\n",
              "      <td>Female</td>\n",
              "      <td>No</td>\n",
              "      <td>Sun</td>\n",
              "      <td>Dinner</td>\n",
              "      <td>4</td>\n",
              "      <td>6.15</td>\n",
              "      <td>Tonya Carter</td>\n",
              "      <td>4832732618637221</td>\n",
              "      <td>Sun2251</td>\n",
              "    </tr>\n",
              "  </tbody>\n",
              "</table>\n",
              "</div>"
            ],
            "text/plain": [
              "   total_bill   tip     sex  ...          Payer Name         CC Number Payment ID\n",
              "0       16.99  1.01  Female  ...  Christy Cunningham  3560325168603410    Sun2959\n",
              "1       10.34  1.66    Male  ...      Douglas Tucker  4478071379779230    Sun4608\n",
              "2       21.01  3.50    Male  ...      Travis Walters  6011812112971322    Sun4458\n",
              "3       23.68  3.31    Male  ...    Nathaniel Harris  4676137647685994    Sun5260\n",
              "4       24.59  3.61  Female  ...        Tonya Carter  4832732618637221    Sun2251\n",
              "\n",
              "[5 rows x 11 columns]"
            ]
          },
          "metadata": {},
          "execution_count": 80
        }
      ]
    },
    {
      "cell_type": "code",
      "metadata": {
        "colab": {
          "base_uri": "https://localhost:8080/"
        },
        "id": "8ySBziv2r3ia",
        "outputId": "40048edf-6381-4ea2-989d-494cdab1b1a6"
      },
      "source": [
        "bool_series = df['total_bill'] > 45\n",
        "bool_series"
      ],
      "execution_count": 86,
      "outputs": [
        {
          "output_type": "execute_result",
          "data": {
            "text/plain": [
              "0      False\n",
              "1      False\n",
              "2      False\n",
              "3      False\n",
              "4      False\n",
              "       ...  \n",
              "239    False\n",
              "240    False\n",
              "241    False\n",
              "242    False\n",
              "243    False\n",
              "Name: total_bill, Length: 244, dtype: bool"
            ]
          },
          "metadata": {},
          "execution_count": 86
        }
      ]
    },
    {
      "cell_type": "code",
      "metadata": {
        "colab": {
          "base_uri": "https://localhost:8080/",
          "height": 307
        },
        "id": "7zyZszCjr9xa",
        "outputId": "9f6891d8-4014-4580-a3ee-6fb717df2917"
      },
      "source": [
        "df[bool_series]"
      ],
      "execution_count": 87,
      "outputs": [
        {
          "output_type": "execute_result",
          "data": {
            "text/html": [
              "<div>\n",
              "<style scoped>\n",
              "    .dataframe tbody tr th:only-of-type {\n",
              "        vertical-align: middle;\n",
              "    }\n",
              "\n",
              "    .dataframe tbody tr th {\n",
              "        vertical-align: top;\n",
              "    }\n",
              "\n",
              "    .dataframe thead th {\n",
              "        text-align: right;\n",
              "    }\n",
              "</style>\n",
              "<table border=\"1\" class=\"dataframe\">\n",
              "  <thead>\n",
              "    <tr style=\"text-align: right;\">\n",
              "      <th></th>\n",
              "      <th>total_bill</th>\n",
              "      <th>tip</th>\n",
              "      <th>sex</th>\n",
              "      <th>smoker</th>\n",
              "      <th>day</th>\n",
              "      <th>time</th>\n",
              "      <th>size</th>\n",
              "      <th>price_per_person</th>\n",
              "      <th>Payer Name</th>\n",
              "      <th>CC Number</th>\n",
              "      <th>Payment ID</th>\n",
              "    </tr>\n",
              "  </thead>\n",
              "  <tbody>\n",
              "    <tr>\n",
              "      <th>59</th>\n",
              "      <td>48.27</td>\n",
              "      <td>6.73</td>\n",
              "      <td>Male</td>\n",
              "      <td>No</td>\n",
              "      <td>Sat</td>\n",
              "      <td>Dinner</td>\n",
              "      <td>4</td>\n",
              "      <td>12.07</td>\n",
              "      <td>Brian Ortiz</td>\n",
              "      <td>6596453823950595</td>\n",
              "      <td>Sat8139</td>\n",
              "    </tr>\n",
              "    <tr>\n",
              "      <th>156</th>\n",
              "      <td>48.17</td>\n",
              "      <td>5.00</td>\n",
              "      <td>Male</td>\n",
              "      <td>No</td>\n",
              "      <td>Sun</td>\n",
              "      <td>Dinner</td>\n",
              "      <td>6</td>\n",
              "      <td>8.03</td>\n",
              "      <td>Ryan Gonzales</td>\n",
              "      <td>3523151482063321</td>\n",
              "      <td>Sun7518</td>\n",
              "    </tr>\n",
              "    <tr>\n",
              "      <th>170</th>\n",
              "      <td>50.81</td>\n",
              "      <td>10.00</td>\n",
              "      <td>Male</td>\n",
              "      <td>Yes</td>\n",
              "      <td>Sat</td>\n",
              "      <td>Dinner</td>\n",
              "      <td>3</td>\n",
              "      <td>16.94</td>\n",
              "      <td>Gregory Clark</td>\n",
              "      <td>5473850968388236</td>\n",
              "      <td>Sat1954</td>\n",
              "    </tr>\n",
              "    <tr>\n",
              "      <th>182</th>\n",
              "      <td>45.35</td>\n",
              "      <td>3.50</td>\n",
              "      <td>Male</td>\n",
              "      <td>Yes</td>\n",
              "      <td>Sun</td>\n",
              "      <td>Dinner</td>\n",
              "      <td>3</td>\n",
              "      <td>15.12</td>\n",
              "      <td>Jose Parsons</td>\n",
              "      <td>4112207559459910</td>\n",
              "      <td>Sun2337</td>\n",
              "    </tr>\n",
              "    <tr>\n",
              "      <th>212</th>\n",
              "      <td>48.33</td>\n",
              "      <td>9.00</td>\n",
              "      <td>Male</td>\n",
              "      <td>No</td>\n",
              "      <td>Sat</td>\n",
              "      <td>Dinner</td>\n",
              "      <td>4</td>\n",
              "      <td>12.08</td>\n",
              "      <td>Alex Williamson</td>\n",
              "      <td>676218815212</td>\n",
              "      <td>Sat4590</td>\n",
              "    </tr>\n",
              "  </tbody>\n",
              "</table>\n",
              "</div>"
            ],
            "text/plain": [
              "     total_bill    tip   sex  ...       Payer Name         CC Number Payment ID\n",
              "59        48.27   6.73  Male  ...      Brian Ortiz  6596453823950595    Sat8139\n",
              "156       48.17   5.00  Male  ...    Ryan Gonzales  3523151482063321    Sun7518\n",
              "170       50.81  10.00  Male  ...    Gregory Clark  5473850968388236    Sat1954\n",
              "182       45.35   3.50  Male  ...     Jose Parsons  4112207559459910    Sun2337\n",
              "212       48.33   9.00  Male  ...  Alex Williamson      676218815212    Sat4590\n",
              "\n",
              "[5 rows x 11 columns]"
            ]
          },
          "metadata": {},
          "execution_count": 87
        }
      ]
    },
    {
      "cell_type": "code",
      "metadata": {
        "colab": {
          "base_uri": "https://localhost:8080/",
          "height": 307
        },
        "id": "SaA_VtEZsDtK",
        "outputId": "29a4ace7-7b3f-4680-e6b2-572c1e8f6e00"
      },
      "source": [
        "df[df['total_bill'] > 45]"
      ],
      "execution_count": 88,
      "outputs": [
        {
          "output_type": "execute_result",
          "data": {
            "text/html": [
              "<div>\n",
              "<style scoped>\n",
              "    .dataframe tbody tr th:only-of-type {\n",
              "        vertical-align: middle;\n",
              "    }\n",
              "\n",
              "    .dataframe tbody tr th {\n",
              "        vertical-align: top;\n",
              "    }\n",
              "\n",
              "    .dataframe thead th {\n",
              "        text-align: right;\n",
              "    }\n",
              "</style>\n",
              "<table border=\"1\" class=\"dataframe\">\n",
              "  <thead>\n",
              "    <tr style=\"text-align: right;\">\n",
              "      <th></th>\n",
              "      <th>total_bill</th>\n",
              "      <th>tip</th>\n",
              "      <th>sex</th>\n",
              "      <th>smoker</th>\n",
              "      <th>day</th>\n",
              "      <th>time</th>\n",
              "      <th>size</th>\n",
              "      <th>price_per_person</th>\n",
              "      <th>Payer Name</th>\n",
              "      <th>CC Number</th>\n",
              "      <th>Payment ID</th>\n",
              "    </tr>\n",
              "  </thead>\n",
              "  <tbody>\n",
              "    <tr>\n",
              "      <th>59</th>\n",
              "      <td>48.27</td>\n",
              "      <td>6.73</td>\n",
              "      <td>Male</td>\n",
              "      <td>No</td>\n",
              "      <td>Sat</td>\n",
              "      <td>Dinner</td>\n",
              "      <td>4</td>\n",
              "      <td>12.07</td>\n",
              "      <td>Brian Ortiz</td>\n",
              "      <td>6596453823950595</td>\n",
              "      <td>Sat8139</td>\n",
              "    </tr>\n",
              "    <tr>\n",
              "      <th>156</th>\n",
              "      <td>48.17</td>\n",
              "      <td>5.00</td>\n",
              "      <td>Male</td>\n",
              "      <td>No</td>\n",
              "      <td>Sun</td>\n",
              "      <td>Dinner</td>\n",
              "      <td>6</td>\n",
              "      <td>8.03</td>\n",
              "      <td>Ryan Gonzales</td>\n",
              "      <td>3523151482063321</td>\n",
              "      <td>Sun7518</td>\n",
              "    </tr>\n",
              "    <tr>\n",
              "      <th>170</th>\n",
              "      <td>50.81</td>\n",
              "      <td>10.00</td>\n",
              "      <td>Male</td>\n",
              "      <td>Yes</td>\n",
              "      <td>Sat</td>\n",
              "      <td>Dinner</td>\n",
              "      <td>3</td>\n",
              "      <td>16.94</td>\n",
              "      <td>Gregory Clark</td>\n",
              "      <td>5473850968388236</td>\n",
              "      <td>Sat1954</td>\n",
              "    </tr>\n",
              "    <tr>\n",
              "      <th>182</th>\n",
              "      <td>45.35</td>\n",
              "      <td>3.50</td>\n",
              "      <td>Male</td>\n",
              "      <td>Yes</td>\n",
              "      <td>Sun</td>\n",
              "      <td>Dinner</td>\n",
              "      <td>3</td>\n",
              "      <td>15.12</td>\n",
              "      <td>Jose Parsons</td>\n",
              "      <td>4112207559459910</td>\n",
              "      <td>Sun2337</td>\n",
              "    </tr>\n",
              "    <tr>\n",
              "      <th>212</th>\n",
              "      <td>48.33</td>\n",
              "      <td>9.00</td>\n",
              "      <td>Male</td>\n",
              "      <td>No</td>\n",
              "      <td>Sat</td>\n",
              "      <td>Dinner</td>\n",
              "      <td>4</td>\n",
              "      <td>12.08</td>\n",
              "      <td>Alex Williamson</td>\n",
              "      <td>676218815212</td>\n",
              "      <td>Sat4590</td>\n",
              "    </tr>\n",
              "  </tbody>\n",
              "</table>\n",
              "</div>"
            ],
            "text/plain": [
              "     total_bill    tip   sex  ...       Payer Name         CC Number Payment ID\n",
              "59        48.27   6.73  Male  ...      Brian Ortiz  6596453823950595    Sat8139\n",
              "156       48.17   5.00  Male  ...    Ryan Gonzales  3523151482063321    Sun7518\n",
              "170       50.81  10.00  Male  ...    Gregory Clark  5473850968388236    Sat1954\n",
              "182       45.35   3.50  Male  ...     Jose Parsons  4112207559459910    Sun2337\n",
              "212       48.33   9.00  Male  ...  Alex Williamson      676218815212    Sat4590\n",
              "\n",
              "[5 rows x 11 columns]"
            ]
          },
          "metadata": {},
          "execution_count": 88
        }
      ]
    },
    {
      "cell_type": "code",
      "metadata": {
        "colab": {
          "base_uri": "https://localhost:8080/",
          "height": 181
        },
        "id": "OfyOdyC3sQnx",
        "outputId": "0c5d6e64-7267-4309-9c2e-d6de4ead6938"
      },
      "source": [
        "# multiple conditions\n",
        "df[(df['total_bill'] > 45) & (df['smoker'] == 'Yes')]"
      ],
      "execution_count": 91,
      "outputs": [
        {
          "output_type": "execute_result",
          "data": {
            "text/html": [
              "<div>\n",
              "<style scoped>\n",
              "    .dataframe tbody tr th:only-of-type {\n",
              "        vertical-align: middle;\n",
              "    }\n",
              "\n",
              "    .dataframe tbody tr th {\n",
              "        vertical-align: top;\n",
              "    }\n",
              "\n",
              "    .dataframe thead th {\n",
              "        text-align: right;\n",
              "    }\n",
              "</style>\n",
              "<table border=\"1\" class=\"dataframe\">\n",
              "  <thead>\n",
              "    <tr style=\"text-align: right;\">\n",
              "      <th></th>\n",
              "      <th>total_bill</th>\n",
              "      <th>tip</th>\n",
              "      <th>sex</th>\n",
              "      <th>smoker</th>\n",
              "      <th>day</th>\n",
              "      <th>time</th>\n",
              "      <th>size</th>\n",
              "      <th>price_per_person</th>\n",
              "      <th>Payer Name</th>\n",
              "      <th>CC Number</th>\n",
              "      <th>Payment ID</th>\n",
              "    </tr>\n",
              "  </thead>\n",
              "  <tbody>\n",
              "    <tr>\n",
              "      <th>170</th>\n",
              "      <td>50.81</td>\n",
              "      <td>10.0</td>\n",
              "      <td>Male</td>\n",
              "      <td>Yes</td>\n",
              "      <td>Sat</td>\n",
              "      <td>Dinner</td>\n",
              "      <td>3</td>\n",
              "      <td>16.94</td>\n",
              "      <td>Gregory Clark</td>\n",
              "      <td>5473850968388236</td>\n",
              "      <td>Sat1954</td>\n",
              "    </tr>\n",
              "    <tr>\n",
              "      <th>182</th>\n",
              "      <td>45.35</td>\n",
              "      <td>3.5</td>\n",
              "      <td>Male</td>\n",
              "      <td>Yes</td>\n",
              "      <td>Sun</td>\n",
              "      <td>Dinner</td>\n",
              "      <td>3</td>\n",
              "      <td>15.12</td>\n",
              "      <td>Jose Parsons</td>\n",
              "      <td>4112207559459910</td>\n",
              "      <td>Sun2337</td>\n",
              "    </tr>\n",
              "  </tbody>\n",
              "</table>\n",
              "</div>"
            ],
            "text/plain": [
              "     total_bill   tip   sex  ...     Payer Name         CC Number Payment ID\n",
              "170       50.81  10.0  Male  ...  Gregory Clark  5473850968388236    Sat1954\n",
              "182       45.35   3.5  Male  ...   Jose Parsons  4112207559459910    Sun2337\n",
              "\n",
              "[2 rows x 11 columns]"
            ]
          },
          "metadata": {},
          "execution_count": 91
        }
      ]
    },
    {
      "cell_type": "code",
      "metadata": {
        "colab": {
          "base_uri": "https://localhost:8080/",
          "height": 212
        },
        "id": "bfHMwtyAsaHS",
        "outputId": "9ab10d13-5489-4d4e-a6f9-8f5761e8d6d4"
      },
      "source": [
        "df[(df['total_bill'] > 45) & ~(df['smoker'] == 'Yes')] # or (df['smoker'] != 'Yes')\n",
        "# and -> &, or -> | "
      ],
      "execution_count": 92,
      "outputs": [
        {
          "output_type": "execute_result",
          "data": {
            "text/html": [
              "<div>\n",
              "<style scoped>\n",
              "    .dataframe tbody tr th:only-of-type {\n",
              "        vertical-align: middle;\n",
              "    }\n",
              "\n",
              "    .dataframe tbody tr th {\n",
              "        vertical-align: top;\n",
              "    }\n",
              "\n",
              "    .dataframe thead th {\n",
              "        text-align: right;\n",
              "    }\n",
              "</style>\n",
              "<table border=\"1\" class=\"dataframe\">\n",
              "  <thead>\n",
              "    <tr style=\"text-align: right;\">\n",
              "      <th></th>\n",
              "      <th>total_bill</th>\n",
              "      <th>tip</th>\n",
              "      <th>sex</th>\n",
              "      <th>smoker</th>\n",
              "      <th>day</th>\n",
              "      <th>time</th>\n",
              "      <th>size</th>\n",
              "      <th>price_per_person</th>\n",
              "      <th>Payer Name</th>\n",
              "      <th>CC Number</th>\n",
              "      <th>Payment ID</th>\n",
              "    </tr>\n",
              "  </thead>\n",
              "  <tbody>\n",
              "    <tr>\n",
              "      <th>59</th>\n",
              "      <td>48.27</td>\n",
              "      <td>6.73</td>\n",
              "      <td>Male</td>\n",
              "      <td>No</td>\n",
              "      <td>Sat</td>\n",
              "      <td>Dinner</td>\n",
              "      <td>4</td>\n",
              "      <td>12.07</td>\n",
              "      <td>Brian Ortiz</td>\n",
              "      <td>6596453823950595</td>\n",
              "      <td>Sat8139</td>\n",
              "    </tr>\n",
              "    <tr>\n",
              "      <th>156</th>\n",
              "      <td>48.17</td>\n",
              "      <td>5.00</td>\n",
              "      <td>Male</td>\n",
              "      <td>No</td>\n",
              "      <td>Sun</td>\n",
              "      <td>Dinner</td>\n",
              "      <td>6</td>\n",
              "      <td>8.03</td>\n",
              "      <td>Ryan Gonzales</td>\n",
              "      <td>3523151482063321</td>\n",
              "      <td>Sun7518</td>\n",
              "    </tr>\n",
              "    <tr>\n",
              "      <th>212</th>\n",
              "      <td>48.33</td>\n",
              "      <td>9.00</td>\n",
              "      <td>Male</td>\n",
              "      <td>No</td>\n",
              "      <td>Sat</td>\n",
              "      <td>Dinner</td>\n",
              "      <td>4</td>\n",
              "      <td>12.08</td>\n",
              "      <td>Alex Williamson</td>\n",
              "      <td>676218815212</td>\n",
              "      <td>Sat4590</td>\n",
              "    </tr>\n",
              "  </tbody>\n",
              "</table>\n",
              "</div>"
            ],
            "text/plain": [
              "     total_bill   tip   sex  ...       Payer Name         CC Number Payment ID\n",
              "59        48.27  6.73  Male  ...      Brian Ortiz  6596453823950595    Sat8139\n",
              "156       48.17  5.00  Male  ...    Ryan Gonzales  3523151482063321    Sun7518\n",
              "212       48.33  9.00  Male  ...  Alex Williamson      676218815212    Sat4590\n",
              "\n",
              "[3 rows x 11 columns]"
            ]
          },
          "metadata": {},
          "execution_count": 92
        }
      ]
    },
    {
      "cell_type": "code",
      "metadata": {
        "colab": {
          "base_uri": "https://localhost:8080/",
          "height": 605
        },
        "id": "vjx3-X3Xs13C",
        "outputId": "de4787b9-284c-4606-f5a0-eced83184864"
      },
      "source": [
        "#.isin()\n",
        "df[df['day'].isin(['Sat','Sun'])]"
      ],
      "execution_count": 94,
      "outputs": [
        {
          "output_type": "execute_result",
          "data": {
            "text/html": [
              "<div>\n",
              "<style scoped>\n",
              "    .dataframe tbody tr th:only-of-type {\n",
              "        vertical-align: middle;\n",
              "    }\n",
              "\n",
              "    .dataframe tbody tr th {\n",
              "        vertical-align: top;\n",
              "    }\n",
              "\n",
              "    .dataframe thead th {\n",
              "        text-align: right;\n",
              "    }\n",
              "</style>\n",
              "<table border=\"1\" class=\"dataframe\">\n",
              "  <thead>\n",
              "    <tr style=\"text-align: right;\">\n",
              "      <th></th>\n",
              "      <th>total_bill</th>\n",
              "      <th>tip</th>\n",
              "      <th>sex</th>\n",
              "      <th>smoker</th>\n",
              "      <th>day</th>\n",
              "      <th>time</th>\n",
              "      <th>size</th>\n",
              "      <th>price_per_person</th>\n",
              "      <th>Payer Name</th>\n",
              "      <th>CC Number</th>\n",
              "      <th>Payment ID</th>\n",
              "    </tr>\n",
              "  </thead>\n",
              "  <tbody>\n",
              "    <tr>\n",
              "      <th>0</th>\n",
              "      <td>16.99</td>\n",
              "      <td>1.01</td>\n",
              "      <td>Female</td>\n",
              "      <td>No</td>\n",
              "      <td>Sun</td>\n",
              "      <td>Dinner</td>\n",
              "      <td>2</td>\n",
              "      <td>8.49</td>\n",
              "      <td>Christy Cunningham</td>\n",
              "      <td>3560325168603410</td>\n",
              "      <td>Sun2959</td>\n",
              "    </tr>\n",
              "    <tr>\n",
              "      <th>1</th>\n",
              "      <td>10.34</td>\n",
              "      <td>1.66</td>\n",
              "      <td>Male</td>\n",
              "      <td>No</td>\n",
              "      <td>Sun</td>\n",
              "      <td>Dinner</td>\n",
              "      <td>3</td>\n",
              "      <td>3.45</td>\n",
              "      <td>Douglas Tucker</td>\n",
              "      <td>4478071379779230</td>\n",
              "      <td>Sun4608</td>\n",
              "    </tr>\n",
              "    <tr>\n",
              "      <th>2</th>\n",
              "      <td>21.01</td>\n",
              "      <td>3.50</td>\n",
              "      <td>Male</td>\n",
              "      <td>No</td>\n",
              "      <td>Sun</td>\n",
              "      <td>Dinner</td>\n",
              "      <td>3</td>\n",
              "      <td>7.00</td>\n",
              "      <td>Travis Walters</td>\n",
              "      <td>6011812112971322</td>\n",
              "      <td>Sun4458</td>\n",
              "    </tr>\n",
              "    <tr>\n",
              "      <th>3</th>\n",
              "      <td>23.68</td>\n",
              "      <td>3.31</td>\n",
              "      <td>Male</td>\n",
              "      <td>No</td>\n",
              "      <td>Sun</td>\n",
              "      <td>Dinner</td>\n",
              "      <td>2</td>\n",
              "      <td>11.84</td>\n",
              "      <td>Nathaniel Harris</td>\n",
              "      <td>4676137647685994</td>\n",
              "      <td>Sun5260</td>\n",
              "    </tr>\n",
              "    <tr>\n",
              "      <th>4</th>\n",
              "      <td>24.59</td>\n",
              "      <td>3.61</td>\n",
              "      <td>Female</td>\n",
              "      <td>No</td>\n",
              "      <td>Sun</td>\n",
              "      <td>Dinner</td>\n",
              "      <td>4</td>\n",
              "      <td>6.15</td>\n",
              "      <td>Tonya Carter</td>\n",
              "      <td>4832732618637221</td>\n",
              "      <td>Sun2251</td>\n",
              "    </tr>\n",
              "    <tr>\n",
              "      <th>...</th>\n",
              "      <td>...</td>\n",
              "      <td>...</td>\n",
              "      <td>...</td>\n",
              "      <td>...</td>\n",
              "      <td>...</td>\n",
              "      <td>...</td>\n",
              "      <td>...</td>\n",
              "      <td>...</td>\n",
              "      <td>...</td>\n",
              "      <td>...</td>\n",
              "      <td>...</td>\n",
              "    </tr>\n",
              "    <tr>\n",
              "      <th>238</th>\n",
              "      <td>35.83</td>\n",
              "      <td>4.67</td>\n",
              "      <td>Female</td>\n",
              "      <td>No</td>\n",
              "      <td>Sat</td>\n",
              "      <td>Dinner</td>\n",
              "      <td>3</td>\n",
              "      <td>11.94</td>\n",
              "      <td>Kimberly Crane</td>\n",
              "      <td>676184013727</td>\n",
              "      <td>Sat9777</td>\n",
              "    </tr>\n",
              "    <tr>\n",
              "      <th>239</th>\n",
              "      <td>29.03</td>\n",
              "      <td>5.92</td>\n",
              "      <td>Male</td>\n",
              "      <td>No</td>\n",
              "      <td>Sat</td>\n",
              "      <td>Dinner</td>\n",
              "      <td>3</td>\n",
              "      <td>9.68</td>\n",
              "      <td>Michael Avila</td>\n",
              "      <td>5296068606052842</td>\n",
              "      <td>Sat2657</td>\n",
              "    </tr>\n",
              "    <tr>\n",
              "      <th>240</th>\n",
              "      <td>27.18</td>\n",
              "      <td>2.00</td>\n",
              "      <td>Female</td>\n",
              "      <td>Yes</td>\n",
              "      <td>Sat</td>\n",
              "      <td>Dinner</td>\n",
              "      <td>2</td>\n",
              "      <td>13.59</td>\n",
              "      <td>Monica Sanders</td>\n",
              "      <td>3506806155565404</td>\n",
              "      <td>Sat1766</td>\n",
              "    </tr>\n",
              "    <tr>\n",
              "      <th>241</th>\n",
              "      <td>22.67</td>\n",
              "      <td>2.00</td>\n",
              "      <td>Male</td>\n",
              "      <td>Yes</td>\n",
              "      <td>Sat</td>\n",
              "      <td>Dinner</td>\n",
              "      <td>2</td>\n",
              "      <td>11.34</td>\n",
              "      <td>Keith Wong</td>\n",
              "      <td>6011891618747196</td>\n",
              "      <td>Sat3880</td>\n",
              "    </tr>\n",
              "    <tr>\n",
              "      <th>242</th>\n",
              "      <td>17.82</td>\n",
              "      <td>1.75</td>\n",
              "      <td>Male</td>\n",
              "      <td>No</td>\n",
              "      <td>Sat</td>\n",
              "      <td>Dinner</td>\n",
              "      <td>2</td>\n",
              "      <td>8.91</td>\n",
              "      <td>Dennis Dixon</td>\n",
              "      <td>4375220550950</td>\n",
              "      <td>Sat17</td>\n",
              "    </tr>\n",
              "  </tbody>\n",
              "</table>\n",
              "<p>163 rows × 11 columns</p>\n",
              "</div>"
            ],
            "text/plain": [
              "     total_bill   tip     sex  ...          Payer Name         CC Number Payment ID\n",
              "0         16.99  1.01  Female  ...  Christy Cunningham  3560325168603410    Sun2959\n",
              "1         10.34  1.66    Male  ...      Douglas Tucker  4478071379779230    Sun4608\n",
              "2         21.01  3.50    Male  ...      Travis Walters  6011812112971322    Sun4458\n",
              "3         23.68  3.31    Male  ...    Nathaniel Harris  4676137647685994    Sun5260\n",
              "4         24.59  3.61  Female  ...        Tonya Carter  4832732618637221    Sun2251\n",
              "..          ...   ...     ...  ...                 ...               ...        ...\n",
              "238       35.83  4.67  Female  ...      Kimberly Crane      676184013727    Sat9777\n",
              "239       29.03  5.92    Male  ...       Michael Avila  5296068606052842    Sat2657\n",
              "240       27.18  2.00  Female  ...      Monica Sanders  3506806155565404    Sat1766\n",
              "241       22.67  2.00    Male  ...          Keith Wong  6011891618747196    Sat3880\n",
              "242       17.82  1.75    Male  ...        Dennis Dixon     4375220550950      Sat17\n",
              "\n",
              "[163 rows x 11 columns]"
            ]
          },
          "metadata": {},
          "execution_count": 94
        }
      ]
    },
    {
      "cell_type": "markdown",
      "metadata": {
        "id": "pO0Li6R_tfEm"
      },
      "source": [
        "## Missing Data"
      ]
    },
    {
      "cell_type": "code",
      "metadata": {
        "colab": {
          "base_uri": "https://localhost:8080/"
        },
        "id": "FGg2Hv2gtXsq",
        "outputId": "88c6ef2a-ed2c-4541-9d7d-2a111a25fcbb"
      },
      "source": [
        "np.nan # float data , None for object_dtype"
      ],
      "execution_count": 95,
      "outputs": [
        {
          "output_type": "execute_result",
          "data": {
            "text/plain": [
              "nan"
            ]
          },
          "metadata": {},
          "execution_count": 95
        }
      ]
    },
    {
      "cell_type": "code",
      "metadata": {
        "colab": {
          "base_uri": "https://localhost:8080/"
        },
        "id": "aRE5v7c5zhoq",
        "outputId": "43181228-f7fd-4425-898d-66ac70440551"
      },
      "source": [
        "pd.NA "
      ],
      "execution_count": 96,
      "outputs": [
        {
          "output_type": "execute_result",
          "data": {
            "text/plain": [
              "<NA>"
            ]
          },
          "metadata": {},
          "execution_count": 96
        }
      ]
    },
    {
      "cell_type": "code",
      "metadata": {
        "colab": {
          "base_uri": "https://localhost:8080/"
        },
        "id": "40HfB_Ttzjg7",
        "outputId": "a3ae238c-0ea9-4993-b200-2d09b07132c0"
      },
      "source": [
        "pd.NaT # datetime_like data"
      ],
      "execution_count": 97,
      "outputs": [
        {
          "output_type": "execute_result",
          "data": {
            "text/plain": [
              "NaT"
            ]
          },
          "metadata": {},
          "execution_count": 97
        }
      ]
    },
    {
      "cell_type": "code",
      "metadata": {
        "colab": {
          "base_uri": "https://localhost:8080/"
        },
        "id": "fcGqgvuwz5JS",
        "outputId": "6940d653-e674-4d99-8deb-44654aa72e27"
      },
      "source": [
        "np.nan == np.nan"
      ],
      "execution_count": 98,
      "outputs": [
        {
          "output_type": "execute_result",
          "data": {
            "text/plain": [
              "False"
            ]
          },
          "metadata": {},
          "execution_count": 98
        }
      ]
    },
    {
      "cell_type": "code",
      "metadata": {
        "colab": {
          "base_uri": "https://localhost:8080/"
        },
        "id": "2uIRtyCDz-hq",
        "outputId": "9494640e-aeb1-4525-ef6c-915a6ef62bba"
      },
      "source": [
        "np.nan in [np.nan]"
      ],
      "execution_count": 99,
      "outputs": [
        {
          "output_type": "execute_result",
          "data": {
            "text/plain": [
              "True"
            ]
          },
          "metadata": {},
          "execution_count": 99
        }
      ]
    },
    {
      "cell_type": "code",
      "metadata": {
        "colab": {
          "base_uri": "https://localhost:8080/"
        },
        "id": "VuosyE6Z0BmR",
        "outputId": "1a7dbebf-4495-4747-b227-c71de0f56bfa"
      },
      "source": [
        "np.nan is np.nan"
      ],
      "execution_count": 100,
      "outputs": [
        {
          "output_type": "execute_result",
          "data": {
            "text/plain": [
              "True"
            ]
          },
          "metadata": {},
          "execution_count": 100
        }
      ]
    },
    {
      "cell_type": "code",
      "metadata": {
        "colab": {
          "base_uri": "https://localhost:8080/"
        },
        "id": "0jlHisz80C7Z",
        "outputId": "671e9e3c-5fa4-4c46-ca84-179e5966fbf5"
      },
      "source": [
        "pd.NA == pd.NA"
      ],
      "execution_count": 101,
      "outputs": [
        {
          "output_type": "execute_result",
          "data": {
            "text/plain": [
              "<NA>"
            ]
          },
          "metadata": {},
          "execution_count": 101
        }
      ]
    },
    {
      "cell_type": "code",
      "metadata": {
        "colab": {
          "base_uri": "https://localhost:8080/",
          "height": 203
        },
        "id": "RLLiP0Bk0Epq",
        "outputId": "7be7f60d-6d7b-485a-e27e-2a1d2f84256b"
      },
      "source": [
        "df = pd.read_csv('sample_data/movie_scores.csv')\n",
        "df"
      ],
      "execution_count": 102,
      "outputs": [
        {
          "output_type": "execute_result",
          "data": {
            "text/html": [
              "<div>\n",
              "<style scoped>\n",
              "    .dataframe tbody tr th:only-of-type {\n",
              "        vertical-align: middle;\n",
              "    }\n",
              "\n",
              "    .dataframe tbody tr th {\n",
              "        vertical-align: top;\n",
              "    }\n",
              "\n",
              "    .dataframe thead th {\n",
              "        text-align: right;\n",
              "    }\n",
              "</style>\n",
              "<table border=\"1\" class=\"dataframe\">\n",
              "  <thead>\n",
              "    <tr style=\"text-align: right;\">\n",
              "      <th></th>\n",
              "      <th>first_name</th>\n",
              "      <th>last_name</th>\n",
              "      <th>age</th>\n",
              "      <th>sex</th>\n",
              "      <th>pre_movie_score</th>\n",
              "      <th>post_movie_score</th>\n",
              "    </tr>\n",
              "  </thead>\n",
              "  <tbody>\n",
              "    <tr>\n",
              "      <th>0</th>\n",
              "      <td>Tom</td>\n",
              "      <td>Hanks</td>\n",
              "      <td>63.0</td>\n",
              "      <td>m</td>\n",
              "      <td>8.0</td>\n",
              "      <td>10.0</td>\n",
              "    </tr>\n",
              "    <tr>\n",
              "      <th>1</th>\n",
              "      <td>NaN</td>\n",
              "      <td>NaN</td>\n",
              "      <td>NaN</td>\n",
              "      <td>NaN</td>\n",
              "      <td>NaN</td>\n",
              "      <td>NaN</td>\n",
              "    </tr>\n",
              "    <tr>\n",
              "      <th>2</th>\n",
              "      <td>Hugh</td>\n",
              "      <td>Jackman</td>\n",
              "      <td>51.0</td>\n",
              "      <td>m</td>\n",
              "      <td>NaN</td>\n",
              "      <td>NaN</td>\n",
              "    </tr>\n",
              "    <tr>\n",
              "      <th>3</th>\n",
              "      <td>Oprah</td>\n",
              "      <td>Winfrey</td>\n",
              "      <td>66.0</td>\n",
              "      <td>f</td>\n",
              "      <td>6.0</td>\n",
              "      <td>8.0</td>\n",
              "    </tr>\n",
              "    <tr>\n",
              "      <th>4</th>\n",
              "      <td>Emma</td>\n",
              "      <td>Stone</td>\n",
              "      <td>31.0</td>\n",
              "      <td>f</td>\n",
              "      <td>7.0</td>\n",
              "      <td>9.0</td>\n",
              "    </tr>\n",
              "  </tbody>\n",
              "</table>\n",
              "</div>"
            ],
            "text/plain": [
              "  first_name last_name   age  sex  pre_movie_score  post_movie_score\n",
              "0        Tom     Hanks  63.0    m              8.0              10.0\n",
              "1        NaN       NaN   NaN  NaN              NaN               NaN\n",
              "2       Hugh   Jackman  51.0    m              NaN               NaN\n",
              "3      Oprah   Winfrey  66.0    f              6.0               8.0\n",
              "4       Emma     Stone  31.0    f              7.0               9.0"
            ]
          },
          "metadata": {},
          "execution_count": 102
        }
      ]
    },
    {
      "cell_type": "code",
      "metadata": {
        "colab": {
          "base_uri": "https://localhost:8080/",
          "height": 203
        },
        "id": "ShYKGE0N01Ez",
        "outputId": "2ce99f09-df8b-4d58-e668-51e92cbc7113"
      },
      "source": [
        "df.isnull()"
      ],
      "execution_count": 103,
      "outputs": [
        {
          "output_type": "execute_result",
          "data": {
            "text/html": [
              "<div>\n",
              "<style scoped>\n",
              "    .dataframe tbody tr th:only-of-type {\n",
              "        vertical-align: middle;\n",
              "    }\n",
              "\n",
              "    .dataframe tbody tr th {\n",
              "        vertical-align: top;\n",
              "    }\n",
              "\n",
              "    .dataframe thead th {\n",
              "        text-align: right;\n",
              "    }\n",
              "</style>\n",
              "<table border=\"1\" class=\"dataframe\">\n",
              "  <thead>\n",
              "    <tr style=\"text-align: right;\">\n",
              "      <th></th>\n",
              "      <th>first_name</th>\n",
              "      <th>last_name</th>\n",
              "      <th>age</th>\n",
              "      <th>sex</th>\n",
              "      <th>pre_movie_score</th>\n",
              "      <th>post_movie_score</th>\n",
              "    </tr>\n",
              "  </thead>\n",
              "  <tbody>\n",
              "    <tr>\n",
              "      <th>0</th>\n",
              "      <td>False</td>\n",
              "      <td>False</td>\n",
              "      <td>False</td>\n",
              "      <td>False</td>\n",
              "      <td>False</td>\n",
              "      <td>False</td>\n",
              "    </tr>\n",
              "    <tr>\n",
              "      <th>1</th>\n",
              "      <td>True</td>\n",
              "      <td>True</td>\n",
              "      <td>True</td>\n",
              "      <td>True</td>\n",
              "      <td>True</td>\n",
              "      <td>True</td>\n",
              "    </tr>\n",
              "    <tr>\n",
              "      <th>2</th>\n",
              "      <td>False</td>\n",
              "      <td>False</td>\n",
              "      <td>False</td>\n",
              "      <td>False</td>\n",
              "      <td>True</td>\n",
              "      <td>True</td>\n",
              "    </tr>\n",
              "    <tr>\n",
              "      <th>3</th>\n",
              "      <td>False</td>\n",
              "      <td>False</td>\n",
              "      <td>False</td>\n",
              "      <td>False</td>\n",
              "      <td>False</td>\n",
              "      <td>False</td>\n",
              "    </tr>\n",
              "    <tr>\n",
              "      <th>4</th>\n",
              "      <td>False</td>\n",
              "      <td>False</td>\n",
              "      <td>False</td>\n",
              "      <td>False</td>\n",
              "      <td>False</td>\n",
              "      <td>False</td>\n",
              "    </tr>\n",
              "  </tbody>\n",
              "</table>\n",
              "</div>"
            ],
            "text/plain": [
              "   first_name  last_name    age    sex  pre_movie_score  post_movie_score\n",
              "0       False      False  False  False            False             False\n",
              "1        True       True   True   True             True              True\n",
              "2       False      False  False  False             True              True\n",
              "3       False      False  False  False            False             False\n",
              "4       False      False  False  False            False             False"
            ]
          },
          "metadata": {},
          "execution_count": 103
        }
      ]
    },
    {
      "cell_type": "code",
      "metadata": {
        "colab": {
          "base_uri": "https://localhost:8080/",
          "height": 203
        },
        "id": "NtAq0_2a03ZK",
        "outputId": "f9cbe3b7-7968-4a5b-fa9d-cc119178ae4b"
      },
      "source": [
        "df.notnull()"
      ],
      "execution_count": 104,
      "outputs": [
        {
          "output_type": "execute_result",
          "data": {
            "text/html": [
              "<div>\n",
              "<style scoped>\n",
              "    .dataframe tbody tr th:only-of-type {\n",
              "        vertical-align: middle;\n",
              "    }\n",
              "\n",
              "    .dataframe tbody tr th {\n",
              "        vertical-align: top;\n",
              "    }\n",
              "\n",
              "    .dataframe thead th {\n",
              "        text-align: right;\n",
              "    }\n",
              "</style>\n",
              "<table border=\"1\" class=\"dataframe\">\n",
              "  <thead>\n",
              "    <tr style=\"text-align: right;\">\n",
              "      <th></th>\n",
              "      <th>first_name</th>\n",
              "      <th>last_name</th>\n",
              "      <th>age</th>\n",
              "      <th>sex</th>\n",
              "      <th>pre_movie_score</th>\n",
              "      <th>post_movie_score</th>\n",
              "    </tr>\n",
              "  </thead>\n",
              "  <tbody>\n",
              "    <tr>\n",
              "      <th>0</th>\n",
              "      <td>True</td>\n",
              "      <td>True</td>\n",
              "      <td>True</td>\n",
              "      <td>True</td>\n",
              "      <td>True</td>\n",
              "      <td>True</td>\n",
              "    </tr>\n",
              "    <tr>\n",
              "      <th>1</th>\n",
              "      <td>False</td>\n",
              "      <td>False</td>\n",
              "      <td>False</td>\n",
              "      <td>False</td>\n",
              "      <td>False</td>\n",
              "      <td>False</td>\n",
              "    </tr>\n",
              "    <tr>\n",
              "      <th>2</th>\n",
              "      <td>True</td>\n",
              "      <td>True</td>\n",
              "      <td>True</td>\n",
              "      <td>True</td>\n",
              "      <td>False</td>\n",
              "      <td>False</td>\n",
              "    </tr>\n",
              "    <tr>\n",
              "      <th>3</th>\n",
              "      <td>True</td>\n",
              "      <td>True</td>\n",
              "      <td>True</td>\n",
              "      <td>True</td>\n",
              "      <td>True</td>\n",
              "      <td>True</td>\n",
              "    </tr>\n",
              "    <tr>\n",
              "      <th>4</th>\n",
              "      <td>True</td>\n",
              "      <td>True</td>\n",
              "      <td>True</td>\n",
              "      <td>True</td>\n",
              "      <td>True</td>\n",
              "      <td>True</td>\n",
              "    </tr>\n",
              "  </tbody>\n",
              "</table>\n",
              "</div>"
            ],
            "text/plain": [
              "   first_name  last_name    age    sex  pre_movie_score  post_movie_score\n",
              "0        True       True   True   True             True              True\n",
              "1       False      False  False  False            False             False\n",
              "2        True       True   True   True            False             False\n",
              "3        True       True   True   True             True              True\n",
              "4        True       True   True   True             True              True"
            ]
          },
          "metadata": {},
          "execution_count": 104
        }
      ]
    },
    {
      "cell_type": "code",
      "metadata": {
        "colab": {
          "base_uri": "https://localhost:8080/"
        },
        "id": "WAiYk8FZ06s6",
        "outputId": "50e39a4f-8e23-4963-cd1e-c4b5a75168bb"
      },
      "source": [
        "df['first_name']"
      ],
      "execution_count": 105,
      "outputs": [
        {
          "output_type": "execute_result",
          "data": {
            "text/plain": [
              "0      Tom\n",
              "1      NaN\n",
              "2     Hugh\n",
              "3    Oprah\n",
              "4     Emma\n",
              "Name: first_name, dtype: object"
            ]
          },
          "metadata": {},
          "execution_count": 105
        }
      ]
    },
    {
      "cell_type": "code",
      "metadata": {
        "colab": {
          "base_uri": "https://localhost:8080/",
          "height": 172
        },
        "id": "GZZTY5UD09ya",
        "outputId": "f17ca023-33d7-48ed-e950-09d5e4c45a5c"
      },
      "source": [
        "df[df['first_name'].notnull()]"
      ],
      "execution_count": 106,
      "outputs": [
        {
          "output_type": "execute_result",
          "data": {
            "text/html": [
              "<div>\n",
              "<style scoped>\n",
              "    .dataframe tbody tr th:only-of-type {\n",
              "        vertical-align: middle;\n",
              "    }\n",
              "\n",
              "    .dataframe tbody tr th {\n",
              "        vertical-align: top;\n",
              "    }\n",
              "\n",
              "    .dataframe thead th {\n",
              "        text-align: right;\n",
              "    }\n",
              "</style>\n",
              "<table border=\"1\" class=\"dataframe\">\n",
              "  <thead>\n",
              "    <tr style=\"text-align: right;\">\n",
              "      <th></th>\n",
              "      <th>first_name</th>\n",
              "      <th>last_name</th>\n",
              "      <th>age</th>\n",
              "      <th>sex</th>\n",
              "      <th>pre_movie_score</th>\n",
              "      <th>post_movie_score</th>\n",
              "    </tr>\n",
              "  </thead>\n",
              "  <tbody>\n",
              "    <tr>\n",
              "      <th>0</th>\n",
              "      <td>Tom</td>\n",
              "      <td>Hanks</td>\n",
              "      <td>63.0</td>\n",
              "      <td>m</td>\n",
              "      <td>8.0</td>\n",
              "      <td>10.0</td>\n",
              "    </tr>\n",
              "    <tr>\n",
              "      <th>2</th>\n",
              "      <td>Hugh</td>\n",
              "      <td>Jackman</td>\n",
              "      <td>51.0</td>\n",
              "      <td>m</td>\n",
              "      <td>NaN</td>\n",
              "      <td>NaN</td>\n",
              "    </tr>\n",
              "    <tr>\n",
              "      <th>3</th>\n",
              "      <td>Oprah</td>\n",
              "      <td>Winfrey</td>\n",
              "      <td>66.0</td>\n",
              "      <td>f</td>\n",
              "      <td>6.0</td>\n",
              "      <td>8.0</td>\n",
              "    </tr>\n",
              "    <tr>\n",
              "      <th>4</th>\n",
              "      <td>Emma</td>\n",
              "      <td>Stone</td>\n",
              "      <td>31.0</td>\n",
              "      <td>f</td>\n",
              "      <td>7.0</td>\n",
              "      <td>9.0</td>\n",
              "    </tr>\n",
              "  </tbody>\n",
              "</table>\n",
              "</div>"
            ],
            "text/plain": [
              "  first_name last_name   age sex  pre_movie_score  post_movie_score\n",
              "0        Tom     Hanks  63.0   m              8.0              10.0\n",
              "2       Hugh   Jackman  51.0   m              NaN               NaN\n",
              "3      Oprah   Winfrey  66.0   f              6.0               8.0\n",
              "4       Emma     Stone  31.0   f              7.0               9.0"
            ]
          },
          "metadata": {},
          "execution_count": 106
        }
      ]
    },
    {
      "cell_type": "code",
      "metadata": {
        "colab": {
          "base_uri": "https://localhost:8080/",
          "height": 80
        },
        "id": "yVFw9gkD1Ag5",
        "outputId": "6d9960fd-92de-4e15-b1f6-afca70ef0091"
      },
      "source": [
        "df[(df['pre_movie_score'].isnull()) & df['sex'].notnull()]"
      ],
      "execution_count": 107,
      "outputs": [
        {
          "output_type": "execute_result",
          "data": {
            "text/html": [
              "<div>\n",
              "<style scoped>\n",
              "    .dataframe tbody tr th:only-of-type {\n",
              "        vertical-align: middle;\n",
              "    }\n",
              "\n",
              "    .dataframe tbody tr th {\n",
              "        vertical-align: top;\n",
              "    }\n",
              "\n",
              "    .dataframe thead th {\n",
              "        text-align: right;\n",
              "    }\n",
              "</style>\n",
              "<table border=\"1\" class=\"dataframe\">\n",
              "  <thead>\n",
              "    <tr style=\"text-align: right;\">\n",
              "      <th></th>\n",
              "      <th>first_name</th>\n",
              "      <th>last_name</th>\n",
              "      <th>age</th>\n",
              "      <th>sex</th>\n",
              "      <th>pre_movie_score</th>\n",
              "      <th>post_movie_score</th>\n",
              "    </tr>\n",
              "  </thead>\n",
              "  <tbody>\n",
              "    <tr>\n",
              "      <th>2</th>\n",
              "      <td>Hugh</td>\n",
              "      <td>Jackman</td>\n",
              "      <td>51.0</td>\n",
              "      <td>m</td>\n",
              "      <td>NaN</td>\n",
              "      <td>NaN</td>\n",
              "    </tr>\n",
              "  </tbody>\n",
              "</table>\n",
              "</div>"
            ],
            "text/plain": [
              "  first_name last_name   age sex  pre_movie_score  post_movie_score\n",
              "2       Hugh   Jackman  51.0   m              NaN               NaN"
            ]
          },
          "metadata": {},
          "execution_count": 107
        }
      ]
    },
    {
      "cell_type": "code",
      "metadata": {
        "colab": {
          "base_uri": "https://localhost:8080/",
          "height": 142
        },
        "id": "Gd-G05HG1Ovp",
        "outputId": "4f8e4ba3-19d6-444a-cc9e-2a416c230d0e"
      },
      "source": [
        "# drop data\n",
        "df.dropna()"
      ],
      "execution_count": 108,
      "outputs": [
        {
          "output_type": "execute_result",
          "data": {
            "text/html": [
              "<div>\n",
              "<style scoped>\n",
              "    .dataframe tbody tr th:only-of-type {\n",
              "        vertical-align: middle;\n",
              "    }\n",
              "\n",
              "    .dataframe tbody tr th {\n",
              "        vertical-align: top;\n",
              "    }\n",
              "\n",
              "    .dataframe thead th {\n",
              "        text-align: right;\n",
              "    }\n",
              "</style>\n",
              "<table border=\"1\" class=\"dataframe\">\n",
              "  <thead>\n",
              "    <tr style=\"text-align: right;\">\n",
              "      <th></th>\n",
              "      <th>first_name</th>\n",
              "      <th>last_name</th>\n",
              "      <th>age</th>\n",
              "      <th>sex</th>\n",
              "      <th>pre_movie_score</th>\n",
              "      <th>post_movie_score</th>\n",
              "    </tr>\n",
              "  </thead>\n",
              "  <tbody>\n",
              "    <tr>\n",
              "      <th>0</th>\n",
              "      <td>Tom</td>\n",
              "      <td>Hanks</td>\n",
              "      <td>63.0</td>\n",
              "      <td>m</td>\n",
              "      <td>8.0</td>\n",
              "      <td>10.0</td>\n",
              "    </tr>\n",
              "    <tr>\n",
              "      <th>3</th>\n",
              "      <td>Oprah</td>\n",
              "      <td>Winfrey</td>\n",
              "      <td>66.0</td>\n",
              "      <td>f</td>\n",
              "      <td>6.0</td>\n",
              "      <td>8.0</td>\n",
              "    </tr>\n",
              "    <tr>\n",
              "      <th>4</th>\n",
              "      <td>Emma</td>\n",
              "      <td>Stone</td>\n",
              "      <td>31.0</td>\n",
              "      <td>f</td>\n",
              "      <td>7.0</td>\n",
              "      <td>9.0</td>\n",
              "    </tr>\n",
              "  </tbody>\n",
              "</table>\n",
              "</div>"
            ],
            "text/plain": [
              "  first_name last_name   age sex  pre_movie_score  post_movie_score\n",
              "0        Tom     Hanks  63.0   m              8.0              10.0\n",
              "3      Oprah   Winfrey  66.0   f              6.0               8.0\n",
              "4       Emma     Stone  31.0   f              7.0               9.0"
            ]
          },
          "metadata": {},
          "execution_count": 108
        }
      ]
    },
    {
      "cell_type": "code",
      "metadata": {
        "colab": {
          "base_uri": "https://localhost:8080/",
          "height": 172
        },
        "id": "CV7Ydhuj1Ujq",
        "outputId": "3ccac207-9f26-4d82-f49e-a78a9e468232"
      },
      "source": [
        "df.dropna(thresh=1)"
      ],
      "execution_count": 109,
      "outputs": [
        {
          "output_type": "execute_result",
          "data": {
            "text/html": [
              "<div>\n",
              "<style scoped>\n",
              "    .dataframe tbody tr th:only-of-type {\n",
              "        vertical-align: middle;\n",
              "    }\n",
              "\n",
              "    .dataframe tbody tr th {\n",
              "        vertical-align: top;\n",
              "    }\n",
              "\n",
              "    .dataframe thead th {\n",
              "        text-align: right;\n",
              "    }\n",
              "</style>\n",
              "<table border=\"1\" class=\"dataframe\">\n",
              "  <thead>\n",
              "    <tr style=\"text-align: right;\">\n",
              "      <th></th>\n",
              "      <th>first_name</th>\n",
              "      <th>last_name</th>\n",
              "      <th>age</th>\n",
              "      <th>sex</th>\n",
              "      <th>pre_movie_score</th>\n",
              "      <th>post_movie_score</th>\n",
              "    </tr>\n",
              "  </thead>\n",
              "  <tbody>\n",
              "    <tr>\n",
              "      <th>0</th>\n",
              "      <td>Tom</td>\n",
              "      <td>Hanks</td>\n",
              "      <td>63.0</td>\n",
              "      <td>m</td>\n",
              "      <td>8.0</td>\n",
              "      <td>10.0</td>\n",
              "    </tr>\n",
              "    <tr>\n",
              "      <th>2</th>\n",
              "      <td>Hugh</td>\n",
              "      <td>Jackman</td>\n",
              "      <td>51.0</td>\n",
              "      <td>m</td>\n",
              "      <td>NaN</td>\n",
              "      <td>NaN</td>\n",
              "    </tr>\n",
              "    <tr>\n",
              "      <th>3</th>\n",
              "      <td>Oprah</td>\n",
              "      <td>Winfrey</td>\n",
              "      <td>66.0</td>\n",
              "      <td>f</td>\n",
              "      <td>6.0</td>\n",
              "      <td>8.0</td>\n",
              "    </tr>\n",
              "    <tr>\n",
              "      <th>4</th>\n",
              "      <td>Emma</td>\n",
              "      <td>Stone</td>\n",
              "      <td>31.0</td>\n",
              "      <td>f</td>\n",
              "      <td>7.0</td>\n",
              "      <td>9.0</td>\n",
              "    </tr>\n",
              "  </tbody>\n",
              "</table>\n",
              "</div>"
            ],
            "text/plain": [
              "  first_name last_name   age sex  pre_movie_score  post_movie_score\n",
              "0        Tom     Hanks  63.0   m              8.0              10.0\n",
              "2       Hugh   Jackman  51.0   m              NaN               NaN\n",
              "3      Oprah   Winfrey  66.0   f              6.0               8.0\n",
              "4       Emma     Stone  31.0   f              7.0               9.0"
            ]
          },
          "metadata": {},
          "execution_count": 109
        }
      ]
    },
    {
      "cell_type": "code",
      "metadata": {
        "colab": {
          "base_uri": "https://localhost:8080/",
          "height": 186
        },
        "id": "IgG659Yg1W-L",
        "outputId": "7d64211f-d83a-46f6-bf05-1b5a81274dcc"
      },
      "source": [
        "df.dropna(axis=1)"
      ],
      "execution_count": 110,
      "outputs": [
        {
          "output_type": "execute_result",
          "data": {
            "text/html": [
              "<div>\n",
              "<style scoped>\n",
              "    .dataframe tbody tr th:only-of-type {\n",
              "        vertical-align: middle;\n",
              "    }\n",
              "\n",
              "    .dataframe tbody tr th {\n",
              "        vertical-align: top;\n",
              "    }\n",
              "\n",
              "    .dataframe thead th {\n",
              "        text-align: right;\n",
              "    }\n",
              "</style>\n",
              "<table border=\"1\" class=\"dataframe\">\n",
              "  <thead>\n",
              "    <tr style=\"text-align: right;\">\n",
              "      <th></th>\n",
              "    </tr>\n",
              "  </thead>\n",
              "  <tbody>\n",
              "    <tr>\n",
              "      <th>0</th>\n",
              "    </tr>\n",
              "    <tr>\n",
              "      <th>1</th>\n",
              "    </tr>\n",
              "    <tr>\n",
              "      <th>2</th>\n",
              "    </tr>\n",
              "    <tr>\n",
              "      <th>3</th>\n",
              "    </tr>\n",
              "    <tr>\n",
              "      <th>4</th>\n",
              "    </tr>\n",
              "  </tbody>\n",
              "</table>\n",
              "</div>"
            ],
            "text/plain": [
              "Empty DataFrame\n",
              "Columns: []\n",
              "Index: [0, 1, 2, 3, 4]"
            ]
          },
          "metadata": {},
          "execution_count": 110
        }
      ]
    },
    {
      "cell_type": "code",
      "metadata": {
        "colab": {
          "base_uri": "https://localhost:8080/",
          "height": 203
        },
        "id": "epn7t7032osr",
        "outputId": "df8dc558-bd82-4269-d240-4c3b749fa02f"
      },
      "source": [
        "df.dropna(thresh=4, axis=1)"
      ],
      "execution_count": 111,
      "outputs": [
        {
          "output_type": "execute_result",
          "data": {
            "text/html": [
              "<div>\n",
              "<style scoped>\n",
              "    .dataframe tbody tr th:only-of-type {\n",
              "        vertical-align: middle;\n",
              "    }\n",
              "\n",
              "    .dataframe tbody tr th {\n",
              "        vertical-align: top;\n",
              "    }\n",
              "\n",
              "    .dataframe thead th {\n",
              "        text-align: right;\n",
              "    }\n",
              "</style>\n",
              "<table border=\"1\" class=\"dataframe\">\n",
              "  <thead>\n",
              "    <tr style=\"text-align: right;\">\n",
              "      <th></th>\n",
              "      <th>first_name</th>\n",
              "      <th>last_name</th>\n",
              "      <th>age</th>\n",
              "      <th>sex</th>\n",
              "    </tr>\n",
              "  </thead>\n",
              "  <tbody>\n",
              "    <tr>\n",
              "      <th>0</th>\n",
              "      <td>Tom</td>\n",
              "      <td>Hanks</td>\n",
              "      <td>63.0</td>\n",
              "      <td>m</td>\n",
              "    </tr>\n",
              "    <tr>\n",
              "      <th>1</th>\n",
              "      <td>NaN</td>\n",
              "      <td>NaN</td>\n",
              "      <td>NaN</td>\n",
              "      <td>NaN</td>\n",
              "    </tr>\n",
              "    <tr>\n",
              "      <th>2</th>\n",
              "      <td>Hugh</td>\n",
              "      <td>Jackman</td>\n",
              "      <td>51.0</td>\n",
              "      <td>m</td>\n",
              "    </tr>\n",
              "    <tr>\n",
              "      <th>3</th>\n",
              "      <td>Oprah</td>\n",
              "      <td>Winfrey</td>\n",
              "      <td>66.0</td>\n",
              "      <td>f</td>\n",
              "    </tr>\n",
              "    <tr>\n",
              "      <th>4</th>\n",
              "      <td>Emma</td>\n",
              "      <td>Stone</td>\n",
              "      <td>31.0</td>\n",
              "      <td>f</td>\n",
              "    </tr>\n",
              "  </tbody>\n",
              "</table>\n",
              "</div>"
            ],
            "text/plain": [
              "  first_name last_name   age  sex\n",
              "0        Tom     Hanks  63.0    m\n",
              "1        NaN       NaN   NaN  NaN\n",
              "2       Hugh   Jackman  51.0    m\n",
              "3      Oprah   Winfrey  66.0    f\n",
              "4       Emma     Stone  31.0    f"
            ]
          },
          "metadata": {},
          "execution_count": 111
        }
      ]
    },
    {
      "cell_type": "code",
      "metadata": {
        "colab": {
          "base_uri": "https://localhost:8080/",
          "height": 203
        },
        "id": "mKfGkpqR22i5",
        "outputId": "bc499302-a0b1-438b-9a2c-db49d7a8a84d"
      },
      "source": [
        "# fill data\n",
        "df.fillna('New Value')"
      ],
      "execution_count": 112,
      "outputs": [
        {
          "output_type": "execute_result",
          "data": {
            "text/html": [
              "<div>\n",
              "<style scoped>\n",
              "    .dataframe tbody tr th:only-of-type {\n",
              "        vertical-align: middle;\n",
              "    }\n",
              "\n",
              "    .dataframe tbody tr th {\n",
              "        vertical-align: top;\n",
              "    }\n",
              "\n",
              "    .dataframe thead th {\n",
              "        text-align: right;\n",
              "    }\n",
              "</style>\n",
              "<table border=\"1\" class=\"dataframe\">\n",
              "  <thead>\n",
              "    <tr style=\"text-align: right;\">\n",
              "      <th></th>\n",
              "      <th>first_name</th>\n",
              "      <th>last_name</th>\n",
              "      <th>age</th>\n",
              "      <th>sex</th>\n",
              "      <th>pre_movie_score</th>\n",
              "      <th>post_movie_score</th>\n",
              "    </tr>\n",
              "  </thead>\n",
              "  <tbody>\n",
              "    <tr>\n",
              "      <th>0</th>\n",
              "      <td>Tom</td>\n",
              "      <td>Hanks</td>\n",
              "      <td>63</td>\n",
              "      <td>m</td>\n",
              "      <td>8</td>\n",
              "      <td>10</td>\n",
              "    </tr>\n",
              "    <tr>\n",
              "      <th>1</th>\n",
              "      <td>New Value</td>\n",
              "      <td>New Value</td>\n",
              "      <td>New Value</td>\n",
              "      <td>New Value</td>\n",
              "      <td>New Value</td>\n",
              "      <td>New Value</td>\n",
              "    </tr>\n",
              "    <tr>\n",
              "      <th>2</th>\n",
              "      <td>Hugh</td>\n",
              "      <td>Jackman</td>\n",
              "      <td>51</td>\n",
              "      <td>m</td>\n",
              "      <td>New Value</td>\n",
              "      <td>New Value</td>\n",
              "    </tr>\n",
              "    <tr>\n",
              "      <th>3</th>\n",
              "      <td>Oprah</td>\n",
              "      <td>Winfrey</td>\n",
              "      <td>66</td>\n",
              "      <td>f</td>\n",
              "      <td>6</td>\n",
              "      <td>8</td>\n",
              "    </tr>\n",
              "    <tr>\n",
              "      <th>4</th>\n",
              "      <td>Emma</td>\n",
              "      <td>Stone</td>\n",
              "      <td>31</td>\n",
              "      <td>f</td>\n",
              "      <td>7</td>\n",
              "      <td>9</td>\n",
              "    </tr>\n",
              "  </tbody>\n",
              "</table>\n",
              "</div>"
            ],
            "text/plain": [
              "  first_name  last_name        age        sex pre_movie_score post_movie_score\n",
              "0        Tom      Hanks         63          m               8               10\n",
              "1  New Value  New Value  New Value  New Value       New Value        New Value\n",
              "2       Hugh    Jackman         51          m       New Value        New Value\n",
              "3      Oprah    Winfrey         66          f               6                8\n",
              "4       Emma      Stone         31          f               7                9"
            ]
          },
          "metadata": {},
          "execution_count": 112
        }
      ]
    },
    {
      "cell_type": "code",
      "metadata": {
        "colab": {
          "base_uri": "https://localhost:8080/"
        },
        "id": "zSu3WwxG3AMa",
        "outputId": "a63ccc85-0f12-4ca8-94ff-3f7d1617e0e1"
      },
      "source": [
        "df['first_name'].fillna('Some_name')"
      ],
      "execution_count": 113,
      "outputs": [
        {
          "output_type": "execute_result",
          "data": {
            "text/plain": [
              "0          Tom\n",
              "1    Some_name\n",
              "2         Hugh\n",
              "3        Oprah\n",
              "4         Emma\n",
              "Name: first_name, dtype: object"
            ]
          },
          "metadata": {},
          "execution_count": 113
        }
      ]
    },
    {
      "cell_type": "code",
      "metadata": {
        "colab": {
          "base_uri": "https://localhost:8080/"
        },
        "id": "kA0bV0HD3FYR",
        "outputId": "cb98e87c-4dc4-464b-c7b5-7fcc3c67c5a5"
      },
      "source": [
        "df['pre_movie_score'].mean()"
      ],
      "execution_count": 114,
      "outputs": [
        {
          "output_type": "execute_result",
          "data": {
            "text/plain": [
              "7.0"
            ]
          },
          "metadata": {},
          "execution_count": 114
        }
      ]
    },
    {
      "cell_type": "code",
      "metadata": {
        "colab": {
          "base_uri": "https://localhost:8080/"
        },
        "id": "FgctPIAW3N0i",
        "outputId": "d52c29bf-aee7-4395-f116-fe906a1f2463"
      },
      "source": [
        "df['pre_movie_score'].fillna(df['pre_movie_score'].mean()) # filling with mean score"
      ],
      "execution_count": 116,
      "outputs": [
        {
          "output_type": "execute_result",
          "data": {
            "text/plain": [
              "0    8.0\n",
              "1    7.0\n",
              "2    7.0\n",
              "3    6.0\n",
              "4    7.0\n",
              "Name: pre_movie_score, dtype: float64"
            ]
          },
          "metadata": {},
          "execution_count": 116
        }
      ]
    },
    {
      "cell_type": "code",
      "metadata": {
        "colab": {
          "base_uri": "https://localhost:8080/",
          "height": 203
        },
        "id": "_yYaPgQd3VIJ",
        "outputId": "66fe05d6-fed6-46c2-fc81-b8bb4f1a2946"
      },
      "source": [
        "df.fillna(df.mean())"
      ],
      "execution_count": 117,
      "outputs": [
        {
          "output_type": "execute_result",
          "data": {
            "text/html": [
              "<div>\n",
              "<style scoped>\n",
              "    .dataframe tbody tr th:only-of-type {\n",
              "        vertical-align: middle;\n",
              "    }\n",
              "\n",
              "    .dataframe tbody tr th {\n",
              "        vertical-align: top;\n",
              "    }\n",
              "\n",
              "    .dataframe thead th {\n",
              "        text-align: right;\n",
              "    }\n",
              "</style>\n",
              "<table border=\"1\" class=\"dataframe\">\n",
              "  <thead>\n",
              "    <tr style=\"text-align: right;\">\n",
              "      <th></th>\n",
              "      <th>first_name</th>\n",
              "      <th>last_name</th>\n",
              "      <th>age</th>\n",
              "      <th>sex</th>\n",
              "      <th>pre_movie_score</th>\n",
              "      <th>post_movie_score</th>\n",
              "    </tr>\n",
              "  </thead>\n",
              "  <tbody>\n",
              "    <tr>\n",
              "      <th>0</th>\n",
              "      <td>Tom</td>\n",
              "      <td>Hanks</td>\n",
              "      <td>63.00</td>\n",
              "      <td>m</td>\n",
              "      <td>8.0</td>\n",
              "      <td>10.0</td>\n",
              "    </tr>\n",
              "    <tr>\n",
              "      <th>1</th>\n",
              "      <td>NaN</td>\n",
              "      <td>NaN</td>\n",
              "      <td>52.75</td>\n",
              "      <td>NaN</td>\n",
              "      <td>7.0</td>\n",
              "      <td>9.0</td>\n",
              "    </tr>\n",
              "    <tr>\n",
              "      <th>2</th>\n",
              "      <td>Hugh</td>\n",
              "      <td>Jackman</td>\n",
              "      <td>51.00</td>\n",
              "      <td>m</td>\n",
              "      <td>7.0</td>\n",
              "      <td>9.0</td>\n",
              "    </tr>\n",
              "    <tr>\n",
              "      <th>3</th>\n",
              "      <td>Oprah</td>\n",
              "      <td>Winfrey</td>\n",
              "      <td>66.00</td>\n",
              "      <td>f</td>\n",
              "      <td>6.0</td>\n",
              "      <td>8.0</td>\n",
              "    </tr>\n",
              "    <tr>\n",
              "      <th>4</th>\n",
              "      <td>Emma</td>\n",
              "      <td>Stone</td>\n",
              "      <td>31.00</td>\n",
              "      <td>f</td>\n",
              "      <td>7.0</td>\n",
              "      <td>9.0</td>\n",
              "    </tr>\n",
              "  </tbody>\n",
              "</table>\n",
              "</div>"
            ],
            "text/plain": [
              "  first_name last_name    age  sex  pre_movie_score  post_movie_score\n",
              "0        Tom     Hanks  63.00    m              8.0              10.0\n",
              "1        NaN       NaN  52.75  NaN              7.0               9.0\n",
              "2       Hugh   Jackman  51.00    m              7.0               9.0\n",
              "3      Oprah   Winfrey  66.00    f              6.0               8.0\n",
              "4       Emma     Stone  31.00    f              7.0               9.0"
            ]
          },
          "metadata": {},
          "execution_count": 117
        }
      ]
    },
    {
      "cell_type": "code",
      "metadata": {
        "colab": {
          "base_uri": "https://localhost:8080/"
        },
        "id": "vmF9Di_E3k5Z",
        "outputId": "59795c3b-97dc-4295-f9a0-16666eb834bd"
      },
      "source": [
        "# filling with interpolation\n",
        "data = {'first':100, 'second':np.nan, 'third':50,'fourth':40}\n",
        "data = pd.Series(data)\n",
        "data"
      ],
      "execution_count": 118,
      "outputs": [
        {
          "output_type": "execute_result",
          "data": {
            "text/plain": [
              "first     100.0\n",
              "second      NaN\n",
              "third      50.0\n",
              "fourth     40.0\n",
              "dtype: float64"
            ]
          },
          "metadata": {},
          "execution_count": 118
        }
      ]
    },
    {
      "cell_type": "code",
      "metadata": {
        "colab": {
          "base_uri": "https://localhost:8080/"
        },
        "id": "JtdVDuhQ4C3i",
        "outputId": "b74982cd-172b-44e7-d5fa-3558dbfdeb89"
      },
      "source": [
        "data.interpolate() # default method is 'linear'."
      ],
      "execution_count": 119,
      "outputs": [
        {
          "output_type": "execute_result",
          "data": {
            "text/plain": [
              "first     100.0\n",
              "second     75.0\n",
              "third      50.0\n",
              "fourth     40.0\n",
              "dtype: float64"
            ]
          },
          "metadata": {},
          "execution_count": 119
        }
      ]
    },
    {
      "cell_type": "code",
      "metadata": {
        "colab": {
          "base_uri": "https://localhost:8080/",
          "height": 172
        },
        "id": "VHfDZDde4FL6",
        "outputId": "1441d920-e01a-4b7b-9c93-cee85dfee87a"
      },
      "source": [
        "df = pd.DataFrame(data, columns = ['Number'])\n",
        "df"
      ],
      "execution_count": 121,
      "outputs": [
        {
          "output_type": "execute_result",
          "data": {
            "text/html": [
              "<div>\n",
              "<style scoped>\n",
              "    .dataframe tbody tr th:only-of-type {\n",
              "        vertical-align: middle;\n",
              "    }\n",
              "\n",
              "    .dataframe tbody tr th {\n",
              "        vertical-align: top;\n",
              "    }\n",
              "\n",
              "    .dataframe thead th {\n",
              "        text-align: right;\n",
              "    }\n",
              "</style>\n",
              "<table border=\"1\" class=\"dataframe\">\n",
              "  <thead>\n",
              "    <tr style=\"text-align: right;\">\n",
              "      <th></th>\n",
              "      <th>Number</th>\n",
              "    </tr>\n",
              "  </thead>\n",
              "  <tbody>\n",
              "    <tr>\n",
              "      <th>first</th>\n",
              "      <td>100.0</td>\n",
              "    </tr>\n",
              "    <tr>\n",
              "      <th>second</th>\n",
              "      <td>NaN</td>\n",
              "    </tr>\n",
              "    <tr>\n",
              "      <th>third</th>\n",
              "      <td>50.0</td>\n",
              "    </tr>\n",
              "    <tr>\n",
              "      <th>fourth</th>\n",
              "      <td>40.0</td>\n",
              "    </tr>\n",
              "  </tbody>\n",
              "</table>\n",
              "</div>"
            ],
            "text/plain": [
              "        Number\n",
              "first    100.0\n",
              "second     NaN\n",
              "third     50.0\n",
              "fourth    40.0"
            ]
          },
          "metadata": {},
          "execution_count": 121
        }
      ]
    },
    {
      "cell_type": "code",
      "metadata": {
        "colab": {
          "base_uri": "https://localhost:8080/",
          "height": 172
        },
        "id": "ImXQyhhS4M4L",
        "outputId": "e754cb47-dee2-495b-e3c2-33e9be73b316"
      },
      "source": [
        "df = df.reset_index()\n",
        "df"
      ],
      "execution_count": 122,
      "outputs": [
        {
          "output_type": "execute_result",
          "data": {
            "text/html": [
              "<div>\n",
              "<style scoped>\n",
              "    .dataframe tbody tr th:only-of-type {\n",
              "        vertical-align: middle;\n",
              "    }\n",
              "\n",
              "    .dataframe tbody tr th {\n",
              "        vertical-align: top;\n",
              "    }\n",
              "\n",
              "    .dataframe thead th {\n",
              "        text-align: right;\n",
              "    }\n",
              "</style>\n",
              "<table border=\"1\" class=\"dataframe\">\n",
              "  <thead>\n",
              "    <tr style=\"text-align: right;\">\n",
              "      <th></th>\n",
              "      <th>index</th>\n",
              "      <th>Number</th>\n",
              "    </tr>\n",
              "  </thead>\n",
              "  <tbody>\n",
              "    <tr>\n",
              "      <th>0</th>\n",
              "      <td>first</td>\n",
              "      <td>100.0</td>\n",
              "    </tr>\n",
              "    <tr>\n",
              "      <th>1</th>\n",
              "      <td>second</td>\n",
              "      <td>NaN</td>\n",
              "    </tr>\n",
              "    <tr>\n",
              "      <th>2</th>\n",
              "      <td>third</td>\n",
              "      <td>50.0</td>\n",
              "    </tr>\n",
              "    <tr>\n",
              "      <th>3</th>\n",
              "      <td>fourth</td>\n",
              "      <td>40.0</td>\n",
              "    </tr>\n",
              "  </tbody>\n",
              "</table>\n",
              "</div>"
            ],
            "text/plain": [
              "    index  Number\n",
              "0   first   100.0\n",
              "1  second     NaN\n",
              "2   third    50.0\n",
              "3  fourth    40.0"
            ]
          },
          "metadata": {},
          "execution_count": 122
        }
      ]
    },
    {
      "cell_type": "code",
      "metadata": {
        "colab": {
          "base_uri": "https://localhost:8080/",
          "height": 172
        },
        "id": "4Q0IVfZ44gOr",
        "outputId": "28f79ae3-6c01-4da2-e464-a47038b74223"
      },
      "source": [
        "df.interpolate(method='spline', order=2)"
      ],
      "execution_count": 124,
      "outputs": [
        {
          "output_type": "execute_result",
          "data": {
            "text/html": [
              "<div>\n",
              "<style scoped>\n",
              "    .dataframe tbody tr th:only-of-type {\n",
              "        vertical-align: middle;\n",
              "    }\n",
              "\n",
              "    .dataframe tbody tr th {\n",
              "        vertical-align: top;\n",
              "    }\n",
              "\n",
              "    .dataframe thead th {\n",
              "        text-align: right;\n",
              "    }\n",
              "</style>\n",
              "<table border=\"1\" class=\"dataframe\">\n",
              "  <thead>\n",
              "    <tr style=\"text-align: right;\">\n",
              "      <th></th>\n",
              "      <th>index</th>\n",
              "      <th>Number</th>\n",
              "    </tr>\n",
              "  </thead>\n",
              "  <tbody>\n",
              "    <tr>\n",
              "      <th>0</th>\n",
              "      <td>first</td>\n",
              "      <td>100.0</td>\n",
              "    </tr>\n",
              "    <tr>\n",
              "      <th>1</th>\n",
              "      <td>second</td>\n",
              "      <td>70.0</td>\n",
              "    </tr>\n",
              "    <tr>\n",
              "      <th>2</th>\n",
              "      <td>third</td>\n",
              "      <td>50.0</td>\n",
              "    </tr>\n",
              "    <tr>\n",
              "      <th>3</th>\n",
              "      <td>fourth</td>\n",
              "      <td>40.0</td>\n",
              "    </tr>\n",
              "  </tbody>\n",
              "</table>\n",
              "</div>"
            ],
            "text/plain": [
              "    index  Number\n",
              "0   first   100.0\n",
              "1  second    70.0\n",
              "2   third    50.0\n",
              "3  fourth    40.0"
            ]
          },
          "metadata": {},
          "execution_count": 124
        }
      ]
    },
    {
      "cell_type": "code",
      "metadata": {
        "colab": {
          "base_uri": "https://localhost:8080/"
        },
        "id": "Y9Yz5fpX4jdS",
        "outputId": "a1a1fa40-f90d-4c33-a44a-302dc8201309"
      },
      "source": [
        "help(df.interpolate)"
      ],
      "execution_count": 127,
      "outputs": [
        {
          "output_type": "stream",
          "name": "stdout",
          "text": [
            "Help on method interpolate in module pandas.core.generic:\n",
            "\n",
            "interpolate(method: str = 'linear', axis: Union[str, int] = 0, limit: Union[int, NoneType] = None, inplace: bool = False, limit_direction: Union[str, NoneType] = None, limit_area: Union[str, NoneType] = None, downcast: Union[str, NoneType] = None, **kwargs) -> Union[~FrameOrSeries, NoneType] method of pandas.core.frame.DataFrame instance\n",
            "    Please note that only ``method='linear'`` is supported for\n",
            "    DataFrame/Series with a MultiIndex.\n",
            "    \n",
            "    Parameters\n",
            "    ----------\n",
            "    method : str, default 'linear'\n",
            "        Interpolation technique to use. One of:\n",
            "    \n",
            "        * 'linear': Ignore the index and treat the values as equally\n",
            "          spaced. This is the only method supported on MultiIndexes.\n",
            "        * 'time': Works on daily and higher resolution data to interpolate\n",
            "          given length of interval.\n",
            "        * 'index', 'values': use the actual numerical values of the index.\n",
            "        * 'pad': Fill in NaNs using existing values.\n",
            "        * 'nearest', 'zero', 'slinear', 'quadratic', 'cubic', 'spline',\n",
            "          'barycentric', 'polynomial': Passed to\n",
            "          `scipy.interpolate.interp1d`. These methods use the numerical\n",
            "          values of the index.  Both 'polynomial' and 'spline' require that\n",
            "          you also specify an `order` (int), e.g.\n",
            "          ``df.interpolate(method='polynomial', order=5)``.\n",
            "        * 'krogh', 'piecewise_polynomial', 'spline', 'pchip', 'akima',\n",
            "          'cubicspline': Wrappers around the SciPy interpolation methods of\n",
            "          similar names. See `Notes`.\n",
            "        * 'from_derivatives': Refers to\n",
            "          `scipy.interpolate.BPoly.from_derivatives` which\n",
            "          replaces 'piecewise_polynomial' interpolation method in\n",
            "          scipy 0.18.\n",
            "    axis : {{0 or 'index', 1 or 'columns', None}}, default None\n",
            "        Axis to interpolate along.\n",
            "    limit : int, optional\n",
            "        Maximum number of consecutive NaNs to fill. Must be greater than\n",
            "        0.\n",
            "    inplace : bool, default False\n",
            "        Update the data in place if possible.\n",
            "    limit_direction : {{'forward', 'backward', 'both'}}, Optional\n",
            "        Consecutive NaNs will be filled in this direction.\n",
            "    \n",
            "        If limit is specified:\n",
            "            * If 'method' is 'pad' or 'ffill', 'limit_direction' must be 'forward'.\n",
            "            * If 'method' is 'backfill' or 'bfill', 'limit_direction' must be\n",
            "              'backwards'.\n",
            "    \n",
            "        If 'limit' is not specified:\n",
            "            * If 'method' is 'backfill' or 'bfill', the default is 'backward'\n",
            "            * else the default is 'forward'\n",
            "    \n",
            "        .. versionchanged:: 1.1.0\n",
            "            raises ValueError if `limit_direction` is 'forward' or 'both' and\n",
            "                method is 'backfill' or 'bfill'.\n",
            "            raises ValueError if `limit_direction` is 'backward' or 'both' and\n",
            "                method is 'pad' or 'ffill'.\n",
            "    \n",
            "    limit_area : {{`None`, 'inside', 'outside'}}, default None\n",
            "        If limit is specified, consecutive NaNs will be filled with this\n",
            "        restriction.\n",
            "    \n",
            "        * ``None``: No fill restriction.\n",
            "        * 'inside': Only fill NaNs surrounded by valid values\n",
            "          (interpolate).\n",
            "        * 'outside': Only fill NaNs outside valid values (extrapolate).\n",
            "    \n",
            "        .. versionadded:: 0.23.0\n",
            "    \n",
            "    downcast : optional, 'infer' or None, defaults to None\n",
            "        Downcast dtypes if possible.\n",
            "    **kwargs\n",
            "        Keyword arguments to pass on to the interpolating function.\n",
            "    \n",
            "    Returns\n",
            "    -------\n",
            "    Series or DataFrame\n",
            "        Returns the same object type as the caller, interpolated at\n",
            "        some or all ``NaN`` values.\n",
            "    \n",
            "    See Also\n",
            "    --------\n",
            "    fillna : Fill missing values using different methods.\n",
            "    scipy.interpolate.Akima1DInterpolator : Piecewise cubic polynomials\n",
            "        (Akima interpolator).\n",
            "    scipy.interpolate.BPoly.from_derivatives : Piecewise polynomial in the\n",
            "        Bernstein basis.\n",
            "    scipy.interpolate.interp1d : Interpolate a 1-D function.\n",
            "    scipy.interpolate.KroghInterpolator : Interpolate polynomial (Krogh\n",
            "        interpolator).\n",
            "    scipy.interpolate.PchipInterpolator : PCHIP 1-d monotonic cubic\n",
            "        interpolation.\n",
            "    scipy.interpolate.CubicSpline : Cubic spline data interpolator.\n",
            "    \n",
            "    Notes\n",
            "    -----\n",
            "    The 'krogh', 'piecewise_polynomial', 'spline', 'pchip' and 'akima'\n",
            "    methods are wrappers around the respective SciPy implementations of\n",
            "    similar names. These use the actual numerical values of the index.\n",
            "    For more information on their behavior, see the\n",
            "    `SciPy documentation\n",
            "    <https://docs.scipy.org/doc/scipy/reference/interpolate.html#univariate-interpolation>`__\n",
            "    and `SciPy tutorial\n",
            "    <https://docs.scipy.org/doc/scipy/reference/tutorial/interpolate.html>`__.\n",
            "    \n",
            "    Examples\n",
            "    --------\n",
            "    Filling in ``NaN`` in a :class:`~pandas.Series` via linear\n",
            "    interpolation.\n",
            "    \n",
            "    >>> s = pd.Series([0, 1, np.nan, 3])\n",
            "    >>> s\n",
            "    0    0.0\n",
            "    1    1.0\n",
            "    2    NaN\n",
            "    3    3.0\n",
            "    dtype: float64\n",
            "    >>> s.interpolate()\n",
            "    0    0.0\n",
            "    1    1.0\n",
            "    2    2.0\n",
            "    3    3.0\n",
            "    dtype: float64\n",
            "    \n",
            "    Filling in ``NaN`` in a Series by padding, but filling at most two\n",
            "    consecutive ``NaN`` at a time.\n",
            "    \n",
            "    >>> s = pd.Series([np.nan, \"single_one\", np.nan,\n",
            "    ...                \"fill_two_more\", np.nan, np.nan, np.nan,\n",
            "    ...                4.71, np.nan])\n",
            "    >>> s\n",
            "    0              NaN\n",
            "    1       single_one\n",
            "    2              NaN\n",
            "    3    fill_two_more\n",
            "    4              NaN\n",
            "    5              NaN\n",
            "    6              NaN\n",
            "    7             4.71\n",
            "    8              NaN\n",
            "    dtype: object\n",
            "    >>> s.interpolate(method='pad', limit=2)\n",
            "    0              NaN\n",
            "    1       single_one\n",
            "    2       single_one\n",
            "    3    fill_two_more\n",
            "    4    fill_two_more\n",
            "    5    fill_two_more\n",
            "    6              NaN\n",
            "    7             4.71\n",
            "    8             4.71\n",
            "    dtype: object\n",
            "    \n",
            "    Filling in ``NaN`` in a Series via polynomial interpolation or splines:\n",
            "    Both 'polynomial' and 'spline' methods require that you also specify\n",
            "    an ``order`` (int).\n",
            "    \n",
            "    >>> s = pd.Series([0, 2, np.nan, 8])\n",
            "    >>> s.interpolate(method='polynomial', order=2)\n",
            "    0    0.000000\n",
            "    1    2.000000\n",
            "    2    4.666667\n",
            "    3    8.000000\n",
            "    dtype: float64\n",
            "    \n",
            "    Fill the DataFrame forward (that is, going down) along each column\n",
            "    using linear interpolation.\n",
            "    \n",
            "    Note how the last entry in column 'a' is interpolated differently,\n",
            "    because there is no entry after it to use for interpolation.\n",
            "    Note how the first entry in column 'b' remains ``NaN``, because there\n",
            "    is no entry before it to use for interpolation.\n",
            "    \n",
            "    >>> df = pd.DataFrame([(0.0, np.nan, -1.0, 1.0),\n",
            "    ...                    (np.nan, 2.0, np.nan, np.nan),\n",
            "    ...                    (2.0, 3.0, np.nan, 9.0),\n",
            "    ...                    (np.nan, 4.0, -4.0, 16.0)],\n",
            "    ...                   columns=list('abcd'))\n",
            "    >>> df\n",
            "         a    b    c     d\n",
            "    0  0.0  NaN -1.0   1.0\n",
            "    1  NaN  2.0  NaN   NaN\n",
            "    2  2.0  3.0  NaN   9.0\n",
            "    3  NaN  4.0 -4.0  16.0\n",
            "    >>> df.interpolate(method='linear', limit_direction='forward', axis=0)\n",
            "         a    b    c     d\n",
            "    0  0.0  NaN -1.0   1.0\n",
            "    1  1.0  2.0 -2.0   5.0\n",
            "    2  2.0  3.0 -3.0   9.0\n",
            "    3  2.0  4.0 -4.0  16.0\n",
            "    \n",
            "    Using polynomial interpolation.\n",
            "    \n",
            "    >>> df['d'].interpolate(method='polynomial', order=2)\n",
            "    0     1.0\n",
            "    1     4.0\n",
            "    2     9.0\n",
            "    3    16.0\n",
            "    Name: d, dtype: float64\n",
            "\n"
          ]
        }
      ]
    },
    {
      "cell_type": "markdown",
      "metadata": {
        "id": "et6GoYqJ5QjS"
      },
      "source": [
        "## Inputs and Outputs"
      ]
    },
    {
      "cell_type": "markdown",
      "metadata": {
        "id": "PcYyfsD95d30"
      },
      "source": [
        "<table border=\"1\" class=\"colwidths-given docutils\">\n",
        "<colgroup>\n",
        "<col width=\"12%\" />\n",
        "<col width=\"40%\" />\n",
        "<col width=\"24%\" />\n",
        "<col width=\"24%\" />\n",
        "</colgroup>\n",
        "<thead valign=\"bottom\">\n",
        "<tr class=\"row-odd\"><th class=\"head\">Format Type</th>\n",
        "<th class=\"head\">Data Description</th>\n",
        "<th class=\"head\">Reader</th>\n",
        "<th class=\"head\">Writer</th>\n",
        "</tr>\n",
        "</thead>\n",
        "<tbody valign=\"top\">\n",
        "<tr class=\"row-even\"><td>text</td>\n",
        "<td><a class=\"reference external\" href=\"https://en.wikipedia.org/wiki/Comma-separated_values\">CSV</a></td>\n",
        "<td><a class=\"reference internal\" href=\"#io-read-csv-table\"><span class=\"std std-ref\">read_csv</span></a></td>\n",
        "<td><a class=\"reference internal\" href=\"#io-store-in-csv\"><span class=\"std std-ref\">to_csv</span></a></td>\n",
        "</tr>\n",
        "<tr class=\"row-odd\"><td>text</td>\n",
        "<td><a class=\"reference external\" href=\"https://www.json.org/\">JSON</a></td>\n",
        "<td><a class=\"reference internal\" href=\"#io-json-reader\"><span class=\"std std-ref\">read_json</span></a></td>\n",
        "<td><a class=\"reference internal\" href=\"#io-json-writer\"><span class=\"std std-ref\">to_json</span></a></td>\n",
        "</tr>\n",
        "<tr class=\"row-even\"><td>text</td>\n",
        "<td><a class=\"reference external\" href=\"https://en.wikipedia.org/wiki/HTML\">HTML</a></td>\n",
        "<td><a class=\"reference internal\" href=\"#io-read-html\"><span class=\"std std-ref\">read_html</span></a></td>\n",
        "<td><a class=\"reference internal\" href=\"#io-html\"><span class=\"std std-ref\">to_html</span></a></td>\n",
        "</tr>\n",
        "<tr class=\"row-odd\"><td>text</td>\n",
        "<td>Local clipboard</td>\n",
        "<td><a class=\"reference internal\" href=\"#io-clipboard\"><span class=\"std std-ref\">read_clipboard</span></a></td>\n",
        "<td><a class=\"reference internal\" href=\"#io-clipboard\"><span class=\"std std-ref\">to_clipboard</span></a></td>\n",
        "</tr>\n",
        "<tr class=\"row-even\"><td>binary</td>\n",
        "<td><a class=\"reference external\" href=\"https://en.wikipedia.org/wiki/Microsoft_Excel\">MS Excel</a></td>\n",
        "<td><a class=\"reference internal\" href=\"#io-excel-reader\"><span class=\"std std-ref\">read_excel</span></a></td>\n",
        "<td><a class=\"reference internal\" href=\"#io-excel-writer\"><span class=\"std std-ref\">to_excel</span></a></td>\n",
        "</tr>\n",
        "<tr class=\"row-odd\"><td>binary</td>\n",
        "<td><a class=\"reference external\" href=\"http://www.opendocumentformat.org\">OpenDocument</a></td>\n",
        "<td><a class=\"reference internal\" href=\"#io-ods\"><span class=\"std std-ref\">read_excel</span></a></td>\n",
        "<td>&#160;</td>\n",
        "</tr>\n",
        "<tr class=\"row-even\"><td>binary</td>\n",
        "<td><a class=\"reference external\" href=\"https://support.hdfgroup.org/HDF5/whatishdf5.html\">HDF5 Format</a></td>\n",
        "<td><a class=\"reference internal\" href=\"#io-hdf5\"><span class=\"std std-ref\">read_hdf</span></a></td>\n",
        "<td><a class=\"reference internal\" href=\"#io-hdf5\"><span class=\"std std-ref\">to_hdf</span></a></td>\n",
        "</tr>\n",
        "<tr class=\"row-odd\"><td>binary</td>\n",
        "<td><a class=\"reference external\" href=\"https://github.com/wesm/feather\">Feather Format</a></td>\n",
        "<td><a class=\"reference internal\" href=\"#io-feather\"><span class=\"std std-ref\">read_feather</span></a></td>\n",
        "<td><a class=\"reference internal\" href=\"#io-feather\"><span class=\"std std-ref\">to_feather</span></a></td>\n",
        "</tr>\n",
        "<tr class=\"row-even\"><td>binary</td>\n",
        "<td><a class=\"reference external\" href=\"https://parquet.apache.org/\">Parquet Format</a></td>\n",
        "<td><a class=\"reference internal\" href=\"#io-parquet\"><span class=\"std std-ref\">read_parquet</span></a></td>\n",
        "<td><a class=\"reference internal\" href=\"#io-parquet\"><span class=\"std std-ref\">to_parquet</span></a></td>\n",
        "</tr>\n",
        "<tr class=\"row-odd\"><td>binary</td>\n",
        "<td><a class=\"reference external\" href=\"https://msgpack.org/index.html\">Msgpack</a></td>\n",
        "<td><a class=\"reference internal\" href=\"#io-msgpack\"><span class=\"std std-ref\">read_msgpack</span></a></td>\n",
        "<td><a class=\"reference internal\" href=\"#io-msgpack\"><span class=\"std std-ref\">to_msgpack</span></a></td>\n",
        "</tr>\n",
        "<tr class=\"row-even\"><td>binary</td>\n",
        "<td><a class=\"reference external\" href=\"https://en.wikipedia.org/wiki/Stata\">Stata</a></td>\n",
        "<td><a class=\"reference internal\" href=\"#io-stata-reader\"><span class=\"std std-ref\">read_stata</span></a></td>\n",
        "<td><a class=\"reference internal\" href=\"#io-stata-writer\"><span class=\"std std-ref\">to_stata</span></a></td>\n",
        "</tr>\n",
        "<tr class=\"row-odd\"><td>binary</td>\n",
        "<td><a class=\"reference external\" href=\"https://en.wikipedia.org/wiki/SAS_(software)\">SAS</a></td>\n",
        "<td><a class=\"reference internal\" href=\"#io-sas-reader\"><span class=\"std std-ref\">read_sas</span></a></td>\n",
        "<td>&#160;</td>\n",
        "</tr>\n",
        "<tr class=\"row-even\"><td>binary</td>\n",
        "<td><a class=\"reference external\" href=\"https://docs.python.org/3/library/pickle.html\">Python Pickle Format</a></td>\n",
        "<td><a class=\"reference internal\" href=\"#io-pickle\"><span class=\"std std-ref\">read_pickle</span></a></td>\n",
        "<td><a class=\"reference internal\" href=\"#io-pickle\"><span class=\"std std-ref\">to_pickle</span></a></td>\n",
        "</tr>\n",
        "<tr class=\"row-odd\"><td>SQL</td>\n",
        "<td><a class=\"reference external\" href=\"https://en.wikipedia.org/wiki/SQL\">SQL</a></td>\n",
        "<td><a class=\"reference internal\" href=\"#io-sql\"><span class=\"std std-ref\">read_sql</span></a></td>\n",
        "<td><a class=\"reference internal\" href=\"#io-sql\"><span class=\"std std-ref\">to_sql</span></a></td>\n",
        "</tr>\n",
        "<tr class=\"row-even\"><td>SQL</td>\n",
        "<td><a class=\"reference external\" href=\"https://en.wikipedia.org/wiki/BigQuery\">Google Big Query</a></td>\n",
        "<td><a class=\"reference internal\" href=\"#io-bigquery\"><span class=\"std std-ref\">read_gbq</span></a></td>\n",
        "<td><a class=\"reference internal\" href=\"#io-bigquery\"><span class=\"std std-ref\">to_gbq</span></a></td>\n",
        "</tr>\n",
        "</tbody>\n",
        "</table>"
      ]
    },
    {
      "cell_type": "markdown",
      "metadata": {
        "id": "WnCPhqSe5oLy"
      },
      "source": [
        "> pwd = current working directory  \n",
        "> ls = file lists in that directory\n",
        "\n",
        "- pd.read_csv('path/file.csv')\n",
        "- df.to_csv('new_file.csv', index=False)\n",
        "- pd.read_html('url')\n",
        "- df.to_html('name.html', index=False)\n",
        "- pd.read_excel('name.xlsx', sheet_name = 'sheet')\n",
        "- pd.ExcelFile('name.xlsx').sheet_names # return names of sheets\n",
        "- df.to_excel('name.xlsx', sheet_name = 'name', index=False)"
      ]
    },
    {
      "cell_type": "code",
      "metadata": {
        "id": "wVKGO3e14pwt"
      },
      "source": [
        "# MySQL\n",
        "from sqlalchemy import create_engine"
      ],
      "execution_count": 130,
      "outputs": []
    },
    {
      "cell_type": "code",
      "metadata": {
        "colab": {
          "base_uri": "https://localhost:8080/"
        },
        "id": "4pxOz-fU6wOR",
        "outputId": "8a4f5318-5317-4ee7-b9d1-7f4db4801fbb"
      },
      "source": [
        "temp_db = create_engine('sqlite:///:memory:')\n",
        "temp_db"
      ],
      "execution_count": 131,
      "outputs": [
        {
          "output_type": "execute_result",
          "data": {
            "text/plain": [
              "Engine(sqlite:///:memory:)"
            ]
          },
          "metadata": {},
          "execution_count": 131
        }
      ]
    },
    {
      "cell_type": "code",
      "metadata": {
        "colab": {
          "base_uri": "https://localhost:8080/",
          "height": 357
        },
        "id": "2KhnmeFq7Try",
        "outputId": "b222dc3a-fe6e-4783-c2aa-7cdc114000ce"
      },
      "source": [
        "# Write to db\n",
        "tables = pd.read_html('https://en.wikipedia.org/wiki/World_population')\n",
        "tables[6]"
      ],
      "execution_count": 134,
      "outputs": [
        {
          "output_type": "execute_result",
          "data": {
            "text/html": [
              "<div>\n",
              "<style scoped>\n",
              "    .dataframe tbody tr th:only-of-type {\n",
              "        vertical-align: middle;\n",
              "    }\n",
              "\n",
              "    .dataframe tbody tr th {\n",
              "        vertical-align: top;\n",
              "    }\n",
              "\n",
              "    .dataframe thead th {\n",
              "        text-align: right;\n",
              "    }\n",
              "</style>\n",
              "<table border=\"1\" class=\"dataframe\">\n",
              "  <thead>\n",
              "    <tr style=\"text-align: right;\">\n",
              "      <th></th>\n",
              "      <th>Rank</th>\n",
              "      <th>Country</th>\n",
              "      <th>Population</th>\n",
              "      <th>Area(km2)</th>\n",
              "      <th>Density(pop/km2)</th>\n",
              "      <th>Population trend</th>\n",
              "    </tr>\n",
              "  </thead>\n",
              "  <tbody>\n",
              "    <tr>\n",
              "      <th>0</th>\n",
              "      <td>1</td>\n",
              "      <td>India</td>\n",
              "      <td>1381950000</td>\n",
              "      <td>3287240</td>\n",
              "      <td>420</td>\n",
              "      <td>Growing</td>\n",
              "    </tr>\n",
              "    <tr>\n",
              "      <th>1</th>\n",
              "      <td>2</td>\n",
              "      <td>Pakistan</td>\n",
              "      <td>225000000</td>\n",
              "      <td>803940</td>\n",
              "      <td>280</td>\n",
              "      <td>Rapidly growing</td>\n",
              "    </tr>\n",
              "    <tr>\n",
              "      <th>2</th>\n",
              "      <td>3</td>\n",
              "      <td>Bangladesh</td>\n",
              "      <td>171360000</td>\n",
              "      <td>143998</td>\n",
              "      <td>1190</td>\n",
              "      <td>Rapidly growing</td>\n",
              "    </tr>\n",
              "    <tr>\n",
              "      <th>3</th>\n",
              "      <td>4</td>\n",
              "      <td>Japan</td>\n",
              "      <td>126010000</td>\n",
              "      <td>377873</td>\n",
              "      <td>333</td>\n",
              "      <td>Declining[98]</td>\n",
              "    </tr>\n",
              "    <tr>\n",
              "      <th>4</th>\n",
              "      <td>5</td>\n",
              "      <td>Philippines</td>\n",
              "      <td>110830000</td>\n",
              "      <td>300000</td>\n",
              "      <td>369</td>\n",
              "      <td>Growing</td>\n",
              "    </tr>\n",
              "    <tr>\n",
              "      <th>5</th>\n",
              "      <td>6</td>\n",
              "      <td>Vietnam</td>\n",
              "      <td>96209000</td>\n",
              "      <td>331689</td>\n",
              "      <td>290</td>\n",
              "      <td>Growing</td>\n",
              "    </tr>\n",
              "    <tr>\n",
              "      <th>6</th>\n",
              "      <td>7</td>\n",
              "      <td>United Kingdom</td>\n",
              "      <td>66436000</td>\n",
              "      <td>243610</td>\n",
              "      <td>273</td>\n",
              "      <td>Growing</td>\n",
              "    </tr>\n",
              "    <tr>\n",
              "      <th>7</th>\n",
              "      <td>8</td>\n",
              "      <td>South Korea</td>\n",
              "      <td>51781000</td>\n",
              "      <td>99538</td>\n",
              "      <td>520</td>\n",
              "      <td>Steady</td>\n",
              "    </tr>\n",
              "    <tr>\n",
              "      <th>8</th>\n",
              "      <td>9</td>\n",
              "      <td>Taiwan</td>\n",
              "      <td>23604000</td>\n",
              "      <td>36193</td>\n",
              "      <td>652</td>\n",
              "      <td>Steady</td>\n",
              "    </tr>\n",
              "    <tr>\n",
              "      <th>9</th>\n",
              "      <td>10</td>\n",
              "      <td>Sri Lanka</td>\n",
              "      <td>21803000</td>\n",
              "      <td>65610</td>\n",
              "      <td>332</td>\n",
              "      <td>Growing</td>\n",
              "    </tr>\n",
              "  </tbody>\n",
              "</table>\n",
              "</div>"
            ],
            "text/plain": [
              "   Rank         Country  ...  Density(pop/km2)  Population trend\n",
              "0     1           India  ...               420           Growing\n",
              "1     2        Pakistan  ...               280   Rapidly growing\n",
              "2     3      Bangladesh  ...              1190   Rapidly growing\n",
              "3     4           Japan  ...               333     Declining[98]\n",
              "4     5     Philippines  ...               369           Growing\n",
              "5     6         Vietnam  ...               290           Growing\n",
              "6     7  United Kingdom  ...               273           Growing\n",
              "7     8     South Korea  ...               520            Steady\n",
              "8     9          Taiwan  ...               652            Steady\n",
              "9    10       Sri Lanka  ...               332           Growing\n",
              "\n",
              "[10 rows x 6 columns]"
            ]
          },
          "metadata": {},
          "execution_count": 134
        }
      ]
    },
    {
      "cell_type": "code",
      "metadata": {
        "id": "l110jG-47dR5"
      },
      "source": [
        "tables[6].to_sql(name='populations', con=temp_db)"
      ],
      "execution_count": 135,
      "outputs": []
    },
    {
      "cell_type": "code",
      "metadata": {
        "colab": {
          "base_uri": "https://localhost:8080/",
          "height": 357
        },
        "id": "nMOq_gKy73qh",
        "outputId": "85072ba8-66f4-460c-b1cc-ca9dcd82790e"
      },
      "source": [
        "# read from sql\n",
        "pd.read_sql(sql='populations', con = temp_db)"
      ],
      "execution_count": 136,
      "outputs": [
        {
          "output_type": "execute_result",
          "data": {
            "text/html": [
              "<div>\n",
              "<style scoped>\n",
              "    .dataframe tbody tr th:only-of-type {\n",
              "        vertical-align: middle;\n",
              "    }\n",
              "\n",
              "    .dataframe tbody tr th {\n",
              "        vertical-align: top;\n",
              "    }\n",
              "\n",
              "    .dataframe thead th {\n",
              "        text-align: right;\n",
              "    }\n",
              "</style>\n",
              "<table border=\"1\" class=\"dataframe\">\n",
              "  <thead>\n",
              "    <tr style=\"text-align: right;\">\n",
              "      <th></th>\n",
              "      <th>index</th>\n",
              "      <th>Rank</th>\n",
              "      <th>Country</th>\n",
              "      <th>Population</th>\n",
              "      <th>Area(km2)</th>\n",
              "      <th>Density(pop/km2)</th>\n",
              "      <th>Population trend</th>\n",
              "    </tr>\n",
              "  </thead>\n",
              "  <tbody>\n",
              "    <tr>\n",
              "      <th>0</th>\n",
              "      <td>0</td>\n",
              "      <td>1</td>\n",
              "      <td>India</td>\n",
              "      <td>1381950000</td>\n",
              "      <td>3287240</td>\n",
              "      <td>420</td>\n",
              "      <td>Growing</td>\n",
              "    </tr>\n",
              "    <tr>\n",
              "      <th>1</th>\n",
              "      <td>1</td>\n",
              "      <td>2</td>\n",
              "      <td>Pakistan</td>\n",
              "      <td>225000000</td>\n",
              "      <td>803940</td>\n",
              "      <td>280</td>\n",
              "      <td>Rapidly growing</td>\n",
              "    </tr>\n",
              "    <tr>\n",
              "      <th>2</th>\n",
              "      <td>2</td>\n",
              "      <td>3</td>\n",
              "      <td>Bangladesh</td>\n",
              "      <td>171360000</td>\n",
              "      <td>143998</td>\n",
              "      <td>1190</td>\n",
              "      <td>Rapidly growing</td>\n",
              "    </tr>\n",
              "    <tr>\n",
              "      <th>3</th>\n",
              "      <td>3</td>\n",
              "      <td>4</td>\n",
              "      <td>Japan</td>\n",
              "      <td>126010000</td>\n",
              "      <td>377873</td>\n",
              "      <td>333</td>\n",
              "      <td>Declining[98]</td>\n",
              "    </tr>\n",
              "    <tr>\n",
              "      <th>4</th>\n",
              "      <td>4</td>\n",
              "      <td>5</td>\n",
              "      <td>Philippines</td>\n",
              "      <td>110830000</td>\n",
              "      <td>300000</td>\n",
              "      <td>369</td>\n",
              "      <td>Growing</td>\n",
              "    </tr>\n",
              "    <tr>\n",
              "      <th>5</th>\n",
              "      <td>5</td>\n",
              "      <td>6</td>\n",
              "      <td>Vietnam</td>\n",
              "      <td>96209000</td>\n",
              "      <td>331689</td>\n",
              "      <td>290</td>\n",
              "      <td>Growing</td>\n",
              "    </tr>\n",
              "    <tr>\n",
              "      <th>6</th>\n",
              "      <td>6</td>\n",
              "      <td>7</td>\n",
              "      <td>United Kingdom</td>\n",
              "      <td>66436000</td>\n",
              "      <td>243610</td>\n",
              "      <td>273</td>\n",
              "      <td>Growing</td>\n",
              "    </tr>\n",
              "    <tr>\n",
              "      <th>7</th>\n",
              "      <td>7</td>\n",
              "      <td>8</td>\n",
              "      <td>South Korea</td>\n",
              "      <td>51781000</td>\n",
              "      <td>99538</td>\n",
              "      <td>520</td>\n",
              "      <td>Steady</td>\n",
              "    </tr>\n",
              "    <tr>\n",
              "      <th>8</th>\n",
              "      <td>8</td>\n",
              "      <td>9</td>\n",
              "      <td>Taiwan</td>\n",
              "      <td>23604000</td>\n",
              "      <td>36193</td>\n",
              "      <td>652</td>\n",
              "      <td>Steady</td>\n",
              "    </tr>\n",
              "    <tr>\n",
              "      <th>9</th>\n",
              "      <td>9</td>\n",
              "      <td>10</td>\n",
              "      <td>Sri Lanka</td>\n",
              "      <td>21803000</td>\n",
              "      <td>65610</td>\n",
              "      <td>332</td>\n",
              "      <td>Growing</td>\n",
              "    </tr>\n",
              "  </tbody>\n",
              "</table>\n",
              "</div>"
            ],
            "text/plain": [
              "   index  Rank         Country  ...  Area(km2)  Density(pop/km2)  Population trend\n",
              "0      0     1           India  ...    3287240               420           Growing\n",
              "1      1     2        Pakistan  ...     803940               280   Rapidly growing\n",
              "2      2     3      Bangladesh  ...     143998              1190   Rapidly growing\n",
              "3      3     4           Japan  ...     377873               333     Declining[98]\n",
              "4      4     5     Philippines  ...     300000               369           Growing\n",
              "5      5     6         Vietnam  ...     331689               290           Growing\n",
              "6      6     7  United Kingdom  ...     243610               273           Growing\n",
              "7      7     8     South Korea  ...      99538               520            Steady\n",
              "8      8     9          Taiwan  ...      36193               652            Steady\n",
              "9      9    10       Sri Lanka  ...      65610               332           Growing\n",
              "\n",
              "[10 rows x 7 columns]"
            ]
          },
          "metadata": {},
          "execution_count": 136
        }
      ]
    },
    {
      "cell_type": "code",
      "metadata": {
        "colab": {
          "base_uri": "https://localhost:8080/",
          "height": 203
        },
        "id": "bqyfoMAQ793x",
        "outputId": "42608e8f-2a9a-4f42-93db-0c326016cce0"
      },
      "source": [
        "# read in with a query\n",
        "pd.read_sql(sql = \"SELECT Country,Population FROM populations WHERE Population > 100000000\", con=temp_db)"
      ],
      "execution_count": 141,
      "outputs": [
        {
          "output_type": "execute_result",
          "data": {
            "text/html": [
              "<div>\n",
              "<style scoped>\n",
              "    .dataframe tbody tr th:only-of-type {\n",
              "        vertical-align: middle;\n",
              "    }\n",
              "\n",
              "    .dataframe tbody tr th {\n",
              "        vertical-align: top;\n",
              "    }\n",
              "\n",
              "    .dataframe thead th {\n",
              "        text-align: right;\n",
              "    }\n",
              "</style>\n",
              "<table border=\"1\" class=\"dataframe\">\n",
              "  <thead>\n",
              "    <tr style=\"text-align: right;\">\n",
              "      <th></th>\n",
              "      <th>Country</th>\n",
              "      <th>Population</th>\n",
              "    </tr>\n",
              "  </thead>\n",
              "  <tbody>\n",
              "    <tr>\n",
              "      <th>0</th>\n",
              "      <td>India</td>\n",
              "      <td>1381950000</td>\n",
              "    </tr>\n",
              "    <tr>\n",
              "      <th>1</th>\n",
              "      <td>Pakistan</td>\n",
              "      <td>225000000</td>\n",
              "    </tr>\n",
              "    <tr>\n",
              "      <th>2</th>\n",
              "      <td>Bangladesh</td>\n",
              "      <td>171360000</td>\n",
              "    </tr>\n",
              "    <tr>\n",
              "      <th>3</th>\n",
              "      <td>Japan</td>\n",
              "      <td>126010000</td>\n",
              "    </tr>\n",
              "    <tr>\n",
              "      <th>4</th>\n",
              "      <td>Philippines</td>\n",
              "      <td>110830000</td>\n",
              "    </tr>\n",
              "  </tbody>\n",
              "</table>\n",
              "</div>"
            ],
            "text/plain": [
              "       Country  Population\n",
              "0        India  1381950000\n",
              "1     Pakistan   225000000\n",
              "2   Bangladesh   171360000\n",
              "3        Japan   126010000\n",
              "4  Philippines   110830000"
            ]
          },
          "metadata": {},
          "execution_count": 141
        }
      ]
    },
    {
      "cell_type": "code",
      "metadata": {
        "id": "lPlLrVpv8MKB"
      },
      "source": [
        ""
      ],
      "execution_count": null,
      "outputs": []
    }
  ]
}