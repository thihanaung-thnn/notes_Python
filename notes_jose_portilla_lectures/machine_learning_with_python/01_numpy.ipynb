{
  "nbformat": 4,
  "nbformat_minor": 0,
  "metadata": {
    "colab": {
      "name": "01-numpy.ipynb",
      "provenance": [],
      "authorship_tag": "ABX9TyM2UMaoqX8z/mLEz/3GUr+q",
      "include_colab_link": true
    },
    "kernelspec": {
      "name": "python3",
      "display_name": "Python 3"
    },
    "language_info": {
      "name": "python"
    }
  },
  "cells": [
    {
      "cell_type": "markdown",
      "metadata": {
        "id": "view-in-github",
        "colab_type": "text"
      },
      "source": [
        "<a href=\"https://colab.research.google.com/github/thihanaung-thnn/notes_Python/blob/main/notes_jose_portilla_lectures/machine_learning_with_python/01_numpy.ipynb\" target=\"_parent\"><img src=\"https://colab.research.google.com/assets/colab-badge.svg\" alt=\"Open In Colab\"/></a>"
      ]
    },
    {
      "cell_type": "markdown",
      "metadata": {
        "id": "6YGT1TsdDZYU"
      },
      "source": [
        "# **Numpy**\n",
        "- Introduction\n",
        "- Indexing and selection\n",
        "- Operations"
      ]
    },
    {
      "cell_type": "code",
      "metadata": {
        "id": "qAdhZnN1DqxM"
      },
      "source": [
        "import numpy as np"
      ],
      "execution_count": 1,
      "outputs": []
    },
    {
      "cell_type": "markdown",
      "metadata": {
        "id": "mtSSJxwFEuvZ"
      },
      "source": [
        "## Introduction"
      ]
    },
    {
      "cell_type": "markdown",
      "metadata": {
        "id": "ehiAOLvXD1l3"
      },
      "source": [
        "### Why use Numpy array instead of a list?\n",
        "- Memory efficiency\n",
        "- Easily expands to N-dimensional objects\n",
        "- speed of calculations of numpy array\n",
        "- broadcasting operations and functions with numpy"
      ]
    },
    {
      "cell_type": "code",
      "metadata": {
        "colab": {
          "base_uri": "https://localhost:8080/"
        },
        "id": "WA2yTHY7Dz1d",
        "outputId": "2ec3f4b3-de7a-46ff-cb2c-8623e338e247"
      },
      "source": [
        "my_list = [1,2,3]\n",
        "my_array = np.array([1,2,3])\n",
        "print(type(my_list), type(my_array))"
      ],
      "execution_count": 2,
      "outputs": [
        {
          "output_type": "stream",
          "name": "stdout",
          "text": [
            "<class 'list'> <class 'numpy.ndarray'>\n"
          ]
        }
      ]
    },
    {
      "cell_type": "code",
      "metadata": {
        "colab": {
          "base_uri": "https://localhost:8080/"
        },
        "id": "URtOg_d0EWxm",
        "outputId": "b819a0c1-b8b1-42c4-bfa2-266303fd9021"
      },
      "source": [
        "# creating numpy arrays from objects\n",
        "# from python list\n",
        "np.array(my_list)"
      ],
      "execution_count": 3,
      "outputs": [
        {
          "output_type": "execute_result",
          "data": {
            "text/plain": [
              "array([1, 2, 3])"
            ]
          },
          "metadata": {},
          "execution_count": 3
        }
      ]
    },
    {
      "cell_type": "code",
      "metadata": {
        "colab": {
          "base_uri": "https://localhost:8080/"
        },
        "id": "AfT_B-59EQWq",
        "outputId": "90462a1b-084d-459f-b501-1c6b022c178c"
      },
      "source": [
        "my_matrix = [[1,2,3],[4,5,6],[7,8,9]]\n",
        "my_matrix"
      ],
      "execution_count": 4,
      "outputs": [
        {
          "output_type": "execute_result",
          "data": {
            "text/plain": [
              "[[1, 2, 3], [4, 5, 6], [7, 8, 9]]"
            ]
          },
          "metadata": {},
          "execution_count": 4
        }
      ]
    },
    {
      "cell_type": "code",
      "metadata": {
        "colab": {
          "base_uri": "https://localhost:8080/"
        },
        "id": "r2fcJ9ksEly6",
        "outputId": "6dd150e6-df5f-4536-f216-296945fbfb72"
      },
      "source": [
        "np.array(my_matrix)"
      ],
      "execution_count": 5,
      "outputs": [
        {
          "output_type": "execute_result",
          "data": {
            "text/plain": [
              "array([[1, 2, 3],\n",
              "       [4, 5, 6],\n",
              "       [7, 8, 9]])"
            ]
          },
          "metadata": {},
          "execution_count": 5
        }
      ]
    },
    {
      "cell_type": "markdown",
      "metadata": {
        "id": "ZzbHtZr_Fan1"
      },
      "source": [
        "### Methods to create arrays\n",
        "- arange\n",
        "- zeros and ones\n",
        "- linspace\n",
        "- eye\n",
        "- rand\n",
        "- randn\n",
        "- randint\n",
        "- seed\n"
      ]
    },
    {
      "cell_type": "code",
      "metadata": {
        "colab": {
          "base_uri": "https://localhost:8080/"
        },
        "id": "0K3JWamOEnXy",
        "outputId": "c030fe48-7034-44ba-96b6-708125a18c1a"
      },
      "source": [
        "# arange\n",
        "np.arange(0,10)"
      ],
      "execution_count": 6,
      "outputs": [
        {
          "output_type": "execute_result",
          "data": {
            "text/plain": [
              "array([0, 1, 2, 3, 4, 5, 6, 7, 8, 9])"
            ]
          },
          "metadata": {},
          "execution_count": 6
        }
      ]
    },
    {
      "cell_type": "code",
      "metadata": {
        "colab": {
          "base_uri": "https://localhost:8080/"
        },
        "id": "PsfuuRWlE6my",
        "outputId": "3cb88628-22cd-483e-cfce-732c09cd0baf"
      },
      "source": [
        "np.arange(0,11,2)"
      ],
      "execution_count": 7,
      "outputs": [
        {
          "output_type": "execute_result",
          "data": {
            "text/plain": [
              "array([ 0,  2,  4,  6,  8, 10])"
            ]
          },
          "metadata": {},
          "execution_count": 7
        }
      ]
    },
    {
      "cell_type": "code",
      "metadata": {
        "colab": {
          "base_uri": "https://localhost:8080/"
        },
        "id": "NCKANGK-E8SV",
        "outputId": "42ed1e35-a30d-4c7a-d3ce-4fc79305e37c"
      },
      "source": [
        "# zeros and ones\n",
        "np.zeros(3)"
      ],
      "execution_count": 8,
      "outputs": [
        {
          "output_type": "execute_result",
          "data": {
            "text/plain": [
              "array([0., 0., 0.])"
            ]
          },
          "metadata": {},
          "execution_count": 8
        }
      ]
    },
    {
      "cell_type": "code",
      "metadata": {
        "colab": {
          "base_uri": "https://localhost:8080/"
        },
        "id": "ArDI0vdhE_Na",
        "outputId": "747fb942-03a9-4609-9669-39908c7d5fe6"
      },
      "source": [
        "np.zeros((3,3))"
      ],
      "execution_count": 10,
      "outputs": [
        {
          "output_type": "execute_result",
          "data": {
            "text/plain": [
              "array([[0., 0., 0.],\n",
              "       [0., 0., 0.],\n",
              "       [0., 0., 0.]])"
            ]
          },
          "metadata": {},
          "execution_count": 10
        }
      ]
    },
    {
      "cell_type": "code",
      "metadata": {
        "colab": {
          "base_uri": "https://localhost:8080/"
        },
        "id": "WkirqTn8FAai",
        "outputId": "70f34b19-285e-4b97-d6ad-a7ea19fd03f6"
      },
      "source": [
        "np.ones(3)"
      ],
      "execution_count": 11,
      "outputs": [
        {
          "output_type": "execute_result",
          "data": {
            "text/plain": [
              "array([1., 1., 1.])"
            ]
          },
          "metadata": {},
          "execution_count": 11
        }
      ]
    },
    {
      "cell_type": "code",
      "metadata": {
        "colab": {
          "base_uri": "https://localhost:8080/"
        },
        "id": "LDlskOYFFIPs",
        "outputId": "8a1ea94f-46c0-4d54-c417-8883b9b35de8"
      },
      "source": [
        "np.ones((3,3))"
      ],
      "execution_count": 12,
      "outputs": [
        {
          "output_type": "execute_result",
          "data": {
            "text/plain": [
              "array([[1., 1., 1.],\n",
              "       [1., 1., 1.],\n",
              "       [1., 1., 1.]])"
            ]
          },
          "metadata": {},
          "execution_count": 12
        }
      ]
    },
    {
      "cell_type": "code",
      "metadata": {
        "colab": {
          "base_uri": "https://localhost:8080/"
        },
        "id": "RJ4JrdjXFJQC",
        "outputId": "d502e6cd-d469-4e11-8aeb-6abcad7da1ea"
      },
      "source": [
        "# linspace\n",
        "np.linspace(0,10,3)"
      ],
      "execution_count": 14,
      "outputs": [
        {
          "output_type": "execute_result",
          "data": {
            "text/plain": [
              "array([ 0.,  5., 10.])"
            ]
          },
          "metadata": {},
          "execution_count": 14
        }
      ]
    },
    {
      "cell_type": "code",
      "metadata": {
        "colab": {
          "base_uri": "https://localhost:8080/"
        },
        "id": "k2EssC8SFO_O",
        "outputId": "c78c1b3f-d5fa-4a86-b4c4-c140a027a7a1"
      },
      "source": [
        "np.linspace(0,5,10)"
      ],
      "execution_count": 15,
      "outputs": [
        {
          "output_type": "execute_result",
          "data": {
            "text/plain": [
              "array([0.        , 0.55555556, 1.11111111, 1.66666667, 2.22222222,\n",
              "       2.77777778, 3.33333333, 3.88888889, 4.44444444, 5.        ])"
            ]
          },
          "metadata": {},
          "execution_count": 15
        }
      ]
    },
    {
      "cell_type": "code",
      "metadata": {
        "colab": {
          "base_uri": "https://localhost:8080/"
        },
        "id": "AzxlCuLIFVDi",
        "outputId": "fd484db6-1213-46ae-ea69-ee77de2cf0e1"
      },
      "source": [
        "# eye - create identity matrix \n",
        "np.eye(3)"
      ],
      "execution_count": 16,
      "outputs": [
        {
          "output_type": "execute_result",
          "data": {
            "text/plain": [
              "array([[1., 0., 0.],\n",
              "       [0., 1., 0.],\n",
              "       [0., 0., 1.]])"
            ]
          },
          "metadata": {},
          "execution_count": 16
        }
      ]
    },
    {
      "cell_type": "code",
      "metadata": {
        "colab": {
          "base_uri": "https://localhost:8080/"
        },
        "id": "jOXLnjkOFzVi",
        "outputId": "cfd5be57-0db4-441c-b26b-f40c58d7c3ca"
      },
      "source": [
        "# random \n",
        "# rand - random number from uniform distribution over [0, 1)\n",
        "np.random.rand(3)"
      ],
      "execution_count": 17,
      "outputs": [
        {
          "output_type": "execute_result",
          "data": {
            "text/plain": [
              "array([0.76776704, 0.52006772, 0.17615746])"
            ]
          },
          "metadata": {},
          "execution_count": 17
        }
      ]
    },
    {
      "cell_type": "code",
      "metadata": {
        "colab": {
          "base_uri": "https://localhost:8080/"
        },
        "id": "XJxq937xF_5c",
        "outputId": "dfe86611-935b-49ff-aef3-02c1d6efde9b"
      },
      "source": [
        "np.random.rand(3,3)"
      ],
      "execution_count": 19,
      "outputs": [
        {
          "output_type": "execute_result",
          "data": {
            "text/plain": [
              "array([[0.3394237 , 0.0458129 , 0.70258483],\n",
              "       [0.87717438, 0.79052245, 0.06848634],\n",
              "       [0.92815677, 0.30375937, 0.79430602]])"
            ]
          },
          "metadata": {},
          "execution_count": 19
        }
      ]
    },
    {
      "cell_type": "code",
      "metadata": {
        "colab": {
          "base_uri": "https://localhost:8080/"
        },
        "id": "FcawepA1GBbF",
        "outputId": "d12eec73-140d-4892-b25d-c86f5cffa2d0"
      },
      "source": [
        "# randn - random number(s) from standard normal distribution [sd = 1]\n",
        "np.random.randn(3)"
      ],
      "execution_count": 20,
      "outputs": [
        {
          "output_type": "execute_result",
          "data": {
            "text/plain": [
              "array([-0.10135964, -1.24908645, -0.6170238 ])"
            ]
          },
          "metadata": {},
          "execution_count": 20
        }
      ]
    },
    {
      "cell_type": "code",
      "metadata": {
        "colab": {
          "base_uri": "https://localhost:8080/"
        },
        "id": "js8_OWB5GP6f",
        "outputId": "64f5fddf-d1c5-43ed-b199-b4bdb76714b2"
      },
      "source": [
        "np.random.randn(3,3)"
      ],
      "execution_count": 21,
      "outputs": [
        {
          "output_type": "execute_result",
          "data": {
            "text/plain": [
              "array([[ 0.46415986, -0.89163834, -1.3589166 ],\n",
              "       [ 0.47912743, -1.08203472, -0.63372049],\n",
              "       [-0.22072599, -2.44839077,  1.84856461]])"
            ]
          },
          "metadata": {},
          "execution_count": 21
        }
      ]
    },
    {
      "cell_type": "code",
      "metadata": {
        "colab": {
          "base_uri": "https://localhost:8080/"
        },
        "id": "arh1_6UIGRUj",
        "outputId": "d7a5fead-9f2e-4eed-acd5-ba4c53043136"
      },
      "source": [
        "# randint - random number(s) from low (inclusive) to high (exclusive)\n",
        "np.random.randint(1,100) # random number from 1 to 99"
      ],
      "execution_count": 22,
      "outputs": [
        {
          "output_type": "execute_result",
          "data": {
            "text/plain": [
              "32"
            ]
          },
          "metadata": {},
          "execution_count": 22
        }
      ]
    },
    {
      "cell_type": "code",
      "metadata": {
        "colab": {
          "base_uri": "https://localhost:8080/"
        },
        "id": "7Wq-hV_xGg7W",
        "outputId": "ffcc426c-0f16-4fa4-d95d-2cf99e71fb07"
      },
      "source": [
        "np.random.randint(1,100,10) # 10 random numbers from 1 to 99"
      ],
      "execution_count": 23,
      "outputs": [
        {
          "output_type": "execute_result",
          "data": {
            "text/plain": [
              "array([57, 85, 57, 42, 56,  5, 33, 65, 22, 66])"
            ]
          },
          "metadata": {},
          "execution_count": 23
        }
      ]
    },
    {
      "cell_type": "code",
      "metadata": {
        "colab": {
          "base_uri": "https://localhost:8080/"
        },
        "id": "f_TLfyK5GljU",
        "outputId": "494f2e1a-03f5-4c5f-b464-c2c94f41c3b7"
      },
      "source": [
        "# seed - set the random state to make code reproducible \n",
        "np.random.seed(13)\n",
        "np.random.rand(4)"
      ],
      "execution_count": 24,
      "outputs": [
        {
          "output_type": "execute_result",
          "data": {
            "text/plain": [
              "array([0.77770241, 0.23754122, 0.82427853, 0.9657492 ])"
            ]
          },
          "metadata": {},
          "execution_count": 24
        }
      ]
    },
    {
      "cell_type": "code",
      "metadata": {
        "colab": {
          "base_uri": "https://localhost:8080/"
        },
        "id": "f2LRMg8eGyzq",
        "outputId": "723d49bf-64d3-4652-ad6d-233bb162867a"
      },
      "source": [
        "np.random.seed(13) # will produce same result from above code\n",
        "np.random.rand(4)"
      ],
      "execution_count": 25,
      "outputs": [
        {
          "output_type": "execute_result",
          "data": {
            "text/plain": [
              "array([0.77770241, 0.23754122, 0.82427853, 0.9657492 ])"
            ]
          },
          "metadata": {},
          "execution_count": 25
        }
      ]
    },
    {
      "cell_type": "markdown",
      "metadata": {
        "id": "NFQo494FG_hq"
      },
      "source": [
        "### Array Attributes and Methods\n",
        "- shape \n",
        "- reshape \n",
        "- min, max, argmax, argmin\n",
        "- dtype"
      ]
    },
    {
      "cell_type": "code",
      "metadata": {
        "colab": {
          "base_uri": "https://localhost:8080/"
        },
        "id": "7Bdc24YcG6QD",
        "outputId": "0e23c6a5-71c1-45da-81c7-da9ee4acc0a3"
      },
      "source": [
        "arr = np.arange(25)\n",
        "randarr = np.random.randint(0,50,10)\n",
        "arr"
      ],
      "execution_count": 27,
      "outputs": [
        {
          "output_type": "execute_result",
          "data": {
            "text/plain": [
              "array([ 0,  1,  2,  3,  4,  5,  6,  7,  8,  9, 10, 11, 12, 13, 14, 15, 16,\n",
              "       17, 18, 19, 20, 21, 22, 23, 24])"
            ]
          },
          "metadata": {},
          "execution_count": 27
        }
      ]
    },
    {
      "cell_type": "code",
      "metadata": {
        "colab": {
          "base_uri": "https://localhost:8080/"
        },
        "id": "-C4aMuByHjdK",
        "outputId": "76625682-4f64-4795-c986-ec9772658dca"
      },
      "source": [
        "arr.shape"
      ],
      "execution_count": 29,
      "outputs": [
        {
          "output_type": "execute_result",
          "data": {
            "text/plain": [
              "(25,)"
            ]
          },
          "metadata": {},
          "execution_count": 29
        }
      ]
    },
    {
      "cell_type": "code",
      "metadata": {
        "colab": {
          "base_uri": "https://localhost:8080/"
        },
        "id": "kn_SjvLVHmVC",
        "outputId": "7103a527-fb74-4d27-96cb-5935ac70e57a"
      },
      "source": [
        "# reshape \n",
        "arr.reshape(5,5) # change 5x5 matrix"
      ],
      "execution_count": 30,
      "outputs": [
        {
          "output_type": "execute_result",
          "data": {
            "text/plain": [
              "array([[ 0,  1,  2,  3,  4],\n",
              "       [ 5,  6,  7,  8,  9],\n",
              "       [10, 11, 12, 13, 14],\n",
              "       [15, 16, 17, 18, 19],\n",
              "       [20, 21, 22, 23, 24]])"
            ]
          },
          "metadata": {},
          "execution_count": 30
        }
      ]
    },
    {
      "cell_type": "code",
      "metadata": {
        "colab": {
          "base_uri": "https://localhost:8080/"
        },
        "id": "Fm2CjtRuH0Tr",
        "outputId": "3103db2f-e43d-486e-ca06-0966c75dc5f7"
      },
      "source": [
        "arr.reshape(25,1)"
      ],
      "execution_count": 31,
      "outputs": [
        {
          "output_type": "execute_result",
          "data": {
            "text/plain": [
              "array([[ 0],\n",
              "       [ 1],\n",
              "       [ 2],\n",
              "       [ 3],\n",
              "       [ 4],\n",
              "       [ 5],\n",
              "       [ 6],\n",
              "       [ 7],\n",
              "       [ 8],\n",
              "       [ 9],\n",
              "       [10],\n",
              "       [11],\n",
              "       [12],\n",
              "       [13],\n",
              "       [14],\n",
              "       [15],\n",
              "       [16],\n",
              "       [17],\n",
              "       [18],\n",
              "       [19],\n",
              "       [20],\n",
              "       [21],\n",
              "       [22],\n",
              "       [23],\n",
              "       [24]])"
            ]
          },
          "metadata": {},
          "execution_count": 31
        }
      ]
    },
    {
      "cell_type": "code",
      "metadata": {
        "colab": {
          "base_uri": "https://localhost:8080/"
        },
        "id": "DqbIJSYOH8m7",
        "outputId": "06ac868c-f4f2-4634-da34-c9e2bab20532"
      },
      "source": [
        "arr.reshape(1,25)"
      ],
      "execution_count": 32,
      "outputs": [
        {
          "output_type": "execute_result",
          "data": {
            "text/plain": [
              "array([[ 0,  1,  2,  3,  4,  5,  6,  7,  8,  9, 10, 11, 12, 13, 14, 15,\n",
              "        16, 17, 18, 19, 20, 21, 22, 23, 24]])"
            ]
          },
          "metadata": {},
          "execution_count": 32
        }
      ]
    },
    {
      "cell_type": "code",
      "metadata": {
        "colab": {
          "base_uri": "https://localhost:8080/"
        },
        "id": "9_gL8jCTIAtT",
        "outputId": "204ad1b3-6aef-4efc-8d72-149b902a78f2"
      },
      "source": [
        "randarr"
      ],
      "execution_count": 33,
      "outputs": [
        {
          "output_type": "execute_result",
          "data": {
            "text/plain": [
              "array([ 2, 32, 19, 21, 19, 11, 22, 11,  1, 18])"
            ]
          },
          "metadata": {},
          "execution_count": 33
        }
      ]
    },
    {
      "cell_type": "code",
      "metadata": {
        "colab": {
          "base_uri": "https://localhost:8080/"
        },
        "id": "XJVl-lzkIKoL",
        "outputId": "1a4f462b-8a78-442a-e9c0-72d6573b63d9"
      },
      "source": [
        "# methods - min, max, argmin, argmax\n",
        "randarr.min() # return minimum value from array"
      ],
      "execution_count": 35,
      "outputs": [
        {
          "output_type": "execute_result",
          "data": {
            "text/plain": [
              "1"
            ]
          },
          "metadata": {},
          "execution_count": 35
        }
      ]
    },
    {
      "cell_type": "code",
      "metadata": {
        "colab": {
          "base_uri": "https://localhost:8080/"
        },
        "id": "ux-6kZ9PIRjL",
        "outputId": "368edbef-f151-48e2-b143-7e86e6424f57"
      },
      "source": [
        "randarr.max() # return maximum value"
      ],
      "execution_count": 36,
      "outputs": [
        {
          "output_type": "execute_result",
          "data": {
            "text/plain": [
              "32"
            ]
          },
          "metadata": {},
          "execution_count": 36
        }
      ]
    },
    {
      "cell_type": "code",
      "metadata": {
        "colab": {
          "base_uri": "https://localhost:8080/"
        },
        "id": "CUD7h_A3IX_z",
        "outputId": "1313cd14-d925-459e-d98e-676d8b0bef04"
      },
      "source": [
        "randarr.argmax() # return index of max value"
      ],
      "execution_count": 37,
      "outputs": [
        {
          "output_type": "execute_result",
          "data": {
            "text/plain": [
              "1"
            ]
          },
          "metadata": {},
          "execution_count": 37
        }
      ]
    },
    {
      "cell_type": "code",
      "metadata": {
        "colab": {
          "base_uri": "https://localhost:8080/"
        },
        "id": "T_GIAkqbIdtz",
        "outputId": "a9e38683-aaa7-445c-f0a1-ab05cbfec2ea"
      },
      "source": [
        "arr.reshape(5,5).max() # although it is a matrix, will return only one max value"
      ],
      "execution_count": 42,
      "outputs": [
        {
          "output_type": "execute_result",
          "data": {
            "text/plain": [
              "24"
            ]
          },
          "metadata": {},
          "execution_count": 42
        }
      ]
    },
    {
      "cell_type": "code",
      "metadata": {
        "colab": {
          "base_uri": "https://localhost:8080/"
        },
        "id": "TVmLtsyRIgtz",
        "outputId": "a96e4431-a97b-4b63-bbed-974e8b3f7835"
      },
      "source": [
        "# dtype \n",
        "arr.dtype"
      ],
      "execution_count": 43,
      "outputs": [
        {
          "output_type": "execute_result",
          "data": {
            "text/plain": [
              "dtype('int64')"
            ]
          },
          "metadata": {},
          "execution_count": 43
        }
      ]
    },
    {
      "cell_type": "code",
      "metadata": {
        "colab": {
          "base_uri": "https://localhost:8080/"
        },
        "id": "OFtSAvY8I3iK",
        "outputId": "0f249456-9367-40d9-ee07-fcb54244b3b0"
      },
      "source": [
        "np.array([1.2,1.3]).dtype"
      ],
      "execution_count": 45,
      "outputs": [
        {
          "output_type": "execute_result",
          "data": {
            "text/plain": [
              "dtype('float64')"
            ]
          },
          "metadata": {},
          "execution_count": 45
        }
      ]
    },
    {
      "cell_type": "markdown",
      "metadata": {
        "id": "w6iOKyT7I_i0"
      },
      "source": [
        "\n",
        "\n",
        "---\n",
        "\n",
        "\n"
      ]
    },
    {
      "cell_type": "markdown",
      "metadata": {
        "id": "NqleVYJCKAnA"
      },
      "source": [
        "## Indexing and Selection\n",
        "- bracket indexing and selection\n",
        "- broadcasting\n",
        "- indexing 2d matrix\n",
        "- conditional selections"
      ]
    },
    {
      "cell_type": "code",
      "metadata": {
        "colab": {
          "base_uri": "https://localhost:8080/"
        },
        "id": "B9z-cjMhI7Ki",
        "outputId": "400ce7d3-c961-4aa7-abf8-0b0c55badaec"
      },
      "source": [
        "arr = np.arange(0,11)\n",
        "arr"
      ],
      "execution_count": 48,
      "outputs": [
        {
          "output_type": "execute_result",
          "data": {
            "text/plain": [
              "array([ 0,  1,  2,  3,  4,  5,  6,  7,  8,  9, 10])"
            ]
          },
          "metadata": {},
          "execution_count": 48
        }
      ]
    },
    {
      "cell_type": "code",
      "metadata": {
        "colab": {
          "base_uri": "https://localhost:8080/"
        },
        "id": "Mg_auORRKajT",
        "outputId": "a6576643-b327-49f9-b097-8d3e667670e0"
      },
      "source": [
        "# bracket indexing and selection\n",
        "arr[8] # get value of index 8"
      ],
      "execution_count": 50,
      "outputs": [
        {
          "output_type": "execute_result",
          "data": {
            "text/plain": [
              "8"
            ]
          },
          "metadata": {},
          "execution_count": 50
        }
      ]
    },
    {
      "cell_type": "code",
      "metadata": {
        "colab": {
          "base_uri": "https://localhost:8080/"
        },
        "id": "ATJ2LqgYLMz_",
        "outputId": "ad878f69-087d-4626-ea4a-e892bf408a4c"
      },
      "source": [
        "arr[1:5] # index 1 to index 4"
      ],
      "execution_count": 52,
      "outputs": [
        {
          "output_type": "execute_result",
          "data": {
            "text/plain": [
              "array([1, 2, 3, 4])"
            ]
          },
          "metadata": {},
          "execution_count": 52
        }
      ]
    },
    {
      "cell_type": "code",
      "metadata": {
        "colab": {
          "base_uri": "https://localhost:8080/"
        },
        "id": "YDCet8UtLN2y",
        "outputId": "bc81f6cf-488a-47d9-8fb0-94038b032216"
      },
      "source": [
        "# broadcasting\n",
        "arr[0:5] = 100\n",
        "arr"
      ],
      "execution_count": 53,
      "outputs": [
        {
          "output_type": "execute_result",
          "data": {
            "text/plain": [
              "array([100, 100, 100, 100, 100,   5,   6,   7,   8,   9,  10])"
            ]
          },
          "metadata": {},
          "execution_count": 53
        }
      ]
    },
    {
      "cell_type": "code",
      "metadata": {
        "colab": {
          "base_uri": "https://localhost:8080/"
        },
        "id": "CGAuifRJLmgC",
        "outputId": "9052fc05-7be7-4101-9164-a959fc394669"
      },
      "source": [
        "arr = np.arange(0,11)\n",
        "slice_arr = arr[0:6]\n",
        "slice_arr"
      ],
      "execution_count": 54,
      "outputs": [
        {
          "output_type": "execute_result",
          "data": {
            "text/plain": [
              "array([0, 1, 2, 3, 4, 5])"
            ]
          },
          "metadata": {},
          "execution_count": 54
        }
      ]
    },
    {
      "cell_type": "code",
      "metadata": {
        "colab": {
          "base_uri": "https://localhost:8080/"
        },
        "id": "I3isJ_EtLyBi",
        "outputId": "ab78c031-5c1e-45e3-8226-dad54c11c99e"
      },
      "source": [
        "slice_arr[:] = 99\n",
        "slice_arr"
      ],
      "execution_count": 55,
      "outputs": [
        {
          "output_type": "execute_result",
          "data": {
            "text/plain": [
              "array([99, 99, 99, 99, 99, 99])"
            ]
          },
          "metadata": {},
          "execution_count": 55
        }
      ]
    },
    {
      "cell_type": "code",
      "metadata": {
        "colab": {
          "base_uri": "https://localhost:8080/"
        },
        "id": "OPPPo4TeL2IK",
        "outputId": "2056ff65-d4cd-41b4-db63-49269cf4705a"
      },
      "source": [
        "arr # careful, original dataset also changed."
      ],
      "execution_count": 57,
      "outputs": [
        {
          "output_type": "execute_result",
          "data": {
            "text/plain": [
              "array([99, 99, 99, 99, 99, 99,  6,  7,  8,  9, 10])"
            ]
          },
          "metadata": {},
          "execution_count": 57
        }
      ]
    },
    {
      "cell_type": "code",
      "metadata": {
        "colab": {
          "base_uri": "https://localhost:8080/"
        },
        "id": "VWTzoHIjL2tq",
        "outputId": "5658c8e2-96b9-48eb-bea4-859affbe63be"
      },
      "source": [
        "arr = np.arange(0,11)\n",
        "arr_copy = arr.copy() \n",
        "arr_copy"
      ],
      "execution_count": 58,
      "outputs": [
        {
          "output_type": "execute_result",
          "data": {
            "text/plain": [
              "array([ 0,  1,  2,  3,  4,  5,  6,  7,  8,  9, 10])"
            ]
          },
          "metadata": {},
          "execution_count": 58
        }
      ]
    },
    {
      "cell_type": "code",
      "metadata": {
        "colab": {
          "base_uri": "https://localhost:8080/"
        },
        "id": "YZ0s-lz4MQ_K",
        "outputId": "61e329c4-a28d-4ccb-e7d0-99cfe29e23ec"
      },
      "source": [
        "arr_copy[1:5] = 99\n",
        "arr_copy"
      ],
      "execution_count": 59,
      "outputs": [
        {
          "output_type": "execute_result",
          "data": {
            "text/plain": [
              "array([ 0, 99, 99, 99, 99,  5,  6,  7,  8,  9, 10])"
            ]
          },
          "metadata": {},
          "execution_count": 59
        }
      ]
    },
    {
      "cell_type": "code",
      "metadata": {
        "colab": {
          "base_uri": "https://localhost:8080/"
        },
        "id": "9Hu4H3VVMV2r",
        "outputId": "b663dc26-0a8d-47ac-8de7-826ce490a833"
      },
      "source": [
        "arr # .copy() method will not change the original value"
      ],
      "execution_count": 61,
      "outputs": [
        {
          "output_type": "execute_result",
          "data": {
            "text/plain": [
              "array([ 0,  1,  2,  3,  4,  5,  6,  7,  8,  9, 10])"
            ]
          },
          "metadata": {},
          "execution_count": 61
        }
      ]
    },
    {
      "cell_type": "code",
      "metadata": {
        "colab": {
          "base_uri": "https://localhost:8080/"
        },
        "id": "QqZk2BFHMXDz",
        "outputId": "d4030eb4-e318-49ec-d1e2-d9b0da13cda3"
      },
      "source": [
        "# Indexing 2D matrix\n",
        "arr_2d = np.arange(1,16).reshape(3,5)\n",
        "arr_2d"
      ],
      "execution_count": 64,
      "outputs": [
        {
          "output_type": "execute_result",
          "data": {
            "text/plain": [
              "array([[ 1,  2,  3,  4,  5],\n",
              "       [ 6,  7,  8,  9, 10],\n",
              "       [11, 12, 13, 14, 15]])"
            ]
          },
          "metadata": {},
          "execution_count": 64
        }
      ]
    },
    {
      "cell_type": "code",
      "metadata": {
        "colab": {
          "base_uri": "https://localhost:8080/"
        },
        "id": "5HC7NC8yMtfr",
        "outputId": "af590a39-7b23-4cb2-a1cc-1ee0c86b946b"
      },
      "source": [
        "arr_2d[1] # return second row"
      ],
      "execution_count": 65,
      "outputs": [
        {
          "output_type": "execute_result",
          "data": {
            "text/plain": [
              "array([ 6,  7,  8,  9, 10])"
            ]
          },
          "metadata": {},
          "execution_count": 65
        }
      ]
    },
    {
      "cell_type": "code",
      "metadata": {
        "colab": {
          "base_uri": "https://localhost:8080/"
        },
        "id": "P8TdTlErM3Yb",
        "outputId": "eba28c3f-1f04-4f36-95e7-39ec9aae7850"
      },
      "source": [
        "arr_2d[:,1] # return second column"
      ],
      "execution_count": 68,
      "outputs": [
        {
          "output_type": "execute_result",
          "data": {
            "text/plain": [
              "array([ 2,  7, 12])"
            ]
          },
          "metadata": {},
          "execution_count": 68
        }
      ]
    },
    {
      "cell_type": "code",
      "metadata": {
        "colab": {
          "base_uri": "https://localhost:8080/"
        },
        "id": "v9R41J5zM7Hy",
        "outputId": "4ff68cbe-20fa-4303-b049-ba5367e50371"
      },
      "source": [
        "arr_2d[1,1] # return value from second row and second column "
      ],
      "execution_count": 69,
      "outputs": [
        {
          "output_type": "execute_result",
          "data": {
            "text/plain": [
              "7"
            ]
          },
          "metadata": {},
          "execution_count": 69
        }
      ]
    },
    {
      "cell_type": "code",
      "metadata": {
        "colab": {
          "base_uri": "https://localhost:8080/"
        },
        "id": "q3RhycHQNNtE",
        "outputId": "7ca1a7d0-ce48-48f4-e9db-c725875e093a"
      },
      "source": [
        "arr_2d[::2, ::2] # last 2 is step."
      ],
      "execution_count": 71,
      "outputs": [
        {
          "output_type": "execute_result",
          "data": {
            "text/plain": [
              "array([[ 1,  3,  5],\n",
              "       [11, 13, 15]])"
            ]
          },
          "metadata": {},
          "execution_count": 71
        }
      ]
    },
    {
      "cell_type": "code",
      "metadata": {
        "colab": {
          "base_uri": "https://localhost:8080/"
        },
        "id": "5ngwzK5XNa0b",
        "outputId": "670c4e7b-f6a4-4222-b110-c2f520f6297e"
      },
      "source": [
        "# conditional selection \n",
        "arr"
      ],
      "execution_count": 72,
      "outputs": [
        {
          "output_type": "execute_result",
          "data": {
            "text/plain": [
              "array([ 0,  1,  2,  3,  4,  5,  6,  7,  8,  9, 10])"
            ]
          },
          "metadata": {},
          "execution_count": 72
        }
      ]
    },
    {
      "cell_type": "code",
      "metadata": {
        "colab": {
          "base_uri": "https://localhost:8080/"
        },
        "id": "o4MKOiELNrUr",
        "outputId": "0cb86f6b-b85a-45ad-9b24-c4286594795f"
      },
      "source": [
        "arr > 5"
      ],
      "execution_count": 73,
      "outputs": [
        {
          "output_type": "execute_result",
          "data": {
            "text/plain": [
              "array([False, False, False, False, False, False,  True,  True,  True,\n",
              "        True,  True])"
            ]
          },
          "metadata": {},
          "execution_count": 73
        }
      ]
    },
    {
      "cell_type": "code",
      "metadata": {
        "colab": {
          "base_uri": "https://localhost:8080/"
        },
        "id": "OjFIduiYNtCK",
        "outputId": "758138b9-c6c8-42e2-9341-480344e4f50e"
      },
      "source": [
        "arr[arr > 5]"
      ],
      "execution_count": 74,
      "outputs": [
        {
          "output_type": "execute_result",
          "data": {
            "text/plain": [
              "array([ 6,  7,  8,  9, 10])"
            ]
          },
          "metadata": {},
          "execution_count": 74
        }
      ]
    },
    {
      "cell_type": "code",
      "metadata": {
        "colab": {
          "base_uri": "https://localhost:8080/"
        },
        "id": "0Kg5zkPNNu76",
        "outputId": "ae90c484-7236-48d4-d667-facfb391bdbf"
      },
      "source": [
        "arr[np.where((arr > 2) & (arr < 8))]"
      ],
      "execution_count": 79,
      "outputs": [
        {
          "output_type": "execute_result",
          "data": {
            "text/plain": [
              "array([3, 4, 5, 6, 7])"
            ]
          },
          "metadata": {},
          "execution_count": 79
        }
      ]
    },
    {
      "cell_type": "code",
      "metadata": {
        "colab": {
          "base_uri": "https://localhost:8080/"
        },
        "id": "DTTKsQsRN15z",
        "outputId": "a441e252-19e5-4523-9264-bcdf925de9ec"
      },
      "source": [
        "np.where((arr > 3) & (arr%2 == 0) )"
      ],
      "execution_count": 82,
      "outputs": [
        {
          "output_type": "execute_result",
          "data": {
            "text/plain": [
              "(array([ 4,  6,  8, 10]),)"
            ]
          },
          "metadata": {},
          "execution_count": 82
        }
      ]
    },
    {
      "cell_type": "markdown",
      "metadata": {
        "id": "4h6mCXTjPBu_"
      },
      "source": [
        "## NumPy Operations\n",
        "- Arithmetic\n",
        "- Universal Array Functions\n",
        "- Summary Statistics \n",
        "- Axis\n"
      ]
    },
    {
      "cell_type": "markdown",
      "metadata": {
        "id": "3RzRDOaXP08a"
      },
      "source": [
        "### Arithmetic"
      ]
    },
    {
      "cell_type": "code",
      "metadata": {
        "colab": {
          "base_uri": "https://localhost:8080/"
        },
        "id": "f37gztm2OmxT",
        "outputId": "ff6b76ec-921d-4af3-8a27-9d1a431706b7"
      },
      "source": [
        "arr = np.arange(0,10)\n",
        "arr"
      ],
      "execution_count": 83,
      "outputs": [
        {
          "output_type": "execute_result",
          "data": {
            "text/plain": [
              "array([0, 1, 2, 3, 4, 5, 6, 7, 8, 9])"
            ]
          },
          "metadata": {},
          "execution_count": 83
        }
      ]
    },
    {
      "cell_type": "code",
      "metadata": {
        "colab": {
          "base_uri": "https://localhost:8080/"
        },
        "id": "HiyED2nsPW5K",
        "outputId": "408db6ef-0e46-4edf-e6ac-e77d31e1061e"
      },
      "source": [
        "arr + arr "
      ],
      "execution_count": 84,
      "outputs": [
        {
          "output_type": "execute_result",
          "data": {
            "text/plain": [
              "array([ 0,  2,  4,  6,  8, 10, 12, 14, 16, 18])"
            ]
          },
          "metadata": {},
          "execution_count": 84
        }
      ]
    },
    {
      "cell_type": "code",
      "metadata": {
        "colab": {
          "base_uri": "https://localhost:8080/"
        },
        "id": "mGAAOSkOPbGC",
        "outputId": "9899f787-8290-48ef-9f8b-9c389c2cb460"
      },
      "source": [
        "arr * arr"
      ],
      "execution_count": 85,
      "outputs": [
        {
          "output_type": "execute_result",
          "data": {
            "text/plain": [
              "array([ 0,  1,  4,  9, 16, 25, 36, 49, 64, 81])"
            ]
          },
          "metadata": {},
          "execution_count": 85
        }
      ]
    },
    {
      "cell_type": "code",
      "metadata": {
        "colab": {
          "base_uri": "https://localhost:8080/"
        },
        "id": "Giu-C8XtPcWS",
        "outputId": "a2e18c78-4a20-4b67-9638-3abead470e7f"
      },
      "source": [
        "arr - arr"
      ],
      "execution_count": 86,
      "outputs": [
        {
          "output_type": "execute_result",
          "data": {
            "text/plain": [
              "array([0, 0, 0, 0, 0, 0, 0, 0, 0, 0])"
            ]
          },
          "metadata": {},
          "execution_count": 86
        }
      ]
    },
    {
      "cell_type": "code",
      "metadata": {
        "colab": {
          "base_uri": "https://localhost:8080/"
        },
        "id": "pml4S7YePeZS",
        "outputId": "12e390cd-eec8-4df8-8604-42a8104d350f"
      },
      "source": [
        "arr/arr # error at 0/0"
      ],
      "execution_count": 87,
      "outputs": [
        {
          "output_type": "stream",
          "name": "stderr",
          "text": [
            "/usr/local/lib/python3.7/dist-packages/ipykernel_launcher.py:1: RuntimeWarning: invalid value encountered in true_divide\n",
            "  \"\"\"Entry point for launching an IPython kernel.\n"
          ]
        },
        {
          "output_type": "execute_result",
          "data": {
            "text/plain": [
              "array([nan,  1.,  1.,  1.,  1.,  1.,  1.,  1.,  1.,  1.])"
            ]
          },
          "metadata": {},
          "execution_count": 87
        }
      ]
    },
    {
      "cell_type": "code",
      "metadata": {
        "colab": {
          "base_uri": "https://localhost:8080/"
        },
        "id": "HrbixCbMPhby",
        "outputId": "dd89ad0f-ac2c-4da0-8f28-077ee20519ea"
      },
      "source": [
        "1/arr # 1/0 return infinity"
      ],
      "execution_count": 89,
      "outputs": [
        {
          "output_type": "stream",
          "name": "stderr",
          "text": [
            "/usr/local/lib/python3.7/dist-packages/ipykernel_launcher.py:1: RuntimeWarning: divide by zero encountered in true_divide\n",
            "  \"\"\"Entry point for launching an IPython kernel.\n"
          ]
        },
        {
          "output_type": "execute_result",
          "data": {
            "text/plain": [
              "array([       inf, 1.        , 0.5       , 0.33333333, 0.25      ,\n",
              "       0.2       , 0.16666667, 0.14285714, 0.125     , 0.11111111])"
            ]
          },
          "metadata": {},
          "execution_count": 89
        }
      ]
    },
    {
      "cell_type": "code",
      "metadata": {
        "colab": {
          "base_uri": "https://localhost:8080/"
        },
        "id": "K2K6yh-YPl_i",
        "outputId": "b8198902-9957-456b-f88d-6d0e260d3f64"
      },
      "source": [
        "arr**3"
      ],
      "execution_count": 90,
      "outputs": [
        {
          "output_type": "execute_result",
          "data": {
            "text/plain": [
              "array([  0,   1,   8,  27,  64, 125, 216, 343, 512, 729])"
            ]
          },
          "metadata": {},
          "execution_count": 90
        }
      ]
    },
    {
      "cell_type": "markdown",
      "metadata": {
        "id": "WX7tSEr8P4DJ"
      },
      "source": [
        "### Universal Array Functions"
      ]
    },
    {
      "cell_type": "code",
      "metadata": {
        "colab": {
          "base_uri": "https://localhost:8080/"
        },
        "id": "xPqreoobPtta",
        "outputId": "36b7aeb2-5c2d-46e7-9493-dc948b14bbed"
      },
      "source": [
        "np.sqrt(arr)"
      ],
      "execution_count": 91,
      "outputs": [
        {
          "output_type": "execute_result",
          "data": {
            "text/plain": [
              "array([0.        , 1.        , 1.41421356, 1.73205081, 2.        ,\n",
              "       2.23606798, 2.44948974, 2.64575131, 2.82842712, 3.        ])"
            ]
          },
          "metadata": {},
          "execution_count": 91
        }
      ]
    },
    {
      "cell_type": "code",
      "metadata": {
        "colab": {
          "base_uri": "https://localhost:8080/"
        },
        "id": "tttgogynP8hK",
        "outputId": "2196c818-59b4-4f0d-8b73-9cfe178fad47"
      },
      "source": [
        "np.exp(arr) # exponential function (e^)"
      ],
      "execution_count": 92,
      "outputs": [
        {
          "output_type": "execute_result",
          "data": {
            "text/plain": [
              "array([1.00000000e+00, 2.71828183e+00, 7.38905610e+00, 2.00855369e+01,\n",
              "       5.45981500e+01, 1.48413159e+02, 4.03428793e+02, 1.09663316e+03,\n",
              "       2.98095799e+03, 8.10308393e+03])"
            ]
          },
          "metadata": {},
          "execution_count": 92
        }
      ]
    },
    {
      "cell_type": "code",
      "metadata": {
        "colab": {
          "base_uri": "https://localhost:8080/"
        },
        "id": "T1SwjXjuQAwi",
        "outputId": "32eeb9f5-0e6d-459d-efab-6f2082aa40db"
      },
      "source": [
        "np.sin(arr) # sine function"
      ],
      "execution_count": 93,
      "outputs": [
        {
          "output_type": "execute_result",
          "data": {
            "text/plain": [
              "array([ 0.        ,  0.84147098,  0.90929743,  0.14112001, -0.7568025 ,\n",
              "       -0.95892427, -0.2794155 ,  0.6569866 ,  0.98935825,  0.41211849])"
            ]
          },
          "metadata": {},
          "execution_count": 93
        }
      ]
    },
    {
      "cell_type": "code",
      "metadata": {
        "colab": {
          "base_uri": "https://localhost:8080/"
        },
        "id": "TFYVrxIbQE2z",
        "outputId": "46679682-2a6f-420a-f924-97893dfdd46b"
      },
      "source": [
        "np.log(arr) # natural log function"
      ],
      "execution_count": 94,
      "outputs": [
        {
          "output_type": "stream",
          "name": "stderr",
          "text": [
            "/usr/local/lib/python3.7/dist-packages/ipykernel_launcher.py:1: RuntimeWarning: divide by zero encountered in log\n",
            "  \"\"\"Entry point for launching an IPython kernel.\n"
          ]
        },
        {
          "output_type": "execute_result",
          "data": {
            "text/plain": [
              "array([      -inf, 0.        , 0.69314718, 1.09861229, 1.38629436,\n",
              "       1.60943791, 1.79175947, 1.94591015, 2.07944154, 2.19722458])"
            ]
          },
          "metadata": {},
          "execution_count": 94
        }
      ]
    },
    {
      "cell_type": "markdown",
      "metadata": {
        "id": "p-x9T1uYQ1au"
      },
      "source": [
        "### Summary Statistics"
      ]
    },
    {
      "cell_type": "code",
      "metadata": {
        "colab": {
          "base_uri": "https://localhost:8080/"
        },
        "id": "T4XCq07dQJmT",
        "outputId": "93ab1f63-9559-4178-e785-2591d34e4b33"
      },
      "source": [
        "arr.sum()"
      ],
      "execution_count": 95,
      "outputs": [
        {
          "output_type": "execute_result",
          "data": {
            "text/plain": [
              "45"
            ]
          },
          "metadata": {},
          "execution_count": 95
        }
      ]
    },
    {
      "cell_type": "code",
      "metadata": {
        "colab": {
          "base_uri": "https://localhost:8080/"
        },
        "id": "v8ll92nGQ5ty",
        "outputId": "67d67887-9bee-4cf4-9be6-bd822da45084"
      },
      "source": [
        "arr.mean()"
      ],
      "execution_count": 96,
      "outputs": [
        {
          "output_type": "execute_result",
          "data": {
            "text/plain": [
              "4.5"
            ]
          },
          "metadata": {},
          "execution_count": 96
        }
      ]
    },
    {
      "cell_type": "code",
      "metadata": {
        "colab": {
          "base_uri": "https://localhost:8080/"
        },
        "id": "JluGSt_eQ6Yq",
        "outputId": "69ba123a-db89-4e83-9361-5b85039b2e2a"
      },
      "source": [
        "arr.max()"
      ],
      "execution_count": 97,
      "outputs": [
        {
          "output_type": "execute_result",
          "data": {
            "text/plain": [
              "9"
            ]
          },
          "metadata": {},
          "execution_count": 97
        }
      ]
    },
    {
      "cell_type": "markdown",
      "metadata": {
        "id": "kfukF_NqQ9fs"
      },
      "source": [
        "**Others**\n",
        "- arr.min()\n",
        "- arr.var() # variance\n",
        "- arr.std() # standard deviation"
      ]
    },
    {
      "cell_type": "markdown",
      "metadata": {
        "id": "0GWY2vTuRGtR"
      },
      "source": [
        "### Axis\n",
        "- working with 2D arrays, consider as rows and columns\n",
        "- row - axis 0\n",
        "- column - axis 1\n",
        "- think about arr.shape returned values"
      ]
    },
    {
      "cell_type": "code",
      "metadata": {
        "colab": {
          "base_uri": "https://localhost:8080/"
        },
        "id": "YwheL6mXQ6-L",
        "outputId": "a71f644c-d793-46c2-861f-768ecd8ca4db"
      },
      "source": [
        "arr_2d "
      ],
      "execution_count": 98,
      "outputs": [
        {
          "output_type": "execute_result",
          "data": {
            "text/plain": [
              "array([[ 1,  2,  3,  4,  5],\n",
              "       [ 6,  7,  8,  9, 10],\n",
              "       [11, 12, 13, 14, 15]])"
            ]
          },
          "metadata": {},
          "execution_count": 98
        }
      ]
    },
    {
      "cell_type": "code",
      "metadata": {
        "colab": {
          "base_uri": "https://localhost:8080/"
        },
        "id": "QCSiFamJRiBr",
        "outputId": "d0dfc340-3fa5-4d71-9730-dbed37fcbb72"
      },
      "source": [
        "arr_2d.shape"
      ],
      "execution_count": 100,
      "outputs": [
        {
          "output_type": "execute_result",
          "data": {
            "text/plain": [
              "(3, 5)"
            ]
          },
          "metadata": {},
          "execution_count": 100
        }
      ]
    },
    {
      "cell_type": "code",
      "metadata": {
        "colab": {
          "base_uri": "https://localhost:8080/"
        },
        "id": "1ImO7bHKRe6l",
        "outputId": "35abd3e1-0a81-457e-f885-819fce983a85"
      },
      "source": [
        "arr_2d.sum(axis=0) # col sum ?? I consider as answer will return along the dimension of the axis."
      ],
      "execution_count": 101,
      "outputs": [
        {
          "output_type": "execute_result",
          "data": {
            "text/plain": [
              "array([18, 21, 24, 27, 30])"
            ]
          },
          "metadata": {},
          "execution_count": 101
        }
      ]
    },
    {
      "cell_type": "code",
      "metadata": {
        "colab": {
          "base_uri": "https://localhost:8080/"
        },
        "id": "JXPh15y_Rrk7",
        "outputId": "104efc53-b345-48c8-b029-c3512931084a"
      },
      "source": [
        "arr_2d.sum(axis=1)"
      ],
      "execution_count": 102,
      "outputs": [
        {
          "output_type": "execute_result",
          "data": {
            "text/plain": [
              "array([15, 40, 65])"
            ]
          },
          "metadata": {},
          "execution_count": 102
        }
      ]
    }
  ]
}