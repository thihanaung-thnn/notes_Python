{
  "nbformat": 4,
  "nbformat_minor": 0,
  "metadata": {
    "colab": {
      "name": "03-pandas_methods.ipynb",
      "provenance": [],
      "authorship_tag": "ABX9TyNjHIUOw6XoEMXhqbU3sVIP",
      "include_colab_link": true
    },
    "kernelspec": {
      "name": "python3",
      "display_name": "Python 3"
    },
    "language_info": {
      "name": "python"
    }
  },
  "cells": [
    {
      "cell_type": "markdown",
      "metadata": {
        "id": "view-in-github",
        "colab_type": "text"
      },
      "source": [
        "<a href=\"https://colab.research.google.com/github/thihanaung-thnn/notes_Python/blob/main/notes_jose_portilla_lectures/machine_learning_with_python/03_pandas_methods.ipynb\" target=\"_parent\"><img src=\"https://colab.research.google.com/assets/colab-badge.svg\" alt=\"Open In Colab\"/></a>"
      ]
    },
    {
      "cell_type": "markdown",
      "metadata": {
        "id": "W7J2ocS99_sl"
      },
      "source": [
        "# Pandas"
      ]
    },
    {
      "cell_type": "markdown",
      "metadata": {
        "id": "Y_oV9khIF_fl"
      },
      "source": [
        "- [Useful Methods](#useful)\n",
        "- [Groupby and Multi-level Index](#groupby)\n",
        "- [Pivot tables](#pivot)\n",
        "- [Combining DataFrame](#combine)\n",
        "- [Text Methods](#string)\n",
        "- [Time Methods](#time)"
      ]
    },
    {
      "cell_type": "code",
      "metadata": {
        "id": "SFmzl5Fh-qXf"
      },
      "source": [
        "import numpy as np\n",
        "import pandas as pd"
      ],
      "execution_count": 198,
      "outputs": []
    },
    {
      "cell_type": "markdown",
      "metadata": {
        "id": "-Sv8DhE9-H5b"
      },
      "source": [
        "<a id='useful'></a>\n",
        "## Useful Methods\n",
        "- apply()\n",
        "- describe()\n",
        "- sort_values()\n",
        "- corr()\n",
        "- idxmin() , idxmax()\n",
        "- value_counts()\n",
        "- replace()\n",
        "- unique() , nunique()\n",
        "- map()\n",
        "- duplicated and drop_duplicates\n",
        "- between \n",
        "- sample \n",
        "- nlargest"
      ]
    },
    {
      "cell_type": "code",
      "metadata": {
        "colab": {
          "base_uri": "https://localhost:8080/",
          "height": 0
        },
        "id": "qdTfxxj1-C85",
        "outputId": "7ab29ae8-7d86-4ac4-8812-bf456c88c87e"
      },
      "source": [
        "df = pd.read_csv('sample_data/tips.csv')\n",
        "df.head(3)"
      ],
      "execution_count": 199,
      "outputs": [
        {
          "output_type": "execute_result",
          "data": {
            "text/html": [
              "<div>\n",
              "<style scoped>\n",
              "    .dataframe tbody tr th:only-of-type {\n",
              "        vertical-align: middle;\n",
              "    }\n",
              "\n",
              "    .dataframe tbody tr th {\n",
              "        vertical-align: top;\n",
              "    }\n",
              "\n",
              "    .dataframe thead th {\n",
              "        text-align: right;\n",
              "    }\n",
              "</style>\n",
              "<table border=\"1\" class=\"dataframe\">\n",
              "  <thead>\n",
              "    <tr style=\"text-align: right;\">\n",
              "      <th></th>\n",
              "      <th>total_bill</th>\n",
              "      <th>tip</th>\n",
              "      <th>sex</th>\n",
              "      <th>smoker</th>\n",
              "      <th>day</th>\n",
              "      <th>time</th>\n",
              "      <th>size</th>\n",
              "      <th>price_per_person</th>\n",
              "      <th>Payer Name</th>\n",
              "      <th>CC Number</th>\n",
              "      <th>Payment ID</th>\n",
              "    </tr>\n",
              "  </thead>\n",
              "  <tbody>\n",
              "    <tr>\n",
              "      <th>0</th>\n",
              "      <td>16.99</td>\n",
              "      <td>1.01</td>\n",
              "      <td>Female</td>\n",
              "      <td>No</td>\n",
              "      <td>Sun</td>\n",
              "      <td>Dinner</td>\n",
              "      <td>2</td>\n",
              "      <td>8.49</td>\n",
              "      <td>Christy Cunningham</td>\n",
              "      <td>3560325168603410</td>\n",
              "      <td>Sun2959</td>\n",
              "    </tr>\n",
              "    <tr>\n",
              "      <th>1</th>\n",
              "      <td>10.34</td>\n",
              "      <td>1.66</td>\n",
              "      <td>Male</td>\n",
              "      <td>No</td>\n",
              "      <td>Sun</td>\n",
              "      <td>Dinner</td>\n",
              "      <td>3</td>\n",
              "      <td>3.45</td>\n",
              "      <td>Douglas Tucker</td>\n",
              "      <td>4478071379779230</td>\n",
              "      <td>Sun4608</td>\n",
              "    </tr>\n",
              "    <tr>\n",
              "      <th>2</th>\n",
              "      <td>21.01</td>\n",
              "      <td>3.50</td>\n",
              "      <td>Male</td>\n",
              "      <td>No</td>\n",
              "      <td>Sun</td>\n",
              "      <td>Dinner</td>\n",
              "      <td>3</td>\n",
              "      <td>7.00</td>\n",
              "      <td>Travis Walters</td>\n",
              "      <td>6011812112971322</td>\n",
              "      <td>Sun4458</td>\n",
              "    </tr>\n",
              "  </tbody>\n",
              "</table>\n",
              "</div>"
            ],
            "text/plain": [
              "   total_bill   tip     sex  ...          Payer Name         CC Number Payment ID\n",
              "0       16.99  1.01  Female  ...  Christy Cunningham  3560325168603410    Sun2959\n",
              "1       10.34  1.66    Male  ...      Douglas Tucker  4478071379779230    Sun4608\n",
              "2       21.01  3.50    Male  ...      Travis Walters  6011812112971322    Sun4458\n",
              "\n",
              "[3 rows x 11 columns]"
            ]
          },
          "metadata": {},
          "execution_count": 199
        }
      ]
    },
    {
      "cell_type": "code",
      "metadata": {
        "colab": {
          "base_uri": "https://localhost:8080/"
        },
        "id": "8WSa0aRi-4yJ",
        "outputId": "930543de-3a86-46f0-863d-fa8785260c79"
      },
      "source": [
        "df.info()"
      ],
      "execution_count": 200,
      "outputs": [
        {
          "output_type": "stream",
          "name": "stdout",
          "text": [
            "<class 'pandas.core.frame.DataFrame'>\n",
            "RangeIndex: 244 entries, 0 to 243\n",
            "Data columns (total 11 columns):\n",
            " #   Column            Non-Null Count  Dtype  \n",
            "---  ------            --------------  -----  \n",
            " 0   total_bill        244 non-null    float64\n",
            " 1   tip               244 non-null    float64\n",
            " 2   sex               244 non-null    object \n",
            " 3   smoker            244 non-null    object \n",
            " 4   day               244 non-null    object \n",
            " 5   time              244 non-null    object \n",
            " 6   size              244 non-null    int64  \n",
            " 7   price_per_person  244 non-null    float64\n",
            " 8   Payer Name        244 non-null    object \n",
            " 9   CC Number         244 non-null    int64  \n",
            " 10  Payment ID        244 non-null    object \n",
            "dtypes: float64(3), int64(2), object(6)\n",
            "memory usage: 21.1+ KB\n"
          ]
        }
      ]
    },
    {
      "cell_type": "markdown",
      "metadata": {
        "id": "kgcieTKP-mxf"
      },
      "source": [
        "### .apply()\n",
        "#### Simple function"
      ]
    },
    {
      "cell_type": "code",
      "metadata": {
        "id": "Bf530uii-_QK"
      },
      "source": [
        "def last_four(num):\n",
        "  return str(num)[-4:]"
      ],
      "execution_count": 201,
      "outputs": []
    },
    {
      "cell_type": "code",
      "metadata": {
        "colab": {
          "base_uri": "https://localhost:8080/"
        },
        "id": "5hsZB2QT_NzL",
        "outputId": "48140799-f5f9-4703-8f96-e1327137a1ef"
      },
      "source": [
        "df['CC Number'][0]"
      ],
      "execution_count": 202,
      "outputs": [
        {
          "output_type": "execute_result",
          "data": {
            "text/plain": [
              "3560325168603410"
            ]
          },
          "metadata": {},
          "execution_count": 202
        }
      ]
    },
    {
      "cell_type": "code",
      "metadata": {
        "colab": {
          "base_uri": "https://localhost:8080/",
          "height": 0
        },
        "id": "N3xMKbUT_PuU",
        "outputId": "17c6f6ec-e5fb-49d1-9bc2-e1d31d0b01bf"
      },
      "source": [
        "last_four(df['CC Number'][0])"
      ],
      "execution_count": 203,
      "outputs": [
        {
          "output_type": "execute_result",
          "data": {
            "application/vnd.google.colaboratory.intrinsic+json": {
              "type": "string"
            },
            "text/plain": [
              "'3410'"
            ]
          },
          "metadata": {},
          "execution_count": 203
        }
      ]
    },
    {
      "cell_type": "code",
      "metadata": {
        "colab": {
          "base_uri": "https://localhost:8080/",
          "height": 0
        },
        "id": "0Fq0rdf7_X-B",
        "outputId": "81209e3c-e7a1-4977-d89b-d4f58ec69761"
      },
      "source": [
        "df['last_four'] = df['CC Number'].apply(last_four) # column.apply(function_name)\n",
        "df.head(3)"
      ],
      "execution_count": 204,
      "outputs": [
        {
          "output_type": "execute_result",
          "data": {
            "text/html": [
              "<div>\n",
              "<style scoped>\n",
              "    .dataframe tbody tr th:only-of-type {\n",
              "        vertical-align: middle;\n",
              "    }\n",
              "\n",
              "    .dataframe tbody tr th {\n",
              "        vertical-align: top;\n",
              "    }\n",
              "\n",
              "    .dataframe thead th {\n",
              "        text-align: right;\n",
              "    }\n",
              "</style>\n",
              "<table border=\"1\" class=\"dataframe\">\n",
              "  <thead>\n",
              "    <tr style=\"text-align: right;\">\n",
              "      <th></th>\n",
              "      <th>total_bill</th>\n",
              "      <th>tip</th>\n",
              "      <th>sex</th>\n",
              "      <th>smoker</th>\n",
              "      <th>day</th>\n",
              "      <th>time</th>\n",
              "      <th>size</th>\n",
              "      <th>price_per_person</th>\n",
              "      <th>Payer Name</th>\n",
              "      <th>CC Number</th>\n",
              "      <th>Payment ID</th>\n",
              "      <th>last_four</th>\n",
              "    </tr>\n",
              "  </thead>\n",
              "  <tbody>\n",
              "    <tr>\n",
              "      <th>0</th>\n",
              "      <td>16.99</td>\n",
              "      <td>1.01</td>\n",
              "      <td>Female</td>\n",
              "      <td>No</td>\n",
              "      <td>Sun</td>\n",
              "      <td>Dinner</td>\n",
              "      <td>2</td>\n",
              "      <td>8.49</td>\n",
              "      <td>Christy Cunningham</td>\n",
              "      <td>3560325168603410</td>\n",
              "      <td>Sun2959</td>\n",
              "      <td>3410</td>\n",
              "    </tr>\n",
              "    <tr>\n",
              "      <th>1</th>\n",
              "      <td>10.34</td>\n",
              "      <td>1.66</td>\n",
              "      <td>Male</td>\n",
              "      <td>No</td>\n",
              "      <td>Sun</td>\n",
              "      <td>Dinner</td>\n",
              "      <td>3</td>\n",
              "      <td>3.45</td>\n",
              "      <td>Douglas Tucker</td>\n",
              "      <td>4478071379779230</td>\n",
              "      <td>Sun4608</td>\n",
              "      <td>9230</td>\n",
              "    </tr>\n",
              "    <tr>\n",
              "      <th>2</th>\n",
              "      <td>21.01</td>\n",
              "      <td>3.50</td>\n",
              "      <td>Male</td>\n",
              "      <td>No</td>\n",
              "      <td>Sun</td>\n",
              "      <td>Dinner</td>\n",
              "      <td>3</td>\n",
              "      <td>7.00</td>\n",
              "      <td>Travis Walters</td>\n",
              "      <td>6011812112971322</td>\n",
              "      <td>Sun4458</td>\n",
              "      <td>1322</td>\n",
              "    </tr>\n",
              "  </tbody>\n",
              "</table>\n",
              "</div>"
            ],
            "text/plain": [
              "   total_bill   tip     sex  ...         CC Number Payment ID last_four\n",
              "0       16.99  1.01  Female  ...  3560325168603410    Sun2959      3410\n",
              "1       10.34  1.66    Male  ...  4478071379779230    Sun4608      9230\n",
              "2       21.01  3.50    Male  ...  6011812112971322    Sun4458      1322\n",
              "\n",
              "[3 rows x 12 columns]"
            ]
          },
          "metadata": {},
          "execution_count": 204
        }
      ]
    },
    {
      "cell_type": "markdown",
      "metadata": {
        "id": "M7LQM-x9_s81"
      },
      "source": [
        "#### More complex functions"
      ]
    },
    {
      "cell_type": "code",
      "metadata": {
        "colab": {
          "base_uri": "https://localhost:8080/"
        },
        "id": "aHK4m3qd_kdT",
        "outputId": "ba5e0ad1-27bf-442b-da1b-234137f7a2b3"
      },
      "source": [
        "df['total_bill'].mean()"
      ],
      "execution_count": 205,
      "outputs": [
        {
          "output_type": "execute_result",
          "data": {
            "text/plain": [
              "19.785942622950824"
            ]
          },
          "metadata": {},
          "execution_count": 205
        }
      ]
    },
    {
      "cell_type": "code",
      "metadata": {
        "id": "RTzQEfFj_yKJ"
      },
      "source": [
        "def expensive(price):\n",
        "  if price < 10:\n",
        "    return '$'\n",
        "  elif price >= 10 and price < 30:\n",
        "    return '$$'\n",
        "  else:\n",
        "    return '$$$'"
      ],
      "execution_count": 206,
      "outputs": []
    },
    {
      "cell_type": "code",
      "metadata": {
        "colab": {
          "base_uri": "https://localhost:8080/",
          "height": 0
        },
        "id": "2bPHQl2lAC7R",
        "outputId": "9adad008-ac45-4ae4-ce68-296e948c223e"
      },
      "source": [
        "df['Expensive'] = df['total_bill'].apply(expensive)\n",
        "df.head(3)"
      ],
      "execution_count": 207,
      "outputs": [
        {
          "output_type": "execute_result",
          "data": {
            "text/html": [
              "<div>\n",
              "<style scoped>\n",
              "    .dataframe tbody tr th:only-of-type {\n",
              "        vertical-align: middle;\n",
              "    }\n",
              "\n",
              "    .dataframe tbody tr th {\n",
              "        vertical-align: top;\n",
              "    }\n",
              "\n",
              "    .dataframe thead th {\n",
              "        text-align: right;\n",
              "    }\n",
              "</style>\n",
              "<table border=\"1\" class=\"dataframe\">\n",
              "  <thead>\n",
              "    <tr style=\"text-align: right;\">\n",
              "      <th></th>\n",
              "      <th>total_bill</th>\n",
              "      <th>tip</th>\n",
              "      <th>sex</th>\n",
              "      <th>smoker</th>\n",
              "      <th>day</th>\n",
              "      <th>time</th>\n",
              "      <th>size</th>\n",
              "      <th>price_per_person</th>\n",
              "      <th>Payer Name</th>\n",
              "      <th>CC Number</th>\n",
              "      <th>Payment ID</th>\n",
              "      <th>last_four</th>\n",
              "      <th>Expensive</th>\n",
              "    </tr>\n",
              "  </thead>\n",
              "  <tbody>\n",
              "    <tr>\n",
              "      <th>0</th>\n",
              "      <td>16.99</td>\n",
              "      <td>1.01</td>\n",
              "      <td>Female</td>\n",
              "      <td>No</td>\n",
              "      <td>Sun</td>\n",
              "      <td>Dinner</td>\n",
              "      <td>2</td>\n",
              "      <td>8.49</td>\n",
              "      <td>Christy Cunningham</td>\n",
              "      <td>3560325168603410</td>\n",
              "      <td>Sun2959</td>\n",
              "      <td>3410</td>\n",
              "      <td>$$</td>\n",
              "    </tr>\n",
              "    <tr>\n",
              "      <th>1</th>\n",
              "      <td>10.34</td>\n",
              "      <td>1.66</td>\n",
              "      <td>Male</td>\n",
              "      <td>No</td>\n",
              "      <td>Sun</td>\n",
              "      <td>Dinner</td>\n",
              "      <td>3</td>\n",
              "      <td>3.45</td>\n",
              "      <td>Douglas Tucker</td>\n",
              "      <td>4478071379779230</td>\n",
              "      <td>Sun4608</td>\n",
              "      <td>9230</td>\n",
              "      <td>$$</td>\n",
              "    </tr>\n",
              "    <tr>\n",
              "      <th>2</th>\n",
              "      <td>21.01</td>\n",
              "      <td>3.50</td>\n",
              "      <td>Male</td>\n",
              "      <td>No</td>\n",
              "      <td>Sun</td>\n",
              "      <td>Dinner</td>\n",
              "      <td>3</td>\n",
              "      <td>7.00</td>\n",
              "      <td>Travis Walters</td>\n",
              "      <td>6011812112971322</td>\n",
              "      <td>Sun4458</td>\n",
              "      <td>1322</td>\n",
              "      <td>$$</td>\n",
              "    </tr>\n",
              "  </tbody>\n",
              "</table>\n",
              "</div>"
            ],
            "text/plain": [
              "   total_bill   tip     sex  ... Payment ID last_four Expensive\n",
              "0       16.99  1.01  Female  ...    Sun2959      3410        $$\n",
              "1       10.34  1.66    Male  ...    Sun4608      9230        $$\n",
              "2       21.01  3.50    Male  ...    Sun4458      1322        $$\n",
              "\n",
              "[3 rows x 13 columns]"
            ]
          },
          "metadata": {},
          "execution_count": 207
        }
      ]
    },
    {
      "cell_type": "markdown",
      "metadata": {
        "id": "Dys2CO0XAMU_"
      },
      "source": [
        "#### with lambda"
      ]
    },
    {
      "cell_type": "code",
      "metadata": {
        "colab": {
          "base_uri": "https://localhost:8080/"
        },
        "id": "a06o4W2DAHk6",
        "outputId": "12f4a297-dfec-46a5-ddcb-d79b2b10b927"
      },
      "source": [
        "df['total_bill'].apply(lambda x:x*10)"
      ],
      "execution_count": 208,
      "outputs": [
        {
          "output_type": "execute_result",
          "data": {
            "text/plain": [
              "0      169.9\n",
              "1      103.4\n",
              "2      210.1\n",
              "3      236.8\n",
              "4      245.9\n",
              "       ...  \n",
              "239    290.3\n",
              "240    271.8\n",
              "241    226.7\n",
              "242    178.2\n",
              "243    187.8\n",
              "Name: total_bill, Length: 244, dtype: float64"
            ]
          },
          "metadata": {},
          "execution_count": 208
        }
      ]
    },
    {
      "cell_type": "markdown",
      "metadata": {
        "id": "qSSHL10aAdfy"
      },
      "source": [
        "#### multiple columns "
      ]
    },
    {
      "cell_type": "code",
      "metadata": {
        "id": "vmQqExK3AX1K"
      },
      "source": [
        "def quality(total_bill, tip):\n",
        "  if tip/total_bill > 0.25:\n",
        "    return 'Generous'\n",
        "  else:\n",
        "    return 'Other'"
      ],
      "execution_count": 209,
      "outputs": []
    },
    {
      "cell_type": "code",
      "metadata": {
        "colab": {
          "base_uri": "https://localhost:8080/",
          "height": 0
        },
        "id": "IhzoYaWWAoJh",
        "outputId": "3380b533-8b80-40df-ad31-81d52ea7e8c9"
      },
      "source": [
        "df['Tip Quality'] = df[['total_bill', 'tip']].apply(\n",
        "    lambda x: quality(x['total_bill'], x['tip']), axis=1)\n",
        "df.head(3)"
      ],
      "execution_count": 210,
      "outputs": [
        {
          "output_type": "execute_result",
          "data": {
            "text/html": [
              "<div>\n",
              "<style scoped>\n",
              "    .dataframe tbody tr th:only-of-type {\n",
              "        vertical-align: middle;\n",
              "    }\n",
              "\n",
              "    .dataframe tbody tr th {\n",
              "        vertical-align: top;\n",
              "    }\n",
              "\n",
              "    .dataframe thead th {\n",
              "        text-align: right;\n",
              "    }\n",
              "</style>\n",
              "<table border=\"1\" class=\"dataframe\">\n",
              "  <thead>\n",
              "    <tr style=\"text-align: right;\">\n",
              "      <th></th>\n",
              "      <th>total_bill</th>\n",
              "      <th>tip</th>\n",
              "      <th>sex</th>\n",
              "      <th>smoker</th>\n",
              "      <th>day</th>\n",
              "      <th>time</th>\n",
              "      <th>size</th>\n",
              "      <th>price_per_person</th>\n",
              "      <th>Payer Name</th>\n",
              "      <th>CC Number</th>\n",
              "      <th>Payment ID</th>\n",
              "      <th>last_four</th>\n",
              "      <th>Expensive</th>\n",
              "      <th>Tip Quality</th>\n",
              "    </tr>\n",
              "  </thead>\n",
              "  <tbody>\n",
              "    <tr>\n",
              "      <th>0</th>\n",
              "      <td>16.99</td>\n",
              "      <td>1.01</td>\n",
              "      <td>Female</td>\n",
              "      <td>No</td>\n",
              "      <td>Sun</td>\n",
              "      <td>Dinner</td>\n",
              "      <td>2</td>\n",
              "      <td>8.49</td>\n",
              "      <td>Christy Cunningham</td>\n",
              "      <td>3560325168603410</td>\n",
              "      <td>Sun2959</td>\n",
              "      <td>3410</td>\n",
              "      <td>$$</td>\n",
              "      <td>Other</td>\n",
              "    </tr>\n",
              "    <tr>\n",
              "      <th>1</th>\n",
              "      <td>10.34</td>\n",
              "      <td>1.66</td>\n",
              "      <td>Male</td>\n",
              "      <td>No</td>\n",
              "      <td>Sun</td>\n",
              "      <td>Dinner</td>\n",
              "      <td>3</td>\n",
              "      <td>3.45</td>\n",
              "      <td>Douglas Tucker</td>\n",
              "      <td>4478071379779230</td>\n",
              "      <td>Sun4608</td>\n",
              "      <td>9230</td>\n",
              "      <td>$$</td>\n",
              "      <td>Other</td>\n",
              "    </tr>\n",
              "    <tr>\n",
              "      <th>2</th>\n",
              "      <td>21.01</td>\n",
              "      <td>3.50</td>\n",
              "      <td>Male</td>\n",
              "      <td>No</td>\n",
              "      <td>Sun</td>\n",
              "      <td>Dinner</td>\n",
              "      <td>3</td>\n",
              "      <td>7.00</td>\n",
              "      <td>Travis Walters</td>\n",
              "      <td>6011812112971322</td>\n",
              "      <td>Sun4458</td>\n",
              "      <td>1322</td>\n",
              "      <td>$$</td>\n",
              "      <td>Other</td>\n",
              "    </tr>\n",
              "  </tbody>\n",
              "</table>\n",
              "</div>"
            ],
            "text/plain": [
              "   total_bill   tip     sex smoker  ... Payment ID last_four  Expensive  Tip Quality\n",
              "0       16.99  1.01  Female     No  ...    Sun2959      3410         $$        Other\n",
              "1       10.34  1.66    Male     No  ...    Sun4608      9230         $$        Other\n",
              "2       21.01  3.50    Male     No  ...    Sun4458      1322         $$        Other\n",
              "\n",
              "[3 rows x 14 columns]"
            ]
          },
          "metadata": {},
          "execution_count": 210
        }
      ]
    },
    {
      "cell_type": "code",
      "metadata": {
        "colab": {
          "base_uri": "https://localhost:8080/",
          "height": 0
        },
        "id": "3TQrVZ53A6nh",
        "outputId": "5fce44a8-2b2f-42a4-d9ec-4c0a409e1a05"
      },
      "source": [
        "# this method is faster and better peformance\n",
        "df['Tip Quality'] = np.vectorize(quality)(df['total_bill'], df['tip'])\n",
        "df.head()"
      ],
      "execution_count": 211,
      "outputs": [
        {
          "output_type": "execute_result",
          "data": {
            "text/html": [
              "<div>\n",
              "<style scoped>\n",
              "    .dataframe tbody tr th:only-of-type {\n",
              "        vertical-align: middle;\n",
              "    }\n",
              "\n",
              "    .dataframe tbody tr th {\n",
              "        vertical-align: top;\n",
              "    }\n",
              "\n",
              "    .dataframe thead th {\n",
              "        text-align: right;\n",
              "    }\n",
              "</style>\n",
              "<table border=\"1\" class=\"dataframe\">\n",
              "  <thead>\n",
              "    <tr style=\"text-align: right;\">\n",
              "      <th></th>\n",
              "      <th>total_bill</th>\n",
              "      <th>tip</th>\n",
              "      <th>sex</th>\n",
              "      <th>smoker</th>\n",
              "      <th>day</th>\n",
              "      <th>time</th>\n",
              "      <th>size</th>\n",
              "      <th>price_per_person</th>\n",
              "      <th>Payer Name</th>\n",
              "      <th>CC Number</th>\n",
              "      <th>Payment ID</th>\n",
              "      <th>last_four</th>\n",
              "      <th>Expensive</th>\n",
              "      <th>Tip Quality</th>\n",
              "    </tr>\n",
              "  </thead>\n",
              "  <tbody>\n",
              "    <tr>\n",
              "      <th>0</th>\n",
              "      <td>16.99</td>\n",
              "      <td>1.01</td>\n",
              "      <td>Female</td>\n",
              "      <td>No</td>\n",
              "      <td>Sun</td>\n",
              "      <td>Dinner</td>\n",
              "      <td>2</td>\n",
              "      <td>8.49</td>\n",
              "      <td>Christy Cunningham</td>\n",
              "      <td>3560325168603410</td>\n",
              "      <td>Sun2959</td>\n",
              "      <td>3410</td>\n",
              "      <td>$$</td>\n",
              "      <td>Other</td>\n",
              "    </tr>\n",
              "    <tr>\n",
              "      <th>1</th>\n",
              "      <td>10.34</td>\n",
              "      <td>1.66</td>\n",
              "      <td>Male</td>\n",
              "      <td>No</td>\n",
              "      <td>Sun</td>\n",
              "      <td>Dinner</td>\n",
              "      <td>3</td>\n",
              "      <td>3.45</td>\n",
              "      <td>Douglas Tucker</td>\n",
              "      <td>4478071379779230</td>\n",
              "      <td>Sun4608</td>\n",
              "      <td>9230</td>\n",
              "      <td>$$</td>\n",
              "      <td>Other</td>\n",
              "    </tr>\n",
              "    <tr>\n",
              "      <th>2</th>\n",
              "      <td>21.01</td>\n",
              "      <td>3.50</td>\n",
              "      <td>Male</td>\n",
              "      <td>No</td>\n",
              "      <td>Sun</td>\n",
              "      <td>Dinner</td>\n",
              "      <td>3</td>\n",
              "      <td>7.00</td>\n",
              "      <td>Travis Walters</td>\n",
              "      <td>6011812112971322</td>\n",
              "      <td>Sun4458</td>\n",
              "      <td>1322</td>\n",
              "      <td>$$</td>\n",
              "      <td>Other</td>\n",
              "    </tr>\n",
              "    <tr>\n",
              "      <th>3</th>\n",
              "      <td>23.68</td>\n",
              "      <td>3.31</td>\n",
              "      <td>Male</td>\n",
              "      <td>No</td>\n",
              "      <td>Sun</td>\n",
              "      <td>Dinner</td>\n",
              "      <td>2</td>\n",
              "      <td>11.84</td>\n",
              "      <td>Nathaniel Harris</td>\n",
              "      <td>4676137647685994</td>\n",
              "      <td>Sun5260</td>\n",
              "      <td>5994</td>\n",
              "      <td>$$</td>\n",
              "      <td>Other</td>\n",
              "    </tr>\n",
              "    <tr>\n",
              "      <th>4</th>\n",
              "      <td>24.59</td>\n",
              "      <td>3.61</td>\n",
              "      <td>Female</td>\n",
              "      <td>No</td>\n",
              "      <td>Sun</td>\n",
              "      <td>Dinner</td>\n",
              "      <td>4</td>\n",
              "      <td>6.15</td>\n",
              "      <td>Tonya Carter</td>\n",
              "      <td>4832732618637221</td>\n",
              "      <td>Sun2251</td>\n",
              "      <td>7221</td>\n",
              "      <td>$$</td>\n",
              "      <td>Other</td>\n",
              "    </tr>\n",
              "  </tbody>\n",
              "</table>\n",
              "</div>"
            ],
            "text/plain": [
              "   total_bill   tip     sex smoker  ... Payment ID last_four  Expensive  Tip Quality\n",
              "0       16.99  1.01  Female     No  ...    Sun2959      3410         $$        Other\n",
              "1       10.34  1.66    Male     No  ...    Sun4608      9230         $$        Other\n",
              "2       21.01  3.50    Male     No  ...    Sun4458      1322         $$        Other\n",
              "3       23.68  3.31    Male     No  ...    Sun5260      5994         $$        Other\n",
              "4       24.59  3.61  Female     No  ...    Sun2251      7221         $$        Other\n",
              "\n",
              "[5 rows x 14 columns]"
            ]
          },
          "metadata": {},
          "execution_count": 211
        }
      ]
    },
    {
      "cell_type": "code",
      "metadata": {
        "colab": {
          "base_uri": "https://localhost:8080/"
        },
        "id": "YvpbYUwYBdqY",
        "outputId": "5810e5fc-d134-4e94-ec97-e0e15bf95d8c"
      },
      "source": [
        "help(np.vectorize)"
      ],
      "execution_count": 212,
      "outputs": [
        {
          "output_type": "stream",
          "name": "stdout",
          "text": [
            "Help on class vectorize in module numpy:\n",
            "\n",
            "class vectorize(builtins.object)\n",
            " |  vectorize(pyfunc, otypes=None, doc=None, excluded=None, cache=False, signature=None)\n",
            " |  \n",
            " |  vectorize(pyfunc, otypes=None, doc=None, excluded=None, cache=False,\n",
            " |            signature=None)\n",
            " |  \n",
            " |  Generalized function class.\n",
            " |  \n",
            " |  Define a vectorized function which takes a nested sequence of objects or\n",
            " |  numpy arrays as inputs and returns a single numpy array or a tuple of numpy\n",
            " |  arrays. The vectorized function evaluates `pyfunc` over successive tuples\n",
            " |  of the input arrays like the python map function, except it uses the\n",
            " |  broadcasting rules of numpy.\n",
            " |  \n",
            " |  The data type of the output of `vectorized` is determined by calling\n",
            " |  the function with the first element of the input.  This can be avoided\n",
            " |  by specifying the `otypes` argument.\n",
            " |  \n",
            " |  Parameters\n",
            " |  ----------\n",
            " |  pyfunc : callable\n",
            " |      A python function or method.\n",
            " |  otypes : str or list of dtypes, optional\n",
            " |      The output data type. It must be specified as either a string of\n",
            " |      typecode characters or a list of data type specifiers. There should\n",
            " |      be one data type specifier for each output.\n",
            " |  doc : str, optional\n",
            " |      The docstring for the function. If None, the docstring will be the\n",
            " |      ``pyfunc.__doc__``.\n",
            " |  excluded : set, optional\n",
            " |      Set of strings or integers representing the positional or keyword\n",
            " |      arguments for which the function will not be vectorized.  These will be\n",
            " |      passed directly to `pyfunc` unmodified.\n",
            " |  \n",
            " |      .. versionadded:: 1.7.0\n",
            " |  \n",
            " |  cache : bool, optional\n",
            " |     If `True`, then cache the first function call that determines the number\n",
            " |     of outputs if `otypes` is not provided.\n",
            " |  \n",
            " |      .. versionadded:: 1.7.0\n",
            " |  \n",
            " |  signature : string, optional\n",
            " |      Generalized universal function signature, e.g., ``(m,n),(n)->(m)`` for\n",
            " |      vectorized matrix-vector multiplication. If provided, ``pyfunc`` will\n",
            " |      be called with (and expected to return) arrays with shapes given by the\n",
            " |      size of corresponding core dimensions. By default, ``pyfunc`` is\n",
            " |      assumed to take scalars as input and output.\n",
            " |  \n",
            " |      .. versionadded:: 1.12.0\n",
            " |  \n",
            " |  Returns\n",
            " |  -------\n",
            " |  vectorized : callable\n",
            " |      Vectorized function.\n",
            " |  \n",
            " |  See Also\n",
            " |  --------\n",
            " |  frompyfunc : Takes an arbitrary Python function and returns a ufunc\n",
            " |  \n",
            " |  Notes\n",
            " |  -----\n",
            " |  The `vectorize` function is provided primarily for convenience, not for\n",
            " |  performance. The implementation is essentially a for loop.\n",
            " |  \n",
            " |  If `otypes` is not specified, then a call to the function with the\n",
            " |  first argument will be used to determine the number of outputs.  The\n",
            " |  results of this call will be cached if `cache` is `True` to prevent\n",
            " |  calling the function twice.  However, to implement the cache, the\n",
            " |  original function must be wrapped which will slow down subsequent\n",
            " |  calls, so only do this if your function is expensive.\n",
            " |  \n",
            " |  The new keyword argument interface and `excluded` argument support\n",
            " |  further degrades performance.\n",
            " |  \n",
            " |  References\n",
            " |  ----------\n",
            " |  .. [1] NumPy Reference, section `Generalized Universal Function API\n",
            " |         <https://docs.scipy.org/doc/numpy/reference/c-api.generalized-ufuncs.html>`_.\n",
            " |  \n",
            " |  Examples\n",
            " |  --------\n",
            " |  >>> def myfunc(a, b):\n",
            " |  ...     \"Return a-b if a>b, otherwise return a+b\"\n",
            " |  ...     if a > b:\n",
            " |  ...         return a - b\n",
            " |  ...     else:\n",
            " |  ...         return a + b\n",
            " |  \n",
            " |  >>> vfunc = np.vectorize(myfunc)\n",
            " |  >>> vfunc([1, 2, 3, 4], 2)\n",
            " |  array([3, 4, 1, 2])\n",
            " |  \n",
            " |  The docstring is taken from the input function to `vectorize` unless it\n",
            " |  is specified:\n",
            " |  \n",
            " |  >>> vfunc.__doc__\n",
            " |  'Return a-b if a>b, otherwise return a+b'\n",
            " |  >>> vfunc = np.vectorize(myfunc, doc='Vectorized `myfunc`')\n",
            " |  >>> vfunc.__doc__\n",
            " |  'Vectorized `myfunc`'\n",
            " |  \n",
            " |  The output type is determined by evaluating the first element of the input,\n",
            " |  unless it is specified:\n",
            " |  \n",
            " |  >>> out = vfunc([1, 2, 3, 4], 2)\n",
            " |  >>> type(out[0])\n",
            " |  <class 'numpy.int64'>\n",
            " |  >>> vfunc = np.vectorize(myfunc, otypes=[float])\n",
            " |  >>> out = vfunc([1, 2, 3, 4], 2)\n",
            " |  >>> type(out[0])\n",
            " |  <class 'numpy.float64'>\n",
            " |  \n",
            " |  The `excluded` argument can be used to prevent vectorizing over certain\n",
            " |  arguments.  This can be useful for array-like arguments of a fixed length\n",
            " |  such as the coefficients for a polynomial as in `polyval`:\n",
            " |  \n",
            " |  >>> def mypolyval(p, x):\n",
            " |  ...     _p = list(p)\n",
            " |  ...     res = _p.pop(0)\n",
            " |  ...     while _p:\n",
            " |  ...         res = res*x + _p.pop(0)\n",
            " |  ...     return res\n",
            " |  >>> vpolyval = np.vectorize(mypolyval, excluded=['p'])\n",
            " |  >>> vpolyval(p=[1, 2, 3], x=[0, 1])\n",
            " |  array([3, 6])\n",
            " |  \n",
            " |  Positional arguments may also be excluded by specifying their position:\n",
            " |  \n",
            " |  >>> vpolyval.excluded.add(0)\n",
            " |  >>> vpolyval([1, 2, 3], x=[0, 1])\n",
            " |  array([3, 6])\n",
            " |  \n",
            " |  The `signature` argument allows for vectorizing functions that act on\n",
            " |  non-scalar arrays of fixed length. For example, you can use it for a\n",
            " |  vectorized calculation of Pearson correlation coefficient and its p-value:\n",
            " |  \n",
            " |  >>> import scipy.stats\n",
            " |  >>> pearsonr = np.vectorize(scipy.stats.pearsonr,\n",
            " |  ...                 signature='(n),(n)->(),()')\n",
            " |  >>> pearsonr([[0, 1, 2, 3]], [[1, 2, 3, 4], [4, 3, 2, 1]])\n",
            " |  (array([ 1., -1.]), array([ 0.,  0.]))\n",
            " |  \n",
            " |  Or for a vectorized convolution:\n",
            " |  \n",
            " |  >>> convolve = np.vectorize(np.convolve, signature='(n),(m)->(k)')\n",
            " |  >>> convolve(np.eye(4), [1, 2, 1])\n",
            " |  array([[1., 2., 1., 0., 0., 0.],\n",
            " |         [0., 1., 2., 1., 0., 0.],\n",
            " |         [0., 0., 1., 2., 1., 0.],\n",
            " |         [0., 0., 0., 1., 2., 1.]])\n",
            " |  \n",
            " |  Methods defined here:\n",
            " |  \n",
            " |  __call__(self, *args, **kwargs)\n",
            " |      Return arrays with the results of `pyfunc` broadcast (vectorized) over\n",
            " |      `args` and `kwargs` not in `excluded`.\n",
            " |  \n",
            " |  __init__(self, pyfunc, otypes=None, doc=None, excluded=None, cache=False, signature=None)\n",
            " |      Initialize self.  See help(type(self)) for accurate signature.\n",
            " |  \n",
            " |  ----------------------------------------------------------------------\n",
            " |  Data descriptors defined here:\n",
            " |  \n",
            " |  __dict__\n",
            " |      dictionary for instance variables (if defined)\n",
            " |  \n",
            " |  __weakref__\n",
            " |      list of weak references to the object (if defined)\n",
            "\n"
          ]
        }
      ]
    },
    {
      "cell_type": "markdown",
      "metadata": {
        "id": "456gRoWKBtjk"
      },
      "source": [
        "### describe"
      ]
    },
    {
      "cell_type": "code",
      "metadata": {
        "colab": {
          "base_uri": "https://localhost:8080/",
          "height": 0
        },
        "id": "XIAc0TIzBnOz",
        "outputId": "857831fc-b45a-4006-cd96-5ccc69870bb4"
      },
      "source": [
        "df.describe()"
      ],
      "execution_count": 213,
      "outputs": [
        {
          "output_type": "execute_result",
          "data": {
            "text/html": [
              "<div>\n",
              "<style scoped>\n",
              "    .dataframe tbody tr th:only-of-type {\n",
              "        vertical-align: middle;\n",
              "    }\n",
              "\n",
              "    .dataframe tbody tr th {\n",
              "        vertical-align: top;\n",
              "    }\n",
              "\n",
              "    .dataframe thead th {\n",
              "        text-align: right;\n",
              "    }\n",
              "</style>\n",
              "<table border=\"1\" class=\"dataframe\">\n",
              "  <thead>\n",
              "    <tr style=\"text-align: right;\">\n",
              "      <th></th>\n",
              "      <th>total_bill</th>\n",
              "      <th>tip</th>\n",
              "      <th>size</th>\n",
              "      <th>price_per_person</th>\n",
              "      <th>CC Number</th>\n",
              "    </tr>\n",
              "  </thead>\n",
              "  <tbody>\n",
              "    <tr>\n",
              "      <th>count</th>\n",
              "      <td>244.000000</td>\n",
              "      <td>244.000000</td>\n",
              "      <td>244.000000</td>\n",
              "      <td>244.000000</td>\n",
              "      <td>2.440000e+02</td>\n",
              "    </tr>\n",
              "    <tr>\n",
              "      <th>mean</th>\n",
              "      <td>19.785943</td>\n",
              "      <td>2.998279</td>\n",
              "      <td>2.569672</td>\n",
              "      <td>7.888197</td>\n",
              "      <td>2.563496e+15</td>\n",
              "    </tr>\n",
              "    <tr>\n",
              "      <th>std</th>\n",
              "      <td>8.902412</td>\n",
              "      <td>1.383638</td>\n",
              "      <td>0.951100</td>\n",
              "      <td>2.914234</td>\n",
              "      <td>2.369340e+15</td>\n",
              "    </tr>\n",
              "    <tr>\n",
              "      <th>min</th>\n",
              "      <td>3.070000</td>\n",
              "      <td>1.000000</td>\n",
              "      <td>1.000000</td>\n",
              "      <td>2.880000</td>\n",
              "      <td>6.040679e+10</td>\n",
              "    </tr>\n",
              "    <tr>\n",
              "      <th>25%</th>\n",
              "      <td>13.347500</td>\n",
              "      <td>2.000000</td>\n",
              "      <td>2.000000</td>\n",
              "      <td>5.800000</td>\n",
              "      <td>3.040731e+13</td>\n",
              "    </tr>\n",
              "    <tr>\n",
              "      <th>50%</th>\n",
              "      <td>17.795000</td>\n",
              "      <td>2.900000</td>\n",
              "      <td>2.000000</td>\n",
              "      <td>7.255000</td>\n",
              "      <td>3.525318e+15</td>\n",
              "    </tr>\n",
              "    <tr>\n",
              "      <th>75%</th>\n",
              "      <td>24.127500</td>\n",
              "      <td>3.562500</td>\n",
              "      <td>3.000000</td>\n",
              "      <td>9.390000</td>\n",
              "      <td>4.553675e+15</td>\n",
              "    </tr>\n",
              "    <tr>\n",
              "      <th>max</th>\n",
              "      <td>50.810000</td>\n",
              "      <td>10.000000</td>\n",
              "      <td>6.000000</td>\n",
              "      <td>20.270000</td>\n",
              "      <td>6.596454e+15</td>\n",
              "    </tr>\n",
              "  </tbody>\n",
              "</table>\n",
              "</div>"
            ],
            "text/plain": [
              "       total_bill         tip        size  price_per_person     CC Number\n",
              "count  244.000000  244.000000  244.000000        244.000000  2.440000e+02\n",
              "mean    19.785943    2.998279    2.569672          7.888197  2.563496e+15\n",
              "std      8.902412    1.383638    0.951100          2.914234  2.369340e+15\n",
              "min      3.070000    1.000000    1.000000          2.880000  6.040679e+10\n",
              "25%     13.347500    2.000000    2.000000          5.800000  3.040731e+13\n",
              "50%     17.795000    2.900000    2.000000          7.255000  3.525318e+15\n",
              "75%     24.127500    3.562500    3.000000          9.390000  4.553675e+15\n",
              "max     50.810000   10.000000    6.000000         20.270000  6.596454e+15"
            ]
          },
          "metadata": {},
          "execution_count": 213
        }
      ]
    },
    {
      "cell_type": "code",
      "metadata": {
        "colab": {
          "base_uri": "https://localhost:8080/",
          "height": 0
        },
        "id": "VqmG0AyYBw8a",
        "outputId": "3355a1f0-f3cb-4913-c633-666bdfd3446f"
      },
      "source": [
        "df.describe().transpose()"
      ],
      "execution_count": 214,
      "outputs": [
        {
          "output_type": "execute_result",
          "data": {
            "text/html": [
              "<div>\n",
              "<style scoped>\n",
              "    .dataframe tbody tr th:only-of-type {\n",
              "        vertical-align: middle;\n",
              "    }\n",
              "\n",
              "    .dataframe tbody tr th {\n",
              "        vertical-align: top;\n",
              "    }\n",
              "\n",
              "    .dataframe thead th {\n",
              "        text-align: right;\n",
              "    }\n",
              "</style>\n",
              "<table border=\"1\" class=\"dataframe\">\n",
              "  <thead>\n",
              "    <tr style=\"text-align: right;\">\n",
              "      <th></th>\n",
              "      <th>count</th>\n",
              "      <th>mean</th>\n",
              "      <th>std</th>\n",
              "      <th>min</th>\n",
              "      <th>25%</th>\n",
              "      <th>50%</th>\n",
              "      <th>75%</th>\n",
              "      <th>max</th>\n",
              "    </tr>\n",
              "  </thead>\n",
              "  <tbody>\n",
              "    <tr>\n",
              "      <th>total_bill</th>\n",
              "      <td>244.0</td>\n",
              "      <td>1.978594e+01</td>\n",
              "      <td>8.902412e+00</td>\n",
              "      <td>3.070000e+00</td>\n",
              "      <td>1.334750e+01</td>\n",
              "      <td>1.779500e+01</td>\n",
              "      <td>2.412750e+01</td>\n",
              "      <td>5.081000e+01</td>\n",
              "    </tr>\n",
              "    <tr>\n",
              "      <th>tip</th>\n",
              "      <td>244.0</td>\n",
              "      <td>2.998279e+00</td>\n",
              "      <td>1.383638e+00</td>\n",
              "      <td>1.000000e+00</td>\n",
              "      <td>2.000000e+00</td>\n",
              "      <td>2.900000e+00</td>\n",
              "      <td>3.562500e+00</td>\n",
              "      <td>1.000000e+01</td>\n",
              "    </tr>\n",
              "    <tr>\n",
              "      <th>size</th>\n",
              "      <td>244.0</td>\n",
              "      <td>2.569672e+00</td>\n",
              "      <td>9.510998e-01</td>\n",
              "      <td>1.000000e+00</td>\n",
              "      <td>2.000000e+00</td>\n",
              "      <td>2.000000e+00</td>\n",
              "      <td>3.000000e+00</td>\n",
              "      <td>6.000000e+00</td>\n",
              "    </tr>\n",
              "    <tr>\n",
              "      <th>price_per_person</th>\n",
              "      <td>244.0</td>\n",
              "      <td>7.888197e+00</td>\n",
              "      <td>2.914234e+00</td>\n",
              "      <td>2.880000e+00</td>\n",
              "      <td>5.800000e+00</td>\n",
              "      <td>7.255000e+00</td>\n",
              "      <td>9.390000e+00</td>\n",
              "      <td>2.027000e+01</td>\n",
              "    </tr>\n",
              "    <tr>\n",
              "      <th>CC Number</th>\n",
              "      <td>244.0</td>\n",
              "      <td>2.563496e+15</td>\n",
              "      <td>2.369340e+15</td>\n",
              "      <td>6.040679e+10</td>\n",
              "      <td>3.040731e+13</td>\n",
              "      <td>3.525318e+15</td>\n",
              "      <td>4.553675e+15</td>\n",
              "      <td>6.596454e+15</td>\n",
              "    </tr>\n",
              "  </tbody>\n",
              "</table>\n",
              "</div>"
            ],
            "text/plain": [
              "                  count          mean  ...           75%           max\n",
              "total_bill        244.0  1.978594e+01  ...  2.412750e+01  5.081000e+01\n",
              "tip               244.0  2.998279e+00  ...  3.562500e+00  1.000000e+01\n",
              "size              244.0  2.569672e+00  ...  3.000000e+00  6.000000e+00\n",
              "price_per_person  244.0  7.888197e+00  ...  9.390000e+00  2.027000e+01\n",
              "CC Number         244.0  2.563496e+15  ...  4.553675e+15  6.596454e+15\n",
              "\n",
              "[5 rows x 8 columns]"
            ]
          },
          "metadata": {},
          "execution_count": 214
        }
      ]
    },
    {
      "cell_type": "markdown",
      "metadata": {
        "id": "wC86V3U7B0QA"
      },
      "source": [
        "### sort_values()"
      ]
    },
    {
      "cell_type": "code",
      "metadata": {
        "colab": {
          "base_uri": "https://localhost:8080/",
          "height": 0
        },
        "id": "7F5tTPS2Byh5",
        "outputId": "117e6ed3-9574-4cf1-cd2f-9fa915dddf22"
      },
      "source": [
        "df.sort_values('tip').head(3)"
      ],
      "execution_count": 215,
      "outputs": [
        {
          "output_type": "execute_result",
          "data": {
            "text/html": [
              "<div>\n",
              "<style scoped>\n",
              "    .dataframe tbody tr th:only-of-type {\n",
              "        vertical-align: middle;\n",
              "    }\n",
              "\n",
              "    .dataframe tbody tr th {\n",
              "        vertical-align: top;\n",
              "    }\n",
              "\n",
              "    .dataframe thead th {\n",
              "        text-align: right;\n",
              "    }\n",
              "</style>\n",
              "<table border=\"1\" class=\"dataframe\">\n",
              "  <thead>\n",
              "    <tr style=\"text-align: right;\">\n",
              "      <th></th>\n",
              "      <th>total_bill</th>\n",
              "      <th>tip</th>\n",
              "      <th>sex</th>\n",
              "      <th>smoker</th>\n",
              "      <th>day</th>\n",
              "      <th>time</th>\n",
              "      <th>size</th>\n",
              "      <th>price_per_person</th>\n",
              "      <th>Payer Name</th>\n",
              "      <th>CC Number</th>\n",
              "      <th>Payment ID</th>\n",
              "      <th>last_four</th>\n",
              "      <th>Expensive</th>\n",
              "      <th>Tip Quality</th>\n",
              "    </tr>\n",
              "  </thead>\n",
              "  <tbody>\n",
              "    <tr>\n",
              "      <th>67</th>\n",
              "      <td>3.07</td>\n",
              "      <td>1.0</td>\n",
              "      <td>Female</td>\n",
              "      <td>Yes</td>\n",
              "      <td>Sat</td>\n",
              "      <td>Dinner</td>\n",
              "      <td>1</td>\n",
              "      <td>3.07</td>\n",
              "      <td>Tiffany Brock</td>\n",
              "      <td>4359488526995267</td>\n",
              "      <td>Sat3455</td>\n",
              "      <td>5267</td>\n",
              "      <td>$</td>\n",
              "      <td>Generous</td>\n",
              "    </tr>\n",
              "    <tr>\n",
              "      <th>236</th>\n",
              "      <td>12.60</td>\n",
              "      <td>1.0</td>\n",
              "      <td>Male</td>\n",
              "      <td>Yes</td>\n",
              "      <td>Sat</td>\n",
              "      <td>Dinner</td>\n",
              "      <td>2</td>\n",
              "      <td>6.30</td>\n",
              "      <td>Matthew Myers</td>\n",
              "      <td>3543676378973965</td>\n",
              "      <td>Sat5032</td>\n",
              "      <td>3965</td>\n",
              "      <td>$$</td>\n",
              "      <td>Other</td>\n",
              "    </tr>\n",
              "    <tr>\n",
              "      <th>92</th>\n",
              "      <td>5.75</td>\n",
              "      <td>1.0</td>\n",
              "      <td>Female</td>\n",
              "      <td>Yes</td>\n",
              "      <td>Fri</td>\n",
              "      <td>Dinner</td>\n",
              "      <td>2</td>\n",
              "      <td>2.88</td>\n",
              "      <td>Leah Ramirez</td>\n",
              "      <td>3508911676966392</td>\n",
              "      <td>Fri3780</td>\n",
              "      <td>6392</td>\n",
              "      <td>$</td>\n",
              "      <td>Other</td>\n",
              "    </tr>\n",
              "  </tbody>\n",
              "</table>\n",
              "</div>"
            ],
            "text/plain": [
              "     total_bill  tip     sex smoker  ... Payment ID last_four  Expensive  Tip Quality\n",
              "67         3.07  1.0  Female    Yes  ...    Sat3455      5267          $     Generous\n",
              "236       12.60  1.0    Male    Yes  ...    Sat5032      3965         $$        Other\n",
              "92         5.75  1.0  Female    Yes  ...    Fri3780      6392          $        Other\n",
              "\n",
              "[3 rows x 14 columns]"
            ]
          },
          "metadata": {},
          "execution_count": 215
        }
      ]
    },
    {
      "cell_type": "code",
      "metadata": {
        "colab": {
          "base_uri": "https://localhost:8080/",
          "height": 0
        },
        "id": "QWkcYKEYB4B5",
        "outputId": "3f8d276f-52b4-463c-8037-b54c40679027"
      },
      "source": [
        "df.sort_values(['tip', 'size']).head(3)"
      ],
      "execution_count": 216,
      "outputs": [
        {
          "output_type": "execute_result",
          "data": {
            "text/html": [
              "<div>\n",
              "<style scoped>\n",
              "    .dataframe tbody tr th:only-of-type {\n",
              "        vertical-align: middle;\n",
              "    }\n",
              "\n",
              "    .dataframe tbody tr th {\n",
              "        vertical-align: top;\n",
              "    }\n",
              "\n",
              "    .dataframe thead th {\n",
              "        text-align: right;\n",
              "    }\n",
              "</style>\n",
              "<table border=\"1\" class=\"dataframe\">\n",
              "  <thead>\n",
              "    <tr style=\"text-align: right;\">\n",
              "      <th></th>\n",
              "      <th>total_bill</th>\n",
              "      <th>tip</th>\n",
              "      <th>sex</th>\n",
              "      <th>smoker</th>\n",
              "      <th>day</th>\n",
              "      <th>time</th>\n",
              "      <th>size</th>\n",
              "      <th>price_per_person</th>\n",
              "      <th>Payer Name</th>\n",
              "      <th>CC Number</th>\n",
              "      <th>Payment ID</th>\n",
              "      <th>last_four</th>\n",
              "      <th>Expensive</th>\n",
              "      <th>Tip Quality</th>\n",
              "    </tr>\n",
              "  </thead>\n",
              "  <tbody>\n",
              "    <tr>\n",
              "      <th>67</th>\n",
              "      <td>3.07</td>\n",
              "      <td>1.0</td>\n",
              "      <td>Female</td>\n",
              "      <td>Yes</td>\n",
              "      <td>Sat</td>\n",
              "      <td>Dinner</td>\n",
              "      <td>1</td>\n",
              "      <td>3.07</td>\n",
              "      <td>Tiffany Brock</td>\n",
              "      <td>4359488526995267</td>\n",
              "      <td>Sat3455</td>\n",
              "      <td>5267</td>\n",
              "      <td>$</td>\n",
              "      <td>Generous</td>\n",
              "    </tr>\n",
              "    <tr>\n",
              "      <th>111</th>\n",
              "      <td>7.25</td>\n",
              "      <td>1.0</td>\n",
              "      <td>Female</td>\n",
              "      <td>No</td>\n",
              "      <td>Sat</td>\n",
              "      <td>Dinner</td>\n",
              "      <td>1</td>\n",
              "      <td>7.25</td>\n",
              "      <td>Terri Jones</td>\n",
              "      <td>3559221007826887</td>\n",
              "      <td>Sat4801</td>\n",
              "      <td>6887</td>\n",
              "      <td>$</td>\n",
              "      <td>Other</td>\n",
              "    </tr>\n",
              "    <tr>\n",
              "      <th>92</th>\n",
              "      <td>5.75</td>\n",
              "      <td>1.0</td>\n",
              "      <td>Female</td>\n",
              "      <td>Yes</td>\n",
              "      <td>Fri</td>\n",
              "      <td>Dinner</td>\n",
              "      <td>2</td>\n",
              "      <td>2.88</td>\n",
              "      <td>Leah Ramirez</td>\n",
              "      <td>3508911676966392</td>\n",
              "      <td>Fri3780</td>\n",
              "      <td>6392</td>\n",
              "      <td>$</td>\n",
              "      <td>Other</td>\n",
              "    </tr>\n",
              "  </tbody>\n",
              "</table>\n",
              "</div>"
            ],
            "text/plain": [
              "     total_bill  tip     sex smoker  ... Payment ID last_four  Expensive  Tip Quality\n",
              "67         3.07  1.0  Female    Yes  ...    Sat3455      5267          $     Generous\n",
              "111        7.25  1.0  Female     No  ...    Sat4801      6887          $        Other\n",
              "92         5.75  1.0  Female    Yes  ...    Fri3780      6392          $        Other\n",
              "\n",
              "[3 rows x 14 columns]"
            ]
          },
          "metadata": {},
          "execution_count": 216
        }
      ]
    },
    {
      "cell_type": "markdown",
      "metadata": {
        "id": "dT3JIytxCFsD"
      },
      "source": [
        "### df.corr() for correlation"
      ]
    },
    {
      "cell_type": "code",
      "metadata": {
        "colab": {
          "base_uri": "https://localhost:8080/",
          "height": 0
        },
        "id": "xbIFNVZsCB8J",
        "outputId": "a110d2b1-3efe-4d00-ad05-d075ddfbb371"
      },
      "source": [
        "df.corr()"
      ],
      "execution_count": 217,
      "outputs": [
        {
          "output_type": "execute_result",
          "data": {
            "text/html": [
              "<div>\n",
              "<style scoped>\n",
              "    .dataframe tbody tr th:only-of-type {\n",
              "        vertical-align: middle;\n",
              "    }\n",
              "\n",
              "    .dataframe tbody tr th {\n",
              "        vertical-align: top;\n",
              "    }\n",
              "\n",
              "    .dataframe thead th {\n",
              "        text-align: right;\n",
              "    }\n",
              "</style>\n",
              "<table border=\"1\" class=\"dataframe\">\n",
              "  <thead>\n",
              "    <tr style=\"text-align: right;\">\n",
              "      <th></th>\n",
              "      <th>total_bill</th>\n",
              "      <th>tip</th>\n",
              "      <th>size</th>\n",
              "      <th>price_per_person</th>\n",
              "      <th>CC Number</th>\n",
              "    </tr>\n",
              "  </thead>\n",
              "  <tbody>\n",
              "    <tr>\n",
              "      <th>total_bill</th>\n",
              "      <td>1.000000</td>\n",
              "      <td>0.675734</td>\n",
              "      <td>0.598315</td>\n",
              "      <td>0.647554</td>\n",
              "      <td>0.104576</td>\n",
              "    </tr>\n",
              "    <tr>\n",
              "      <th>tip</th>\n",
              "      <td>0.675734</td>\n",
              "      <td>1.000000</td>\n",
              "      <td>0.489299</td>\n",
              "      <td>0.347405</td>\n",
              "      <td>0.110857</td>\n",
              "    </tr>\n",
              "    <tr>\n",
              "      <th>size</th>\n",
              "      <td>0.598315</td>\n",
              "      <td>0.489299</td>\n",
              "      <td>1.000000</td>\n",
              "      <td>-0.175359</td>\n",
              "      <td>-0.030239</td>\n",
              "    </tr>\n",
              "    <tr>\n",
              "      <th>price_per_person</th>\n",
              "      <td>0.647554</td>\n",
              "      <td>0.347405</td>\n",
              "      <td>-0.175359</td>\n",
              "      <td>1.000000</td>\n",
              "      <td>0.135240</td>\n",
              "    </tr>\n",
              "    <tr>\n",
              "      <th>CC Number</th>\n",
              "      <td>0.104576</td>\n",
              "      <td>0.110857</td>\n",
              "      <td>-0.030239</td>\n",
              "      <td>0.135240</td>\n",
              "      <td>1.000000</td>\n",
              "    </tr>\n",
              "  </tbody>\n",
              "</table>\n",
              "</div>"
            ],
            "text/plain": [
              "                  total_bill       tip      size  price_per_person  CC Number\n",
              "total_bill          1.000000  0.675734  0.598315          0.647554   0.104576\n",
              "tip                 0.675734  1.000000  0.489299          0.347405   0.110857\n",
              "size                0.598315  0.489299  1.000000         -0.175359  -0.030239\n",
              "price_per_person    0.647554  0.347405 -0.175359          1.000000   0.135240\n",
              "CC Number           0.104576  0.110857 -0.030239          0.135240   1.000000"
            ]
          },
          "metadata": {},
          "execution_count": 217
        }
      ]
    },
    {
      "cell_type": "code",
      "metadata": {
        "colab": {
          "base_uri": "https://localhost:8080/",
          "height": 0
        },
        "id": "HHron4tuCI7R",
        "outputId": "f9a991ec-3b08-4ccb-ab99-a78f0a8239c0"
      },
      "source": [
        "df[['total_bill', 'tip']].corr()"
      ],
      "execution_count": 218,
      "outputs": [
        {
          "output_type": "execute_result",
          "data": {
            "text/html": [
              "<div>\n",
              "<style scoped>\n",
              "    .dataframe tbody tr th:only-of-type {\n",
              "        vertical-align: middle;\n",
              "    }\n",
              "\n",
              "    .dataframe tbody tr th {\n",
              "        vertical-align: top;\n",
              "    }\n",
              "\n",
              "    .dataframe thead th {\n",
              "        text-align: right;\n",
              "    }\n",
              "</style>\n",
              "<table border=\"1\" class=\"dataframe\">\n",
              "  <thead>\n",
              "    <tr style=\"text-align: right;\">\n",
              "      <th></th>\n",
              "      <th>total_bill</th>\n",
              "      <th>tip</th>\n",
              "    </tr>\n",
              "  </thead>\n",
              "  <tbody>\n",
              "    <tr>\n",
              "      <th>total_bill</th>\n",
              "      <td>1.000000</td>\n",
              "      <td>0.675734</td>\n",
              "    </tr>\n",
              "    <tr>\n",
              "      <th>tip</th>\n",
              "      <td>0.675734</td>\n",
              "      <td>1.000000</td>\n",
              "    </tr>\n",
              "  </tbody>\n",
              "</table>\n",
              "</div>"
            ],
            "text/plain": [
              "            total_bill       tip\n",
              "total_bill    1.000000  0.675734\n",
              "tip           0.675734  1.000000"
            ]
          },
          "metadata": {},
          "execution_count": 218
        }
      ]
    },
    {
      "cell_type": "markdown",
      "metadata": {
        "id": "Bh-gF6IACSDZ"
      },
      "source": [
        "### idxmin, idxmax"
      ]
    },
    {
      "cell_type": "code",
      "metadata": {
        "colab": {
          "base_uri": "https://localhost:8080/"
        },
        "id": "vLHhjy5YCQOb",
        "outputId": "87cb7f98-edcc-43e5-f50f-73032ebfddb1"
      },
      "source": [
        "df['total_bill'].max()"
      ],
      "execution_count": 219,
      "outputs": [
        {
          "output_type": "execute_result",
          "data": {
            "text/plain": [
              "50.81"
            ]
          },
          "metadata": {},
          "execution_count": 219
        }
      ]
    },
    {
      "cell_type": "code",
      "metadata": {
        "colab": {
          "base_uri": "https://localhost:8080/"
        },
        "id": "DK0ATSGQCWMK",
        "outputId": "795cc5ef-4579-4d9b-e409-cf62382ea02c"
      },
      "source": [
        "df['total_bill'].idxmax() # return index"
      ],
      "execution_count": 220,
      "outputs": [
        {
          "output_type": "execute_result",
          "data": {
            "text/plain": [
              "170"
            ]
          },
          "metadata": {},
          "execution_count": 220
        }
      ]
    },
    {
      "cell_type": "code",
      "metadata": {
        "colab": {
          "base_uri": "https://localhost:8080/"
        },
        "id": "UP5atQAkCYLJ",
        "outputId": "9d5d5bd4-9972-4dd7-ca93-e2ba25464916"
      },
      "source": [
        "df.iloc[170]"
      ],
      "execution_count": 221,
      "outputs": [
        {
          "output_type": "execute_result",
          "data": {
            "text/plain": [
              "total_bill                     50.81\n",
              "tip                               10\n",
              "sex                             Male\n",
              "smoker                           Yes\n",
              "day                              Sat\n",
              "time                          Dinner\n",
              "size                               3\n",
              "price_per_person               16.94\n",
              "Payer Name             Gregory Clark\n",
              "CC Number           5473850968388236\n",
              "Payment ID                   Sat1954\n",
              "last_four                       8236\n",
              "Expensive                        $$$\n",
              "Tip Quality                    Other\n",
              "Name: 170, dtype: object"
            ]
          },
          "metadata": {},
          "execution_count": 221
        }
      ]
    },
    {
      "cell_type": "markdown",
      "metadata": {
        "id": "sciE-XFOCj2O"
      },
      "source": [
        "### Value_counts()"
      ]
    },
    {
      "cell_type": "code",
      "metadata": {
        "colab": {
          "base_uri": "https://localhost:8080/"
        },
        "id": "NkTwQSfOCeaM",
        "outputId": "3400573f-96b6-4b6d-e30b-743d1737d2bc"
      },
      "source": [
        "df['sex'].value_counts()"
      ],
      "execution_count": 222,
      "outputs": [
        {
          "output_type": "execute_result",
          "data": {
            "text/plain": [
              "Male      157\n",
              "Female     87\n",
              "Name: sex, dtype: int64"
            ]
          },
          "metadata": {},
          "execution_count": 222
        }
      ]
    },
    {
      "cell_type": "code",
      "metadata": {
        "colab": {
          "base_uri": "https://localhost:8080/"
        },
        "id": "YD8AdLu6CpLj",
        "outputId": "0ad9b282-451c-4d8e-eaaa-ee128511fb08"
      },
      "source": [
        "df['day'].value_counts().sort_values(ascending=False)"
      ],
      "execution_count": 223,
      "outputs": [
        {
          "output_type": "execute_result",
          "data": {
            "text/plain": [
              "Sat     87\n",
              "Sun     76\n",
              "Thur    62\n",
              "Fri     19\n",
              "Name: day, dtype: int64"
            ]
          },
          "metadata": {},
          "execution_count": 223
        }
      ]
    },
    {
      "cell_type": "markdown",
      "metadata": {
        "id": "7x-A3XyZC90_"
      },
      "source": [
        "### replace()"
      ]
    },
    {
      "cell_type": "code",
      "metadata": {
        "colab": {
          "base_uri": "https://localhost:8080/"
        },
        "id": "gmICpXv4CyHy",
        "outputId": "a5adb1bc-c3c7-4f49-b4b2-ed7eaf4dddd0"
      },
      "source": [
        "df['Tip Quality'].value_counts()"
      ],
      "execution_count": 224,
      "outputs": [
        {
          "output_type": "execute_result",
          "data": {
            "text/plain": [
              "Other       234\n",
              "Generous     10\n",
              "Name: Tip Quality, dtype: int64"
            ]
          },
          "metadata": {},
          "execution_count": 224
        }
      ]
    },
    {
      "cell_type": "code",
      "metadata": {
        "colab": {
          "base_uri": "https://localhost:8080/"
        },
        "id": "e4q9kpzJDIQR",
        "outputId": "8840daaf-4351-4b61-9073-5965dd6a1e0a"
      },
      "source": [
        "df['Tip Quality'].replace(to_replace='Other', value='OK').value_counts()"
      ],
      "execution_count": 225,
      "outputs": [
        {
          "output_type": "execute_result",
          "data": {
            "text/plain": [
              "OK          234\n",
              "Generous     10\n",
              "Name: Tip Quality, dtype: int64"
            ]
          },
          "metadata": {},
          "execution_count": 225
        }
      ]
    },
    {
      "cell_type": "code",
      "metadata": {
        "id": "9srhaGKvDUph"
      },
      "source": [
        ""
      ],
      "execution_count": 225,
      "outputs": []
    },
    {
      "cell_type": "markdown",
      "metadata": {
        "id": "1-qJOBrUDY3B"
      },
      "source": [
        "### unique"
      ]
    },
    {
      "cell_type": "code",
      "metadata": {
        "colab": {
          "base_uri": "https://localhost:8080/"
        },
        "id": "-r87q2XfDajc",
        "outputId": "d00d1355-4bda-43a7-8d1d-61007c461488"
      },
      "source": [
        "df['size'].unique()"
      ],
      "execution_count": 226,
      "outputs": [
        {
          "output_type": "execute_result",
          "data": {
            "text/plain": [
              "array([2, 3, 4, 1, 6, 5])"
            ]
          },
          "metadata": {},
          "execution_count": 226
        }
      ]
    },
    {
      "cell_type": "code",
      "metadata": {
        "colab": {
          "base_uri": "https://localhost:8080/"
        },
        "id": "PKY3GEcpDc7T",
        "outputId": "d4a625f9-3aa7-4e76-b0bc-006e65055e96"
      },
      "source": [
        "df['size'].nunique()"
      ],
      "execution_count": 227,
      "outputs": [
        {
          "output_type": "execute_result",
          "data": {
            "text/plain": [
              "6"
            ]
          },
          "metadata": {},
          "execution_count": 227
        }
      ]
    },
    {
      "cell_type": "markdown",
      "metadata": {
        "id": "LvkEjVCsDivR"
      },
      "source": [
        "### map"
      ]
    },
    {
      "cell_type": "code",
      "metadata": {
        "colab": {
          "base_uri": "https://localhost:8080/"
        },
        "id": "E0Jc_Tc0DxK9",
        "outputId": "1d6132f4-b602-4ae3-acc6-5812993a45f4"
      },
      "source": [
        "df.time.value_counts()"
      ],
      "execution_count": 228,
      "outputs": [
        {
          "output_type": "execute_result",
          "data": {
            "text/plain": [
              "Dinner    176\n",
              "Lunch      68\n",
              "Name: time, dtype: int64"
            ]
          },
          "metadata": {},
          "execution_count": 228
        }
      ]
    },
    {
      "cell_type": "code",
      "metadata": {
        "colab": {
          "base_uri": "https://localhost:8080/"
        },
        "id": "kkhv-ZrPDfT5",
        "outputId": "be78ee31-daaf-4945-ef36-115ec67f5473"
      },
      "source": [
        "mmap = {'Dinner':'D','Lunch':'L'}\n",
        "df['time'].map(mmap).value_counts()"
      ],
      "execution_count": 229,
      "outputs": [
        {
          "output_type": "execute_result",
          "data": {
            "text/plain": [
              "D    176\n",
              "L     68\n",
              "Name: time, dtype: int64"
            ]
          },
          "metadata": {},
          "execution_count": 229
        }
      ]
    },
    {
      "cell_type": "markdown",
      "metadata": {
        "id": "AWAckF2XELq8"
      },
      "source": [
        "### duplicates"
      ]
    },
    {
      "cell_type": "code",
      "metadata": {
        "colab": {
          "base_uri": "https://localhost:8080/"
        },
        "id": "XxGmbVQPDvWK",
        "outputId": "bcdce2db-e8cf-49c7-af1b-c15202b78127"
      },
      "source": [
        "df.duplicated().value_counts()"
      ],
      "execution_count": 230,
      "outputs": [
        {
          "output_type": "execute_result",
          "data": {
            "text/plain": [
              "False    244\n",
              "dtype: int64"
            ]
          },
          "metadata": {},
          "execution_count": 230
        }
      ]
    },
    {
      "cell_type": "code",
      "metadata": {
        "colab": {
          "base_uri": "https://localhost:8080/",
          "height": 0
        },
        "id": "D4Vn3-2_EZiK",
        "outputId": "39488825-b0bf-471f-f224-2178098faca2"
      },
      "source": [
        "simple_df = pd.DataFrame([1,2,2],['a','b','c'])\n",
        "simple_df"
      ],
      "execution_count": 231,
      "outputs": [
        {
          "output_type": "execute_result",
          "data": {
            "text/html": [
              "<div>\n",
              "<style scoped>\n",
              "    .dataframe tbody tr th:only-of-type {\n",
              "        vertical-align: middle;\n",
              "    }\n",
              "\n",
              "    .dataframe tbody tr th {\n",
              "        vertical-align: top;\n",
              "    }\n",
              "\n",
              "    .dataframe thead th {\n",
              "        text-align: right;\n",
              "    }\n",
              "</style>\n",
              "<table border=\"1\" class=\"dataframe\">\n",
              "  <thead>\n",
              "    <tr style=\"text-align: right;\">\n",
              "      <th></th>\n",
              "      <th>0</th>\n",
              "    </tr>\n",
              "  </thead>\n",
              "  <tbody>\n",
              "    <tr>\n",
              "      <th>a</th>\n",
              "      <td>1</td>\n",
              "    </tr>\n",
              "    <tr>\n",
              "      <th>b</th>\n",
              "      <td>2</td>\n",
              "    </tr>\n",
              "    <tr>\n",
              "      <th>c</th>\n",
              "      <td>2</td>\n",
              "    </tr>\n",
              "  </tbody>\n",
              "</table>\n",
              "</div>"
            ],
            "text/plain": [
              "   0\n",
              "a  1\n",
              "b  2\n",
              "c  2"
            ]
          },
          "metadata": {},
          "execution_count": 231
        }
      ]
    },
    {
      "cell_type": "code",
      "metadata": {
        "colab": {
          "base_uri": "https://localhost:8080/"
        },
        "id": "bNMTlFl3Em4x",
        "outputId": "3ed1c20c-5a76-4361-9d1c-f47d2b90386b"
      },
      "source": [
        "simple_df.duplicated()"
      ],
      "execution_count": 232,
      "outputs": [
        {
          "output_type": "execute_result",
          "data": {
            "text/plain": [
              "a    False\n",
              "b    False\n",
              "c     True\n",
              "dtype: bool"
            ]
          },
          "metadata": {},
          "execution_count": 232
        }
      ]
    },
    {
      "cell_type": "code",
      "metadata": {
        "colab": {
          "base_uri": "https://localhost:8080/",
          "height": 0
        },
        "id": "GiaSxGsgEp6R",
        "outputId": "bfef0ef0-7bc7-4299-e8d9-30887440da6f"
      },
      "source": [
        "simple_df.drop_duplicates()"
      ],
      "execution_count": 233,
      "outputs": [
        {
          "output_type": "execute_result",
          "data": {
            "text/html": [
              "<div>\n",
              "<style scoped>\n",
              "    .dataframe tbody tr th:only-of-type {\n",
              "        vertical-align: middle;\n",
              "    }\n",
              "\n",
              "    .dataframe tbody tr th {\n",
              "        vertical-align: top;\n",
              "    }\n",
              "\n",
              "    .dataframe thead th {\n",
              "        text-align: right;\n",
              "    }\n",
              "</style>\n",
              "<table border=\"1\" class=\"dataframe\">\n",
              "  <thead>\n",
              "    <tr style=\"text-align: right;\">\n",
              "      <th></th>\n",
              "      <th>0</th>\n",
              "    </tr>\n",
              "  </thead>\n",
              "  <tbody>\n",
              "    <tr>\n",
              "      <th>a</th>\n",
              "      <td>1</td>\n",
              "    </tr>\n",
              "    <tr>\n",
              "      <th>b</th>\n",
              "      <td>2</td>\n",
              "    </tr>\n",
              "  </tbody>\n",
              "</table>\n",
              "</div>"
            ],
            "text/plain": [
              "   0\n",
              "a  1\n",
              "b  2"
            ]
          },
          "metadata": {},
          "execution_count": 233
        }
      ]
    },
    {
      "cell_type": "markdown",
      "metadata": {
        "id": "tJK-BGXKEwkI"
      },
      "source": [
        "### between"
      ]
    },
    {
      "cell_type": "code",
      "metadata": {
        "colab": {
          "base_uri": "https://localhost:8080/"
        },
        "id": "ge1kUrj4Esch",
        "outputId": "3b121a5c-1626-4087-d71f-ceea297525a9"
      },
      "source": [
        "df['total_bill'].between(10,20, inclusive=True).value_counts()"
      ],
      "execution_count": 234,
      "outputs": [
        {
          "output_type": "execute_result",
          "data": {
            "text/plain": [
              "True     130\n",
              "False    114\n",
              "Name: total_bill, dtype: int64"
            ]
          },
          "metadata": {},
          "execution_count": 234
        }
      ]
    },
    {
      "cell_type": "code",
      "metadata": {
        "colab": {
          "base_uri": "https://localhost:8080/",
          "height": 0
        },
        "id": "smJUMHQxE21q",
        "outputId": "3b0c395c-73a5-4343-8d54-d0b3bb5cda5a"
      },
      "source": [
        "df[df['total_bill'].between(10,20,inclusive=True)].head()"
      ],
      "execution_count": 235,
      "outputs": [
        {
          "output_type": "execute_result",
          "data": {
            "text/html": [
              "<div>\n",
              "<style scoped>\n",
              "    .dataframe tbody tr th:only-of-type {\n",
              "        vertical-align: middle;\n",
              "    }\n",
              "\n",
              "    .dataframe tbody tr th {\n",
              "        vertical-align: top;\n",
              "    }\n",
              "\n",
              "    .dataframe thead th {\n",
              "        text-align: right;\n",
              "    }\n",
              "</style>\n",
              "<table border=\"1\" class=\"dataframe\">\n",
              "  <thead>\n",
              "    <tr style=\"text-align: right;\">\n",
              "      <th></th>\n",
              "      <th>total_bill</th>\n",
              "      <th>tip</th>\n",
              "      <th>sex</th>\n",
              "      <th>smoker</th>\n",
              "      <th>day</th>\n",
              "      <th>time</th>\n",
              "      <th>size</th>\n",
              "      <th>price_per_person</th>\n",
              "      <th>Payer Name</th>\n",
              "      <th>CC Number</th>\n",
              "      <th>Payment ID</th>\n",
              "      <th>last_four</th>\n",
              "      <th>Expensive</th>\n",
              "      <th>Tip Quality</th>\n",
              "    </tr>\n",
              "  </thead>\n",
              "  <tbody>\n",
              "    <tr>\n",
              "      <th>0</th>\n",
              "      <td>16.99</td>\n",
              "      <td>1.01</td>\n",
              "      <td>Female</td>\n",
              "      <td>No</td>\n",
              "      <td>Sun</td>\n",
              "      <td>Dinner</td>\n",
              "      <td>2</td>\n",
              "      <td>8.49</td>\n",
              "      <td>Christy Cunningham</td>\n",
              "      <td>3560325168603410</td>\n",
              "      <td>Sun2959</td>\n",
              "      <td>3410</td>\n",
              "      <td>$$</td>\n",
              "      <td>Other</td>\n",
              "    </tr>\n",
              "    <tr>\n",
              "      <th>1</th>\n",
              "      <td>10.34</td>\n",
              "      <td>1.66</td>\n",
              "      <td>Male</td>\n",
              "      <td>No</td>\n",
              "      <td>Sun</td>\n",
              "      <td>Dinner</td>\n",
              "      <td>3</td>\n",
              "      <td>3.45</td>\n",
              "      <td>Douglas Tucker</td>\n",
              "      <td>4478071379779230</td>\n",
              "      <td>Sun4608</td>\n",
              "      <td>9230</td>\n",
              "      <td>$$</td>\n",
              "      <td>Other</td>\n",
              "    </tr>\n",
              "    <tr>\n",
              "      <th>8</th>\n",
              "      <td>15.04</td>\n",
              "      <td>1.96</td>\n",
              "      <td>Male</td>\n",
              "      <td>No</td>\n",
              "      <td>Sun</td>\n",
              "      <td>Dinner</td>\n",
              "      <td>2</td>\n",
              "      <td>7.52</td>\n",
              "      <td>Joseph Mcdonald</td>\n",
              "      <td>3522866365840377</td>\n",
              "      <td>Sun6820</td>\n",
              "      <td>0377</td>\n",
              "      <td>$$</td>\n",
              "      <td>Other</td>\n",
              "    </tr>\n",
              "    <tr>\n",
              "      <th>9</th>\n",
              "      <td>14.78</td>\n",
              "      <td>3.23</td>\n",
              "      <td>Male</td>\n",
              "      <td>No</td>\n",
              "      <td>Sun</td>\n",
              "      <td>Dinner</td>\n",
              "      <td>2</td>\n",
              "      <td>7.39</td>\n",
              "      <td>Jerome Abbott</td>\n",
              "      <td>3532124519049786</td>\n",
              "      <td>Sun3775</td>\n",
              "      <td>9786</td>\n",
              "      <td>$$</td>\n",
              "      <td>Other</td>\n",
              "    </tr>\n",
              "    <tr>\n",
              "      <th>10</th>\n",
              "      <td>10.27</td>\n",
              "      <td>1.71</td>\n",
              "      <td>Male</td>\n",
              "      <td>No</td>\n",
              "      <td>Sun</td>\n",
              "      <td>Dinner</td>\n",
              "      <td>2</td>\n",
              "      <td>5.14</td>\n",
              "      <td>William Riley</td>\n",
              "      <td>566287581219</td>\n",
              "      <td>Sun2546</td>\n",
              "      <td>1219</td>\n",
              "      <td>$$</td>\n",
              "      <td>Other</td>\n",
              "    </tr>\n",
              "  </tbody>\n",
              "</table>\n",
              "</div>"
            ],
            "text/plain": [
              "    total_bill   tip     sex smoker  ... Payment ID last_four  Expensive  Tip Quality\n",
              "0        16.99  1.01  Female     No  ...    Sun2959      3410         $$        Other\n",
              "1        10.34  1.66    Male     No  ...    Sun4608      9230         $$        Other\n",
              "8        15.04  1.96    Male     No  ...    Sun6820      0377         $$        Other\n",
              "9        14.78  3.23    Male     No  ...    Sun3775      9786         $$        Other\n",
              "10       10.27  1.71    Male     No  ...    Sun2546      1219         $$        Other\n",
              "\n",
              "[5 rows x 14 columns]"
            ]
          },
          "metadata": {},
          "execution_count": 235
        }
      ]
    },
    {
      "cell_type": "markdown",
      "metadata": {
        "id": "Qk8wSmxGFA8x"
      },
      "source": [
        "### sample"
      ]
    },
    {
      "cell_type": "code",
      "metadata": {
        "colab": {
          "base_uri": "https://localhost:8080/",
          "height": 0
        },
        "id": "6Qe4kwMRE-nC",
        "outputId": "6ef7e552-92da-47cc-86f0-182f4d7362ff"
      },
      "source": [
        "df.sample(4)"
      ],
      "execution_count": 236,
      "outputs": [
        {
          "output_type": "execute_result",
          "data": {
            "text/html": [
              "<div>\n",
              "<style scoped>\n",
              "    .dataframe tbody tr th:only-of-type {\n",
              "        vertical-align: middle;\n",
              "    }\n",
              "\n",
              "    .dataframe tbody tr th {\n",
              "        vertical-align: top;\n",
              "    }\n",
              "\n",
              "    .dataframe thead th {\n",
              "        text-align: right;\n",
              "    }\n",
              "</style>\n",
              "<table border=\"1\" class=\"dataframe\">\n",
              "  <thead>\n",
              "    <tr style=\"text-align: right;\">\n",
              "      <th></th>\n",
              "      <th>total_bill</th>\n",
              "      <th>tip</th>\n",
              "      <th>sex</th>\n",
              "      <th>smoker</th>\n",
              "      <th>day</th>\n",
              "      <th>time</th>\n",
              "      <th>size</th>\n",
              "      <th>price_per_person</th>\n",
              "      <th>Payer Name</th>\n",
              "      <th>CC Number</th>\n",
              "      <th>Payment ID</th>\n",
              "      <th>last_four</th>\n",
              "      <th>Expensive</th>\n",
              "      <th>Tip Quality</th>\n",
              "    </tr>\n",
              "  </thead>\n",
              "  <tbody>\n",
              "    <tr>\n",
              "      <th>150</th>\n",
              "      <td>14.07</td>\n",
              "      <td>2.50</td>\n",
              "      <td>Male</td>\n",
              "      <td>No</td>\n",
              "      <td>Sun</td>\n",
              "      <td>Dinner</td>\n",
              "      <td>2</td>\n",
              "      <td>7.04</td>\n",
              "      <td>Luke Rice</td>\n",
              "      <td>4813617017359506</td>\n",
              "      <td>Sun8863</td>\n",
              "      <td>9506</td>\n",
              "      <td>$$</td>\n",
              "      <td>Other</td>\n",
              "    </tr>\n",
              "    <tr>\n",
              "      <th>208</th>\n",
              "      <td>24.27</td>\n",
              "      <td>2.03</td>\n",
              "      <td>Male</td>\n",
              "      <td>Yes</td>\n",
              "      <td>Sat</td>\n",
              "      <td>Dinner</td>\n",
              "      <td>2</td>\n",
              "      <td>12.14</td>\n",
              "      <td>Jason Carter</td>\n",
              "      <td>4268942915626180</td>\n",
              "      <td>Sat6048</td>\n",
              "      <td>6180</td>\n",
              "      <td>$$</td>\n",
              "      <td>Other</td>\n",
              "    </tr>\n",
              "    <tr>\n",
              "      <th>232</th>\n",
              "      <td>11.61</td>\n",
              "      <td>3.39</td>\n",
              "      <td>Male</td>\n",
              "      <td>No</td>\n",
              "      <td>Sat</td>\n",
              "      <td>Dinner</td>\n",
              "      <td>2</td>\n",
              "      <td>5.80</td>\n",
              "      <td>James Taylor</td>\n",
              "      <td>6011482917327995</td>\n",
              "      <td>Sat2124</td>\n",
              "      <td>7995</td>\n",
              "      <td>$$</td>\n",
              "      <td>Generous</td>\n",
              "    </tr>\n",
              "    <tr>\n",
              "      <th>183</th>\n",
              "      <td>23.17</td>\n",
              "      <td>6.50</td>\n",
              "      <td>Male</td>\n",
              "      <td>Yes</td>\n",
              "      <td>Sun</td>\n",
              "      <td>Dinner</td>\n",
              "      <td>4</td>\n",
              "      <td>5.79</td>\n",
              "      <td>Dr. Michael James</td>\n",
              "      <td>4718501859162</td>\n",
              "      <td>Sun6059</td>\n",
              "      <td>9162</td>\n",
              "      <td>$$</td>\n",
              "      <td>Generous</td>\n",
              "    </tr>\n",
              "  </tbody>\n",
              "</table>\n",
              "</div>"
            ],
            "text/plain": [
              "     total_bill   tip   sex smoker  ... Payment ID last_four  Expensive  Tip Quality\n",
              "150       14.07  2.50  Male     No  ...    Sun8863      9506         $$        Other\n",
              "208       24.27  2.03  Male    Yes  ...    Sat6048      6180         $$        Other\n",
              "232       11.61  3.39  Male     No  ...    Sat2124      7995         $$     Generous\n",
              "183       23.17  6.50  Male    Yes  ...    Sun6059      9162         $$     Generous\n",
              "\n",
              "[4 rows x 14 columns]"
            ]
          },
          "metadata": {},
          "execution_count": 236
        }
      ]
    },
    {
      "cell_type": "code",
      "metadata": {
        "colab": {
          "base_uri": "https://localhost:8080/"
        },
        "id": "5an9ni14FK0j",
        "outputId": "452b55c6-26ab-4b82-d743-a0681585014c"
      },
      "source": [
        "df.shape"
      ],
      "execution_count": 237,
      "outputs": [
        {
          "output_type": "execute_result",
          "data": {
            "text/plain": [
              "(244, 14)"
            ]
          },
          "metadata": {},
          "execution_count": 237
        }
      ]
    },
    {
      "cell_type": "code",
      "metadata": {
        "colab": {
          "base_uri": "https://localhost:8080/",
          "height": 0
        },
        "id": "1YJRsHZSFD0S",
        "outputId": "40bd95d6-cc79-45b6-e1fb-31634d819a19"
      },
      "source": [
        "df.sample(frac=0.02)"
      ],
      "execution_count": 238,
      "outputs": [
        {
          "output_type": "execute_result",
          "data": {
            "text/html": [
              "<div>\n",
              "<style scoped>\n",
              "    .dataframe tbody tr th:only-of-type {\n",
              "        vertical-align: middle;\n",
              "    }\n",
              "\n",
              "    .dataframe tbody tr th {\n",
              "        vertical-align: top;\n",
              "    }\n",
              "\n",
              "    .dataframe thead th {\n",
              "        text-align: right;\n",
              "    }\n",
              "</style>\n",
              "<table border=\"1\" class=\"dataframe\">\n",
              "  <thead>\n",
              "    <tr style=\"text-align: right;\">\n",
              "      <th></th>\n",
              "      <th>total_bill</th>\n",
              "      <th>tip</th>\n",
              "      <th>sex</th>\n",
              "      <th>smoker</th>\n",
              "      <th>day</th>\n",
              "      <th>time</th>\n",
              "      <th>size</th>\n",
              "      <th>price_per_person</th>\n",
              "      <th>Payer Name</th>\n",
              "      <th>CC Number</th>\n",
              "      <th>Payment ID</th>\n",
              "      <th>last_four</th>\n",
              "      <th>Expensive</th>\n",
              "      <th>Tip Quality</th>\n",
              "    </tr>\n",
              "  </thead>\n",
              "  <tbody>\n",
              "    <tr>\n",
              "      <th>221</th>\n",
              "      <td>13.42</td>\n",
              "      <td>3.48</td>\n",
              "      <td>Female</td>\n",
              "      <td>Yes</td>\n",
              "      <td>Fri</td>\n",
              "      <td>Lunch</td>\n",
              "      <td>2</td>\n",
              "      <td>6.71</td>\n",
              "      <td>Leslie Kaufman</td>\n",
              "      <td>379437981958785</td>\n",
              "      <td>Fri7511</td>\n",
              "      <td>8785</td>\n",
              "      <td>$$</td>\n",
              "      <td>Generous</td>\n",
              "    </tr>\n",
              "    <tr>\n",
              "      <th>26</th>\n",
              "      <td>13.37</td>\n",
              "      <td>2.00</td>\n",
              "      <td>Male</td>\n",
              "      <td>No</td>\n",
              "      <td>Sat</td>\n",
              "      <td>Dinner</td>\n",
              "      <td>2</td>\n",
              "      <td>6.68</td>\n",
              "      <td>Kyle Avery</td>\n",
              "      <td>6531339539615499</td>\n",
              "      <td>Sat6651</td>\n",
              "      <td>5499</td>\n",
              "      <td>$$</td>\n",
              "      <td>Other</td>\n",
              "    </tr>\n",
              "    <tr>\n",
              "      <th>186</th>\n",
              "      <td>20.90</td>\n",
              "      <td>3.50</td>\n",
              "      <td>Female</td>\n",
              "      <td>Yes</td>\n",
              "      <td>Sun</td>\n",
              "      <td>Dinner</td>\n",
              "      <td>3</td>\n",
              "      <td>6.97</td>\n",
              "      <td>Heidi Atkinson</td>\n",
              "      <td>4422858423131187</td>\n",
              "      <td>Sun4254</td>\n",
              "      <td>1187</td>\n",
              "      <td>$$</td>\n",
              "      <td>Other</td>\n",
              "    </tr>\n",
              "    <tr>\n",
              "      <th>97</th>\n",
              "      <td>12.03</td>\n",
              "      <td>1.50</td>\n",
              "      <td>Male</td>\n",
              "      <td>Yes</td>\n",
              "      <td>Fri</td>\n",
              "      <td>Dinner</td>\n",
              "      <td>2</td>\n",
              "      <td>6.02</td>\n",
              "      <td>Eric Herrera</td>\n",
              "      <td>580116092652</td>\n",
              "      <td>Fri9268</td>\n",
              "      <td>2652</td>\n",
              "      <td>$$</td>\n",
              "      <td>Other</td>\n",
              "    </tr>\n",
              "    <tr>\n",
              "      <th>239</th>\n",
              "      <td>29.03</td>\n",
              "      <td>5.92</td>\n",
              "      <td>Male</td>\n",
              "      <td>No</td>\n",
              "      <td>Sat</td>\n",
              "      <td>Dinner</td>\n",
              "      <td>3</td>\n",
              "      <td>9.68</td>\n",
              "      <td>Michael Avila</td>\n",
              "      <td>5296068606052842</td>\n",
              "      <td>Sat2657</td>\n",
              "      <td>2842</td>\n",
              "      <td>$$</td>\n",
              "      <td>Other</td>\n",
              "    </tr>\n",
              "  </tbody>\n",
              "</table>\n",
              "</div>"
            ],
            "text/plain": [
              "     total_bill   tip     sex smoker  ... Payment ID last_four  Expensive  Tip Quality\n",
              "221       13.42  3.48  Female    Yes  ...    Fri7511      8785         $$     Generous\n",
              "26        13.37  2.00    Male     No  ...    Sat6651      5499         $$        Other\n",
              "186       20.90  3.50  Female    Yes  ...    Sun4254      1187         $$        Other\n",
              "97        12.03  1.50    Male    Yes  ...    Fri9268      2652         $$        Other\n",
              "239       29.03  5.92    Male     No  ...    Sat2657      2842         $$        Other\n",
              "\n",
              "[5 rows x 14 columns]"
            ]
          },
          "metadata": {},
          "execution_count": 238
        }
      ]
    },
    {
      "cell_type": "markdown",
      "metadata": {
        "id": "S5lLTOqpFUew"
      },
      "source": [
        "### nlargest, nsmallest"
      ]
    },
    {
      "cell_type": "code",
      "metadata": {
        "colab": {
          "base_uri": "https://localhost:8080/",
          "height": 0
        },
        "id": "2h-0eZKkFGpZ",
        "outputId": "bb43226b-00e9-4cdc-efb1-2bf6005e7511"
      },
      "source": [
        "df.nlargest(4, 'tip')"
      ],
      "execution_count": 239,
      "outputs": [
        {
          "output_type": "execute_result",
          "data": {
            "text/html": [
              "<div>\n",
              "<style scoped>\n",
              "    .dataframe tbody tr th:only-of-type {\n",
              "        vertical-align: middle;\n",
              "    }\n",
              "\n",
              "    .dataframe tbody tr th {\n",
              "        vertical-align: top;\n",
              "    }\n",
              "\n",
              "    .dataframe thead th {\n",
              "        text-align: right;\n",
              "    }\n",
              "</style>\n",
              "<table border=\"1\" class=\"dataframe\">\n",
              "  <thead>\n",
              "    <tr style=\"text-align: right;\">\n",
              "      <th></th>\n",
              "      <th>total_bill</th>\n",
              "      <th>tip</th>\n",
              "      <th>sex</th>\n",
              "      <th>smoker</th>\n",
              "      <th>day</th>\n",
              "      <th>time</th>\n",
              "      <th>size</th>\n",
              "      <th>price_per_person</th>\n",
              "      <th>Payer Name</th>\n",
              "      <th>CC Number</th>\n",
              "      <th>Payment ID</th>\n",
              "      <th>last_four</th>\n",
              "      <th>Expensive</th>\n",
              "      <th>Tip Quality</th>\n",
              "    </tr>\n",
              "  </thead>\n",
              "  <tbody>\n",
              "    <tr>\n",
              "      <th>170</th>\n",
              "      <td>50.81</td>\n",
              "      <td>10.00</td>\n",
              "      <td>Male</td>\n",
              "      <td>Yes</td>\n",
              "      <td>Sat</td>\n",
              "      <td>Dinner</td>\n",
              "      <td>3</td>\n",
              "      <td>16.94</td>\n",
              "      <td>Gregory Clark</td>\n",
              "      <td>5473850968388236</td>\n",
              "      <td>Sat1954</td>\n",
              "      <td>8236</td>\n",
              "      <td>$$$</td>\n",
              "      <td>Other</td>\n",
              "    </tr>\n",
              "    <tr>\n",
              "      <th>212</th>\n",
              "      <td>48.33</td>\n",
              "      <td>9.00</td>\n",
              "      <td>Male</td>\n",
              "      <td>No</td>\n",
              "      <td>Sat</td>\n",
              "      <td>Dinner</td>\n",
              "      <td>4</td>\n",
              "      <td>12.08</td>\n",
              "      <td>Alex Williamson</td>\n",
              "      <td>676218815212</td>\n",
              "      <td>Sat4590</td>\n",
              "      <td>5212</td>\n",
              "      <td>$$$</td>\n",
              "      <td>Other</td>\n",
              "    </tr>\n",
              "    <tr>\n",
              "      <th>23</th>\n",
              "      <td>39.42</td>\n",
              "      <td>7.58</td>\n",
              "      <td>Male</td>\n",
              "      <td>No</td>\n",
              "      <td>Sat</td>\n",
              "      <td>Dinner</td>\n",
              "      <td>4</td>\n",
              "      <td>9.86</td>\n",
              "      <td>Lance Peterson</td>\n",
              "      <td>3542584061609808</td>\n",
              "      <td>Sat239</td>\n",
              "      <td>9808</td>\n",
              "      <td>$$$</td>\n",
              "      <td>Other</td>\n",
              "    </tr>\n",
              "    <tr>\n",
              "      <th>59</th>\n",
              "      <td>48.27</td>\n",
              "      <td>6.73</td>\n",
              "      <td>Male</td>\n",
              "      <td>No</td>\n",
              "      <td>Sat</td>\n",
              "      <td>Dinner</td>\n",
              "      <td>4</td>\n",
              "      <td>12.07</td>\n",
              "      <td>Brian Ortiz</td>\n",
              "      <td>6596453823950595</td>\n",
              "      <td>Sat8139</td>\n",
              "      <td>0595</td>\n",
              "      <td>$$$</td>\n",
              "      <td>Other</td>\n",
              "    </tr>\n",
              "  </tbody>\n",
              "</table>\n",
              "</div>"
            ],
            "text/plain": [
              "     total_bill    tip   sex smoker  ... Payment ID last_four  Expensive  Tip Quality\n",
              "170       50.81  10.00  Male    Yes  ...    Sat1954      8236        $$$        Other\n",
              "212       48.33   9.00  Male     No  ...    Sat4590      5212        $$$        Other\n",
              "23        39.42   7.58  Male     No  ...     Sat239      9808        $$$        Other\n",
              "59        48.27   6.73  Male     No  ...    Sat8139      0595        $$$        Other\n",
              "\n",
              "[4 rows x 14 columns]"
            ]
          },
          "metadata": {},
          "execution_count": 239
        }
      ]
    },
    {
      "cell_type": "markdown",
      "metadata": {
        "id": "-BaGL1piGdql"
      },
      "source": [
        "<a id='groupby'></a>\n",
        "## Groupby and Multi-level index"
      ]
    },
    {
      "cell_type": "code",
      "metadata": {
        "id": "9hKBcxwnFYnC",
        "colab": {
          "base_uri": "https://localhost:8080/",
          "height": 0
        },
        "outputId": "8fc54282-9c0c-446c-eed3-e4b446316bd1"
      },
      "source": [
        "df = pd.read_csv('mpg.csv')\n",
        "df.head()"
      ],
      "execution_count": 240,
      "outputs": [
        {
          "output_type": "execute_result",
          "data": {
            "text/html": [
              "<div>\n",
              "<style scoped>\n",
              "    .dataframe tbody tr th:only-of-type {\n",
              "        vertical-align: middle;\n",
              "    }\n",
              "\n",
              "    .dataframe tbody tr th {\n",
              "        vertical-align: top;\n",
              "    }\n",
              "\n",
              "    .dataframe thead th {\n",
              "        text-align: right;\n",
              "    }\n",
              "</style>\n",
              "<table border=\"1\" class=\"dataframe\">\n",
              "  <thead>\n",
              "    <tr style=\"text-align: right;\">\n",
              "      <th></th>\n",
              "      <th>mpg</th>\n",
              "      <th>cylinders</th>\n",
              "      <th>displacement</th>\n",
              "      <th>horsepower</th>\n",
              "      <th>weight</th>\n",
              "      <th>acceleration</th>\n",
              "      <th>model_year</th>\n",
              "      <th>origin</th>\n",
              "      <th>name</th>\n",
              "    </tr>\n",
              "  </thead>\n",
              "  <tbody>\n",
              "    <tr>\n",
              "      <th>0</th>\n",
              "      <td>18.0</td>\n",
              "      <td>8</td>\n",
              "      <td>307.0</td>\n",
              "      <td>130</td>\n",
              "      <td>3504</td>\n",
              "      <td>12.0</td>\n",
              "      <td>70</td>\n",
              "      <td>1</td>\n",
              "      <td>chevrolet chevelle malibu</td>\n",
              "    </tr>\n",
              "    <tr>\n",
              "      <th>1</th>\n",
              "      <td>15.0</td>\n",
              "      <td>8</td>\n",
              "      <td>350.0</td>\n",
              "      <td>165</td>\n",
              "      <td>3693</td>\n",
              "      <td>11.5</td>\n",
              "      <td>70</td>\n",
              "      <td>1</td>\n",
              "      <td>buick skylark 320</td>\n",
              "    </tr>\n",
              "    <tr>\n",
              "      <th>2</th>\n",
              "      <td>18.0</td>\n",
              "      <td>8</td>\n",
              "      <td>318.0</td>\n",
              "      <td>150</td>\n",
              "      <td>3436</td>\n",
              "      <td>11.0</td>\n",
              "      <td>70</td>\n",
              "      <td>1</td>\n",
              "      <td>plymouth satellite</td>\n",
              "    </tr>\n",
              "    <tr>\n",
              "      <th>3</th>\n",
              "      <td>16.0</td>\n",
              "      <td>8</td>\n",
              "      <td>304.0</td>\n",
              "      <td>150</td>\n",
              "      <td>3433</td>\n",
              "      <td>12.0</td>\n",
              "      <td>70</td>\n",
              "      <td>1</td>\n",
              "      <td>amc rebel sst</td>\n",
              "    </tr>\n",
              "    <tr>\n",
              "      <th>4</th>\n",
              "      <td>17.0</td>\n",
              "      <td>8</td>\n",
              "      <td>302.0</td>\n",
              "      <td>140</td>\n",
              "      <td>3449</td>\n",
              "      <td>10.5</td>\n",
              "      <td>70</td>\n",
              "      <td>1</td>\n",
              "      <td>ford torino</td>\n",
              "    </tr>\n",
              "  </tbody>\n",
              "</table>\n",
              "</div>"
            ],
            "text/plain": [
              "    mpg  cylinders  displacement  ... model_year  origin                       name\n",
              "0  18.0          8         307.0  ...         70       1  chevrolet chevelle malibu\n",
              "1  15.0          8         350.0  ...         70       1          buick skylark 320\n",
              "2  18.0          8         318.0  ...         70       1         plymouth satellite\n",
              "3  16.0          8         304.0  ...         70       1              amc rebel sst\n",
              "4  17.0          8         302.0  ...         70       1                ford torino\n",
              "\n",
              "[5 rows x 9 columns]"
            ]
          },
          "metadata": {},
          "execution_count": 240
        }
      ]
    },
    {
      "cell_type": "code",
      "metadata": {
        "colab": {
          "base_uri": "https://localhost:8080/"
        },
        "id": "lcmM79kxHxrs",
        "outputId": "764d3f30-1dac-44d0-9fed-9a19c842ef68"
      },
      "source": [
        "# groupby() creates groupby object waiting for an aggregate method\n",
        "df.groupby('model_year')"
      ],
      "execution_count": 241,
      "outputs": [
        {
          "output_type": "execute_result",
          "data": {
            "text/plain": [
              "<pandas.core.groupby.generic.DataFrameGroupBy object at 0x7f9357c76a90>"
            ]
          },
          "metadata": {},
          "execution_count": 241
        }
      ]
    },
    {
      "cell_type": "markdown",
      "metadata": {
        "id": "qZ0v0KcBIEUK"
      },
      "source": [
        "Common options:\n",
        "* mean(): compute mean\n",
        "* sum()\n",
        "* size() : group size\n",
        "* count() \n",
        "* std() \n",
        "* var()\n",
        "* sem() : standard error of mean of groups\n",
        "* describe()\n",
        "* first() : first of group values\n",
        "* last()\n",
        "* nth() : take nth value\n",
        "* min()\n",
        "* max()\n",
        "\n",
        "https://pandas.pydata.org/docs/reference/groupby.html"
      ]
    },
    {
      "cell_type": "code",
      "metadata": {
        "colab": {
          "base_uri": "https://localhost:8080/",
          "height": 0
        },
        "id": "ELBCSD4WH9hC",
        "outputId": "14f13d45-1dbc-4c41-c204-359a25b68090"
      },
      "source": [
        "avg_year = df.groupby('model_year').mean()\n",
        "avg_year"
      ],
      "execution_count": 242,
      "outputs": [
        {
          "output_type": "execute_result",
          "data": {
            "text/html": [
              "<div>\n",
              "<style scoped>\n",
              "    .dataframe tbody tr th:only-of-type {\n",
              "        vertical-align: middle;\n",
              "    }\n",
              "\n",
              "    .dataframe tbody tr th {\n",
              "        vertical-align: top;\n",
              "    }\n",
              "\n",
              "    .dataframe thead th {\n",
              "        text-align: right;\n",
              "    }\n",
              "</style>\n",
              "<table border=\"1\" class=\"dataframe\">\n",
              "  <thead>\n",
              "    <tr style=\"text-align: right;\">\n",
              "      <th></th>\n",
              "      <th>mpg</th>\n",
              "      <th>cylinders</th>\n",
              "      <th>displacement</th>\n",
              "      <th>weight</th>\n",
              "      <th>acceleration</th>\n",
              "      <th>origin</th>\n",
              "    </tr>\n",
              "    <tr>\n",
              "      <th>model_year</th>\n",
              "      <th></th>\n",
              "      <th></th>\n",
              "      <th></th>\n",
              "      <th></th>\n",
              "      <th></th>\n",
              "      <th></th>\n",
              "    </tr>\n",
              "  </thead>\n",
              "  <tbody>\n",
              "    <tr>\n",
              "      <th>70</th>\n",
              "      <td>17.689655</td>\n",
              "      <td>6.758621</td>\n",
              "      <td>281.413793</td>\n",
              "      <td>3372.793103</td>\n",
              "      <td>12.948276</td>\n",
              "      <td>1.310345</td>\n",
              "    </tr>\n",
              "    <tr>\n",
              "      <th>71</th>\n",
              "      <td>21.250000</td>\n",
              "      <td>5.571429</td>\n",
              "      <td>209.750000</td>\n",
              "      <td>2995.428571</td>\n",
              "      <td>15.142857</td>\n",
              "      <td>1.428571</td>\n",
              "    </tr>\n",
              "    <tr>\n",
              "      <th>72</th>\n",
              "      <td>18.714286</td>\n",
              "      <td>5.821429</td>\n",
              "      <td>218.375000</td>\n",
              "      <td>3237.714286</td>\n",
              "      <td>15.125000</td>\n",
              "      <td>1.535714</td>\n",
              "    </tr>\n",
              "    <tr>\n",
              "      <th>73</th>\n",
              "      <td>17.100000</td>\n",
              "      <td>6.375000</td>\n",
              "      <td>256.875000</td>\n",
              "      <td>3419.025000</td>\n",
              "      <td>14.312500</td>\n",
              "      <td>1.375000</td>\n",
              "    </tr>\n",
              "    <tr>\n",
              "      <th>74</th>\n",
              "      <td>22.703704</td>\n",
              "      <td>5.259259</td>\n",
              "      <td>171.740741</td>\n",
              "      <td>2877.925926</td>\n",
              "      <td>16.203704</td>\n",
              "      <td>1.666667</td>\n",
              "    </tr>\n",
              "    <tr>\n",
              "      <th>75</th>\n",
              "      <td>20.266667</td>\n",
              "      <td>5.600000</td>\n",
              "      <td>205.533333</td>\n",
              "      <td>3176.800000</td>\n",
              "      <td>16.050000</td>\n",
              "      <td>1.466667</td>\n",
              "    </tr>\n",
              "    <tr>\n",
              "      <th>76</th>\n",
              "      <td>21.573529</td>\n",
              "      <td>5.647059</td>\n",
              "      <td>197.794118</td>\n",
              "      <td>3078.735294</td>\n",
              "      <td>15.941176</td>\n",
              "      <td>1.470588</td>\n",
              "    </tr>\n",
              "    <tr>\n",
              "      <th>77</th>\n",
              "      <td>23.375000</td>\n",
              "      <td>5.464286</td>\n",
              "      <td>191.392857</td>\n",
              "      <td>2997.357143</td>\n",
              "      <td>15.435714</td>\n",
              "      <td>1.571429</td>\n",
              "    </tr>\n",
              "    <tr>\n",
              "      <th>78</th>\n",
              "      <td>24.061111</td>\n",
              "      <td>5.361111</td>\n",
              "      <td>177.805556</td>\n",
              "      <td>2861.805556</td>\n",
              "      <td>15.805556</td>\n",
              "      <td>1.611111</td>\n",
              "    </tr>\n",
              "    <tr>\n",
              "      <th>79</th>\n",
              "      <td>25.093103</td>\n",
              "      <td>5.827586</td>\n",
              "      <td>206.689655</td>\n",
              "      <td>3055.344828</td>\n",
              "      <td>15.813793</td>\n",
              "      <td>1.275862</td>\n",
              "    </tr>\n",
              "    <tr>\n",
              "      <th>80</th>\n",
              "      <td>33.696552</td>\n",
              "      <td>4.137931</td>\n",
              "      <td>115.827586</td>\n",
              "      <td>2436.655172</td>\n",
              "      <td>16.934483</td>\n",
              "      <td>2.206897</td>\n",
              "    </tr>\n",
              "    <tr>\n",
              "      <th>81</th>\n",
              "      <td>30.334483</td>\n",
              "      <td>4.620690</td>\n",
              "      <td>135.310345</td>\n",
              "      <td>2522.931034</td>\n",
              "      <td>16.306897</td>\n",
              "      <td>1.965517</td>\n",
              "    </tr>\n",
              "    <tr>\n",
              "      <th>82</th>\n",
              "      <td>31.709677</td>\n",
              "      <td>4.193548</td>\n",
              "      <td>128.870968</td>\n",
              "      <td>2453.548387</td>\n",
              "      <td>16.638710</td>\n",
              "      <td>1.645161</td>\n",
              "    </tr>\n",
              "  </tbody>\n",
              "</table>\n",
              "</div>"
            ],
            "text/plain": [
              "                  mpg  cylinders  ...  acceleration    origin\n",
              "model_year                        ...                        \n",
              "70          17.689655   6.758621  ...     12.948276  1.310345\n",
              "71          21.250000   5.571429  ...     15.142857  1.428571\n",
              "72          18.714286   5.821429  ...     15.125000  1.535714\n",
              "73          17.100000   6.375000  ...     14.312500  1.375000\n",
              "74          22.703704   5.259259  ...     16.203704  1.666667\n",
              "75          20.266667   5.600000  ...     16.050000  1.466667\n",
              "76          21.573529   5.647059  ...     15.941176  1.470588\n",
              "77          23.375000   5.464286  ...     15.435714  1.571429\n",
              "78          24.061111   5.361111  ...     15.805556  1.611111\n",
              "79          25.093103   5.827586  ...     15.813793  1.275862\n",
              "80          33.696552   4.137931  ...     16.934483  2.206897\n",
              "81          30.334483   4.620690  ...     16.306897  1.965517\n",
              "82          31.709677   4.193548  ...     16.638710  1.645161\n",
              "\n",
              "[13 rows x 6 columns]"
            ]
          },
          "metadata": {},
          "execution_count": 242
        }
      ]
    },
    {
      "cell_type": "code",
      "metadata": {
        "colab": {
          "base_uri": "https://localhost:8080/"
        },
        "id": "FAAfev4zIj_D",
        "outputId": "7b968e83-a59b-485e-9620-1185bfc38a43"
      },
      "source": [
        "avg_year.index"
      ],
      "execution_count": 243,
      "outputs": [
        {
          "output_type": "execute_result",
          "data": {
            "text/plain": [
              "Int64Index([70, 71, 72, 73, 74, 75, 76, 77, 78, 79, 80, 81, 82], dtype='int64', name='model_year')"
            ]
          },
          "metadata": {},
          "execution_count": 243
        }
      ]
    },
    {
      "cell_type": "code",
      "metadata": {
        "colab": {
          "base_uri": "https://localhost:8080/"
        },
        "id": "qzdsDAf5IuWa",
        "outputId": "25b6980b-888b-473e-81a8-f9d4d5780180"
      },
      "source": [
        "avg_year.columns"
      ],
      "execution_count": 244,
      "outputs": [
        {
          "output_type": "execute_result",
          "data": {
            "text/plain": [
              "Index(['mpg', 'cylinders', 'displacement', 'weight', 'acceleration', 'origin'], dtype='object')"
            ]
          },
          "metadata": {},
          "execution_count": 244
        }
      ]
    },
    {
      "cell_type": "code",
      "metadata": {
        "colab": {
          "base_uri": "https://localhost:8080/"
        },
        "id": "6QY7McLmIvoR",
        "outputId": "a93f4bdb-ec5f-435d-bef3-904149aacc50"
      },
      "source": [
        "avg_year['mpg']"
      ],
      "execution_count": 245,
      "outputs": [
        {
          "output_type": "execute_result",
          "data": {
            "text/plain": [
              "model_year\n",
              "70    17.689655\n",
              "71    21.250000\n",
              "72    18.714286\n",
              "73    17.100000\n",
              "74    22.703704\n",
              "75    20.266667\n",
              "76    21.573529\n",
              "77    23.375000\n",
              "78    24.061111\n",
              "79    25.093103\n",
              "80    33.696552\n",
              "81    30.334483\n",
              "82    31.709677\n",
              "Name: mpg, dtype: float64"
            ]
          },
          "metadata": {},
          "execution_count": 245
        }
      ]
    },
    {
      "cell_type": "code",
      "metadata": {
        "colab": {
          "base_uri": "https://localhost:8080/",
          "height": 0
        },
        "id": "IB9FBS1MIxVR",
        "outputId": "4a806cde-e643-490d-cce4-e12b8c81e342"
      },
      "source": [
        "df.groupby('model_year').describe()"
      ],
      "execution_count": 246,
      "outputs": [
        {
          "output_type": "execute_result",
          "data": {
            "text/html": [
              "<div>\n",
              "<style scoped>\n",
              "    .dataframe tbody tr th:only-of-type {\n",
              "        vertical-align: middle;\n",
              "    }\n",
              "\n",
              "    .dataframe tbody tr th {\n",
              "        vertical-align: top;\n",
              "    }\n",
              "\n",
              "    .dataframe thead tr th {\n",
              "        text-align: left;\n",
              "    }\n",
              "\n",
              "    .dataframe thead tr:last-of-type th {\n",
              "        text-align: right;\n",
              "    }\n",
              "</style>\n",
              "<table border=\"1\" class=\"dataframe\">\n",
              "  <thead>\n",
              "    <tr>\n",
              "      <th></th>\n",
              "      <th colspan=\"8\" halign=\"left\">mpg</th>\n",
              "      <th colspan=\"8\" halign=\"left\">cylinders</th>\n",
              "      <th colspan=\"8\" halign=\"left\">displacement</th>\n",
              "      <th colspan=\"8\" halign=\"left\">weight</th>\n",
              "      <th colspan=\"8\" halign=\"left\">acceleration</th>\n",
              "      <th colspan=\"8\" halign=\"left\">origin</th>\n",
              "    </tr>\n",
              "    <tr>\n",
              "      <th></th>\n",
              "      <th>count</th>\n",
              "      <th>mean</th>\n",
              "      <th>std</th>\n",
              "      <th>min</th>\n",
              "      <th>25%</th>\n",
              "      <th>50%</th>\n",
              "      <th>75%</th>\n",
              "      <th>max</th>\n",
              "      <th>count</th>\n",
              "      <th>mean</th>\n",
              "      <th>std</th>\n",
              "      <th>min</th>\n",
              "      <th>25%</th>\n",
              "      <th>50%</th>\n",
              "      <th>75%</th>\n",
              "      <th>max</th>\n",
              "      <th>count</th>\n",
              "      <th>mean</th>\n",
              "      <th>std</th>\n",
              "      <th>min</th>\n",
              "      <th>25%</th>\n",
              "      <th>50%</th>\n",
              "      <th>75%</th>\n",
              "      <th>max</th>\n",
              "      <th>count</th>\n",
              "      <th>mean</th>\n",
              "      <th>std</th>\n",
              "      <th>min</th>\n",
              "      <th>25%</th>\n",
              "      <th>50%</th>\n",
              "      <th>75%</th>\n",
              "      <th>max</th>\n",
              "      <th>count</th>\n",
              "      <th>mean</th>\n",
              "      <th>std</th>\n",
              "      <th>min</th>\n",
              "      <th>25%</th>\n",
              "      <th>50%</th>\n",
              "      <th>75%</th>\n",
              "      <th>max</th>\n",
              "      <th>count</th>\n",
              "      <th>mean</th>\n",
              "      <th>std</th>\n",
              "      <th>min</th>\n",
              "      <th>25%</th>\n",
              "      <th>50%</th>\n",
              "      <th>75%</th>\n",
              "      <th>max</th>\n",
              "    </tr>\n",
              "    <tr>\n",
              "      <th>model_year</th>\n",
              "      <th></th>\n",
              "      <th></th>\n",
              "      <th></th>\n",
              "      <th></th>\n",
              "      <th></th>\n",
              "      <th></th>\n",
              "      <th></th>\n",
              "      <th></th>\n",
              "      <th></th>\n",
              "      <th></th>\n",
              "      <th></th>\n",
              "      <th></th>\n",
              "      <th></th>\n",
              "      <th></th>\n",
              "      <th></th>\n",
              "      <th></th>\n",
              "      <th></th>\n",
              "      <th></th>\n",
              "      <th></th>\n",
              "      <th></th>\n",
              "      <th></th>\n",
              "      <th></th>\n",
              "      <th></th>\n",
              "      <th></th>\n",
              "      <th></th>\n",
              "      <th></th>\n",
              "      <th></th>\n",
              "      <th></th>\n",
              "      <th></th>\n",
              "      <th></th>\n",
              "      <th></th>\n",
              "      <th></th>\n",
              "      <th></th>\n",
              "      <th></th>\n",
              "      <th></th>\n",
              "      <th></th>\n",
              "      <th></th>\n",
              "      <th></th>\n",
              "      <th></th>\n",
              "      <th></th>\n",
              "      <th></th>\n",
              "      <th></th>\n",
              "      <th></th>\n",
              "      <th></th>\n",
              "      <th></th>\n",
              "      <th></th>\n",
              "      <th></th>\n",
              "      <th></th>\n",
              "    </tr>\n",
              "  </thead>\n",
              "  <tbody>\n",
              "    <tr>\n",
              "      <th>70</th>\n",
              "      <td>29.0</td>\n",
              "      <td>17.689655</td>\n",
              "      <td>5.339231</td>\n",
              "      <td>9.0</td>\n",
              "      <td>14.000</td>\n",
              "      <td>16.00</td>\n",
              "      <td>22.000</td>\n",
              "      <td>27.0</td>\n",
              "      <td>29.0</td>\n",
              "      <td>6.758621</td>\n",
              "      <td>1.724926</td>\n",
              "      <td>4.0</td>\n",
              "      <td>6.0</td>\n",
              "      <td>8.0</td>\n",
              "      <td>8.0</td>\n",
              "      <td>8.0</td>\n",
              "      <td>29.0</td>\n",
              "      <td>281.413793</td>\n",
              "      <td>124.421380</td>\n",
              "      <td>97.0</td>\n",
              "      <td>198.00</td>\n",
              "      <td>307.0</td>\n",
              "      <td>383.00</td>\n",
              "      <td>455.0</td>\n",
              "      <td>29.0</td>\n",
              "      <td>3372.793103</td>\n",
              "      <td>852.868663</td>\n",
              "      <td>1835.0</td>\n",
              "      <td>2648.00</td>\n",
              "      <td>3449.0</td>\n",
              "      <td>4312.00</td>\n",
              "      <td>4732.0</td>\n",
              "      <td>29.0</td>\n",
              "      <td>12.948276</td>\n",
              "      <td>3.330982</td>\n",
              "      <td>8.0</td>\n",
              "      <td>10.000</td>\n",
              "      <td>12.50</td>\n",
              "      <td>15.000</td>\n",
              "      <td>20.5</td>\n",
              "      <td>29.0</td>\n",
              "      <td>1.310345</td>\n",
              "      <td>0.603765</td>\n",
              "      <td>1.0</td>\n",
              "      <td>1.0</td>\n",
              "      <td>1.0</td>\n",
              "      <td>1.0</td>\n",
              "      <td>3.0</td>\n",
              "    </tr>\n",
              "    <tr>\n",
              "      <th>71</th>\n",
              "      <td>28.0</td>\n",
              "      <td>21.250000</td>\n",
              "      <td>6.591942</td>\n",
              "      <td>12.0</td>\n",
              "      <td>15.500</td>\n",
              "      <td>19.00</td>\n",
              "      <td>27.000</td>\n",
              "      <td>35.0</td>\n",
              "      <td>28.0</td>\n",
              "      <td>5.571429</td>\n",
              "      <td>1.665079</td>\n",
              "      <td>4.0</td>\n",
              "      <td>4.0</td>\n",
              "      <td>6.0</td>\n",
              "      <td>6.5</td>\n",
              "      <td>8.0</td>\n",
              "      <td>28.0</td>\n",
              "      <td>209.750000</td>\n",
              "      <td>115.102410</td>\n",
              "      <td>71.0</td>\n",
              "      <td>97.75</td>\n",
              "      <td>228.5</td>\n",
              "      <td>273.00</td>\n",
              "      <td>400.0</td>\n",
              "      <td>28.0</td>\n",
              "      <td>2995.428571</td>\n",
              "      <td>1061.830859</td>\n",
              "      <td>1613.0</td>\n",
              "      <td>2110.75</td>\n",
              "      <td>2798.0</td>\n",
              "      <td>3603.25</td>\n",
              "      <td>5140.0</td>\n",
              "      <td>28.0</td>\n",
              "      <td>15.142857</td>\n",
              "      <td>2.666171</td>\n",
              "      <td>11.5</td>\n",
              "      <td>13.375</td>\n",
              "      <td>14.50</td>\n",
              "      <td>16.125</td>\n",
              "      <td>20.5</td>\n",
              "      <td>28.0</td>\n",
              "      <td>1.428571</td>\n",
              "      <td>0.741798</td>\n",
              "      <td>1.0</td>\n",
              "      <td>1.0</td>\n",
              "      <td>1.0</td>\n",
              "      <td>2.0</td>\n",
              "      <td>3.0</td>\n",
              "    </tr>\n",
              "    <tr>\n",
              "      <th>72</th>\n",
              "      <td>28.0</td>\n",
              "      <td>18.714286</td>\n",
              "      <td>5.435529</td>\n",
              "      <td>11.0</td>\n",
              "      <td>13.750</td>\n",
              "      <td>18.50</td>\n",
              "      <td>23.000</td>\n",
              "      <td>28.0</td>\n",
              "      <td>28.0</td>\n",
              "      <td>5.821429</td>\n",
              "      <td>2.073708</td>\n",
              "      <td>3.0</td>\n",
              "      <td>4.0</td>\n",
              "      <td>4.0</td>\n",
              "      <td>8.0</td>\n",
              "      <td>8.0</td>\n",
              "      <td>28.0</td>\n",
              "      <td>218.375000</td>\n",
              "      <td>123.781964</td>\n",
              "      <td>70.0</td>\n",
              "      <td>109.25</td>\n",
              "      <td>131.0</td>\n",
              "      <td>326.00</td>\n",
              "      <td>429.0</td>\n",
              "      <td>28.0</td>\n",
              "      <td>3237.714286</td>\n",
              "      <td>974.520960</td>\n",
              "      <td>2100.0</td>\n",
              "      <td>2285.50</td>\n",
              "      <td>2956.0</td>\n",
              "      <td>4169.75</td>\n",
              "      <td>4633.0</td>\n",
              "      <td>28.0</td>\n",
              "      <td>15.125000</td>\n",
              "      <td>2.850032</td>\n",
              "      <td>11.0</td>\n",
              "      <td>13.375</td>\n",
              "      <td>14.50</td>\n",
              "      <td>16.625</td>\n",
              "      <td>23.5</td>\n",
              "      <td>28.0</td>\n",
              "      <td>1.535714</td>\n",
              "      <td>0.792658</td>\n",
              "      <td>1.0</td>\n",
              "      <td>1.0</td>\n",
              "      <td>1.0</td>\n",
              "      <td>2.0</td>\n",
              "      <td>3.0</td>\n",
              "    </tr>\n",
              "    <tr>\n",
              "      <th>73</th>\n",
              "      <td>40.0</td>\n",
              "      <td>17.100000</td>\n",
              "      <td>4.700245</td>\n",
              "      <td>11.0</td>\n",
              "      <td>13.000</td>\n",
              "      <td>16.00</td>\n",
              "      <td>20.000</td>\n",
              "      <td>29.0</td>\n",
              "      <td>40.0</td>\n",
              "      <td>6.375000</td>\n",
              "      <td>1.807215</td>\n",
              "      <td>3.0</td>\n",
              "      <td>4.0</td>\n",
              "      <td>7.0</td>\n",
              "      <td>8.0</td>\n",
              "      <td>8.0</td>\n",
              "      <td>40.0</td>\n",
              "      <td>256.875000</td>\n",
              "      <td>121.722085</td>\n",
              "      <td>68.0</td>\n",
              "      <td>121.75</td>\n",
              "      <td>276.0</td>\n",
              "      <td>350.25</td>\n",
              "      <td>455.0</td>\n",
              "      <td>40.0</td>\n",
              "      <td>3419.025000</td>\n",
              "      <td>974.809133</td>\n",
              "      <td>1867.0</td>\n",
              "      <td>2554.50</td>\n",
              "      <td>3338.5</td>\n",
              "      <td>4247.25</td>\n",
              "      <td>4997.0</td>\n",
              "      <td>40.0</td>\n",
              "      <td>14.312500</td>\n",
              "      <td>2.754222</td>\n",
              "      <td>9.5</td>\n",
              "      <td>12.500</td>\n",
              "      <td>14.00</td>\n",
              "      <td>16.000</td>\n",
              "      <td>21.0</td>\n",
              "      <td>40.0</td>\n",
              "      <td>1.375000</td>\n",
              "      <td>0.667467</td>\n",
              "      <td>1.0</td>\n",
              "      <td>1.0</td>\n",
              "      <td>1.0</td>\n",
              "      <td>2.0</td>\n",
              "      <td>3.0</td>\n",
              "    </tr>\n",
              "    <tr>\n",
              "      <th>74</th>\n",
              "      <td>27.0</td>\n",
              "      <td>22.703704</td>\n",
              "      <td>6.420010</td>\n",
              "      <td>13.0</td>\n",
              "      <td>16.000</td>\n",
              "      <td>24.00</td>\n",
              "      <td>27.000</td>\n",
              "      <td>32.0</td>\n",
              "      <td>27.0</td>\n",
              "      <td>5.259259</td>\n",
              "      <td>1.583390</td>\n",
              "      <td>4.0</td>\n",
              "      <td>4.0</td>\n",
              "      <td>4.0</td>\n",
              "      <td>6.0</td>\n",
              "      <td>8.0</td>\n",
              "      <td>27.0</td>\n",
              "      <td>171.740741</td>\n",
              "      <td>92.601127</td>\n",
              "      <td>71.0</td>\n",
              "      <td>90.00</td>\n",
              "      <td>122.0</td>\n",
              "      <td>250.00</td>\n",
              "      <td>350.0</td>\n",
              "      <td>27.0</td>\n",
              "      <td>2877.925926</td>\n",
              "      <td>949.308571</td>\n",
              "      <td>1649.0</td>\n",
              "      <td>2116.50</td>\n",
              "      <td>2489.0</td>\n",
              "      <td>3622.50</td>\n",
              "      <td>4699.0</td>\n",
              "      <td>27.0</td>\n",
              "      <td>16.203704</td>\n",
              "      <td>1.688532</td>\n",
              "      <td>13.5</td>\n",
              "      <td>15.250</td>\n",
              "      <td>16.00</td>\n",
              "      <td>17.000</td>\n",
              "      <td>21.0</td>\n",
              "      <td>27.0</td>\n",
              "      <td>1.666667</td>\n",
              "      <td>0.832050</td>\n",
              "      <td>1.0</td>\n",
              "      <td>1.0</td>\n",
              "      <td>1.0</td>\n",
              "      <td>2.0</td>\n",
              "      <td>3.0</td>\n",
              "    </tr>\n",
              "    <tr>\n",
              "      <th>75</th>\n",
              "      <td>30.0</td>\n",
              "      <td>20.266667</td>\n",
              "      <td>4.940566</td>\n",
              "      <td>13.0</td>\n",
              "      <td>16.000</td>\n",
              "      <td>19.50</td>\n",
              "      <td>23.000</td>\n",
              "      <td>33.0</td>\n",
              "      <td>30.0</td>\n",
              "      <td>5.600000</td>\n",
              "      <td>1.522249</td>\n",
              "      <td>4.0</td>\n",
              "      <td>4.0</td>\n",
              "      <td>6.0</td>\n",
              "      <td>6.0</td>\n",
              "      <td>8.0</td>\n",
              "      <td>30.0</td>\n",
              "      <td>205.533333</td>\n",
              "      <td>87.669730</td>\n",
              "      <td>90.0</td>\n",
              "      <td>121.00</td>\n",
              "      <td>228.0</td>\n",
              "      <td>250.00</td>\n",
              "      <td>400.0</td>\n",
              "      <td>30.0</td>\n",
              "      <td>3176.800000</td>\n",
              "      <td>765.179781</td>\n",
              "      <td>1795.0</td>\n",
              "      <td>2676.75</td>\n",
              "      <td>3098.5</td>\n",
              "      <td>3662.25</td>\n",
              "      <td>4668.0</td>\n",
              "      <td>30.0</td>\n",
              "      <td>16.050000</td>\n",
              "      <td>2.471737</td>\n",
              "      <td>11.5</td>\n",
              "      <td>14.125</td>\n",
              "      <td>16.00</td>\n",
              "      <td>17.375</td>\n",
              "      <td>21.0</td>\n",
              "      <td>30.0</td>\n",
              "      <td>1.466667</td>\n",
              "      <td>0.730297</td>\n",
              "      <td>1.0</td>\n",
              "      <td>1.0</td>\n",
              "      <td>1.0</td>\n",
              "      <td>2.0</td>\n",
              "      <td>3.0</td>\n",
              "    </tr>\n",
              "    <tr>\n",
              "      <th>76</th>\n",
              "      <td>34.0</td>\n",
              "      <td>21.573529</td>\n",
              "      <td>5.889297</td>\n",
              "      <td>13.0</td>\n",
              "      <td>16.750</td>\n",
              "      <td>21.00</td>\n",
              "      <td>26.375</td>\n",
              "      <td>33.0</td>\n",
              "      <td>34.0</td>\n",
              "      <td>5.647059</td>\n",
              "      <td>1.667558</td>\n",
              "      <td>4.0</td>\n",
              "      <td>4.0</td>\n",
              "      <td>6.0</td>\n",
              "      <td>7.5</td>\n",
              "      <td>8.0</td>\n",
              "      <td>34.0</td>\n",
              "      <td>197.794118</td>\n",
              "      <td>94.422256</td>\n",
              "      <td>85.0</td>\n",
              "      <td>102.50</td>\n",
              "      <td>184.0</td>\n",
              "      <td>291.00</td>\n",
              "      <td>351.0</td>\n",
              "      <td>34.0</td>\n",
              "      <td>3078.735294</td>\n",
              "      <td>821.371481</td>\n",
              "      <td>1795.0</td>\n",
              "      <td>2228.75</td>\n",
              "      <td>3171.5</td>\n",
              "      <td>3803.75</td>\n",
              "      <td>4380.0</td>\n",
              "      <td>34.0</td>\n",
              "      <td>15.941176</td>\n",
              "      <td>2.801419</td>\n",
              "      <td>12.0</td>\n",
              "      <td>13.925</td>\n",
              "      <td>15.50</td>\n",
              "      <td>17.550</td>\n",
              "      <td>22.2</td>\n",
              "      <td>34.0</td>\n",
              "      <td>1.470588</td>\n",
              "      <td>0.706476</td>\n",
              "      <td>1.0</td>\n",
              "      <td>1.0</td>\n",
              "      <td>1.0</td>\n",
              "      <td>2.0</td>\n",
              "      <td>3.0</td>\n",
              "    </tr>\n",
              "    <tr>\n",
              "      <th>77</th>\n",
              "      <td>28.0</td>\n",
              "      <td>23.375000</td>\n",
              "      <td>6.675862</td>\n",
              "      <td>15.0</td>\n",
              "      <td>17.375</td>\n",
              "      <td>21.75</td>\n",
              "      <td>30.000</td>\n",
              "      <td>36.0</td>\n",
              "      <td>28.0</td>\n",
              "      <td>5.464286</td>\n",
              "      <td>1.815206</td>\n",
              "      <td>3.0</td>\n",
              "      <td>4.0</td>\n",
              "      <td>4.0</td>\n",
              "      <td>8.0</td>\n",
              "      <td>8.0</td>\n",
              "      <td>28.0</td>\n",
              "      <td>191.392857</td>\n",
              "      <td>107.813742</td>\n",
              "      <td>79.0</td>\n",
              "      <td>97.75</td>\n",
              "      <td>143.0</td>\n",
              "      <td>270.50</td>\n",
              "      <td>400.0</td>\n",
              "      <td>28.0</td>\n",
              "      <td>2997.357143</td>\n",
              "      <td>912.825902</td>\n",
              "      <td>1825.0</td>\n",
              "      <td>2135.00</td>\n",
              "      <td>2747.5</td>\n",
              "      <td>3925.00</td>\n",
              "      <td>4335.0</td>\n",
              "      <td>28.0</td>\n",
              "      <td>15.435714</td>\n",
              "      <td>2.273391</td>\n",
              "      <td>11.1</td>\n",
              "      <td>14.000</td>\n",
              "      <td>15.65</td>\n",
              "      <td>16.925</td>\n",
              "      <td>19.0</td>\n",
              "      <td>28.0</td>\n",
              "      <td>1.571429</td>\n",
              "      <td>0.835711</td>\n",
              "      <td>1.0</td>\n",
              "      <td>1.0</td>\n",
              "      <td>1.0</td>\n",
              "      <td>2.0</td>\n",
              "      <td>3.0</td>\n",
              "    </tr>\n",
              "    <tr>\n",
              "      <th>78</th>\n",
              "      <td>36.0</td>\n",
              "      <td>24.061111</td>\n",
              "      <td>6.898044</td>\n",
              "      <td>16.2</td>\n",
              "      <td>19.350</td>\n",
              "      <td>20.70</td>\n",
              "      <td>28.000</td>\n",
              "      <td>43.1</td>\n",
              "      <td>36.0</td>\n",
              "      <td>5.361111</td>\n",
              "      <td>1.495761</td>\n",
              "      <td>4.0</td>\n",
              "      <td>4.0</td>\n",
              "      <td>5.5</td>\n",
              "      <td>6.0</td>\n",
              "      <td>8.0</td>\n",
              "      <td>36.0</td>\n",
              "      <td>177.805556</td>\n",
              "      <td>76.012713</td>\n",
              "      <td>78.0</td>\n",
              "      <td>115.50</td>\n",
              "      <td>159.5</td>\n",
              "      <td>231.00</td>\n",
              "      <td>318.0</td>\n",
              "      <td>36.0</td>\n",
              "      <td>2861.805556</td>\n",
              "      <td>626.023907</td>\n",
              "      <td>1800.0</td>\n",
              "      <td>2282.50</td>\n",
              "      <td>2910.0</td>\n",
              "      <td>3410.00</td>\n",
              "      <td>4080.0</td>\n",
              "      <td>36.0</td>\n",
              "      <td>15.805556</td>\n",
              "      <td>2.129915</td>\n",
              "      <td>11.2</td>\n",
              "      <td>14.475</td>\n",
              "      <td>15.75</td>\n",
              "      <td>16.825</td>\n",
              "      <td>21.5</td>\n",
              "      <td>36.0</td>\n",
              "      <td>1.611111</td>\n",
              "      <td>0.837608</td>\n",
              "      <td>1.0</td>\n",
              "      <td>1.0</td>\n",
              "      <td>1.0</td>\n",
              "      <td>2.0</td>\n",
              "      <td>3.0</td>\n",
              "    </tr>\n",
              "    <tr>\n",
              "      <th>79</th>\n",
              "      <td>29.0</td>\n",
              "      <td>25.093103</td>\n",
              "      <td>6.794217</td>\n",
              "      <td>15.5</td>\n",
              "      <td>19.200</td>\n",
              "      <td>23.90</td>\n",
              "      <td>31.800</td>\n",
              "      <td>37.3</td>\n",
              "      <td>29.0</td>\n",
              "      <td>5.827586</td>\n",
              "      <td>1.774199</td>\n",
              "      <td>4.0</td>\n",
              "      <td>4.0</td>\n",
              "      <td>6.0</td>\n",
              "      <td>8.0</td>\n",
              "      <td>8.0</td>\n",
              "      <td>29.0</td>\n",
              "      <td>206.689655</td>\n",
              "      <td>96.307581</td>\n",
              "      <td>85.0</td>\n",
              "      <td>121.00</td>\n",
              "      <td>183.0</td>\n",
              "      <td>302.00</td>\n",
              "      <td>360.0</td>\n",
              "      <td>29.0</td>\n",
              "      <td>3055.344828</td>\n",
              "      <td>747.881497</td>\n",
              "      <td>1915.0</td>\n",
              "      <td>2556.00</td>\n",
              "      <td>3190.0</td>\n",
              "      <td>3725.00</td>\n",
              "      <td>4360.0</td>\n",
              "      <td>29.0</td>\n",
              "      <td>15.813793</td>\n",
              "      <td>2.952931</td>\n",
              "      <td>11.3</td>\n",
              "      <td>14.000</td>\n",
              "      <td>15.00</td>\n",
              "      <td>17.300</td>\n",
              "      <td>24.8</td>\n",
              "      <td>29.0</td>\n",
              "      <td>1.275862</td>\n",
              "      <td>0.591400</td>\n",
              "      <td>1.0</td>\n",
              "      <td>1.0</td>\n",
              "      <td>1.0</td>\n",
              "      <td>1.0</td>\n",
              "      <td>3.0</td>\n",
              "    </tr>\n",
              "    <tr>\n",
              "      <th>80</th>\n",
              "      <td>29.0</td>\n",
              "      <td>33.696552</td>\n",
              "      <td>7.037983</td>\n",
              "      <td>19.1</td>\n",
              "      <td>29.800</td>\n",
              "      <td>32.70</td>\n",
              "      <td>38.100</td>\n",
              "      <td>46.6</td>\n",
              "      <td>29.0</td>\n",
              "      <td>4.137931</td>\n",
              "      <td>0.580895</td>\n",
              "      <td>3.0</td>\n",
              "      <td>4.0</td>\n",
              "      <td>4.0</td>\n",
              "      <td>4.0</td>\n",
              "      <td>6.0</td>\n",
              "      <td>29.0</td>\n",
              "      <td>115.827586</td>\n",
              "      <td>33.744914</td>\n",
              "      <td>70.0</td>\n",
              "      <td>90.00</td>\n",
              "      <td>107.0</td>\n",
              "      <td>140.00</td>\n",
              "      <td>225.0</td>\n",
              "      <td>29.0</td>\n",
              "      <td>2436.655172</td>\n",
              "      <td>432.235491</td>\n",
              "      <td>1835.0</td>\n",
              "      <td>2110.00</td>\n",
              "      <td>2335.0</td>\n",
              "      <td>2800.00</td>\n",
              "      <td>3381.0</td>\n",
              "      <td>29.0</td>\n",
              "      <td>16.934483</td>\n",
              "      <td>2.826694</td>\n",
              "      <td>11.4</td>\n",
              "      <td>15.100</td>\n",
              "      <td>16.50</td>\n",
              "      <td>18.700</td>\n",
              "      <td>23.7</td>\n",
              "      <td>29.0</td>\n",
              "      <td>2.206897</td>\n",
              "      <td>0.818505</td>\n",
              "      <td>1.0</td>\n",
              "      <td>2.0</td>\n",
              "      <td>2.0</td>\n",
              "      <td>3.0</td>\n",
              "      <td>3.0</td>\n",
              "    </tr>\n",
              "    <tr>\n",
              "      <th>81</th>\n",
              "      <td>29.0</td>\n",
              "      <td>30.334483</td>\n",
              "      <td>5.591465</td>\n",
              "      <td>17.6</td>\n",
              "      <td>26.600</td>\n",
              "      <td>31.60</td>\n",
              "      <td>34.400</td>\n",
              "      <td>39.1</td>\n",
              "      <td>29.0</td>\n",
              "      <td>4.620690</td>\n",
              "      <td>1.082781</td>\n",
              "      <td>4.0</td>\n",
              "      <td>4.0</td>\n",
              "      <td>4.0</td>\n",
              "      <td>6.0</td>\n",
              "      <td>8.0</td>\n",
              "      <td>29.0</td>\n",
              "      <td>135.310345</td>\n",
              "      <td>58.387929</td>\n",
              "      <td>79.0</td>\n",
              "      <td>98.00</td>\n",
              "      <td>119.0</td>\n",
              "      <td>151.00</td>\n",
              "      <td>350.0</td>\n",
              "      <td>29.0</td>\n",
              "      <td>2522.931034</td>\n",
              "      <td>533.600501</td>\n",
              "      <td>1755.0</td>\n",
              "      <td>2065.00</td>\n",
              "      <td>2385.0</td>\n",
              "      <td>2900.00</td>\n",
              "      <td>3725.0</td>\n",
              "      <td>29.0</td>\n",
              "      <td>16.306897</td>\n",
              "      <td>2.192509</td>\n",
              "      <td>12.6</td>\n",
              "      <td>14.800</td>\n",
              "      <td>16.20</td>\n",
              "      <td>17.300</td>\n",
              "      <td>20.7</td>\n",
              "      <td>29.0</td>\n",
              "      <td>1.965517</td>\n",
              "      <td>0.944259</td>\n",
              "      <td>1.0</td>\n",
              "      <td>1.0</td>\n",
              "      <td>2.0</td>\n",
              "      <td>3.0</td>\n",
              "      <td>3.0</td>\n",
              "    </tr>\n",
              "    <tr>\n",
              "      <th>82</th>\n",
              "      <td>31.0</td>\n",
              "      <td>31.709677</td>\n",
              "      <td>5.392548</td>\n",
              "      <td>22.0</td>\n",
              "      <td>27.000</td>\n",
              "      <td>32.00</td>\n",
              "      <td>36.000</td>\n",
              "      <td>44.0</td>\n",
              "      <td>31.0</td>\n",
              "      <td>4.193548</td>\n",
              "      <td>0.601074</td>\n",
              "      <td>4.0</td>\n",
              "      <td>4.0</td>\n",
              "      <td>4.0</td>\n",
              "      <td>4.0</td>\n",
              "      <td>6.0</td>\n",
              "      <td>31.0</td>\n",
              "      <td>128.870968</td>\n",
              "      <td>39.352037</td>\n",
              "      <td>91.0</td>\n",
              "      <td>105.00</td>\n",
              "      <td>119.0</td>\n",
              "      <td>142.00</td>\n",
              "      <td>262.0</td>\n",
              "      <td>31.0</td>\n",
              "      <td>2453.548387</td>\n",
              "      <td>354.276713</td>\n",
              "      <td>1965.0</td>\n",
              "      <td>2127.50</td>\n",
              "      <td>2525.0</td>\n",
              "      <td>2727.50</td>\n",
              "      <td>3035.0</td>\n",
              "      <td>31.0</td>\n",
              "      <td>16.638710</td>\n",
              "      <td>2.484844</td>\n",
              "      <td>11.6</td>\n",
              "      <td>14.850</td>\n",
              "      <td>16.40</td>\n",
              "      <td>18.000</td>\n",
              "      <td>24.6</td>\n",
              "      <td>31.0</td>\n",
              "      <td>1.645161</td>\n",
              "      <td>0.914636</td>\n",
              "      <td>1.0</td>\n",
              "      <td>1.0</td>\n",
              "      <td>1.0</td>\n",
              "      <td>3.0</td>\n",
              "      <td>3.0</td>\n",
              "    </tr>\n",
              "  </tbody>\n",
              "</table>\n",
              "</div>"
            ],
            "text/plain": [
              "             mpg                                     ... origin                    \n",
              "           count       mean       std   min     25%  ...    min  25%  50%  75%  max\n",
              "model_year                                           ...                           \n",
              "70          29.0  17.689655  5.339231   9.0  14.000  ...    1.0  1.0  1.0  1.0  3.0\n",
              "71          28.0  21.250000  6.591942  12.0  15.500  ...    1.0  1.0  1.0  2.0  3.0\n",
              "72          28.0  18.714286  5.435529  11.0  13.750  ...    1.0  1.0  1.0  2.0  3.0\n",
              "73          40.0  17.100000  4.700245  11.0  13.000  ...    1.0  1.0  1.0  2.0  3.0\n",
              "74          27.0  22.703704  6.420010  13.0  16.000  ...    1.0  1.0  1.0  2.0  3.0\n",
              "75          30.0  20.266667  4.940566  13.0  16.000  ...    1.0  1.0  1.0  2.0  3.0\n",
              "76          34.0  21.573529  5.889297  13.0  16.750  ...    1.0  1.0  1.0  2.0  3.0\n",
              "77          28.0  23.375000  6.675862  15.0  17.375  ...    1.0  1.0  1.0  2.0  3.0\n",
              "78          36.0  24.061111  6.898044  16.2  19.350  ...    1.0  1.0  1.0  2.0  3.0\n",
              "79          29.0  25.093103  6.794217  15.5  19.200  ...    1.0  1.0  1.0  1.0  3.0\n",
              "80          29.0  33.696552  7.037983  19.1  29.800  ...    1.0  2.0  2.0  3.0  3.0\n",
              "81          29.0  30.334483  5.591465  17.6  26.600  ...    1.0  1.0  2.0  3.0  3.0\n",
              "82          31.0  31.709677  5.392548  22.0  27.000  ...    1.0  1.0  1.0  3.0  3.0\n",
              "\n",
              "[13 rows x 48 columns]"
            ]
          },
          "metadata": {},
          "execution_count": 246
        }
      ]
    },
    {
      "cell_type": "code",
      "metadata": {
        "colab": {
          "base_uri": "https://localhost:8080/",
          "height": 0
        },
        "id": "mvE4n9vtJCT5",
        "outputId": "e4f11da1-e25b-4a28-b174-926e3c7b35d4"
      },
      "source": [
        "year_cyl = df.groupby(['model_year','cylinders']).mean()\n",
        "year_cyl.head(6)"
      ],
      "execution_count": 247,
      "outputs": [
        {
          "output_type": "execute_result",
          "data": {
            "text/html": [
              "<div>\n",
              "<style scoped>\n",
              "    .dataframe tbody tr th:only-of-type {\n",
              "        vertical-align: middle;\n",
              "    }\n",
              "\n",
              "    .dataframe tbody tr th {\n",
              "        vertical-align: top;\n",
              "    }\n",
              "\n",
              "    .dataframe thead th {\n",
              "        text-align: right;\n",
              "    }\n",
              "</style>\n",
              "<table border=\"1\" class=\"dataframe\">\n",
              "  <thead>\n",
              "    <tr style=\"text-align: right;\">\n",
              "      <th></th>\n",
              "      <th></th>\n",
              "      <th>mpg</th>\n",
              "      <th>displacement</th>\n",
              "      <th>weight</th>\n",
              "      <th>acceleration</th>\n",
              "      <th>origin</th>\n",
              "    </tr>\n",
              "    <tr>\n",
              "      <th>model_year</th>\n",
              "      <th>cylinders</th>\n",
              "      <th></th>\n",
              "      <th></th>\n",
              "      <th></th>\n",
              "      <th></th>\n",
              "      <th></th>\n",
              "    </tr>\n",
              "  </thead>\n",
              "  <tbody>\n",
              "    <tr>\n",
              "      <th rowspan=\"3\" valign=\"top\">70</th>\n",
              "      <th>4</th>\n",
              "      <td>25.285714</td>\n",
              "      <td>107.000000</td>\n",
              "      <td>2292.571429</td>\n",
              "      <td>16.000000</td>\n",
              "      <td>2.285714</td>\n",
              "    </tr>\n",
              "    <tr>\n",
              "      <th>6</th>\n",
              "      <td>20.500000</td>\n",
              "      <td>199.000000</td>\n",
              "      <td>2710.500000</td>\n",
              "      <td>15.500000</td>\n",
              "      <td>1.000000</td>\n",
              "    </tr>\n",
              "    <tr>\n",
              "      <th>8</th>\n",
              "      <td>14.111111</td>\n",
              "      <td>367.555556</td>\n",
              "      <td>3940.055556</td>\n",
              "      <td>11.194444</td>\n",
              "      <td>1.000000</td>\n",
              "    </tr>\n",
              "    <tr>\n",
              "      <th rowspan=\"3\" valign=\"top\">71</th>\n",
              "      <th>4</th>\n",
              "      <td>27.461538</td>\n",
              "      <td>101.846154</td>\n",
              "      <td>2056.384615</td>\n",
              "      <td>16.961538</td>\n",
              "      <td>1.923077</td>\n",
              "    </tr>\n",
              "    <tr>\n",
              "      <th>6</th>\n",
              "      <td>18.000000</td>\n",
              "      <td>243.375000</td>\n",
              "      <td>3171.875000</td>\n",
              "      <td>14.750000</td>\n",
              "      <td>1.000000</td>\n",
              "    </tr>\n",
              "    <tr>\n",
              "      <th>8</th>\n",
              "      <td>13.428571</td>\n",
              "      <td>371.714286</td>\n",
              "      <td>4537.714286</td>\n",
              "      <td>12.214286</td>\n",
              "      <td>1.000000</td>\n",
              "    </tr>\n",
              "  </tbody>\n",
              "</table>\n",
              "</div>"
            ],
            "text/plain": [
              "                            mpg  displacement  ...  acceleration    origin\n",
              "model_year cylinders                           ...                        \n",
              "70         4          25.285714    107.000000  ...     16.000000  2.285714\n",
              "           6          20.500000    199.000000  ...     15.500000  1.000000\n",
              "           8          14.111111    367.555556  ...     11.194444  1.000000\n",
              "71         4          27.461538    101.846154  ...     16.961538  1.923077\n",
              "           6          18.000000    243.375000  ...     14.750000  1.000000\n",
              "           8          13.428571    371.714286  ...     12.214286  1.000000\n",
              "\n",
              "[6 rows x 5 columns]"
            ]
          },
          "metadata": {},
          "execution_count": 247
        }
      ]
    },
    {
      "cell_type": "code",
      "metadata": {
        "colab": {
          "base_uri": "https://localhost:8080/"
        },
        "id": "mWeu65ERJIzh",
        "outputId": "89e17208-9010-486f-c992-0ce9675cf54b"
      },
      "source": [
        "year_cyl.index # multi-index"
      ],
      "execution_count": 248,
      "outputs": [
        {
          "output_type": "execute_result",
          "data": {
            "text/plain": [
              "MultiIndex([(70, 4),\n",
              "            (70, 6),\n",
              "            (70, 8),\n",
              "            (71, 4),\n",
              "            (71, 6),\n",
              "            (71, 8),\n",
              "            (72, 3),\n",
              "            (72, 4),\n",
              "            (72, 8),\n",
              "            (73, 3),\n",
              "            (73, 4),\n",
              "            (73, 6),\n",
              "            (73, 8),\n",
              "            (74, 4),\n",
              "            (74, 6),\n",
              "            (74, 8),\n",
              "            (75, 4),\n",
              "            (75, 6),\n",
              "            (75, 8),\n",
              "            (76, 4),\n",
              "            (76, 6),\n",
              "            (76, 8),\n",
              "            (77, 3),\n",
              "            (77, 4),\n",
              "            (77, 6),\n",
              "            (77, 8),\n",
              "            (78, 4),\n",
              "            (78, 5),\n",
              "            (78, 6),\n",
              "            (78, 8),\n",
              "            (79, 4),\n",
              "            (79, 5),\n",
              "            (79, 6),\n",
              "            (79, 8),\n",
              "            (80, 3),\n",
              "            (80, 4),\n",
              "            (80, 5),\n",
              "            (80, 6),\n",
              "            (81, 4),\n",
              "            (81, 6),\n",
              "            (81, 8),\n",
              "            (82, 4),\n",
              "            (82, 6)],\n",
              "           names=['model_year', 'cylinders'])"
            ]
          },
          "metadata": {},
          "execution_count": 248
        }
      ]
    },
    {
      "cell_type": "code",
      "metadata": {
        "colab": {
          "base_uri": "https://localhost:8080/"
        },
        "id": "0yDr80QCJT3K",
        "outputId": "2f75152e-376d-4dbb-e13a-3ed4c8208df3"
      },
      "source": [
        "year_cyl.index.levels"
      ],
      "execution_count": 249,
      "outputs": [
        {
          "output_type": "execute_result",
          "data": {
            "text/plain": [
              "FrozenList([[70, 71, 72, 73, 74, 75, 76, 77, 78, 79, 80, 81, 82], [3, 4, 5, 6, 8]])"
            ]
          },
          "metadata": {},
          "execution_count": 249
        }
      ]
    },
    {
      "cell_type": "code",
      "metadata": {
        "colab": {
          "base_uri": "https://localhost:8080/"
        },
        "id": "tXMSHLKcJ3Bx",
        "outputId": "0b061b4b-cb04-4d31-e7ca-185644293c6c"
      },
      "source": [
        "year_cyl.index.names"
      ],
      "execution_count": 250,
      "outputs": [
        {
          "output_type": "execute_result",
          "data": {
            "text/plain": [
              "FrozenList(['model_year', 'cylinders'])"
            ]
          },
          "metadata": {},
          "execution_count": 250
        }
      ]
    },
    {
      "cell_type": "code",
      "metadata": {
        "colab": {
          "base_uri": "https://localhost:8080/",
          "height": 0
        },
        "id": "QuT1JelIJ4yZ",
        "outputId": "09cd299a-3974-4021-a357-13982ee15be3"
      },
      "source": [
        "year_cyl.loc[70]"
      ],
      "execution_count": 251,
      "outputs": [
        {
          "output_type": "execute_result",
          "data": {
            "text/html": [
              "<div>\n",
              "<style scoped>\n",
              "    .dataframe tbody tr th:only-of-type {\n",
              "        vertical-align: middle;\n",
              "    }\n",
              "\n",
              "    .dataframe tbody tr th {\n",
              "        vertical-align: top;\n",
              "    }\n",
              "\n",
              "    .dataframe thead th {\n",
              "        text-align: right;\n",
              "    }\n",
              "</style>\n",
              "<table border=\"1\" class=\"dataframe\">\n",
              "  <thead>\n",
              "    <tr style=\"text-align: right;\">\n",
              "      <th></th>\n",
              "      <th>mpg</th>\n",
              "      <th>displacement</th>\n",
              "      <th>weight</th>\n",
              "      <th>acceleration</th>\n",
              "      <th>origin</th>\n",
              "    </tr>\n",
              "    <tr>\n",
              "      <th>cylinders</th>\n",
              "      <th></th>\n",
              "      <th></th>\n",
              "      <th></th>\n",
              "      <th></th>\n",
              "      <th></th>\n",
              "    </tr>\n",
              "  </thead>\n",
              "  <tbody>\n",
              "    <tr>\n",
              "      <th>4</th>\n",
              "      <td>25.285714</td>\n",
              "      <td>107.000000</td>\n",
              "      <td>2292.571429</td>\n",
              "      <td>16.000000</td>\n",
              "      <td>2.285714</td>\n",
              "    </tr>\n",
              "    <tr>\n",
              "      <th>6</th>\n",
              "      <td>20.500000</td>\n",
              "      <td>199.000000</td>\n",
              "      <td>2710.500000</td>\n",
              "      <td>15.500000</td>\n",
              "      <td>1.000000</td>\n",
              "    </tr>\n",
              "    <tr>\n",
              "      <th>8</th>\n",
              "      <td>14.111111</td>\n",
              "      <td>367.555556</td>\n",
              "      <td>3940.055556</td>\n",
              "      <td>11.194444</td>\n",
              "      <td>1.000000</td>\n",
              "    </tr>\n",
              "  </tbody>\n",
              "</table>\n",
              "</div>"
            ],
            "text/plain": [
              "                 mpg  displacement       weight  acceleration    origin\n",
              "cylinders                                                              \n",
              "4          25.285714    107.000000  2292.571429     16.000000  2.285714\n",
              "6          20.500000    199.000000  2710.500000     15.500000  1.000000\n",
              "8          14.111111    367.555556  3940.055556     11.194444  1.000000"
            ]
          },
          "metadata": {},
          "execution_count": 251
        }
      ]
    },
    {
      "cell_type": "code",
      "metadata": {
        "colab": {
          "base_uri": "https://localhost:8080/",
          "height": 0
        },
        "id": "5XnKolH7KB3U",
        "outputId": "5aef34d0-65a1-46e6-e16f-b5c58bcd602f"
      },
      "source": [
        "year_cyl.loc[[70,75]] # grab from outside ## from model_year"
      ],
      "execution_count": 252,
      "outputs": [
        {
          "output_type": "execute_result",
          "data": {
            "text/html": [
              "<div>\n",
              "<style scoped>\n",
              "    .dataframe tbody tr th:only-of-type {\n",
              "        vertical-align: middle;\n",
              "    }\n",
              "\n",
              "    .dataframe tbody tr th {\n",
              "        vertical-align: top;\n",
              "    }\n",
              "\n",
              "    .dataframe thead th {\n",
              "        text-align: right;\n",
              "    }\n",
              "</style>\n",
              "<table border=\"1\" class=\"dataframe\">\n",
              "  <thead>\n",
              "    <tr style=\"text-align: right;\">\n",
              "      <th></th>\n",
              "      <th></th>\n",
              "      <th>mpg</th>\n",
              "      <th>displacement</th>\n",
              "      <th>weight</th>\n",
              "      <th>acceleration</th>\n",
              "      <th>origin</th>\n",
              "    </tr>\n",
              "    <tr>\n",
              "      <th>model_year</th>\n",
              "      <th>cylinders</th>\n",
              "      <th></th>\n",
              "      <th></th>\n",
              "      <th></th>\n",
              "      <th></th>\n",
              "      <th></th>\n",
              "    </tr>\n",
              "  </thead>\n",
              "  <tbody>\n",
              "    <tr>\n",
              "      <th rowspan=\"3\" valign=\"top\">70</th>\n",
              "      <th>4</th>\n",
              "      <td>25.285714</td>\n",
              "      <td>107.000000</td>\n",
              "      <td>2292.571429</td>\n",
              "      <td>16.000000</td>\n",
              "      <td>2.285714</td>\n",
              "    </tr>\n",
              "    <tr>\n",
              "      <th>6</th>\n",
              "      <td>20.500000</td>\n",
              "      <td>199.000000</td>\n",
              "      <td>2710.500000</td>\n",
              "      <td>15.500000</td>\n",
              "      <td>1.000000</td>\n",
              "    </tr>\n",
              "    <tr>\n",
              "      <th>8</th>\n",
              "      <td>14.111111</td>\n",
              "      <td>367.555556</td>\n",
              "      <td>3940.055556</td>\n",
              "      <td>11.194444</td>\n",
              "      <td>1.000000</td>\n",
              "    </tr>\n",
              "    <tr>\n",
              "      <th rowspan=\"3\" valign=\"top\">75</th>\n",
              "      <th>4</th>\n",
              "      <td>25.250000</td>\n",
              "      <td>114.833333</td>\n",
              "      <td>2489.250000</td>\n",
              "      <td>15.833333</td>\n",
              "      <td>2.166667</td>\n",
              "    </tr>\n",
              "    <tr>\n",
              "      <th>6</th>\n",
              "      <td>17.583333</td>\n",
              "      <td>233.750000</td>\n",
              "      <td>3398.333333</td>\n",
              "      <td>17.708333</td>\n",
              "      <td>1.000000</td>\n",
              "    </tr>\n",
              "    <tr>\n",
              "      <th>8</th>\n",
              "      <td>15.666667</td>\n",
              "      <td>330.500000</td>\n",
              "      <td>4108.833333</td>\n",
              "      <td>13.166667</td>\n",
              "      <td>1.000000</td>\n",
              "    </tr>\n",
              "  </tbody>\n",
              "</table>\n",
              "</div>"
            ],
            "text/plain": [
              "                            mpg  displacement  ...  acceleration    origin\n",
              "model_year cylinders                           ...                        \n",
              "70         4          25.285714    107.000000  ...     16.000000  2.285714\n",
              "           6          20.500000    199.000000  ...     15.500000  1.000000\n",
              "           8          14.111111    367.555556  ...     11.194444  1.000000\n",
              "75         4          25.250000    114.833333  ...     15.833333  2.166667\n",
              "           6          17.583333    233.750000  ...     17.708333  1.000000\n",
              "           8          15.666667    330.500000  ...     13.166667  1.000000\n",
              "\n",
              "[6 rows x 5 columns]"
            ]
          },
          "metadata": {},
          "execution_count": 252
        }
      ]
    },
    {
      "cell_type": "code",
      "metadata": {
        "colab": {
          "base_uri": "https://localhost:8080/"
        },
        "id": "__ICnQH1KJaR",
        "outputId": "449631ff-3257-49c9-82ff-9c1c3ee81c3b"
      },
      "source": [
        "year_cyl.loc[(70,8)] # grab single row"
      ],
      "execution_count": 253,
      "outputs": [
        {
          "output_type": "execute_result",
          "data": {
            "text/plain": [
              "mpg               14.111111\n",
              "displacement     367.555556\n",
              "weight          3940.055556\n",
              "acceleration      11.194444\n",
              "origin             1.000000\n",
              "Name: (70, 8), dtype: float64"
            ]
          },
          "metadata": {},
          "execution_count": 253
        }
      ]
    },
    {
      "cell_type": "code",
      "metadata": {
        "colab": {
          "base_uri": "https://localhost:8080/",
          "height": 0
        },
        "id": "amP-QL7sKbv5",
        "outputId": "b620be37-53f2-4d7e-83b9-bdcf0a7943bc"
      },
      "source": [
        "# grab based on cross_section with .xs()\n",
        "year_cyl.xs(key=70, axis=0, level='model_year')"
      ],
      "execution_count": 254,
      "outputs": [
        {
          "output_type": "execute_result",
          "data": {
            "text/html": [
              "<div>\n",
              "<style scoped>\n",
              "    .dataframe tbody tr th:only-of-type {\n",
              "        vertical-align: middle;\n",
              "    }\n",
              "\n",
              "    .dataframe tbody tr th {\n",
              "        vertical-align: top;\n",
              "    }\n",
              "\n",
              "    .dataframe thead th {\n",
              "        text-align: right;\n",
              "    }\n",
              "</style>\n",
              "<table border=\"1\" class=\"dataframe\">\n",
              "  <thead>\n",
              "    <tr style=\"text-align: right;\">\n",
              "      <th></th>\n",
              "      <th>mpg</th>\n",
              "      <th>displacement</th>\n",
              "      <th>weight</th>\n",
              "      <th>acceleration</th>\n",
              "      <th>origin</th>\n",
              "    </tr>\n",
              "    <tr>\n",
              "      <th>cylinders</th>\n",
              "      <th></th>\n",
              "      <th></th>\n",
              "      <th></th>\n",
              "      <th></th>\n",
              "      <th></th>\n",
              "    </tr>\n",
              "  </thead>\n",
              "  <tbody>\n",
              "    <tr>\n",
              "      <th>4</th>\n",
              "      <td>25.285714</td>\n",
              "      <td>107.000000</td>\n",
              "      <td>2292.571429</td>\n",
              "      <td>16.000000</td>\n",
              "      <td>2.285714</td>\n",
              "    </tr>\n",
              "    <tr>\n",
              "      <th>6</th>\n",
              "      <td>20.500000</td>\n",
              "      <td>199.000000</td>\n",
              "      <td>2710.500000</td>\n",
              "      <td>15.500000</td>\n",
              "      <td>1.000000</td>\n",
              "    </tr>\n",
              "    <tr>\n",
              "      <th>8</th>\n",
              "      <td>14.111111</td>\n",
              "      <td>367.555556</td>\n",
              "      <td>3940.055556</td>\n",
              "      <td>11.194444</td>\n",
              "      <td>1.000000</td>\n",
              "    </tr>\n",
              "  </tbody>\n",
              "</table>\n",
              "</div>"
            ],
            "text/plain": [
              "                 mpg  displacement       weight  acceleration    origin\n",
              "cylinders                                                              \n",
              "4          25.285714    107.000000  2292.571429     16.000000  2.285714\n",
              "6          20.500000    199.000000  2710.500000     15.500000  1.000000\n",
              "8          14.111111    367.555556  3940.055556     11.194444  1.000000"
            ]
          },
          "metadata": {},
          "execution_count": 254
        }
      ]
    },
    {
      "cell_type": "code",
      "metadata": {
        "colab": {
          "base_uri": "https://localhost:8080/",
          "height": 0
        },
        "id": "Bh9SYkHFKnFh",
        "outputId": "d6d1a64b-5d58-434c-e5d3-d1f768723bd8"
      },
      "source": [
        "year_cyl.xs(key=4, axis=0, level='cylinders')"
      ],
      "execution_count": 255,
      "outputs": [
        {
          "output_type": "execute_result",
          "data": {
            "text/html": [
              "<div>\n",
              "<style scoped>\n",
              "    .dataframe tbody tr th:only-of-type {\n",
              "        vertical-align: middle;\n",
              "    }\n",
              "\n",
              "    .dataframe tbody tr th {\n",
              "        vertical-align: top;\n",
              "    }\n",
              "\n",
              "    .dataframe thead th {\n",
              "        text-align: right;\n",
              "    }\n",
              "</style>\n",
              "<table border=\"1\" class=\"dataframe\">\n",
              "  <thead>\n",
              "    <tr style=\"text-align: right;\">\n",
              "      <th></th>\n",
              "      <th>mpg</th>\n",
              "      <th>displacement</th>\n",
              "      <th>weight</th>\n",
              "      <th>acceleration</th>\n",
              "      <th>origin</th>\n",
              "    </tr>\n",
              "    <tr>\n",
              "      <th>model_year</th>\n",
              "      <th></th>\n",
              "      <th></th>\n",
              "      <th></th>\n",
              "      <th></th>\n",
              "      <th></th>\n",
              "    </tr>\n",
              "  </thead>\n",
              "  <tbody>\n",
              "    <tr>\n",
              "      <th>70</th>\n",
              "      <td>25.285714</td>\n",
              "      <td>107.000000</td>\n",
              "      <td>2292.571429</td>\n",
              "      <td>16.000000</td>\n",
              "      <td>2.285714</td>\n",
              "    </tr>\n",
              "    <tr>\n",
              "      <th>71</th>\n",
              "      <td>27.461538</td>\n",
              "      <td>101.846154</td>\n",
              "      <td>2056.384615</td>\n",
              "      <td>16.961538</td>\n",
              "      <td>1.923077</td>\n",
              "    </tr>\n",
              "    <tr>\n",
              "      <th>72</th>\n",
              "      <td>23.428571</td>\n",
              "      <td>111.535714</td>\n",
              "      <td>2382.642857</td>\n",
              "      <td>17.214286</td>\n",
              "      <td>1.928571</td>\n",
              "    </tr>\n",
              "    <tr>\n",
              "      <th>73</th>\n",
              "      <td>22.727273</td>\n",
              "      <td>109.272727</td>\n",
              "      <td>2338.090909</td>\n",
              "      <td>17.136364</td>\n",
              "      <td>2.000000</td>\n",
              "    </tr>\n",
              "    <tr>\n",
              "      <th>74</th>\n",
              "      <td>27.800000</td>\n",
              "      <td>96.533333</td>\n",
              "      <td>2151.466667</td>\n",
              "      <td>16.400000</td>\n",
              "      <td>2.200000</td>\n",
              "    </tr>\n",
              "    <tr>\n",
              "      <th>75</th>\n",
              "      <td>25.250000</td>\n",
              "      <td>114.833333</td>\n",
              "      <td>2489.250000</td>\n",
              "      <td>15.833333</td>\n",
              "      <td>2.166667</td>\n",
              "    </tr>\n",
              "    <tr>\n",
              "      <th>76</th>\n",
              "      <td>26.766667</td>\n",
              "      <td>106.333333</td>\n",
              "      <td>2306.600000</td>\n",
              "      <td>16.866667</td>\n",
              "      <td>1.866667</td>\n",
              "    </tr>\n",
              "    <tr>\n",
              "      <th>77</th>\n",
              "      <td>29.107143</td>\n",
              "      <td>106.500000</td>\n",
              "      <td>2205.071429</td>\n",
              "      <td>16.064286</td>\n",
              "      <td>1.857143</td>\n",
              "    </tr>\n",
              "    <tr>\n",
              "      <th>78</th>\n",
              "      <td>29.576471</td>\n",
              "      <td>112.117647</td>\n",
              "      <td>2296.764706</td>\n",
              "      <td>16.282353</td>\n",
              "      <td>2.117647</td>\n",
              "    </tr>\n",
              "    <tr>\n",
              "      <th>79</th>\n",
              "      <td>31.525000</td>\n",
              "      <td>113.583333</td>\n",
              "      <td>2357.583333</td>\n",
              "      <td>15.991667</td>\n",
              "      <td>1.583333</td>\n",
              "    </tr>\n",
              "    <tr>\n",
              "      <th>80</th>\n",
              "      <td>34.612000</td>\n",
              "      <td>111.000000</td>\n",
              "      <td>2360.080000</td>\n",
              "      <td>17.144000</td>\n",
              "      <td>2.200000</td>\n",
              "    </tr>\n",
              "    <tr>\n",
              "      <th>81</th>\n",
              "      <td>32.814286</td>\n",
              "      <td>108.857143</td>\n",
              "      <td>2275.476190</td>\n",
              "      <td>16.466667</td>\n",
              "      <td>2.095238</td>\n",
              "    </tr>\n",
              "    <tr>\n",
              "      <th>82</th>\n",
              "      <td>32.071429</td>\n",
              "      <td>118.571429</td>\n",
              "      <td>2402.321429</td>\n",
              "      <td>16.703571</td>\n",
              "      <td>1.714286</td>\n",
              "    </tr>\n",
              "  </tbody>\n",
              "</table>\n",
              "</div>"
            ],
            "text/plain": [
              "                  mpg  displacement       weight  acceleration    origin\n",
              "model_year                                                              \n",
              "70          25.285714    107.000000  2292.571429     16.000000  2.285714\n",
              "71          27.461538    101.846154  2056.384615     16.961538  1.923077\n",
              "72          23.428571    111.535714  2382.642857     17.214286  1.928571\n",
              "73          22.727273    109.272727  2338.090909     17.136364  2.000000\n",
              "74          27.800000     96.533333  2151.466667     16.400000  2.200000\n",
              "75          25.250000    114.833333  2489.250000     15.833333  2.166667\n",
              "76          26.766667    106.333333  2306.600000     16.866667  1.866667\n",
              "77          29.107143    106.500000  2205.071429     16.064286  1.857143\n",
              "78          29.576471    112.117647  2296.764706     16.282353  2.117647\n",
              "79          31.525000    113.583333  2357.583333     15.991667  1.583333\n",
              "80          34.612000    111.000000  2360.080000     17.144000  2.200000\n",
              "81          32.814286    108.857143  2275.476190     16.466667  2.095238\n",
              "82          32.071429    118.571429  2402.321429     16.703571  1.714286"
            ]
          },
          "metadata": {},
          "execution_count": 255
        }
      ]
    },
    {
      "cell_type": "code",
      "metadata": {
        "colab": {
          "base_uri": "https://localhost:8080/",
          "height": 0
        },
        "id": "3tO1uHyIKv0h",
        "outputId": "091f863e-10d0-4f02-cce8-66862bd3b09c"
      },
      "source": [
        "# easier to filter out values before groupby\n",
        "df[df['cylinders'].isin([4,6])].groupby(['model_year','cylinders']).mean().head()"
      ],
      "execution_count": 256,
      "outputs": [
        {
          "output_type": "execute_result",
          "data": {
            "text/html": [
              "<div>\n",
              "<style scoped>\n",
              "    .dataframe tbody tr th:only-of-type {\n",
              "        vertical-align: middle;\n",
              "    }\n",
              "\n",
              "    .dataframe tbody tr th {\n",
              "        vertical-align: top;\n",
              "    }\n",
              "\n",
              "    .dataframe thead th {\n",
              "        text-align: right;\n",
              "    }\n",
              "</style>\n",
              "<table border=\"1\" class=\"dataframe\">\n",
              "  <thead>\n",
              "    <tr style=\"text-align: right;\">\n",
              "      <th></th>\n",
              "      <th></th>\n",
              "      <th>mpg</th>\n",
              "      <th>displacement</th>\n",
              "      <th>weight</th>\n",
              "      <th>acceleration</th>\n",
              "      <th>origin</th>\n",
              "    </tr>\n",
              "    <tr>\n",
              "      <th>model_year</th>\n",
              "      <th>cylinders</th>\n",
              "      <th></th>\n",
              "      <th></th>\n",
              "      <th></th>\n",
              "      <th></th>\n",
              "      <th></th>\n",
              "    </tr>\n",
              "  </thead>\n",
              "  <tbody>\n",
              "    <tr>\n",
              "      <th rowspan=\"2\" valign=\"top\">70</th>\n",
              "      <th>4</th>\n",
              "      <td>25.285714</td>\n",
              "      <td>107.000000</td>\n",
              "      <td>2292.571429</td>\n",
              "      <td>16.000000</td>\n",
              "      <td>2.285714</td>\n",
              "    </tr>\n",
              "    <tr>\n",
              "      <th>6</th>\n",
              "      <td>20.500000</td>\n",
              "      <td>199.000000</td>\n",
              "      <td>2710.500000</td>\n",
              "      <td>15.500000</td>\n",
              "      <td>1.000000</td>\n",
              "    </tr>\n",
              "    <tr>\n",
              "      <th rowspan=\"2\" valign=\"top\">71</th>\n",
              "      <th>4</th>\n",
              "      <td>27.461538</td>\n",
              "      <td>101.846154</td>\n",
              "      <td>2056.384615</td>\n",
              "      <td>16.961538</td>\n",
              "      <td>1.923077</td>\n",
              "    </tr>\n",
              "    <tr>\n",
              "      <th>6</th>\n",
              "      <td>18.000000</td>\n",
              "      <td>243.375000</td>\n",
              "      <td>3171.875000</td>\n",
              "      <td>14.750000</td>\n",
              "      <td>1.000000</td>\n",
              "    </tr>\n",
              "    <tr>\n",
              "      <th>72</th>\n",
              "      <th>4</th>\n",
              "      <td>23.428571</td>\n",
              "      <td>111.535714</td>\n",
              "      <td>2382.642857</td>\n",
              "      <td>17.214286</td>\n",
              "      <td>1.928571</td>\n",
              "    </tr>\n",
              "  </tbody>\n",
              "</table>\n",
              "</div>"
            ],
            "text/plain": [
              "                            mpg  displacement  ...  acceleration    origin\n",
              "model_year cylinders                           ...                        \n",
              "70         4          25.285714    107.000000  ...     16.000000  2.285714\n",
              "           6          20.500000    199.000000  ...     15.500000  1.000000\n",
              "71         4          27.461538    101.846154  ...     16.961538  1.923077\n",
              "           6          18.000000    243.375000  ...     14.750000  1.000000\n",
              "72         4          23.428571    111.535714  ...     17.214286  1.928571\n",
              "\n",
              "[5 rows x 5 columns]"
            ]
          },
          "metadata": {},
          "execution_count": 256
        }
      ]
    },
    {
      "cell_type": "code",
      "metadata": {
        "colab": {
          "base_uri": "https://localhost:8080/",
          "height": 0
        },
        "id": "i5Nzl0RlLGSQ",
        "outputId": "84dd7c8f-71e8-4031-d5c7-b204ae3e3062"
      },
      "source": [
        "# swap levels\n",
        "year_cyl.swaplevel().head()"
      ],
      "execution_count": 257,
      "outputs": [
        {
          "output_type": "execute_result",
          "data": {
            "text/html": [
              "<div>\n",
              "<style scoped>\n",
              "    .dataframe tbody tr th:only-of-type {\n",
              "        vertical-align: middle;\n",
              "    }\n",
              "\n",
              "    .dataframe tbody tr th {\n",
              "        vertical-align: top;\n",
              "    }\n",
              "\n",
              "    .dataframe thead th {\n",
              "        text-align: right;\n",
              "    }\n",
              "</style>\n",
              "<table border=\"1\" class=\"dataframe\">\n",
              "  <thead>\n",
              "    <tr style=\"text-align: right;\">\n",
              "      <th></th>\n",
              "      <th></th>\n",
              "      <th>mpg</th>\n",
              "      <th>displacement</th>\n",
              "      <th>weight</th>\n",
              "      <th>acceleration</th>\n",
              "      <th>origin</th>\n",
              "    </tr>\n",
              "    <tr>\n",
              "      <th>cylinders</th>\n",
              "      <th>model_year</th>\n",
              "      <th></th>\n",
              "      <th></th>\n",
              "      <th></th>\n",
              "      <th></th>\n",
              "      <th></th>\n",
              "    </tr>\n",
              "  </thead>\n",
              "  <tbody>\n",
              "    <tr>\n",
              "      <th>4</th>\n",
              "      <th>70</th>\n",
              "      <td>25.285714</td>\n",
              "      <td>107.000000</td>\n",
              "      <td>2292.571429</td>\n",
              "      <td>16.000000</td>\n",
              "      <td>2.285714</td>\n",
              "    </tr>\n",
              "    <tr>\n",
              "      <th>6</th>\n",
              "      <th>70</th>\n",
              "      <td>20.500000</td>\n",
              "      <td>199.000000</td>\n",
              "      <td>2710.500000</td>\n",
              "      <td>15.500000</td>\n",
              "      <td>1.000000</td>\n",
              "    </tr>\n",
              "    <tr>\n",
              "      <th>8</th>\n",
              "      <th>70</th>\n",
              "      <td>14.111111</td>\n",
              "      <td>367.555556</td>\n",
              "      <td>3940.055556</td>\n",
              "      <td>11.194444</td>\n",
              "      <td>1.000000</td>\n",
              "    </tr>\n",
              "    <tr>\n",
              "      <th>4</th>\n",
              "      <th>71</th>\n",
              "      <td>27.461538</td>\n",
              "      <td>101.846154</td>\n",
              "      <td>2056.384615</td>\n",
              "      <td>16.961538</td>\n",
              "      <td>1.923077</td>\n",
              "    </tr>\n",
              "    <tr>\n",
              "      <th>6</th>\n",
              "      <th>71</th>\n",
              "      <td>18.000000</td>\n",
              "      <td>243.375000</td>\n",
              "      <td>3171.875000</td>\n",
              "      <td>14.750000</td>\n",
              "      <td>1.000000</td>\n",
              "    </tr>\n",
              "  </tbody>\n",
              "</table>\n",
              "</div>"
            ],
            "text/plain": [
              "                            mpg  displacement  ...  acceleration    origin\n",
              "cylinders model_year                           ...                        \n",
              "4         70          25.285714    107.000000  ...     16.000000  2.285714\n",
              "6         70          20.500000    199.000000  ...     15.500000  1.000000\n",
              "8         70          14.111111    367.555556  ...     11.194444  1.000000\n",
              "4         71          27.461538    101.846154  ...     16.961538  1.923077\n",
              "6         71          18.000000    243.375000  ...     14.750000  1.000000\n",
              "\n",
              "[5 rows x 5 columns]"
            ]
          },
          "metadata": {},
          "execution_count": 257
        }
      ]
    },
    {
      "cell_type": "code",
      "metadata": {
        "colab": {
          "base_uri": "https://localhost:8080/",
          "height": 0
        },
        "id": "YNsy6d-jLY_b",
        "outputId": "c2fa3872-f2fa-4598-d21f-8d5cd72297ab"
      },
      "source": [
        "# sort multi-index\n",
        "year_cyl.sort_index(level='model_year', ascending=False).head(6)"
      ],
      "execution_count": 258,
      "outputs": [
        {
          "output_type": "execute_result",
          "data": {
            "text/html": [
              "<div>\n",
              "<style scoped>\n",
              "    .dataframe tbody tr th:only-of-type {\n",
              "        vertical-align: middle;\n",
              "    }\n",
              "\n",
              "    .dataframe tbody tr th {\n",
              "        vertical-align: top;\n",
              "    }\n",
              "\n",
              "    .dataframe thead th {\n",
              "        text-align: right;\n",
              "    }\n",
              "</style>\n",
              "<table border=\"1\" class=\"dataframe\">\n",
              "  <thead>\n",
              "    <tr style=\"text-align: right;\">\n",
              "      <th></th>\n",
              "      <th></th>\n",
              "      <th>mpg</th>\n",
              "      <th>displacement</th>\n",
              "      <th>weight</th>\n",
              "      <th>acceleration</th>\n",
              "      <th>origin</th>\n",
              "    </tr>\n",
              "    <tr>\n",
              "      <th>model_year</th>\n",
              "      <th>cylinders</th>\n",
              "      <th></th>\n",
              "      <th></th>\n",
              "      <th></th>\n",
              "      <th></th>\n",
              "      <th></th>\n",
              "    </tr>\n",
              "  </thead>\n",
              "  <tbody>\n",
              "    <tr>\n",
              "      <th rowspan=\"2\" valign=\"top\">82</th>\n",
              "      <th>6</th>\n",
              "      <td>28.333333</td>\n",
              "      <td>225.000000</td>\n",
              "      <td>2931.666667</td>\n",
              "      <td>16.033333</td>\n",
              "      <td>1.000000</td>\n",
              "    </tr>\n",
              "    <tr>\n",
              "      <th>4</th>\n",
              "      <td>32.071429</td>\n",
              "      <td>118.571429</td>\n",
              "      <td>2402.321429</td>\n",
              "      <td>16.703571</td>\n",
              "      <td>1.714286</td>\n",
              "    </tr>\n",
              "    <tr>\n",
              "      <th rowspan=\"3\" valign=\"top\">81</th>\n",
              "      <th>8</th>\n",
              "      <td>26.600000</td>\n",
              "      <td>350.000000</td>\n",
              "      <td>3725.000000</td>\n",
              "      <td>19.000000</td>\n",
              "      <td>1.000000</td>\n",
              "    </tr>\n",
              "    <tr>\n",
              "      <th>6</th>\n",
              "      <td>23.428571</td>\n",
              "      <td>184.000000</td>\n",
              "      <td>3093.571429</td>\n",
              "      <td>15.442857</td>\n",
              "      <td>1.714286</td>\n",
              "    </tr>\n",
              "    <tr>\n",
              "      <th>4</th>\n",
              "      <td>32.814286</td>\n",
              "      <td>108.857143</td>\n",
              "      <td>2275.476190</td>\n",
              "      <td>16.466667</td>\n",
              "      <td>2.095238</td>\n",
              "    </tr>\n",
              "    <tr>\n",
              "      <th>80</th>\n",
              "      <th>6</th>\n",
              "      <td>25.900000</td>\n",
              "      <td>196.500000</td>\n",
              "      <td>3145.500000</td>\n",
              "      <td>15.050000</td>\n",
              "      <td>2.000000</td>\n",
              "    </tr>\n",
              "  </tbody>\n",
              "</table>\n",
              "</div>"
            ],
            "text/plain": [
              "                            mpg  displacement  ...  acceleration    origin\n",
              "model_year cylinders                           ...                        \n",
              "82         6          28.333333    225.000000  ...     16.033333  1.000000\n",
              "           4          32.071429    118.571429  ...     16.703571  1.714286\n",
              "81         8          26.600000    350.000000  ...     19.000000  1.000000\n",
              "           6          23.428571    184.000000  ...     15.442857  1.714286\n",
              "           4          32.814286    108.857143  ...     16.466667  2.095238\n",
              "80         6          25.900000    196.500000  ...     15.050000  2.000000\n",
              "\n",
              "[6 rows x 5 columns]"
            ]
          },
          "metadata": {},
          "execution_count": 258
        }
      ]
    },
    {
      "cell_type": "code",
      "metadata": {
        "colab": {
          "base_uri": "https://localhost:8080/",
          "height": 0
        },
        "id": "Uqre90htLhhJ",
        "outputId": "6d9bd1b2-4346-48d3-ee96-48bca78a8d51"
      },
      "source": [
        "year_cyl.sort_index(level='cylinders', ascending=False).head(6)"
      ],
      "execution_count": 259,
      "outputs": [
        {
          "output_type": "execute_result",
          "data": {
            "text/html": [
              "<div>\n",
              "<style scoped>\n",
              "    .dataframe tbody tr th:only-of-type {\n",
              "        vertical-align: middle;\n",
              "    }\n",
              "\n",
              "    .dataframe tbody tr th {\n",
              "        vertical-align: top;\n",
              "    }\n",
              "\n",
              "    .dataframe thead th {\n",
              "        text-align: right;\n",
              "    }\n",
              "</style>\n",
              "<table border=\"1\" class=\"dataframe\">\n",
              "  <thead>\n",
              "    <tr style=\"text-align: right;\">\n",
              "      <th></th>\n",
              "      <th></th>\n",
              "      <th>mpg</th>\n",
              "      <th>displacement</th>\n",
              "      <th>weight</th>\n",
              "      <th>acceleration</th>\n",
              "      <th>origin</th>\n",
              "    </tr>\n",
              "    <tr>\n",
              "      <th>model_year</th>\n",
              "      <th>cylinders</th>\n",
              "      <th></th>\n",
              "      <th></th>\n",
              "      <th></th>\n",
              "      <th></th>\n",
              "      <th></th>\n",
              "    </tr>\n",
              "  </thead>\n",
              "  <tbody>\n",
              "    <tr>\n",
              "      <th>81</th>\n",
              "      <th>8</th>\n",
              "      <td>26.600000</td>\n",
              "      <td>350.000000</td>\n",
              "      <td>3725.000000</td>\n",
              "      <td>19.000000</td>\n",
              "      <td>1.0</td>\n",
              "    </tr>\n",
              "    <tr>\n",
              "      <th>79</th>\n",
              "      <th>8</th>\n",
              "      <td>18.630000</td>\n",
              "      <td>321.400000</td>\n",
              "      <td>3862.900000</td>\n",
              "      <td>15.400000</td>\n",
              "      <td>1.0</td>\n",
              "    </tr>\n",
              "    <tr>\n",
              "      <th>78</th>\n",
              "      <th>8</th>\n",
              "      <td>19.050000</td>\n",
              "      <td>300.833333</td>\n",
              "      <td>3563.333333</td>\n",
              "      <td>13.266667</td>\n",
              "      <td>1.0</td>\n",
              "    </tr>\n",
              "    <tr>\n",
              "      <th>77</th>\n",
              "      <th>8</th>\n",
              "      <td>16.000000</td>\n",
              "      <td>335.750000</td>\n",
              "      <td>4177.500000</td>\n",
              "      <td>13.662500</td>\n",
              "      <td>1.0</td>\n",
              "    </tr>\n",
              "    <tr>\n",
              "      <th>76</th>\n",
              "      <th>8</th>\n",
              "      <td>14.666667</td>\n",
              "      <td>324.000000</td>\n",
              "      <td>4064.666667</td>\n",
              "      <td>13.222222</td>\n",
              "      <td>1.0</td>\n",
              "    </tr>\n",
              "    <tr>\n",
              "      <th>75</th>\n",
              "      <th>8</th>\n",
              "      <td>15.666667</td>\n",
              "      <td>330.500000</td>\n",
              "      <td>4108.833333</td>\n",
              "      <td>13.166667</td>\n",
              "      <td>1.0</td>\n",
              "    </tr>\n",
              "  </tbody>\n",
              "</table>\n",
              "</div>"
            ],
            "text/plain": [
              "                            mpg  displacement  ...  acceleration  origin\n",
              "model_year cylinders                           ...                      \n",
              "81         8          26.600000    350.000000  ...     19.000000     1.0\n",
              "79         8          18.630000    321.400000  ...     15.400000     1.0\n",
              "78         8          19.050000    300.833333  ...     13.266667     1.0\n",
              "77         8          16.000000    335.750000  ...     13.662500     1.0\n",
              "76         8          14.666667    324.000000  ...     13.222222     1.0\n",
              "75         8          15.666667    330.500000  ...     13.166667     1.0\n",
              "\n",
              "[6 rows x 5 columns]"
            ]
          },
          "metadata": {},
          "execution_count": 259
        }
      ]
    },
    {
      "cell_type": "markdown",
      "metadata": {
        "id": "2Q6f6anbLtmX"
      },
      "source": [
        "### agg( ) method"
      ]
    },
    {
      "cell_type": "code",
      "metadata": {
        "colab": {
          "base_uri": "https://localhost:8080/",
          "height": 0
        },
        "id": "lWHZTitALpj5",
        "outputId": "097b643f-2aa0-4a6e-818d-de81c6cbf7bc"
      },
      "source": [
        "df.head()"
      ],
      "execution_count": 260,
      "outputs": [
        {
          "output_type": "execute_result",
          "data": {
            "text/html": [
              "<div>\n",
              "<style scoped>\n",
              "    .dataframe tbody tr th:only-of-type {\n",
              "        vertical-align: middle;\n",
              "    }\n",
              "\n",
              "    .dataframe tbody tr th {\n",
              "        vertical-align: top;\n",
              "    }\n",
              "\n",
              "    .dataframe thead th {\n",
              "        text-align: right;\n",
              "    }\n",
              "</style>\n",
              "<table border=\"1\" class=\"dataframe\">\n",
              "  <thead>\n",
              "    <tr style=\"text-align: right;\">\n",
              "      <th></th>\n",
              "      <th>mpg</th>\n",
              "      <th>cylinders</th>\n",
              "      <th>displacement</th>\n",
              "      <th>horsepower</th>\n",
              "      <th>weight</th>\n",
              "      <th>acceleration</th>\n",
              "      <th>model_year</th>\n",
              "      <th>origin</th>\n",
              "      <th>name</th>\n",
              "    </tr>\n",
              "  </thead>\n",
              "  <tbody>\n",
              "    <tr>\n",
              "      <th>0</th>\n",
              "      <td>18.0</td>\n",
              "      <td>8</td>\n",
              "      <td>307.0</td>\n",
              "      <td>130</td>\n",
              "      <td>3504</td>\n",
              "      <td>12.0</td>\n",
              "      <td>70</td>\n",
              "      <td>1</td>\n",
              "      <td>chevrolet chevelle malibu</td>\n",
              "    </tr>\n",
              "    <tr>\n",
              "      <th>1</th>\n",
              "      <td>15.0</td>\n",
              "      <td>8</td>\n",
              "      <td>350.0</td>\n",
              "      <td>165</td>\n",
              "      <td>3693</td>\n",
              "      <td>11.5</td>\n",
              "      <td>70</td>\n",
              "      <td>1</td>\n",
              "      <td>buick skylark 320</td>\n",
              "    </tr>\n",
              "    <tr>\n",
              "      <th>2</th>\n",
              "      <td>18.0</td>\n",
              "      <td>8</td>\n",
              "      <td>318.0</td>\n",
              "      <td>150</td>\n",
              "      <td>3436</td>\n",
              "      <td>11.0</td>\n",
              "      <td>70</td>\n",
              "      <td>1</td>\n",
              "      <td>plymouth satellite</td>\n",
              "    </tr>\n",
              "    <tr>\n",
              "      <th>3</th>\n",
              "      <td>16.0</td>\n",
              "      <td>8</td>\n",
              "      <td>304.0</td>\n",
              "      <td>150</td>\n",
              "      <td>3433</td>\n",
              "      <td>12.0</td>\n",
              "      <td>70</td>\n",
              "      <td>1</td>\n",
              "      <td>amc rebel sst</td>\n",
              "    </tr>\n",
              "    <tr>\n",
              "      <th>4</th>\n",
              "      <td>17.0</td>\n",
              "      <td>8</td>\n",
              "      <td>302.0</td>\n",
              "      <td>140</td>\n",
              "      <td>3449</td>\n",
              "      <td>10.5</td>\n",
              "      <td>70</td>\n",
              "      <td>1</td>\n",
              "      <td>ford torino</td>\n",
              "    </tr>\n",
              "  </tbody>\n",
              "</table>\n",
              "</div>"
            ],
            "text/plain": [
              "    mpg  cylinders  displacement  ... model_year  origin                       name\n",
              "0  18.0          8         307.0  ...         70       1  chevrolet chevelle malibu\n",
              "1  15.0          8         350.0  ...         70       1          buick skylark 320\n",
              "2  18.0          8         318.0  ...         70       1         plymouth satellite\n",
              "3  16.0          8         304.0  ...         70       1              amc rebel sst\n",
              "4  17.0          8         302.0  ...         70       1                ford torino\n",
              "\n",
              "[5 rows x 9 columns]"
            ]
          },
          "metadata": {},
          "execution_count": 260
        }
      ]
    },
    {
      "cell_type": "code",
      "metadata": {
        "colab": {
          "base_uri": "https://localhost:8080/",
          "height": 0
        },
        "id": "fh4ygRSFLx-h",
        "outputId": "90999408-d08c-41f2-b92f-88187371d791"
      },
      "source": [
        "df.agg(['mean','median'])"
      ],
      "execution_count": 261,
      "outputs": [
        {
          "output_type": "execute_result",
          "data": {
            "text/html": [
              "<div>\n",
              "<style scoped>\n",
              "    .dataframe tbody tr th:only-of-type {\n",
              "        vertical-align: middle;\n",
              "    }\n",
              "\n",
              "    .dataframe tbody tr th {\n",
              "        vertical-align: top;\n",
              "    }\n",
              "\n",
              "    .dataframe thead th {\n",
              "        text-align: right;\n",
              "    }\n",
              "</style>\n",
              "<table border=\"1\" class=\"dataframe\">\n",
              "  <thead>\n",
              "    <tr style=\"text-align: right;\">\n",
              "      <th></th>\n",
              "      <th>mpg</th>\n",
              "      <th>cylinders</th>\n",
              "      <th>displacement</th>\n",
              "      <th>weight</th>\n",
              "      <th>acceleration</th>\n",
              "      <th>model_year</th>\n",
              "      <th>origin</th>\n",
              "    </tr>\n",
              "  </thead>\n",
              "  <tbody>\n",
              "    <tr>\n",
              "      <th>mean</th>\n",
              "      <td>23.514573</td>\n",
              "      <td>5.454774</td>\n",
              "      <td>193.425879</td>\n",
              "      <td>2970.424623</td>\n",
              "      <td>15.56809</td>\n",
              "      <td>76.01005</td>\n",
              "      <td>1.572864</td>\n",
              "    </tr>\n",
              "    <tr>\n",
              "      <th>median</th>\n",
              "      <td>23.000000</td>\n",
              "      <td>4.000000</td>\n",
              "      <td>148.500000</td>\n",
              "      <td>2803.500000</td>\n",
              "      <td>15.50000</td>\n",
              "      <td>76.00000</td>\n",
              "      <td>1.000000</td>\n",
              "    </tr>\n",
              "  </tbody>\n",
              "</table>\n",
              "</div>"
            ],
            "text/plain": [
              "              mpg  cylinders  displacement  ...  acceleration  model_year    origin\n",
              "mean    23.514573   5.454774    193.425879  ...      15.56809    76.01005  1.572864\n",
              "median  23.000000   4.000000    148.500000  ...      15.50000    76.00000  1.000000\n",
              "\n",
              "[2 rows x 7 columns]"
            ]
          },
          "metadata": {},
          "execution_count": 261
        }
      ]
    },
    {
      "cell_type": "code",
      "metadata": {
        "colab": {
          "base_uri": "https://localhost:8080/",
          "height": 0
        },
        "id": "Abw4uoDxL0AJ",
        "outputId": "096bb7d8-5fad-48fa-dfd0-5c9c77260309"
      },
      "source": [
        "df.agg(['sum','mean'])[['mpg','weight']]"
      ],
      "execution_count": 262,
      "outputs": [
        {
          "output_type": "execute_result",
          "data": {
            "text/html": [
              "<div>\n",
              "<style scoped>\n",
              "    .dataframe tbody tr th:only-of-type {\n",
              "        vertical-align: middle;\n",
              "    }\n",
              "\n",
              "    .dataframe tbody tr th {\n",
              "        vertical-align: top;\n",
              "    }\n",
              "\n",
              "    .dataframe thead th {\n",
              "        text-align: right;\n",
              "    }\n",
              "</style>\n",
              "<table border=\"1\" class=\"dataframe\">\n",
              "  <thead>\n",
              "    <tr style=\"text-align: right;\">\n",
              "      <th></th>\n",
              "      <th>mpg</th>\n",
              "      <th>weight</th>\n",
              "    </tr>\n",
              "  </thead>\n",
              "  <tbody>\n",
              "    <tr>\n",
              "      <th>sum</th>\n",
              "      <td>9358.800000</td>\n",
              "      <td>1.182229e+06</td>\n",
              "    </tr>\n",
              "    <tr>\n",
              "      <th>mean</th>\n",
              "      <td>23.514573</td>\n",
              "      <td>2.970425e+03</td>\n",
              "    </tr>\n",
              "  </tbody>\n",
              "</table>\n",
              "</div>"
            ],
            "text/plain": [
              "              mpg        weight\n",
              "sum   9358.800000  1.182229e+06\n",
              "mean    23.514573  2.970425e+03"
            ]
          },
          "metadata": {},
          "execution_count": 262
        }
      ]
    },
    {
      "cell_type": "code",
      "metadata": {
        "colab": {
          "base_uri": "https://localhost:8080/",
          "height": 0
        },
        "id": "TRfAQbmtL5ax",
        "outputId": "c4d6db8f-deb6-4620-c774-c1b0a2f33c4a"
      },
      "source": [
        "# agg per columns \n",
        "df.agg({'mpg':['median', 'mean'], 'weight':['sum','mean']})"
      ],
      "execution_count": 263,
      "outputs": [
        {
          "output_type": "execute_result",
          "data": {
            "text/html": [
              "<div>\n",
              "<style scoped>\n",
              "    .dataframe tbody tr th:only-of-type {\n",
              "        vertical-align: middle;\n",
              "    }\n",
              "\n",
              "    .dataframe tbody tr th {\n",
              "        vertical-align: top;\n",
              "    }\n",
              "\n",
              "    .dataframe thead th {\n",
              "        text-align: right;\n",
              "    }\n",
              "</style>\n",
              "<table border=\"1\" class=\"dataframe\">\n",
              "  <thead>\n",
              "    <tr style=\"text-align: right;\">\n",
              "      <th></th>\n",
              "      <th>mpg</th>\n",
              "      <th>weight</th>\n",
              "    </tr>\n",
              "  </thead>\n",
              "  <tbody>\n",
              "    <tr>\n",
              "      <th>mean</th>\n",
              "      <td>23.514573</td>\n",
              "      <td>2.970425e+03</td>\n",
              "    </tr>\n",
              "    <tr>\n",
              "      <th>median</th>\n",
              "      <td>23.000000</td>\n",
              "      <td>NaN</td>\n",
              "    </tr>\n",
              "    <tr>\n",
              "      <th>sum</th>\n",
              "      <td>NaN</td>\n",
              "      <td>1.182229e+06</td>\n",
              "    </tr>\n",
              "  </tbody>\n",
              "</table>\n",
              "</div>"
            ],
            "text/plain": [
              "              mpg        weight\n",
              "mean    23.514573  2.970425e+03\n",
              "median  23.000000           NaN\n",
              "sum           NaN  1.182229e+06"
            ]
          },
          "metadata": {},
          "execution_count": 263
        }
      ]
    },
    {
      "cell_type": "code",
      "metadata": {
        "colab": {
          "base_uri": "https://localhost:8080/",
          "height": 0
        },
        "id": "Ov9xQdWzMQWB",
        "outputId": "658d5b4e-cbfc-4a89-9607-6e096f8a812c"
      },
      "source": [
        "# agg with groupby\n",
        "df.groupby('cylinders').agg({'mpg':['mean','median'], 'weight':['sum','std']})"
      ],
      "execution_count": 264,
      "outputs": [
        {
          "output_type": "execute_result",
          "data": {
            "text/html": [
              "<div>\n",
              "<style scoped>\n",
              "    .dataframe tbody tr th:only-of-type {\n",
              "        vertical-align: middle;\n",
              "    }\n",
              "\n",
              "    .dataframe tbody tr th {\n",
              "        vertical-align: top;\n",
              "    }\n",
              "\n",
              "    .dataframe thead tr th {\n",
              "        text-align: left;\n",
              "    }\n",
              "\n",
              "    .dataframe thead tr:last-of-type th {\n",
              "        text-align: right;\n",
              "    }\n",
              "</style>\n",
              "<table border=\"1\" class=\"dataframe\">\n",
              "  <thead>\n",
              "    <tr>\n",
              "      <th></th>\n",
              "      <th colspan=\"2\" halign=\"left\">mpg</th>\n",
              "      <th colspan=\"2\" halign=\"left\">weight</th>\n",
              "    </tr>\n",
              "    <tr>\n",
              "      <th></th>\n",
              "      <th>mean</th>\n",
              "      <th>median</th>\n",
              "      <th>sum</th>\n",
              "      <th>std</th>\n",
              "    </tr>\n",
              "    <tr>\n",
              "      <th>cylinders</th>\n",
              "      <th></th>\n",
              "      <th></th>\n",
              "      <th></th>\n",
              "      <th></th>\n",
              "    </tr>\n",
              "  </thead>\n",
              "  <tbody>\n",
              "    <tr>\n",
              "      <th>3</th>\n",
              "      <td>20.550000</td>\n",
              "      <td>20.25</td>\n",
              "      <td>9594</td>\n",
              "      <td>247.566153</td>\n",
              "    </tr>\n",
              "    <tr>\n",
              "      <th>4</th>\n",
              "      <td>29.286765</td>\n",
              "      <td>28.25</td>\n",
              "      <td>470858</td>\n",
              "      <td>347.093936</td>\n",
              "    </tr>\n",
              "    <tr>\n",
              "      <th>5</th>\n",
              "      <td>27.366667</td>\n",
              "      <td>25.40</td>\n",
              "      <td>9310</td>\n",
              "      <td>374.343870</td>\n",
              "    </tr>\n",
              "    <tr>\n",
              "      <th>6</th>\n",
              "      <td>19.985714</td>\n",
              "      <td>19.00</td>\n",
              "      <td>268651</td>\n",
              "      <td>332.297419</td>\n",
              "    </tr>\n",
              "    <tr>\n",
              "      <th>8</th>\n",
              "      <td>14.963107</td>\n",
              "      <td>14.00</td>\n",
              "      <td>423816</td>\n",
              "      <td>448.833159</td>\n",
              "    </tr>\n",
              "  </tbody>\n",
              "</table>\n",
              "</div>"
            ],
            "text/plain": [
              "                 mpg         weight            \n",
              "                mean median     sum         std\n",
              "cylinders                                      \n",
              "3          20.550000  20.25    9594  247.566153\n",
              "4          29.286765  28.25  470858  347.093936\n",
              "5          27.366667  25.40    9310  374.343870\n",
              "6          19.985714  19.00  268651  332.297419\n",
              "8          14.963107  14.00  423816  448.833159"
            ]
          },
          "metadata": {},
          "execution_count": 264
        }
      ]
    },
    {
      "cell_type": "code",
      "metadata": {
        "id": "O3V--vpgMY5p"
      },
      "source": [
        ""
      ],
      "execution_count": 264,
      "outputs": []
    },
    {
      "cell_type": "markdown",
      "metadata": {
        "id": "81rWCkBGM2ji"
      },
      "source": [
        "<a id='pivot'></a>\n",
        "## Pivot Tables"
      ]
    },
    {
      "cell_type": "code",
      "metadata": {
        "id": "frxWp9k8Njhq"
      },
      "source": [
        "# help(pd.pivot)"
      ],
      "execution_count": 265,
      "outputs": []
    },
    {
      "cell_type": "code",
      "metadata": {
        "colab": {
          "base_uri": "https://localhost:8080/",
          "height": 0
        },
        "id": "JWOkMR3dM6fR",
        "outputId": "e71a0432-c6dc-41b0-84d5-ab87d481b592"
      },
      "source": [
        "df = pd.read_csv('Sales_Funnel_CRM.csv')\n",
        "df.head()"
      ],
      "execution_count": 266,
      "outputs": [
        {
          "output_type": "execute_result",
          "data": {
            "text/html": [
              "<div>\n",
              "<style scoped>\n",
              "    .dataframe tbody tr th:only-of-type {\n",
              "        vertical-align: middle;\n",
              "    }\n",
              "\n",
              "    .dataframe tbody tr th {\n",
              "        vertical-align: top;\n",
              "    }\n",
              "\n",
              "    .dataframe thead th {\n",
              "        text-align: right;\n",
              "    }\n",
              "</style>\n",
              "<table border=\"1\" class=\"dataframe\">\n",
              "  <thead>\n",
              "    <tr style=\"text-align: right;\">\n",
              "      <th></th>\n",
              "      <th>Account Number</th>\n",
              "      <th>Company</th>\n",
              "      <th>Contact</th>\n",
              "      <th>Account Manager</th>\n",
              "      <th>Product</th>\n",
              "      <th>Licenses</th>\n",
              "      <th>Sale Price</th>\n",
              "      <th>Status</th>\n",
              "    </tr>\n",
              "  </thead>\n",
              "  <tbody>\n",
              "    <tr>\n",
              "      <th>0</th>\n",
              "      <td>2123398</td>\n",
              "      <td>Google</td>\n",
              "      <td>Larry Pager</td>\n",
              "      <td>Edward Thorp</td>\n",
              "      <td>Analytics</td>\n",
              "      <td>150</td>\n",
              "      <td>2100000</td>\n",
              "      <td>Presented</td>\n",
              "    </tr>\n",
              "    <tr>\n",
              "      <th>1</th>\n",
              "      <td>2123398</td>\n",
              "      <td>Google</td>\n",
              "      <td>Larry Pager</td>\n",
              "      <td>Edward Thorp</td>\n",
              "      <td>Prediction</td>\n",
              "      <td>150</td>\n",
              "      <td>700000</td>\n",
              "      <td>Presented</td>\n",
              "    </tr>\n",
              "    <tr>\n",
              "      <th>2</th>\n",
              "      <td>2123398</td>\n",
              "      <td>Google</td>\n",
              "      <td>Larry Pager</td>\n",
              "      <td>Edward Thorp</td>\n",
              "      <td>Tracking</td>\n",
              "      <td>300</td>\n",
              "      <td>350000</td>\n",
              "      <td>Under Review</td>\n",
              "    </tr>\n",
              "    <tr>\n",
              "      <th>3</th>\n",
              "      <td>2192650</td>\n",
              "      <td>BOBO</td>\n",
              "      <td>Larry Pager</td>\n",
              "      <td>Edward Thorp</td>\n",
              "      <td>Analytics</td>\n",
              "      <td>150</td>\n",
              "      <td>2450000</td>\n",
              "      <td>Lost</td>\n",
              "    </tr>\n",
              "    <tr>\n",
              "      <th>4</th>\n",
              "      <td>420496</td>\n",
              "      <td>IKEA</td>\n",
              "      <td>Elon Tusk</td>\n",
              "      <td>Edward Thorp</td>\n",
              "      <td>Analytics</td>\n",
              "      <td>300</td>\n",
              "      <td>4550000</td>\n",
              "      <td>Won</td>\n",
              "    </tr>\n",
              "  </tbody>\n",
              "</table>\n",
              "</div>"
            ],
            "text/plain": [
              "   Account Number  Company      Contact  ... Licenses Sale Price        Status\n",
              "0         2123398   Google  Larry Pager  ...      150    2100000     Presented\n",
              "1         2123398   Google  Larry Pager  ...      150     700000     Presented\n",
              "2         2123398   Google  Larry Pager  ...      300     350000  Under Review\n",
              "3         2192650     BOBO  Larry Pager  ...      150    2450000          Lost\n",
              "4          420496     IKEA    Elon Tusk  ...      300    4550000           Won\n",
              "\n",
              "[5 rows x 8 columns]"
            ]
          },
          "metadata": {},
          "execution_count": 266
        }
      ]
    },
    {
      "cell_type": "code",
      "metadata": {
        "colab": {
          "base_uri": "https://localhost:8080/",
          "height": 0
        },
        "id": "bk82ueUpN715",
        "outputId": "b5d89cda-f84c-4180-9ef7-56db4a3c3ad1"
      },
      "source": [
        "license = df[['Company', 'Product', 'Licenses']]\n",
        "license.head(10)"
      ],
      "execution_count": 267,
      "outputs": [
        {
          "output_type": "execute_result",
          "data": {
            "text/html": [
              "<div>\n",
              "<style scoped>\n",
              "    .dataframe tbody tr th:only-of-type {\n",
              "        vertical-align: middle;\n",
              "    }\n",
              "\n",
              "    .dataframe tbody tr th {\n",
              "        vertical-align: top;\n",
              "    }\n",
              "\n",
              "    .dataframe thead th {\n",
              "        text-align: right;\n",
              "    }\n",
              "</style>\n",
              "<table border=\"1\" class=\"dataframe\">\n",
              "  <thead>\n",
              "    <tr style=\"text-align: right;\">\n",
              "      <th></th>\n",
              "      <th>Company</th>\n",
              "      <th>Product</th>\n",
              "      <th>Licenses</th>\n",
              "    </tr>\n",
              "  </thead>\n",
              "  <tbody>\n",
              "    <tr>\n",
              "      <th>0</th>\n",
              "      <td>Google</td>\n",
              "      <td>Analytics</td>\n",
              "      <td>150</td>\n",
              "    </tr>\n",
              "    <tr>\n",
              "      <th>1</th>\n",
              "      <td>Google</td>\n",
              "      <td>Prediction</td>\n",
              "      <td>150</td>\n",
              "    </tr>\n",
              "    <tr>\n",
              "      <th>2</th>\n",
              "      <td>Google</td>\n",
              "      <td>Tracking</td>\n",
              "      <td>300</td>\n",
              "    </tr>\n",
              "    <tr>\n",
              "      <th>3</th>\n",
              "      <td>BOBO</td>\n",
              "      <td>Analytics</td>\n",
              "      <td>150</td>\n",
              "    </tr>\n",
              "    <tr>\n",
              "      <th>4</th>\n",
              "      <td>IKEA</td>\n",
              "      <td>Analytics</td>\n",
              "      <td>300</td>\n",
              "    </tr>\n",
              "    <tr>\n",
              "      <th>5</th>\n",
              "      <td>Tesla Inc.</td>\n",
              "      <td>Analytics</td>\n",
              "      <td>300</td>\n",
              "    </tr>\n",
              "    <tr>\n",
              "      <th>6</th>\n",
              "      <td>Tesla Inc.</td>\n",
              "      <td>Prediction</td>\n",
              "      <td>150</td>\n",
              "    </tr>\n",
              "    <tr>\n",
              "      <th>7</th>\n",
              "      <td>Microsoft</td>\n",
              "      <td>Tracking</td>\n",
              "      <td>300</td>\n",
              "    </tr>\n",
              "    <tr>\n",
              "      <th>8</th>\n",
              "      <td>Walmart</td>\n",
              "      <td>Analytics</td>\n",
              "      <td>150</td>\n",
              "    </tr>\n",
              "    <tr>\n",
              "      <th>9</th>\n",
              "      <td>Apple</td>\n",
              "      <td>Analytics</td>\n",
              "      <td>300</td>\n",
              "    </tr>\n",
              "  </tbody>\n",
              "</table>\n",
              "</div>"
            ],
            "text/plain": [
              "      Company     Product  Licenses\n",
              "0      Google   Analytics       150\n",
              "1      Google  Prediction       150\n",
              "2      Google    Tracking       300\n",
              "3        BOBO   Analytics       150\n",
              "4        IKEA   Analytics       300\n",
              "5  Tesla Inc.   Analytics       300\n",
              "6  Tesla Inc.  Prediction       150\n",
              "7   Microsoft    Tracking       300\n",
              "8     Walmart   Analytics       150\n",
              "9       Apple   Analytics       300"
            ]
          },
          "metadata": {},
          "execution_count": 267
        }
      ]
    },
    {
      "cell_type": "code",
      "metadata": {
        "colab": {
          "base_uri": "https://localhost:8080/",
          "height": 0
        },
        "id": "9-JS_7eOPJ6R",
        "outputId": "12aafbd8-fa32-4801-b55d-a075e9428632"
      },
      "source": [
        "pd.pivot(data = license, index = 'Company', columns = 'Product', values = 'Licenses')"
      ],
      "execution_count": 268,
      "outputs": [
        {
          "output_type": "execute_result",
          "data": {
            "text/html": [
              "<div>\n",
              "<style scoped>\n",
              "    .dataframe tbody tr th:only-of-type {\n",
              "        vertical-align: middle;\n",
              "    }\n",
              "\n",
              "    .dataframe tbody tr th {\n",
              "        vertical-align: top;\n",
              "    }\n",
              "\n",
              "    .dataframe thead th {\n",
              "        text-align: right;\n",
              "    }\n",
              "</style>\n",
              "<table border=\"1\" class=\"dataframe\">\n",
              "  <thead>\n",
              "    <tr style=\"text-align: right;\">\n",
              "      <th>Product</th>\n",
              "      <th>Analytics</th>\n",
              "      <th>GPS Positioning</th>\n",
              "      <th>Prediction</th>\n",
              "      <th>Tracking</th>\n",
              "    </tr>\n",
              "    <tr>\n",
              "      <th>Company</th>\n",
              "      <th></th>\n",
              "      <th></th>\n",
              "      <th></th>\n",
              "      <th></th>\n",
              "    </tr>\n",
              "  </thead>\n",
              "  <tbody>\n",
              "    <tr>\n",
              "      <th>Google</th>\n",
              "      <td>150.0</td>\n",
              "      <td>NaN</td>\n",
              "      <td>150.0</td>\n",
              "      <td>300.0</td>\n",
              "    </tr>\n",
              "    <tr>\n",
              "      <th>ATT</th>\n",
              "      <td>NaN</td>\n",
              "      <td>NaN</td>\n",
              "      <td>150.0</td>\n",
              "      <td>150.0</td>\n",
              "    </tr>\n",
              "    <tr>\n",
              "      <th>Apple</th>\n",
              "      <td>300.0</td>\n",
              "      <td>NaN</td>\n",
              "      <td>NaN</td>\n",
              "      <td>NaN</td>\n",
              "    </tr>\n",
              "    <tr>\n",
              "      <th>BOBO</th>\n",
              "      <td>150.0</td>\n",
              "      <td>NaN</td>\n",
              "      <td>NaN</td>\n",
              "      <td>NaN</td>\n",
              "    </tr>\n",
              "    <tr>\n",
              "      <th>CVS Health</th>\n",
              "      <td>NaN</td>\n",
              "      <td>NaN</td>\n",
              "      <td>NaN</td>\n",
              "      <td>450.0</td>\n",
              "    </tr>\n",
              "    <tr>\n",
              "      <th>Cisco</th>\n",
              "      <td>300.0</td>\n",
              "      <td>300.0</td>\n",
              "      <td>NaN</td>\n",
              "      <td>NaN</td>\n",
              "    </tr>\n",
              "    <tr>\n",
              "      <th>Exxon Mobile</th>\n",
              "      <td>150.0</td>\n",
              "      <td>NaN</td>\n",
              "      <td>NaN</td>\n",
              "      <td>NaN</td>\n",
              "    </tr>\n",
              "    <tr>\n",
              "      <th>IKEA</th>\n",
              "      <td>300.0</td>\n",
              "      <td>NaN</td>\n",
              "      <td>NaN</td>\n",
              "      <td>NaN</td>\n",
              "    </tr>\n",
              "    <tr>\n",
              "      <th>Microsoft</th>\n",
              "      <td>NaN</td>\n",
              "      <td>NaN</td>\n",
              "      <td>NaN</td>\n",
              "      <td>300.0</td>\n",
              "    </tr>\n",
              "    <tr>\n",
              "      <th>Salesforce</th>\n",
              "      <td>750.0</td>\n",
              "      <td>NaN</td>\n",
              "      <td>NaN</td>\n",
              "      <td>NaN</td>\n",
              "    </tr>\n",
              "    <tr>\n",
              "      <th>Tesla Inc.</th>\n",
              "      <td>300.0</td>\n",
              "      <td>NaN</td>\n",
              "      <td>150.0</td>\n",
              "      <td>NaN</td>\n",
              "    </tr>\n",
              "    <tr>\n",
              "      <th>Walmart</th>\n",
              "      <td>150.0</td>\n",
              "      <td>NaN</td>\n",
              "      <td>NaN</td>\n",
              "      <td>NaN</td>\n",
              "    </tr>\n",
              "  </tbody>\n",
              "</table>\n",
              "</div>"
            ],
            "text/plain": [
              "Product       Analytics  GPS Positioning  Prediction  Tracking\n",
              "Company                                                       \n",
              " Google           150.0              NaN       150.0     300.0\n",
              "ATT                 NaN              NaN       150.0     150.0\n",
              "Apple             300.0              NaN         NaN       NaN\n",
              "BOBO              150.0              NaN         NaN       NaN\n",
              "CVS Health          NaN              NaN         NaN     450.0\n",
              "Cisco             300.0            300.0         NaN       NaN\n",
              "Exxon Mobile      150.0              NaN         NaN       NaN\n",
              "IKEA              300.0              NaN         NaN       NaN\n",
              "Microsoft           NaN              NaN         NaN     300.0\n",
              "Salesforce        750.0              NaN         NaN       NaN\n",
              "Tesla Inc.        300.0              NaN       150.0       NaN\n",
              "Walmart           150.0              NaN         NaN       NaN"
            ]
          },
          "metadata": {},
          "execution_count": 268
        }
      ]
    },
    {
      "cell_type": "code",
      "metadata": {
        "colab": {
          "base_uri": "https://localhost:8080/",
          "height": 0
        },
        "id": "SyRuskdEPeLA",
        "outputId": "81e045a6-d1c4-4b71-c942-b40bcae68d86"
      },
      "source": [
        "# pivot_table method \n",
        "pd.pivot_table(df, index='Company', aggfunc='sum')"
      ],
      "execution_count": 269,
      "outputs": [
        {
          "output_type": "execute_result",
          "data": {
            "text/html": [
              "<div>\n",
              "<style scoped>\n",
              "    .dataframe tbody tr th:only-of-type {\n",
              "        vertical-align: middle;\n",
              "    }\n",
              "\n",
              "    .dataframe tbody tr th {\n",
              "        vertical-align: top;\n",
              "    }\n",
              "\n",
              "    .dataframe thead th {\n",
              "        text-align: right;\n",
              "    }\n",
              "</style>\n",
              "<table border=\"1\" class=\"dataframe\">\n",
              "  <thead>\n",
              "    <tr style=\"text-align: right;\">\n",
              "      <th></th>\n",
              "      <th>Account Number</th>\n",
              "      <th>Licenses</th>\n",
              "      <th>Sale Price</th>\n",
              "    </tr>\n",
              "    <tr>\n",
              "      <th>Company</th>\n",
              "      <th></th>\n",
              "      <th></th>\n",
              "      <th></th>\n",
              "    </tr>\n",
              "  </thead>\n",
              "  <tbody>\n",
              "    <tr>\n",
              "      <th>Google</th>\n",
              "      <td>6370194</td>\n",
              "      <td>600</td>\n",
              "      <td>3150000</td>\n",
              "    </tr>\n",
              "    <tr>\n",
              "      <th>ATT</th>\n",
              "      <td>1396064</td>\n",
              "      <td>300</td>\n",
              "      <td>1050000</td>\n",
              "    </tr>\n",
              "    <tr>\n",
              "      <th>Apple</th>\n",
              "      <td>405886</td>\n",
              "      <td>300</td>\n",
              "      <td>4550000</td>\n",
              "    </tr>\n",
              "    <tr>\n",
              "      <th>BOBO</th>\n",
              "      <td>2192650</td>\n",
              "      <td>150</td>\n",
              "      <td>2450000</td>\n",
              "    </tr>\n",
              "    <tr>\n",
              "      <th>CVS Health</th>\n",
              "      <td>902797</td>\n",
              "      <td>450</td>\n",
              "      <td>490000</td>\n",
              "    </tr>\n",
              "    <tr>\n",
              "      <th>Cisco</th>\n",
              "      <td>4338998</td>\n",
              "      <td>600</td>\n",
              "      <td>4900000</td>\n",
              "    </tr>\n",
              "    <tr>\n",
              "      <th>Exxon Mobile</th>\n",
              "      <td>470248</td>\n",
              "      <td>150</td>\n",
              "      <td>2100000</td>\n",
              "    </tr>\n",
              "    <tr>\n",
              "      <th>IKEA</th>\n",
              "      <td>420496</td>\n",
              "      <td>300</td>\n",
              "      <td>4550000</td>\n",
              "    </tr>\n",
              "    <tr>\n",
              "      <th>Microsoft</th>\n",
              "      <td>1216870</td>\n",
              "      <td>300</td>\n",
              "      <td>350000</td>\n",
              "    </tr>\n",
              "    <tr>\n",
              "      <th>Salesforce</th>\n",
              "      <td>2046943</td>\n",
              "      <td>750</td>\n",
              "      <td>7000000</td>\n",
              "    </tr>\n",
              "    <tr>\n",
              "      <th>Tesla Inc.</th>\n",
              "      <td>1273370</td>\n",
              "      <td>450</td>\n",
              "      <td>3500000</td>\n",
              "    </tr>\n",
              "    <tr>\n",
              "      <th>Walmart</th>\n",
              "      <td>2200450</td>\n",
              "      <td>150</td>\n",
              "      <td>2450000</td>\n",
              "    </tr>\n",
              "  </tbody>\n",
              "</table>\n",
              "</div>"
            ],
            "text/plain": [
              "              Account Number  Licenses  Sale Price\n",
              "Company                                           \n",
              " Google              6370194       600     3150000\n",
              "ATT                  1396064       300     1050000\n",
              "Apple                 405886       300     4550000\n",
              "BOBO                 2192650       150     2450000\n",
              "CVS Health            902797       450      490000\n",
              "Cisco                4338998       600     4900000\n",
              "Exxon Mobile          470248       150     2100000\n",
              "IKEA                  420496       300     4550000\n",
              "Microsoft            1216870       300      350000\n",
              "Salesforce           2046943       750     7000000\n",
              "Tesla Inc.           1273370       450     3500000\n",
              "Walmart              2200450       150     2450000"
            ]
          },
          "metadata": {},
          "execution_count": 269
        }
      ]
    },
    {
      "cell_type": "code",
      "metadata": {
        "colab": {
          "base_uri": "https://localhost:8080/",
          "height": 0
        },
        "id": "MaAGC23dPzJ4",
        "outputId": "aef35258-074c-4f82-a2b4-e98fd3604057"
      },
      "source": [
        "pd.pivot_table(df, index='Company', aggfunc='sum')[['Licenses', 'Sale Price']]"
      ],
      "execution_count": 270,
      "outputs": [
        {
          "output_type": "execute_result",
          "data": {
            "text/html": [
              "<div>\n",
              "<style scoped>\n",
              "    .dataframe tbody tr th:only-of-type {\n",
              "        vertical-align: middle;\n",
              "    }\n",
              "\n",
              "    .dataframe tbody tr th {\n",
              "        vertical-align: top;\n",
              "    }\n",
              "\n",
              "    .dataframe thead th {\n",
              "        text-align: right;\n",
              "    }\n",
              "</style>\n",
              "<table border=\"1\" class=\"dataframe\">\n",
              "  <thead>\n",
              "    <tr style=\"text-align: right;\">\n",
              "      <th></th>\n",
              "      <th>Licenses</th>\n",
              "      <th>Sale Price</th>\n",
              "    </tr>\n",
              "    <tr>\n",
              "      <th>Company</th>\n",
              "      <th></th>\n",
              "      <th></th>\n",
              "    </tr>\n",
              "  </thead>\n",
              "  <tbody>\n",
              "    <tr>\n",
              "      <th>Google</th>\n",
              "      <td>600</td>\n",
              "      <td>3150000</td>\n",
              "    </tr>\n",
              "    <tr>\n",
              "      <th>ATT</th>\n",
              "      <td>300</td>\n",
              "      <td>1050000</td>\n",
              "    </tr>\n",
              "    <tr>\n",
              "      <th>Apple</th>\n",
              "      <td>300</td>\n",
              "      <td>4550000</td>\n",
              "    </tr>\n",
              "    <tr>\n",
              "      <th>BOBO</th>\n",
              "      <td>150</td>\n",
              "      <td>2450000</td>\n",
              "    </tr>\n",
              "    <tr>\n",
              "      <th>CVS Health</th>\n",
              "      <td>450</td>\n",
              "      <td>490000</td>\n",
              "    </tr>\n",
              "    <tr>\n",
              "      <th>Cisco</th>\n",
              "      <td>600</td>\n",
              "      <td>4900000</td>\n",
              "    </tr>\n",
              "    <tr>\n",
              "      <th>Exxon Mobile</th>\n",
              "      <td>150</td>\n",
              "      <td>2100000</td>\n",
              "    </tr>\n",
              "    <tr>\n",
              "      <th>IKEA</th>\n",
              "      <td>300</td>\n",
              "      <td>4550000</td>\n",
              "    </tr>\n",
              "    <tr>\n",
              "      <th>Microsoft</th>\n",
              "      <td>300</td>\n",
              "      <td>350000</td>\n",
              "    </tr>\n",
              "    <tr>\n",
              "      <th>Salesforce</th>\n",
              "      <td>750</td>\n",
              "      <td>7000000</td>\n",
              "    </tr>\n",
              "    <tr>\n",
              "      <th>Tesla Inc.</th>\n",
              "      <td>450</td>\n",
              "      <td>3500000</td>\n",
              "    </tr>\n",
              "    <tr>\n",
              "      <th>Walmart</th>\n",
              "      <td>150</td>\n",
              "      <td>2450000</td>\n",
              "    </tr>\n",
              "  </tbody>\n",
              "</table>\n",
              "</div>"
            ],
            "text/plain": [
              "              Licenses  Sale Price\n",
              "Company                           \n",
              " Google            600     3150000\n",
              "ATT                300     1050000\n",
              "Apple              300     4550000\n",
              "BOBO               150     2450000\n",
              "CVS Health         450      490000\n",
              "Cisco              600     4900000\n",
              "Exxon Mobile       150     2100000\n",
              "IKEA               300     4550000\n",
              "Microsoft          300      350000\n",
              "Salesforce         750     7000000\n",
              "Tesla Inc.         450     3500000\n",
              "Walmart            150     2450000"
            ]
          },
          "metadata": {},
          "execution_count": 270
        }
      ]
    },
    {
      "cell_type": "code",
      "metadata": {
        "colab": {
          "base_uri": "https://localhost:8080/",
          "height": 0
        },
        "id": "4Lsc2elEP9Wh",
        "outputId": "97da3465-1e9c-457b-e649-6ba7a48b009a"
      },
      "source": [
        "pd.pivot_table(df, index=\"Company\", aggfunc='sum', values=['Licenses', 'Sale Price']) # same as above"
      ],
      "execution_count": 271,
      "outputs": [
        {
          "output_type": "execute_result",
          "data": {
            "text/html": [
              "<div>\n",
              "<style scoped>\n",
              "    .dataframe tbody tr th:only-of-type {\n",
              "        vertical-align: middle;\n",
              "    }\n",
              "\n",
              "    .dataframe tbody tr th {\n",
              "        vertical-align: top;\n",
              "    }\n",
              "\n",
              "    .dataframe thead th {\n",
              "        text-align: right;\n",
              "    }\n",
              "</style>\n",
              "<table border=\"1\" class=\"dataframe\">\n",
              "  <thead>\n",
              "    <tr style=\"text-align: right;\">\n",
              "      <th></th>\n",
              "      <th>Licenses</th>\n",
              "      <th>Sale Price</th>\n",
              "    </tr>\n",
              "    <tr>\n",
              "      <th>Company</th>\n",
              "      <th></th>\n",
              "      <th></th>\n",
              "    </tr>\n",
              "  </thead>\n",
              "  <tbody>\n",
              "    <tr>\n",
              "      <th>Google</th>\n",
              "      <td>600</td>\n",
              "      <td>3150000</td>\n",
              "    </tr>\n",
              "    <tr>\n",
              "      <th>ATT</th>\n",
              "      <td>300</td>\n",
              "      <td>1050000</td>\n",
              "    </tr>\n",
              "    <tr>\n",
              "      <th>Apple</th>\n",
              "      <td>300</td>\n",
              "      <td>4550000</td>\n",
              "    </tr>\n",
              "    <tr>\n",
              "      <th>BOBO</th>\n",
              "      <td>150</td>\n",
              "      <td>2450000</td>\n",
              "    </tr>\n",
              "    <tr>\n",
              "      <th>CVS Health</th>\n",
              "      <td>450</td>\n",
              "      <td>490000</td>\n",
              "    </tr>\n",
              "    <tr>\n",
              "      <th>Cisco</th>\n",
              "      <td>600</td>\n",
              "      <td>4900000</td>\n",
              "    </tr>\n",
              "    <tr>\n",
              "      <th>Exxon Mobile</th>\n",
              "      <td>150</td>\n",
              "      <td>2100000</td>\n",
              "    </tr>\n",
              "    <tr>\n",
              "      <th>IKEA</th>\n",
              "      <td>300</td>\n",
              "      <td>4550000</td>\n",
              "    </tr>\n",
              "    <tr>\n",
              "      <th>Microsoft</th>\n",
              "      <td>300</td>\n",
              "      <td>350000</td>\n",
              "    </tr>\n",
              "    <tr>\n",
              "      <th>Salesforce</th>\n",
              "      <td>750</td>\n",
              "      <td>7000000</td>\n",
              "    </tr>\n",
              "    <tr>\n",
              "      <th>Tesla Inc.</th>\n",
              "      <td>450</td>\n",
              "      <td>3500000</td>\n",
              "    </tr>\n",
              "    <tr>\n",
              "      <th>Walmart</th>\n",
              "      <td>150</td>\n",
              "      <td>2450000</td>\n",
              "    </tr>\n",
              "  </tbody>\n",
              "</table>\n",
              "</div>"
            ],
            "text/plain": [
              "              Licenses  Sale Price\n",
              "Company                           \n",
              " Google            600     3150000\n",
              "ATT                300     1050000\n",
              "Apple              300     4550000\n",
              "BOBO               150     2450000\n",
              "CVS Health         450      490000\n",
              "Cisco              600     4900000\n",
              "Exxon Mobile       150     2100000\n",
              "IKEA               300     4550000\n",
              "Microsoft          300      350000\n",
              "Salesforce         750     7000000\n",
              "Tesla Inc.         450     3500000\n",
              "Walmart            150     2450000"
            ]
          },
          "metadata": {},
          "execution_count": 271
        }
      ]
    },
    {
      "cell_type": "code",
      "metadata": {
        "colab": {
          "base_uri": "https://localhost:8080/",
          "height": 0
        },
        "id": "EQsMWYcXQHFp",
        "outputId": "10cf334e-51cf-4b01-b137-79c8dfeb4d3e"
      },
      "source": [
        "df.groupby('Company').sum()[['Licenses', 'Sale Price']]"
      ],
      "execution_count": 272,
      "outputs": [
        {
          "output_type": "execute_result",
          "data": {
            "text/html": [
              "<div>\n",
              "<style scoped>\n",
              "    .dataframe tbody tr th:only-of-type {\n",
              "        vertical-align: middle;\n",
              "    }\n",
              "\n",
              "    .dataframe tbody tr th {\n",
              "        vertical-align: top;\n",
              "    }\n",
              "\n",
              "    .dataframe thead th {\n",
              "        text-align: right;\n",
              "    }\n",
              "</style>\n",
              "<table border=\"1\" class=\"dataframe\">\n",
              "  <thead>\n",
              "    <tr style=\"text-align: right;\">\n",
              "      <th></th>\n",
              "      <th>Licenses</th>\n",
              "      <th>Sale Price</th>\n",
              "    </tr>\n",
              "    <tr>\n",
              "      <th>Company</th>\n",
              "      <th></th>\n",
              "      <th></th>\n",
              "    </tr>\n",
              "  </thead>\n",
              "  <tbody>\n",
              "    <tr>\n",
              "      <th>Google</th>\n",
              "      <td>600</td>\n",
              "      <td>3150000</td>\n",
              "    </tr>\n",
              "    <tr>\n",
              "      <th>ATT</th>\n",
              "      <td>300</td>\n",
              "      <td>1050000</td>\n",
              "    </tr>\n",
              "    <tr>\n",
              "      <th>Apple</th>\n",
              "      <td>300</td>\n",
              "      <td>4550000</td>\n",
              "    </tr>\n",
              "    <tr>\n",
              "      <th>BOBO</th>\n",
              "      <td>150</td>\n",
              "      <td>2450000</td>\n",
              "    </tr>\n",
              "    <tr>\n",
              "      <th>CVS Health</th>\n",
              "      <td>450</td>\n",
              "      <td>490000</td>\n",
              "    </tr>\n",
              "    <tr>\n",
              "      <th>Cisco</th>\n",
              "      <td>600</td>\n",
              "      <td>4900000</td>\n",
              "    </tr>\n",
              "    <tr>\n",
              "      <th>Exxon Mobile</th>\n",
              "      <td>150</td>\n",
              "      <td>2100000</td>\n",
              "    </tr>\n",
              "    <tr>\n",
              "      <th>IKEA</th>\n",
              "      <td>300</td>\n",
              "      <td>4550000</td>\n",
              "    </tr>\n",
              "    <tr>\n",
              "      <th>Microsoft</th>\n",
              "      <td>300</td>\n",
              "      <td>350000</td>\n",
              "    </tr>\n",
              "    <tr>\n",
              "      <th>Salesforce</th>\n",
              "      <td>750</td>\n",
              "      <td>7000000</td>\n",
              "    </tr>\n",
              "    <tr>\n",
              "      <th>Tesla Inc.</th>\n",
              "      <td>450</td>\n",
              "      <td>3500000</td>\n",
              "    </tr>\n",
              "    <tr>\n",
              "      <th>Walmart</th>\n",
              "      <td>150</td>\n",
              "      <td>2450000</td>\n",
              "    </tr>\n",
              "  </tbody>\n",
              "</table>\n",
              "</div>"
            ],
            "text/plain": [
              "              Licenses  Sale Price\n",
              "Company                           \n",
              " Google            600     3150000\n",
              "ATT                300     1050000\n",
              "Apple              300     4550000\n",
              "BOBO               150     2450000\n",
              "CVS Health         450      490000\n",
              "Cisco              600     4900000\n",
              "Exxon Mobile       150     2100000\n",
              "IKEA               300     4550000\n",
              "Microsoft          300      350000\n",
              "Salesforce         750     7000000\n",
              "Tesla Inc.         450     3500000\n",
              "Walmart            150     2450000"
            ]
          },
          "metadata": {},
          "execution_count": 272
        }
      ]
    },
    {
      "cell_type": "code",
      "metadata": {
        "colab": {
          "base_uri": "https://localhost:8080/",
          "height": 0
        },
        "id": "ayO4pI3YQvpC",
        "outputId": "6dc45c68-2707-4ad4-fe46-f3e0568fcefe"
      },
      "source": [
        "pd.pivot_table(df, index=['Account Manager', 'Contact'], values = ['Sale Price'], aggfunc = 'sum')"
      ],
      "execution_count": 273,
      "outputs": [
        {
          "output_type": "execute_result",
          "data": {
            "text/html": [
              "<div>\n",
              "<style scoped>\n",
              "    .dataframe tbody tr th:only-of-type {\n",
              "        vertical-align: middle;\n",
              "    }\n",
              "\n",
              "    .dataframe tbody tr th {\n",
              "        vertical-align: top;\n",
              "    }\n",
              "\n",
              "    .dataframe thead th {\n",
              "        text-align: right;\n",
              "    }\n",
              "</style>\n",
              "<table border=\"1\" class=\"dataframe\">\n",
              "  <thead>\n",
              "    <tr style=\"text-align: right;\">\n",
              "      <th></th>\n",
              "      <th></th>\n",
              "      <th>Sale Price</th>\n",
              "    </tr>\n",
              "    <tr>\n",
              "      <th>Account Manager</th>\n",
              "      <th>Contact</th>\n",
              "      <th></th>\n",
              "    </tr>\n",
              "  </thead>\n",
              "  <tbody>\n",
              "    <tr>\n",
              "      <th rowspan=\"2\" valign=\"top\">Claude Shannon</th>\n",
              "      <th>Cindy Phoner</th>\n",
              "      <td>7700000</td>\n",
              "    </tr>\n",
              "    <tr>\n",
              "      <th>Emma Gordian</th>\n",
              "      <td>12390000</td>\n",
              "    </tr>\n",
              "    <tr>\n",
              "      <th rowspan=\"3\" valign=\"top\">Edward Thorp</th>\n",
              "      <th>Elon Tusk</th>\n",
              "      <td>8050000</td>\n",
              "    </tr>\n",
              "    <tr>\n",
              "      <th>Larry Pager</th>\n",
              "      <td>5600000</td>\n",
              "    </tr>\n",
              "    <tr>\n",
              "      <th>Will Grates</th>\n",
              "      <td>2800000</td>\n",
              "    </tr>\n",
              "  </tbody>\n",
              "</table>\n",
              "</div>"
            ],
            "text/plain": [
              "                              Sale Price\n",
              "Account Manager Contact                 \n",
              "Claude Shannon  Cindy Phoner     7700000\n",
              "                Emma Gordian    12390000\n",
              "Edward Thorp    Elon Tusk        8050000\n",
              "                Larry Pager      5600000\n",
              "                Will Grates      2800000"
            ]
          },
          "metadata": {},
          "execution_count": 273
        }
      ]
    },
    {
      "cell_type": "code",
      "metadata": {
        "colab": {
          "base_uri": "https://localhost:8080/",
          "height": 0
        },
        "id": "hKqqCL1qRGBp",
        "outputId": "d6ca8e59-aa0b-4a6f-f635-78f1f843b72f"
      },
      "source": [
        "pd.pivot_table(df, index=['Account Manager', 'Contact'],\n",
        "               values = ['Sale Price'], columns = ['Product'],\n",
        "               aggfunc=[np.sum, np.mean], fill_value = 0)"
      ],
      "execution_count": 274,
      "outputs": [
        {
          "output_type": "execute_result",
          "data": {
            "text/html": [
              "<div>\n",
              "<style scoped>\n",
              "    .dataframe tbody tr th:only-of-type {\n",
              "        vertical-align: middle;\n",
              "    }\n",
              "\n",
              "    .dataframe tbody tr th {\n",
              "        vertical-align: top;\n",
              "    }\n",
              "\n",
              "    .dataframe thead tr th {\n",
              "        text-align: left;\n",
              "    }\n",
              "\n",
              "    .dataframe thead tr:last-of-type th {\n",
              "        text-align: right;\n",
              "    }\n",
              "</style>\n",
              "<table border=\"1\" class=\"dataframe\">\n",
              "  <thead>\n",
              "    <tr>\n",
              "      <th></th>\n",
              "      <th></th>\n",
              "      <th colspan=\"4\" halign=\"left\">sum</th>\n",
              "      <th colspan=\"4\" halign=\"left\">mean</th>\n",
              "    </tr>\n",
              "    <tr>\n",
              "      <th></th>\n",
              "      <th></th>\n",
              "      <th colspan=\"4\" halign=\"left\">Sale Price</th>\n",
              "      <th colspan=\"4\" halign=\"left\">Sale Price</th>\n",
              "    </tr>\n",
              "    <tr>\n",
              "      <th></th>\n",
              "      <th>Product</th>\n",
              "      <th>Analytics</th>\n",
              "      <th>GPS Positioning</th>\n",
              "      <th>Prediction</th>\n",
              "      <th>Tracking</th>\n",
              "      <th>Analytics</th>\n",
              "      <th>GPS Positioning</th>\n",
              "      <th>Prediction</th>\n",
              "      <th>Tracking</th>\n",
              "    </tr>\n",
              "    <tr>\n",
              "      <th>Account Manager</th>\n",
              "      <th>Contact</th>\n",
              "      <th></th>\n",
              "      <th></th>\n",
              "      <th></th>\n",
              "      <th></th>\n",
              "      <th></th>\n",
              "      <th></th>\n",
              "      <th></th>\n",
              "      <th></th>\n",
              "    </tr>\n",
              "  </thead>\n",
              "  <tbody>\n",
              "    <tr>\n",
              "      <th rowspan=\"2\" valign=\"top\">Claude Shannon</th>\n",
              "      <th>Cindy Phoner</th>\n",
              "      <td>6650000</td>\n",
              "      <td>0</td>\n",
              "      <td>700000</td>\n",
              "      <td>350000</td>\n",
              "      <td>3325000</td>\n",
              "      <td>0</td>\n",
              "      <td>700000</td>\n",
              "      <td>350000</td>\n",
              "    </tr>\n",
              "    <tr>\n",
              "      <th>Emma Gordian</th>\n",
              "      <td>11550000</td>\n",
              "      <td>350000</td>\n",
              "      <td>0</td>\n",
              "      <td>490000</td>\n",
              "      <td>5775000</td>\n",
              "      <td>350000</td>\n",
              "      <td>0</td>\n",
              "      <td>490000</td>\n",
              "    </tr>\n",
              "    <tr>\n",
              "      <th rowspan=\"3\" valign=\"top\">Edward Thorp</th>\n",
              "      <th>Elon Tusk</th>\n",
              "      <td>7350000</td>\n",
              "      <td>0</td>\n",
              "      <td>700000</td>\n",
              "      <td>0</td>\n",
              "      <td>3675000</td>\n",
              "      <td>0</td>\n",
              "      <td>700000</td>\n",
              "      <td>0</td>\n",
              "    </tr>\n",
              "    <tr>\n",
              "      <th>Larry Pager</th>\n",
              "      <td>4550000</td>\n",
              "      <td>0</td>\n",
              "      <td>700000</td>\n",
              "      <td>350000</td>\n",
              "      <td>2275000</td>\n",
              "      <td>0</td>\n",
              "      <td>700000</td>\n",
              "      <td>350000</td>\n",
              "    </tr>\n",
              "    <tr>\n",
              "      <th>Will Grates</th>\n",
              "      <td>2450000</td>\n",
              "      <td>0</td>\n",
              "      <td>0</td>\n",
              "      <td>350000</td>\n",
              "      <td>2450000</td>\n",
              "      <td>0</td>\n",
              "      <td>0</td>\n",
              "      <td>350000</td>\n",
              "    </tr>\n",
              "  </tbody>\n",
              "</table>\n",
              "</div>"
            ],
            "text/plain": [
              "                                    sum                  ...       mean         \n",
              "                             Sale Price                  ... Sale Price         \n",
              "Product                       Analytics GPS Positioning  ... Prediction Tracking\n",
              "Account Manager Contact                                  ...                    \n",
              "Claude Shannon  Cindy Phoner    6650000               0  ...     700000   350000\n",
              "                Emma Gordian   11550000          350000  ...          0   490000\n",
              "Edward Thorp    Elon Tusk       7350000               0  ...     700000        0\n",
              "                Larry Pager     4550000               0  ...     700000   350000\n",
              "                Will Grates     2450000               0  ...          0   350000\n",
              "\n",
              "[5 rows x 8 columns]"
            ]
          },
          "metadata": {},
          "execution_count": 274
        }
      ]
    },
    {
      "cell_type": "code",
      "metadata": {
        "colab": {
          "base_uri": "https://localhost:8080/",
          "height": 0
        },
        "id": "wSc3X_pxRZL4",
        "outputId": "ed4ce563-30aa-46f4-a546-62f15fc975c9"
      },
      "source": [
        "pd.pivot_table(df, index=['Account Manager', 'Contact', 'Product'],\n",
        "               values = ['Sale Price','Licenses'], \n",
        "               aggfunc=[np.sum],fill_value = 0, margins = True)"
      ],
      "execution_count": 275,
      "outputs": [
        {
          "output_type": "execute_result",
          "data": {
            "text/html": [
              "<div>\n",
              "<style scoped>\n",
              "    .dataframe tbody tr th:only-of-type {\n",
              "        vertical-align: middle;\n",
              "    }\n",
              "\n",
              "    .dataframe tbody tr th {\n",
              "        vertical-align: top;\n",
              "    }\n",
              "\n",
              "    .dataframe thead tr th {\n",
              "        text-align: left;\n",
              "    }\n",
              "\n",
              "    .dataframe thead tr:last-of-type th {\n",
              "        text-align: right;\n",
              "    }\n",
              "</style>\n",
              "<table border=\"1\" class=\"dataframe\">\n",
              "  <thead>\n",
              "    <tr>\n",
              "      <th></th>\n",
              "      <th></th>\n",
              "      <th></th>\n",
              "      <th colspan=\"2\" halign=\"left\">sum</th>\n",
              "    </tr>\n",
              "    <tr>\n",
              "      <th></th>\n",
              "      <th></th>\n",
              "      <th></th>\n",
              "      <th>Licenses</th>\n",
              "      <th>Sale Price</th>\n",
              "    </tr>\n",
              "    <tr>\n",
              "      <th>Account Manager</th>\n",
              "      <th>Contact</th>\n",
              "      <th>Product</th>\n",
              "      <th></th>\n",
              "      <th></th>\n",
              "    </tr>\n",
              "  </thead>\n",
              "  <tbody>\n",
              "    <tr>\n",
              "      <th rowspan=\"6\" valign=\"top\">Claude Shannon</th>\n",
              "      <th rowspan=\"3\" valign=\"top\">Cindy Phoner</th>\n",
              "      <th>Analytics</th>\n",
              "      <td>450</td>\n",
              "      <td>6650000</td>\n",
              "    </tr>\n",
              "    <tr>\n",
              "      <th>Prediction</th>\n",
              "      <td>150</td>\n",
              "      <td>700000</td>\n",
              "    </tr>\n",
              "    <tr>\n",
              "      <th>Tracking</th>\n",
              "      <td>150</td>\n",
              "      <td>350000</td>\n",
              "    </tr>\n",
              "    <tr>\n",
              "      <th rowspan=\"3\" valign=\"top\">Emma Gordian</th>\n",
              "      <th>Analytics</th>\n",
              "      <td>1050</td>\n",
              "      <td>11550000</td>\n",
              "    </tr>\n",
              "    <tr>\n",
              "      <th>GPS Positioning</th>\n",
              "      <td>300</td>\n",
              "      <td>350000</td>\n",
              "    </tr>\n",
              "    <tr>\n",
              "      <th>Tracking</th>\n",
              "      <td>450</td>\n",
              "      <td>490000</td>\n",
              "    </tr>\n",
              "    <tr>\n",
              "      <th rowspan=\"7\" valign=\"top\">Edward Thorp</th>\n",
              "      <th rowspan=\"2\" valign=\"top\">Elon Tusk</th>\n",
              "      <th>Analytics</th>\n",
              "      <td>600</td>\n",
              "      <td>7350000</td>\n",
              "    </tr>\n",
              "    <tr>\n",
              "      <th>Prediction</th>\n",
              "      <td>150</td>\n",
              "      <td>700000</td>\n",
              "    </tr>\n",
              "    <tr>\n",
              "      <th rowspan=\"3\" valign=\"top\">Larry Pager</th>\n",
              "      <th>Analytics</th>\n",
              "      <td>300</td>\n",
              "      <td>4550000</td>\n",
              "    </tr>\n",
              "    <tr>\n",
              "      <th>Prediction</th>\n",
              "      <td>150</td>\n",
              "      <td>700000</td>\n",
              "    </tr>\n",
              "    <tr>\n",
              "      <th>Tracking</th>\n",
              "      <td>300</td>\n",
              "      <td>350000</td>\n",
              "    </tr>\n",
              "    <tr>\n",
              "      <th rowspan=\"2\" valign=\"top\">Will Grates</th>\n",
              "      <th>Analytics</th>\n",
              "      <td>150</td>\n",
              "      <td>2450000</td>\n",
              "    </tr>\n",
              "    <tr>\n",
              "      <th>Tracking</th>\n",
              "      <td>300</td>\n",
              "      <td>350000</td>\n",
              "    </tr>\n",
              "    <tr>\n",
              "      <th>All</th>\n",
              "      <th></th>\n",
              "      <th></th>\n",
              "      <td>4500</td>\n",
              "      <td>36540000</td>\n",
              "    </tr>\n",
              "  </tbody>\n",
              "</table>\n",
              "</div>"
            ],
            "text/plain": [
              "                                                  sum           \n",
              "                                             Licenses Sale Price\n",
              "Account Manager Contact      Product                            \n",
              "Claude Shannon  Cindy Phoner Analytics            450    6650000\n",
              "                             Prediction           150     700000\n",
              "                             Tracking             150     350000\n",
              "                Emma Gordian Analytics           1050   11550000\n",
              "                             GPS Positioning      300     350000\n",
              "                             Tracking             450     490000\n",
              "Edward Thorp    Elon Tusk    Analytics            600    7350000\n",
              "                             Prediction           150     700000\n",
              "                Larry Pager  Analytics            300    4550000\n",
              "                             Prediction           150     700000\n",
              "                             Tracking             300     350000\n",
              "                Will Grates  Analytics            150    2450000\n",
              "                             Tracking             300     350000\n",
              "All                                              4500   36540000"
            ]
          },
          "metadata": {},
          "execution_count": 275
        }
      ]
    },
    {
      "cell_type": "code",
      "metadata": {
        "colab": {
          "base_uri": "https://localhost:8080/",
          "height": 0
        },
        "id": "FaS9H14nSOgY",
        "outputId": "6f742c28-594e-4c2c-c879-86bccf59b98c"
      },
      "source": [
        "pd.pivot_table(df, index = ['Account Manager', 'Status'],\n",
        "               values = ['Sale Price'], aggfunc = [np.sum], \n",
        "               fill_value = 0, margins = True)"
      ],
      "execution_count": 276,
      "outputs": [
        {
          "output_type": "execute_result",
          "data": {
            "text/html": [
              "<div>\n",
              "<style scoped>\n",
              "    .dataframe tbody tr th:only-of-type {\n",
              "        vertical-align: middle;\n",
              "    }\n",
              "\n",
              "    .dataframe tbody tr th {\n",
              "        vertical-align: top;\n",
              "    }\n",
              "\n",
              "    .dataframe thead tr th {\n",
              "        text-align: left;\n",
              "    }\n",
              "\n",
              "    .dataframe thead tr:last-of-type th {\n",
              "        text-align: right;\n",
              "    }\n",
              "</style>\n",
              "<table border=\"1\" class=\"dataframe\">\n",
              "  <thead>\n",
              "    <tr>\n",
              "      <th></th>\n",
              "      <th></th>\n",
              "      <th>sum</th>\n",
              "    </tr>\n",
              "    <tr>\n",
              "      <th></th>\n",
              "      <th></th>\n",
              "      <th>Sale Price</th>\n",
              "    </tr>\n",
              "    <tr>\n",
              "      <th>Account Manager</th>\n",
              "      <th>Status</th>\n",
              "      <th></th>\n",
              "    </tr>\n",
              "  </thead>\n",
              "  <tbody>\n",
              "    <tr>\n",
              "      <th rowspan=\"4\" valign=\"top\">Claude Shannon</th>\n",
              "      <th>Lost</th>\n",
              "      <td>4550000</td>\n",
              "    </tr>\n",
              "    <tr>\n",
              "      <th>Presented</th>\n",
              "      <td>3150000</td>\n",
              "    </tr>\n",
              "    <tr>\n",
              "      <th>Under Review</th>\n",
              "      <td>350000</td>\n",
              "    </tr>\n",
              "    <tr>\n",
              "      <th>Won</th>\n",
              "      <td>12040000</td>\n",
              "    </tr>\n",
              "    <tr>\n",
              "      <th rowspan=\"4\" valign=\"top\">Edward Thorp</th>\n",
              "      <th>Lost</th>\n",
              "      <td>4900000</td>\n",
              "    </tr>\n",
              "    <tr>\n",
              "      <th>Presented</th>\n",
              "      <td>3500000</td>\n",
              "    </tr>\n",
              "    <tr>\n",
              "      <th>Under Review</th>\n",
              "      <td>3500000</td>\n",
              "    </tr>\n",
              "    <tr>\n",
              "      <th>Won</th>\n",
              "      <td>4550000</td>\n",
              "    </tr>\n",
              "    <tr>\n",
              "      <th>All</th>\n",
              "      <th></th>\n",
              "      <td>36540000</td>\n",
              "    </tr>\n",
              "  </tbody>\n",
              "</table>\n",
              "</div>"
            ],
            "text/plain": [
              "                                    sum\n",
              "                             Sale Price\n",
              "Account Manager Status                 \n",
              "Claude Shannon  Lost            4550000\n",
              "                Presented       3150000\n",
              "                Under Review     350000\n",
              "                Won            12040000\n",
              "Edward Thorp    Lost            4900000\n",
              "                Presented       3500000\n",
              "                Under Review    3500000\n",
              "                Won             4550000\n",
              "All                            36540000"
            ]
          },
          "metadata": {},
          "execution_count": 276
        }
      ]
    },
    {
      "cell_type": "markdown",
      "metadata": {
        "id": "XniSBIk9Tqek"
      },
      "source": [
        "<a id='combine'></a>\n",
        "## Combining DataFrames"
      ]
    },
    {
      "cell_type": "markdown",
      "metadata": {
        "id": "vH5dY2rAT_CF"
      },
      "source": [
        "### Concatenation"
      ]
    },
    {
      "cell_type": "code",
      "metadata": {
        "colab": {
          "base_uri": "https://localhost:8080/",
          "height": 0
        },
        "id": "o8iTKW-7TMrA",
        "outputId": "b32c6f27-411c-49a8-82c9-8e2647499a79"
      },
      "source": [
        "# create 2 df\n",
        "A, B, C, D = [[i + str(x) for x in range(4)] for i in 'ABCD']\n",
        "df_1 = pd.DataFrame({'A':A, 'B':B})\n",
        "df_2 = pd.DataFrame({'C':C, 'D':D})\n",
        "df_1\n"
      ],
      "execution_count": 277,
      "outputs": [
        {
          "output_type": "execute_result",
          "data": {
            "text/html": [
              "<div>\n",
              "<style scoped>\n",
              "    .dataframe tbody tr th:only-of-type {\n",
              "        vertical-align: middle;\n",
              "    }\n",
              "\n",
              "    .dataframe tbody tr th {\n",
              "        vertical-align: top;\n",
              "    }\n",
              "\n",
              "    .dataframe thead th {\n",
              "        text-align: right;\n",
              "    }\n",
              "</style>\n",
              "<table border=\"1\" class=\"dataframe\">\n",
              "  <thead>\n",
              "    <tr style=\"text-align: right;\">\n",
              "      <th></th>\n",
              "      <th>A</th>\n",
              "      <th>B</th>\n",
              "    </tr>\n",
              "  </thead>\n",
              "  <tbody>\n",
              "    <tr>\n",
              "      <th>0</th>\n",
              "      <td>A0</td>\n",
              "      <td>B0</td>\n",
              "    </tr>\n",
              "    <tr>\n",
              "      <th>1</th>\n",
              "      <td>A1</td>\n",
              "      <td>B1</td>\n",
              "    </tr>\n",
              "    <tr>\n",
              "      <th>2</th>\n",
              "      <td>A2</td>\n",
              "      <td>B2</td>\n",
              "    </tr>\n",
              "    <tr>\n",
              "      <th>3</th>\n",
              "      <td>A3</td>\n",
              "      <td>B3</td>\n",
              "    </tr>\n",
              "  </tbody>\n",
              "</table>\n",
              "</div>"
            ],
            "text/plain": [
              "    A   B\n",
              "0  A0  B0\n",
              "1  A1  B1\n",
              "2  A2  B2\n",
              "3  A3  B3"
            ]
          },
          "metadata": {},
          "execution_count": 277
        }
      ]
    },
    {
      "cell_type": "code",
      "metadata": {
        "colab": {
          "base_uri": "https://localhost:8080/",
          "height": 0
        },
        "id": "-1KnmcHFWN_p",
        "outputId": "f9a203f5-66a3-486d-d7d7-299ca75d330e"
      },
      "source": [
        "df_2"
      ],
      "execution_count": 278,
      "outputs": [
        {
          "output_type": "execute_result",
          "data": {
            "text/html": [
              "<div>\n",
              "<style scoped>\n",
              "    .dataframe tbody tr th:only-of-type {\n",
              "        vertical-align: middle;\n",
              "    }\n",
              "\n",
              "    .dataframe tbody tr th {\n",
              "        vertical-align: top;\n",
              "    }\n",
              "\n",
              "    .dataframe thead th {\n",
              "        text-align: right;\n",
              "    }\n",
              "</style>\n",
              "<table border=\"1\" class=\"dataframe\">\n",
              "  <thead>\n",
              "    <tr style=\"text-align: right;\">\n",
              "      <th></th>\n",
              "      <th>C</th>\n",
              "      <th>D</th>\n",
              "    </tr>\n",
              "  </thead>\n",
              "  <tbody>\n",
              "    <tr>\n",
              "      <th>0</th>\n",
              "      <td>C0</td>\n",
              "      <td>D0</td>\n",
              "    </tr>\n",
              "    <tr>\n",
              "      <th>1</th>\n",
              "      <td>C1</td>\n",
              "      <td>D1</td>\n",
              "    </tr>\n",
              "    <tr>\n",
              "      <th>2</th>\n",
              "      <td>C2</td>\n",
              "      <td>D2</td>\n",
              "    </tr>\n",
              "    <tr>\n",
              "      <th>3</th>\n",
              "      <td>C3</td>\n",
              "      <td>D3</td>\n",
              "    </tr>\n",
              "  </tbody>\n",
              "</table>\n",
              "</div>"
            ],
            "text/plain": [
              "    C   D\n",
              "0  C0  D0\n",
              "1  C1  D1\n",
              "2  C2  D2\n",
              "3  C3  D3"
            ]
          },
          "metadata": {},
          "execution_count": 278
        }
      ]
    },
    {
      "cell_type": "code",
      "metadata": {
        "colab": {
          "base_uri": "https://localhost:8080/",
          "height": 0
        },
        "id": "2fO54t2BWgC4",
        "outputId": "9726589b-4b95-4885-d2b9-3e8dcfeeefbc"
      },
      "source": [
        "# Axis = 0, concatenate along rows\n",
        "pd.concat([df_1, df_2], axis = 0)"
      ],
      "execution_count": 279,
      "outputs": [
        {
          "output_type": "execute_result",
          "data": {
            "text/html": [
              "<div>\n",
              "<style scoped>\n",
              "    .dataframe tbody tr th:only-of-type {\n",
              "        vertical-align: middle;\n",
              "    }\n",
              "\n",
              "    .dataframe tbody tr th {\n",
              "        vertical-align: top;\n",
              "    }\n",
              "\n",
              "    .dataframe thead th {\n",
              "        text-align: right;\n",
              "    }\n",
              "</style>\n",
              "<table border=\"1\" class=\"dataframe\">\n",
              "  <thead>\n",
              "    <tr style=\"text-align: right;\">\n",
              "      <th></th>\n",
              "      <th>A</th>\n",
              "      <th>B</th>\n",
              "      <th>C</th>\n",
              "      <th>D</th>\n",
              "    </tr>\n",
              "  </thead>\n",
              "  <tbody>\n",
              "    <tr>\n",
              "      <th>0</th>\n",
              "      <td>A0</td>\n",
              "      <td>B0</td>\n",
              "      <td>NaN</td>\n",
              "      <td>NaN</td>\n",
              "    </tr>\n",
              "    <tr>\n",
              "      <th>1</th>\n",
              "      <td>A1</td>\n",
              "      <td>B1</td>\n",
              "      <td>NaN</td>\n",
              "      <td>NaN</td>\n",
              "    </tr>\n",
              "    <tr>\n",
              "      <th>2</th>\n",
              "      <td>A2</td>\n",
              "      <td>B2</td>\n",
              "      <td>NaN</td>\n",
              "      <td>NaN</td>\n",
              "    </tr>\n",
              "    <tr>\n",
              "      <th>3</th>\n",
              "      <td>A3</td>\n",
              "      <td>B3</td>\n",
              "      <td>NaN</td>\n",
              "      <td>NaN</td>\n",
              "    </tr>\n",
              "    <tr>\n",
              "      <th>0</th>\n",
              "      <td>NaN</td>\n",
              "      <td>NaN</td>\n",
              "      <td>C0</td>\n",
              "      <td>D0</td>\n",
              "    </tr>\n",
              "    <tr>\n",
              "      <th>1</th>\n",
              "      <td>NaN</td>\n",
              "      <td>NaN</td>\n",
              "      <td>C1</td>\n",
              "      <td>D1</td>\n",
              "    </tr>\n",
              "    <tr>\n",
              "      <th>2</th>\n",
              "      <td>NaN</td>\n",
              "      <td>NaN</td>\n",
              "      <td>C2</td>\n",
              "      <td>D2</td>\n",
              "    </tr>\n",
              "    <tr>\n",
              "      <th>3</th>\n",
              "      <td>NaN</td>\n",
              "      <td>NaN</td>\n",
              "      <td>C3</td>\n",
              "      <td>D3</td>\n",
              "    </tr>\n",
              "  </tbody>\n",
              "</table>\n",
              "</div>"
            ],
            "text/plain": [
              "     A    B    C    D\n",
              "0   A0   B0  NaN  NaN\n",
              "1   A1   B1  NaN  NaN\n",
              "2   A2   B2  NaN  NaN\n",
              "3   A3   B3  NaN  NaN\n",
              "0  NaN  NaN   C0   D0\n",
              "1  NaN  NaN   C1   D1\n",
              "2  NaN  NaN   C2   D2\n",
              "3  NaN  NaN   C3   D3"
            ]
          },
          "metadata": {},
          "execution_count": 279
        }
      ]
    },
    {
      "cell_type": "code",
      "metadata": {
        "colab": {
          "base_uri": "https://localhost:8080/",
          "height": 0
        },
        "id": "DjaYIrU3W1hA",
        "outputId": "955ccd5b-f8eb-4c5e-a84f-7a5ed94fb03f"
      },
      "source": [
        "# axis = 1 , concatenate along columns \n",
        "pd.concat([df_1, df_2], axis = 1)"
      ],
      "execution_count": 280,
      "outputs": [
        {
          "output_type": "execute_result",
          "data": {
            "text/html": [
              "<div>\n",
              "<style scoped>\n",
              "    .dataframe tbody tr th:only-of-type {\n",
              "        vertical-align: middle;\n",
              "    }\n",
              "\n",
              "    .dataframe tbody tr th {\n",
              "        vertical-align: top;\n",
              "    }\n",
              "\n",
              "    .dataframe thead th {\n",
              "        text-align: right;\n",
              "    }\n",
              "</style>\n",
              "<table border=\"1\" class=\"dataframe\">\n",
              "  <thead>\n",
              "    <tr style=\"text-align: right;\">\n",
              "      <th></th>\n",
              "      <th>A</th>\n",
              "      <th>B</th>\n",
              "      <th>C</th>\n",
              "      <th>D</th>\n",
              "    </tr>\n",
              "  </thead>\n",
              "  <tbody>\n",
              "    <tr>\n",
              "      <th>0</th>\n",
              "      <td>A0</td>\n",
              "      <td>B0</td>\n",
              "      <td>C0</td>\n",
              "      <td>D0</td>\n",
              "    </tr>\n",
              "    <tr>\n",
              "      <th>1</th>\n",
              "      <td>A1</td>\n",
              "      <td>B1</td>\n",
              "      <td>C1</td>\n",
              "      <td>D1</td>\n",
              "    </tr>\n",
              "    <tr>\n",
              "      <th>2</th>\n",
              "      <td>A2</td>\n",
              "      <td>B2</td>\n",
              "      <td>C2</td>\n",
              "      <td>D2</td>\n",
              "    </tr>\n",
              "    <tr>\n",
              "      <th>3</th>\n",
              "      <td>A3</td>\n",
              "      <td>B3</td>\n",
              "      <td>C3</td>\n",
              "      <td>D3</td>\n",
              "    </tr>\n",
              "  </tbody>\n",
              "</table>\n",
              "</div>"
            ],
            "text/plain": [
              "    A   B   C   D\n",
              "0  A0  B0  C0  D0\n",
              "1  A1  B1  C1  D1\n",
              "2  A2  B2  C2  D2\n",
              "3  A3  B3  C3  D3"
            ]
          },
          "metadata": {},
          "execution_count": 280
        }
      ]
    },
    {
      "cell_type": "markdown",
      "metadata": {
        "id": "BBiV5uDsW_l5"
      },
      "source": [
        "### Merge"
      ]
    },
    {
      "cell_type": "code",
      "metadata": {
        "colab": {
          "base_uri": "https://localhost:8080/",
          "height": 0
        },
        "id": "AGfl91YyW9BJ",
        "outputId": "fa4a3e0f-9a67-4b98-8490-b49d480cf3b9"
      },
      "source": [
        "# help(pd.merge)\n",
        "reg = pd.DataFrame({'reg_id':[1,2,3,4],'Name':['Paul','Gilbert','Steve','Vai']})\n",
        "login = pd.DataFrame({'log_id':[1,2,3,4],'Name':['Guthrie','Govan','Paul','Gilbert']})\n",
        "reg"
      ],
      "execution_count": 281,
      "outputs": [
        {
          "output_type": "execute_result",
          "data": {
            "text/html": [
              "<div>\n",
              "<style scoped>\n",
              "    .dataframe tbody tr th:only-of-type {\n",
              "        vertical-align: middle;\n",
              "    }\n",
              "\n",
              "    .dataframe tbody tr th {\n",
              "        vertical-align: top;\n",
              "    }\n",
              "\n",
              "    .dataframe thead th {\n",
              "        text-align: right;\n",
              "    }\n",
              "</style>\n",
              "<table border=\"1\" class=\"dataframe\">\n",
              "  <thead>\n",
              "    <tr style=\"text-align: right;\">\n",
              "      <th></th>\n",
              "      <th>reg_id</th>\n",
              "      <th>Name</th>\n",
              "    </tr>\n",
              "  </thead>\n",
              "  <tbody>\n",
              "    <tr>\n",
              "      <th>0</th>\n",
              "      <td>1</td>\n",
              "      <td>Paul</td>\n",
              "    </tr>\n",
              "    <tr>\n",
              "      <th>1</th>\n",
              "      <td>2</td>\n",
              "      <td>Gilbert</td>\n",
              "    </tr>\n",
              "    <tr>\n",
              "      <th>2</th>\n",
              "      <td>3</td>\n",
              "      <td>Steve</td>\n",
              "    </tr>\n",
              "    <tr>\n",
              "      <th>3</th>\n",
              "      <td>4</td>\n",
              "      <td>Vai</td>\n",
              "    </tr>\n",
              "  </tbody>\n",
              "</table>\n",
              "</div>"
            ],
            "text/plain": [
              "   reg_id     Name\n",
              "0       1     Paul\n",
              "1       2  Gilbert\n",
              "2       3    Steve\n",
              "3       4      Vai"
            ]
          },
          "metadata": {},
          "execution_count": 281
        }
      ]
    },
    {
      "cell_type": "code",
      "metadata": {
        "colab": {
          "base_uri": "https://localhost:8080/",
          "height": 0
        },
        "id": "0smqq7FrXOah",
        "outputId": "b696940b-78ce-42b0-9db4-5ff212979dd0"
      },
      "source": [
        "login"
      ],
      "execution_count": 282,
      "outputs": [
        {
          "output_type": "execute_result",
          "data": {
            "text/html": [
              "<div>\n",
              "<style scoped>\n",
              "    .dataframe tbody tr th:only-of-type {\n",
              "        vertical-align: middle;\n",
              "    }\n",
              "\n",
              "    .dataframe tbody tr th {\n",
              "        vertical-align: top;\n",
              "    }\n",
              "\n",
              "    .dataframe thead th {\n",
              "        text-align: right;\n",
              "    }\n",
              "</style>\n",
              "<table border=\"1\" class=\"dataframe\">\n",
              "  <thead>\n",
              "    <tr style=\"text-align: right;\">\n",
              "      <th></th>\n",
              "      <th>log_id</th>\n",
              "      <th>Name</th>\n",
              "    </tr>\n",
              "  </thead>\n",
              "  <tbody>\n",
              "    <tr>\n",
              "      <th>0</th>\n",
              "      <td>1</td>\n",
              "      <td>Guthrie</td>\n",
              "    </tr>\n",
              "    <tr>\n",
              "      <th>1</th>\n",
              "      <td>2</td>\n",
              "      <td>Govan</td>\n",
              "    </tr>\n",
              "    <tr>\n",
              "      <th>2</th>\n",
              "      <td>3</td>\n",
              "      <td>Paul</td>\n",
              "    </tr>\n",
              "    <tr>\n",
              "      <th>3</th>\n",
              "      <td>4</td>\n",
              "      <td>Gilbert</td>\n",
              "    </tr>\n",
              "  </tbody>\n",
              "</table>\n",
              "</div>"
            ],
            "text/plain": [
              "   log_id     Name\n",
              "0       1  Guthrie\n",
              "1       2    Govan\n",
              "2       3     Paul\n",
              "3       4  Gilbert"
            ]
          },
          "metadata": {},
          "execution_count": 282
        }
      ]
    },
    {
      "cell_type": "markdown",
      "metadata": {
        "id": "QUZ9JwvAY2tW"
      },
      "source": [
        "### Inner Join, Left Join , Right Join, Outer Join"
      ]
    },
    {
      "cell_type": "code",
      "metadata": {
        "colab": {
          "base_uri": "https://localhost:8080/",
          "height": 0
        },
        "id": "Us4MsoMyY0ih",
        "outputId": "0b8942f6-c62c-4eca-bb6f-3238804064b1"
      },
      "source": [
        "pd.merge(reg, login, how='inner', on='Name')"
      ],
      "execution_count": 283,
      "outputs": [
        {
          "output_type": "execute_result",
          "data": {
            "text/html": [
              "<div>\n",
              "<style scoped>\n",
              "    .dataframe tbody tr th:only-of-type {\n",
              "        vertical-align: middle;\n",
              "    }\n",
              "\n",
              "    .dataframe tbody tr th {\n",
              "        vertical-align: top;\n",
              "    }\n",
              "\n",
              "    .dataframe thead th {\n",
              "        text-align: right;\n",
              "    }\n",
              "</style>\n",
              "<table border=\"1\" class=\"dataframe\">\n",
              "  <thead>\n",
              "    <tr style=\"text-align: right;\">\n",
              "      <th></th>\n",
              "      <th>reg_id</th>\n",
              "      <th>Name</th>\n",
              "      <th>log_id</th>\n",
              "    </tr>\n",
              "  </thead>\n",
              "  <tbody>\n",
              "    <tr>\n",
              "      <th>0</th>\n",
              "      <td>1</td>\n",
              "      <td>Paul</td>\n",
              "      <td>3</td>\n",
              "    </tr>\n",
              "    <tr>\n",
              "      <th>1</th>\n",
              "      <td>2</td>\n",
              "      <td>Gilbert</td>\n",
              "      <td>4</td>\n",
              "    </tr>\n",
              "  </tbody>\n",
              "</table>\n",
              "</div>"
            ],
            "text/plain": [
              "   reg_id     Name  log_id\n",
              "0       1     Paul       3\n",
              "1       2  Gilbert       4"
            ]
          },
          "metadata": {},
          "execution_count": 283
        }
      ]
    },
    {
      "cell_type": "code",
      "metadata": {
        "colab": {
          "base_uri": "https://localhost:8080/",
          "height": 0
        },
        "id": "jb7xmqJ0Y8J5",
        "outputId": "6768adde-857b-45e0-bf5d-7eeb5a294573"
      },
      "source": [
        "pd.merge(reg, login, how='outer',left_on = 'reg_id',right_on = 'log_id') \n",
        "# example for different column names, although this example doesn't make sense"
      ],
      "execution_count": 284,
      "outputs": [
        {
          "output_type": "execute_result",
          "data": {
            "text/html": [
              "<div>\n",
              "<style scoped>\n",
              "    .dataframe tbody tr th:only-of-type {\n",
              "        vertical-align: middle;\n",
              "    }\n",
              "\n",
              "    .dataframe tbody tr th {\n",
              "        vertical-align: top;\n",
              "    }\n",
              "\n",
              "    .dataframe thead th {\n",
              "        text-align: right;\n",
              "    }\n",
              "</style>\n",
              "<table border=\"1\" class=\"dataframe\">\n",
              "  <thead>\n",
              "    <tr style=\"text-align: right;\">\n",
              "      <th></th>\n",
              "      <th>reg_id</th>\n",
              "      <th>Name_x</th>\n",
              "      <th>log_id</th>\n",
              "      <th>Name_y</th>\n",
              "    </tr>\n",
              "  </thead>\n",
              "  <tbody>\n",
              "    <tr>\n",
              "      <th>0</th>\n",
              "      <td>1</td>\n",
              "      <td>Paul</td>\n",
              "      <td>1</td>\n",
              "      <td>Guthrie</td>\n",
              "    </tr>\n",
              "    <tr>\n",
              "      <th>1</th>\n",
              "      <td>2</td>\n",
              "      <td>Gilbert</td>\n",
              "      <td>2</td>\n",
              "      <td>Govan</td>\n",
              "    </tr>\n",
              "    <tr>\n",
              "      <th>2</th>\n",
              "      <td>3</td>\n",
              "      <td>Steve</td>\n",
              "      <td>3</td>\n",
              "      <td>Paul</td>\n",
              "    </tr>\n",
              "    <tr>\n",
              "      <th>3</th>\n",
              "      <td>4</td>\n",
              "      <td>Vai</td>\n",
              "      <td>4</td>\n",
              "      <td>Gilbert</td>\n",
              "    </tr>\n",
              "  </tbody>\n",
              "</table>\n",
              "</div>"
            ],
            "text/plain": [
              "   reg_id   Name_x  log_id   Name_y\n",
              "0       1     Paul       1  Guthrie\n",
              "1       2  Gilbert       2    Govan\n",
              "2       3    Steve       3     Paul\n",
              "3       4      Vai       4  Gilbert"
            ]
          },
          "metadata": {},
          "execution_count": 284
        }
      ]
    },
    {
      "cell_type": "code",
      "metadata": {
        "colab": {
          "base_uri": "https://localhost:8080/",
          "height": 0
        },
        "id": "1G8YIyF1ZC6J",
        "outputId": "9b2c5d01-9f3f-4707-c1ae-509053e554f2"
      },
      "source": [
        "pd.merge(reg, login, how = 'left', on = 'Name')"
      ],
      "execution_count": 285,
      "outputs": [
        {
          "output_type": "execute_result",
          "data": {
            "text/html": [
              "<div>\n",
              "<style scoped>\n",
              "    .dataframe tbody tr th:only-of-type {\n",
              "        vertical-align: middle;\n",
              "    }\n",
              "\n",
              "    .dataframe tbody tr th {\n",
              "        vertical-align: top;\n",
              "    }\n",
              "\n",
              "    .dataframe thead th {\n",
              "        text-align: right;\n",
              "    }\n",
              "</style>\n",
              "<table border=\"1\" class=\"dataframe\">\n",
              "  <thead>\n",
              "    <tr style=\"text-align: right;\">\n",
              "      <th></th>\n",
              "      <th>reg_id</th>\n",
              "      <th>Name</th>\n",
              "      <th>log_id</th>\n",
              "    </tr>\n",
              "  </thead>\n",
              "  <tbody>\n",
              "    <tr>\n",
              "      <th>0</th>\n",
              "      <td>1</td>\n",
              "      <td>Paul</td>\n",
              "      <td>3.0</td>\n",
              "    </tr>\n",
              "    <tr>\n",
              "      <th>1</th>\n",
              "      <td>2</td>\n",
              "      <td>Gilbert</td>\n",
              "      <td>4.0</td>\n",
              "    </tr>\n",
              "    <tr>\n",
              "      <th>2</th>\n",
              "      <td>3</td>\n",
              "      <td>Steve</td>\n",
              "      <td>NaN</td>\n",
              "    </tr>\n",
              "    <tr>\n",
              "      <th>3</th>\n",
              "      <td>4</td>\n",
              "      <td>Vai</td>\n",
              "      <td>NaN</td>\n",
              "    </tr>\n",
              "  </tbody>\n",
              "</table>\n",
              "</div>"
            ],
            "text/plain": [
              "   reg_id     Name  log_id\n",
              "0       1     Paul     3.0\n",
              "1       2  Gilbert     4.0\n",
              "2       3    Steve     NaN\n",
              "3       4      Vai     NaN"
            ]
          },
          "metadata": {},
          "execution_count": 285
        }
      ]
    },
    {
      "cell_type": "code",
      "metadata": {
        "colab": {
          "base_uri": "https://localhost:8080/",
          "height": 0
        },
        "id": "Cvg_7QSyZ1Zq",
        "outputId": "4474ee93-8adc-430b-8285-4507cae8346a"
      },
      "source": [
        "pd.merge(reg, login, how = 'right', on = 'Name')"
      ],
      "execution_count": 286,
      "outputs": [
        {
          "output_type": "execute_result",
          "data": {
            "text/html": [
              "<div>\n",
              "<style scoped>\n",
              "    .dataframe tbody tr th:only-of-type {\n",
              "        vertical-align: middle;\n",
              "    }\n",
              "\n",
              "    .dataframe tbody tr th {\n",
              "        vertical-align: top;\n",
              "    }\n",
              "\n",
              "    .dataframe thead th {\n",
              "        text-align: right;\n",
              "    }\n",
              "</style>\n",
              "<table border=\"1\" class=\"dataframe\">\n",
              "  <thead>\n",
              "    <tr style=\"text-align: right;\">\n",
              "      <th></th>\n",
              "      <th>reg_id</th>\n",
              "      <th>Name</th>\n",
              "      <th>log_id</th>\n",
              "    </tr>\n",
              "  </thead>\n",
              "  <tbody>\n",
              "    <tr>\n",
              "      <th>0</th>\n",
              "      <td>NaN</td>\n",
              "      <td>Guthrie</td>\n",
              "      <td>1</td>\n",
              "    </tr>\n",
              "    <tr>\n",
              "      <th>1</th>\n",
              "      <td>NaN</td>\n",
              "      <td>Govan</td>\n",
              "      <td>2</td>\n",
              "    </tr>\n",
              "    <tr>\n",
              "      <th>2</th>\n",
              "      <td>1.0</td>\n",
              "      <td>Paul</td>\n",
              "      <td>3</td>\n",
              "    </tr>\n",
              "    <tr>\n",
              "      <th>3</th>\n",
              "      <td>2.0</td>\n",
              "      <td>Gilbert</td>\n",
              "      <td>4</td>\n",
              "    </tr>\n",
              "  </tbody>\n",
              "</table>\n",
              "</div>"
            ],
            "text/plain": [
              "   reg_id     Name  log_id\n",
              "0     NaN  Guthrie       1\n",
              "1     NaN    Govan       2\n",
              "2     1.0     Paul       3\n",
              "3     2.0  Gilbert       4"
            ]
          },
          "metadata": {},
          "execution_count": 286
        }
      ]
    },
    {
      "cell_type": "code",
      "metadata": {
        "colab": {
          "base_uri": "https://localhost:8080/",
          "height": 0
        },
        "id": "jLtw8188Z7vo",
        "outputId": "73924bdd-4443-4821-b575-fde856633450"
      },
      "source": [
        "pd.merge(reg, login, how = 'outer', on = 'Name')"
      ],
      "execution_count": 287,
      "outputs": [
        {
          "output_type": "execute_result",
          "data": {
            "text/html": [
              "<div>\n",
              "<style scoped>\n",
              "    .dataframe tbody tr th:only-of-type {\n",
              "        vertical-align: middle;\n",
              "    }\n",
              "\n",
              "    .dataframe tbody tr th {\n",
              "        vertical-align: top;\n",
              "    }\n",
              "\n",
              "    .dataframe thead th {\n",
              "        text-align: right;\n",
              "    }\n",
              "</style>\n",
              "<table border=\"1\" class=\"dataframe\">\n",
              "  <thead>\n",
              "    <tr style=\"text-align: right;\">\n",
              "      <th></th>\n",
              "      <th>reg_id</th>\n",
              "      <th>Name</th>\n",
              "      <th>log_id</th>\n",
              "    </tr>\n",
              "  </thead>\n",
              "  <tbody>\n",
              "    <tr>\n",
              "      <th>0</th>\n",
              "      <td>1.0</td>\n",
              "      <td>Paul</td>\n",
              "      <td>3.0</td>\n",
              "    </tr>\n",
              "    <tr>\n",
              "      <th>1</th>\n",
              "      <td>2.0</td>\n",
              "      <td>Gilbert</td>\n",
              "      <td>4.0</td>\n",
              "    </tr>\n",
              "    <tr>\n",
              "      <th>2</th>\n",
              "      <td>3.0</td>\n",
              "      <td>Steve</td>\n",
              "      <td>NaN</td>\n",
              "    </tr>\n",
              "    <tr>\n",
              "      <th>3</th>\n",
              "      <td>4.0</td>\n",
              "      <td>Vai</td>\n",
              "      <td>NaN</td>\n",
              "    </tr>\n",
              "    <tr>\n",
              "      <th>4</th>\n",
              "      <td>NaN</td>\n",
              "      <td>Guthrie</td>\n",
              "      <td>1.0</td>\n",
              "    </tr>\n",
              "    <tr>\n",
              "      <th>5</th>\n",
              "      <td>NaN</td>\n",
              "      <td>Govan</td>\n",
              "      <td>2.0</td>\n",
              "    </tr>\n",
              "  </tbody>\n",
              "</table>\n",
              "</div>"
            ],
            "text/plain": [
              "   reg_id     Name  log_id\n",
              "0     1.0     Paul     3.0\n",
              "1     2.0  Gilbert     4.0\n",
              "2     3.0    Steve     NaN\n",
              "3     4.0      Vai     NaN\n",
              "4     NaN  Guthrie     1.0\n",
              "5     NaN    Govan     2.0"
            ]
          },
          "metadata": {},
          "execution_count": 287
        }
      ]
    },
    {
      "cell_type": "markdown",
      "metadata": {
        "id": "E1jXwfhhaLGe"
      },
      "source": [
        "### Join on Index or column"
      ]
    },
    {
      "cell_type": "code",
      "metadata": {
        "colab": {
          "base_uri": "https://localhost:8080/",
          "height": 0
        },
        "id": "uhH1eVIlaHPA",
        "outputId": "d7f1780a-2887-4049-af90-cc042ae79c6a"
      },
      "source": [
        "reg = reg.set_index('Name')\n",
        "reg"
      ],
      "execution_count": 288,
      "outputs": [
        {
          "output_type": "execute_result",
          "data": {
            "text/html": [
              "<div>\n",
              "<style scoped>\n",
              "    .dataframe tbody tr th:only-of-type {\n",
              "        vertical-align: middle;\n",
              "    }\n",
              "\n",
              "    .dataframe tbody tr th {\n",
              "        vertical-align: top;\n",
              "    }\n",
              "\n",
              "    .dataframe thead th {\n",
              "        text-align: right;\n",
              "    }\n",
              "</style>\n",
              "<table border=\"1\" class=\"dataframe\">\n",
              "  <thead>\n",
              "    <tr style=\"text-align: right;\">\n",
              "      <th></th>\n",
              "      <th>reg_id</th>\n",
              "    </tr>\n",
              "    <tr>\n",
              "      <th>Name</th>\n",
              "      <th></th>\n",
              "    </tr>\n",
              "  </thead>\n",
              "  <tbody>\n",
              "    <tr>\n",
              "      <th>Paul</th>\n",
              "      <td>1</td>\n",
              "    </tr>\n",
              "    <tr>\n",
              "      <th>Gilbert</th>\n",
              "      <td>2</td>\n",
              "    </tr>\n",
              "    <tr>\n",
              "      <th>Steve</th>\n",
              "      <td>3</td>\n",
              "    </tr>\n",
              "    <tr>\n",
              "      <th>Vai</th>\n",
              "      <td>4</td>\n",
              "    </tr>\n",
              "  </tbody>\n",
              "</table>\n",
              "</div>"
            ],
            "text/plain": [
              "         reg_id\n",
              "Name           \n",
              "Paul          1\n",
              "Gilbert       2\n",
              "Steve         3\n",
              "Vai           4"
            ]
          },
          "metadata": {},
          "execution_count": 288
        }
      ]
    },
    {
      "cell_type": "code",
      "metadata": {
        "colab": {
          "base_uri": "https://localhost:8080/",
          "height": 0
        },
        "id": "fjhfTNbTaQu4",
        "outputId": "93c767ad-8dd1-46ad-9491-6e1774582423"
      },
      "source": [
        "pd.merge(reg, login, left_index=True, right_on='Name')"
      ],
      "execution_count": 289,
      "outputs": [
        {
          "output_type": "execute_result",
          "data": {
            "text/html": [
              "<div>\n",
              "<style scoped>\n",
              "    .dataframe tbody tr th:only-of-type {\n",
              "        vertical-align: middle;\n",
              "    }\n",
              "\n",
              "    .dataframe tbody tr th {\n",
              "        vertical-align: top;\n",
              "    }\n",
              "\n",
              "    .dataframe thead th {\n",
              "        text-align: right;\n",
              "    }\n",
              "</style>\n",
              "<table border=\"1\" class=\"dataframe\">\n",
              "  <thead>\n",
              "    <tr style=\"text-align: right;\">\n",
              "      <th></th>\n",
              "      <th>reg_id</th>\n",
              "      <th>log_id</th>\n",
              "      <th>Name</th>\n",
              "    </tr>\n",
              "  </thead>\n",
              "  <tbody>\n",
              "    <tr>\n",
              "      <th>2</th>\n",
              "      <td>1</td>\n",
              "      <td>3</td>\n",
              "      <td>Paul</td>\n",
              "    </tr>\n",
              "    <tr>\n",
              "      <th>3</th>\n",
              "      <td>2</td>\n",
              "      <td>4</td>\n",
              "      <td>Gilbert</td>\n",
              "    </tr>\n",
              "  </tbody>\n",
              "</table>\n",
              "</div>"
            ],
            "text/plain": [
              "   reg_id  log_id     Name\n",
              "2       1       3     Paul\n",
              "3       2       4  Gilbert"
            ]
          },
          "metadata": {},
          "execution_count": 289
        }
      ]
    },
    {
      "cell_type": "code",
      "metadata": {
        "colab": {
          "base_uri": "https://localhost:8080/",
          "height": 0
        },
        "id": "fmRtq7OzaaEI",
        "outputId": "f2adead5-a1a6-430b-e086-dc04fbc048a5"
      },
      "source": [
        "pd.merge(login, reg, right_index=True, left_on='Name')"
      ],
      "execution_count": 290,
      "outputs": [
        {
          "output_type": "execute_result",
          "data": {
            "text/html": [
              "<div>\n",
              "<style scoped>\n",
              "    .dataframe tbody tr th:only-of-type {\n",
              "        vertical-align: middle;\n",
              "    }\n",
              "\n",
              "    .dataframe tbody tr th {\n",
              "        vertical-align: top;\n",
              "    }\n",
              "\n",
              "    .dataframe thead th {\n",
              "        text-align: right;\n",
              "    }\n",
              "</style>\n",
              "<table border=\"1\" class=\"dataframe\">\n",
              "  <thead>\n",
              "    <tr style=\"text-align: right;\">\n",
              "      <th></th>\n",
              "      <th>log_id</th>\n",
              "      <th>Name</th>\n",
              "      <th>reg_id</th>\n",
              "    </tr>\n",
              "  </thead>\n",
              "  <tbody>\n",
              "    <tr>\n",
              "      <th>2</th>\n",
              "      <td>3</td>\n",
              "      <td>Paul</td>\n",
              "      <td>1</td>\n",
              "    </tr>\n",
              "    <tr>\n",
              "      <th>3</th>\n",
              "      <td>4</td>\n",
              "      <td>Gilbert</td>\n",
              "      <td>2</td>\n",
              "    </tr>\n",
              "  </tbody>\n",
              "</table>\n",
              "</div>"
            ],
            "text/plain": [
              "   log_id     Name  reg_id\n",
              "2       3     Paul       1\n",
              "3       4  Gilbert       2"
            ]
          },
          "metadata": {},
          "execution_count": 290
        }
      ]
    },
    {
      "cell_type": "code",
      "metadata": {
        "colab": {
          "base_uri": "https://localhost:8080/",
          "height": 0
        },
        "id": "hkzGpc-Waibg",
        "outputId": "f4892351-b3f4-4150-9e38-69fc61b74e73"
      },
      "source": [
        "reg = reg.reset_index()\n",
        "reg"
      ],
      "execution_count": 291,
      "outputs": [
        {
          "output_type": "execute_result",
          "data": {
            "text/html": [
              "<div>\n",
              "<style scoped>\n",
              "    .dataframe tbody tr th:only-of-type {\n",
              "        vertical-align: middle;\n",
              "    }\n",
              "\n",
              "    .dataframe tbody tr th {\n",
              "        vertical-align: top;\n",
              "    }\n",
              "\n",
              "    .dataframe thead th {\n",
              "        text-align: right;\n",
              "    }\n",
              "</style>\n",
              "<table border=\"1\" class=\"dataframe\">\n",
              "  <thead>\n",
              "    <tr style=\"text-align: right;\">\n",
              "      <th></th>\n",
              "      <th>Name</th>\n",
              "      <th>reg_id</th>\n",
              "    </tr>\n",
              "  </thead>\n",
              "  <tbody>\n",
              "    <tr>\n",
              "      <th>0</th>\n",
              "      <td>Paul</td>\n",
              "      <td>1</td>\n",
              "    </tr>\n",
              "    <tr>\n",
              "      <th>1</th>\n",
              "      <td>Gilbert</td>\n",
              "      <td>2</td>\n",
              "    </tr>\n",
              "    <tr>\n",
              "      <th>2</th>\n",
              "      <td>Steve</td>\n",
              "      <td>3</td>\n",
              "    </tr>\n",
              "    <tr>\n",
              "      <th>3</th>\n",
              "      <td>Vai</td>\n",
              "      <td>4</td>\n",
              "    </tr>\n",
              "  </tbody>\n",
              "</table>\n",
              "</div>"
            ],
            "text/plain": [
              "      Name  reg_id\n",
              "0     Paul       1\n",
              "1  Gilbert       2\n",
              "2    Steve       3\n",
              "3      Vai       4"
            ]
          },
          "metadata": {},
          "execution_count": 291
        }
      ]
    },
    {
      "cell_type": "code",
      "metadata": {
        "colab": {
          "base_uri": "https://localhost:8080/",
          "height": 0
        },
        "id": "dpuaXGyMa5hg",
        "outputId": "ed590df6-0c35-4039-bfe9-9ded77696bc8"
      },
      "source": [
        "reg.columns = ['name','id']\n",
        "login.columns = ['id','name']\n",
        "reg"
      ],
      "execution_count": 292,
      "outputs": [
        {
          "output_type": "execute_result",
          "data": {
            "text/html": [
              "<div>\n",
              "<style scoped>\n",
              "    .dataframe tbody tr th:only-of-type {\n",
              "        vertical-align: middle;\n",
              "    }\n",
              "\n",
              "    .dataframe tbody tr th {\n",
              "        vertical-align: top;\n",
              "    }\n",
              "\n",
              "    .dataframe thead th {\n",
              "        text-align: right;\n",
              "    }\n",
              "</style>\n",
              "<table border=\"1\" class=\"dataframe\">\n",
              "  <thead>\n",
              "    <tr style=\"text-align: right;\">\n",
              "      <th></th>\n",
              "      <th>name</th>\n",
              "      <th>id</th>\n",
              "    </tr>\n",
              "  </thead>\n",
              "  <tbody>\n",
              "    <tr>\n",
              "      <th>0</th>\n",
              "      <td>Paul</td>\n",
              "      <td>1</td>\n",
              "    </tr>\n",
              "    <tr>\n",
              "      <th>1</th>\n",
              "      <td>Gilbert</td>\n",
              "      <td>2</td>\n",
              "    </tr>\n",
              "    <tr>\n",
              "      <th>2</th>\n",
              "      <td>Steve</td>\n",
              "      <td>3</td>\n",
              "    </tr>\n",
              "    <tr>\n",
              "      <th>3</th>\n",
              "      <td>Vai</td>\n",
              "      <td>4</td>\n",
              "    </tr>\n",
              "  </tbody>\n",
              "</table>\n",
              "</div>"
            ],
            "text/plain": [
              "      name  id\n",
              "0     Paul   1\n",
              "1  Gilbert   2\n",
              "2    Steve   3\n",
              "3      Vai   4"
            ]
          },
          "metadata": {},
          "execution_count": 292
        }
      ]
    },
    {
      "cell_type": "code",
      "metadata": {
        "colab": {
          "base_uri": "https://localhost:8080/",
          "height": 0
        },
        "id": "5u_g8kI_bJi7",
        "outputId": "1da6d217-8cc8-4bfe-9476-985a35d296f7"
      },
      "source": [
        "login"
      ],
      "execution_count": 293,
      "outputs": [
        {
          "output_type": "execute_result",
          "data": {
            "text/html": [
              "<div>\n",
              "<style scoped>\n",
              "    .dataframe tbody tr th:only-of-type {\n",
              "        vertical-align: middle;\n",
              "    }\n",
              "\n",
              "    .dataframe tbody tr th {\n",
              "        vertical-align: top;\n",
              "    }\n",
              "\n",
              "    .dataframe thead th {\n",
              "        text-align: right;\n",
              "    }\n",
              "</style>\n",
              "<table border=\"1\" class=\"dataframe\">\n",
              "  <thead>\n",
              "    <tr style=\"text-align: right;\">\n",
              "      <th></th>\n",
              "      <th>id</th>\n",
              "      <th>name</th>\n",
              "    </tr>\n",
              "  </thead>\n",
              "  <tbody>\n",
              "    <tr>\n",
              "      <th>0</th>\n",
              "      <td>1</td>\n",
              "      <td>Guthrie</td>\n",
              "    </tr>\n",
              "    <tr>\n",
              "      <th>1</th>\n",
              "      <td>2</td>\n",
              "      <td>Govan</td>\n",
              "    </tr>\n",
              "    <tr>\n",
              "      <th>2</th>\n",
              "      <td>3</td>\n",
              "      <td>Paul</td>\n",
              "    </tr>\n",
              "    <tr>\n",
              "      <th>3</th>\n",
              "      <td>4</td>\n",
              "      <td>Gilbert</td>\n",
              "    </tr>\n",
              "  </tbody>\n",
              "</table>\n",
              "</div>"
            ],
            "text/plain": [
              "   id     name\n",
              "0   1  Guthrie\n",
              "1   2    Govan\n",
              "2   3     Paul\n",
              "3   4  Gilbert"
            ]
          },
          "metadata": {},
          "execution_count": 293
        }
      ]
    },
    {
      "cell_type": "code",
      "metadata": {
        "colab": {
          "base_uri": "https://localhost:8080/",
          "height": 0
        },
        "id": "Qtf8MEUybZ8Y",
        "outputId": "0eaffb35-c83c-4843-9def-0c2b75726d68"
      },
      "source": [
        "pd.merge(reg, login, on = 'name')"
      ],
      "execution_count": 294,
      "outputs": [
        {
          "output_type": "execute_result",
          "data": {
            "text/html": [
              "<div>\n",
              "<style scoped>\n",
              "    .dataframe tbody tr th:only-of-type {\n",
              "        vertical-align: middle;\n",
              "    }\n",
              "\n",
              "    .dataframe tbody tr th {\n",
              "        vertical-align: top;\n",
              "    }\n",
              "\n",
              "    .dataframe thead th {\n",
              "        text-align: right;\n",
              "    }\n",
              "</style>\n",
              "<table border=\"1\" class=\"dataframe\">\n",
              "  <thead>\n",
              "    <tr style=\"text-align: right;\">\n",
              "      <th></th>\n",
              "      <th>name</th>\n",
              "      <th>id_x</th>\n",
              "      <th>id_y</th>\n",
              "    </tr>\n",
              "  </thead>\n",
              "  <tbody>\n",
              "    <tr>\n",
              "      <th>0</th>\n",
              "      <td>Paul</td>\n",
              "      <td>1</td>\n",
              "      <td>3</td>\n",
              "    </tr>\n",
              "    <tr>\n",
              "      <th>1</th>\n",
              "      <td>Gilbert</td>\n",
              "      <td>2</td>\n",
              "      <td>4</td>\n",
              "    </tr>\n",
              "  </tbody>\n",
              "</table>\n",
              "</div>"
            ],
            "text/plain": [
              "      name  id_x  id_y\n",
              "0     Paul     1     3\n",
              "1  Gilbert     2     4"
            ]
          },
          "metadata": {},
          "execution_count": 294
        }
      ]
    },
    {
      "cell_type": "code",
      "metadata": {
        "colab": {
          "base_uri": "https://localhost:8080/",
          "height": 0
        },
        "id": "BaNehXqebugg",
        "outputId": "95b10d0a-7e29-4727-b212-d7858e639f98"
      },
      "source": [
        "# using suffixes\n",
        "pd.merge(reg, login, on = 'name', suffixes = ('_reg', '_log'))"
      ],
      "execution_count": 295,
      "outputs": [
        {
          "output_type": "execute_result",
          "data": {
            "text/html": [
              "<div>\n",
              "<style scoped>\n",
              "    .dataframe tbody tr th:only-of-type {\n",
              "        vertical-align: middle;\n",
              "    }\n",
              "\n",
              "    .dataframe tbody tr th {\n",
              "        vertical-align: top;\n",
              "    }\n",
              "\n",
              "    .dataframe thead th {\n",
              "        text-align: right;\n",
              "    }\n",
              "</style>\n",
              "<table border=\"1\" class=\"dataframe\">\n",
              "  <thead>\n",
              "    <tr style=\"text-align: right;\">\n",
              "      <th></th>\n",
              "      <th>name</th>\n",
              "      <th>id_reg</th>\n",
              "      <th>id_log</th>\n",
              "    </tr>\n",
              "  </thead>\n",
              "  <tbody>\n",
              "    <tr>\n",
              "      <th>0</th>\n",
              "      <td>Paul</td>\n",
              "      <td>1</td>\n",
              "      <td>3</td>\n",
              "    </tr>\n",
              "    <tr>\n",
              "      <th>1</th>\n",
              "      <td>Gilbert</td>\n",
              "      <td>2</td>\n",
              "      <td>4</td>\n",
              "    </tr>\n",
              "  </tbody>\n",
              "</table>\n",
              "</div>"
            ],
            "text/plain": [
              "      name  id_reg  id_log\n",
              "0     Paul       1       3\n",
              "1  Gilbert       2       4"
            ]
          },
          "metadata": {},
          "execution_count": 295
        }
      ]
    },
    {
      "cell_type": "markdown",
      "metadata": {
        "id": "WIL3B8XAcWJ7"
      },
      "source": [
        "<a id='string'></a>\n",
        "## String Methods"
      ]
    },
    {
      "cell_type": "code",
      "metadata": {
        "colab": {
          "base_uri": "https://localhost:8080/"
        },
        "id": "kCavV7MlcAkB",
        "outputId": "4dc1db8e-9e7b-4971-abe1-a69cfbbe9822"
      },
      "source": [
        "# help(str)\n",
        "names = pd.Series(['andrew','ng','david',12])\n",
        "names"
      ],
      "execution_count": 296,
      "outputs": [
        {
          "output_type": "execute_result",
          "data": {
            "text/plain": [
              "0    andrew\n",
              "1        ng\n",
              "2     david\n",
              "3        12\n",
              "dtype: object"
            ]
          },
          "metadata": {},
          "execution_count": 296
        }
      ]
    },
    {
      "cell_type": "code",
      "metadata": {
        "colab": {
          "base_uri": "https://localhost:8080/"
        },
        "id": "26QPVMeNczUx",
        "outputId": "9d5d0d81-12a5-4eda-e95e-d65678b388be"
      },
      "source": [
        "names.str.capitalize()"
      ],
      "execution_count": 297,
      "outputs": [
        {
          "output_type": "execute_result",
          "data": {
            "text/plain": [
              "0    Andrew\n",
              "1        Ng\n",
              "2     David\n",
              "3       NaN\n",
              "dtype: object"
            ]
          },
          "metadata": {},
          "execution_count": 297
        }
      ]
    },
    {
      "cell_type": "code",
      "metadata": {
        "colab": {
          "base_uri": "https://localhost:8080/"
        },
        "id": "t8DjRkQ1c1lg",
        "outputId": "35cb329d-6003-4ec5-b14e-da3b1ab21ef2"
      },
      "source": [
        "names.str.isdigit()"
      ],
      "execution_count": 298,
      "outputs": [
        {
          "output_type": "execute_result",
          "data": {
            "text/plain": [
              "0    False\n",
              "1    False\n",
              "2    False\n",
              "3      NaN\n",
              "dtype: object"
            ]
          },
          "metadata": {},
          "execution_count": 298
        }
      ]
    },
    {
      "cell_type": "markdown",
      "metadata": {
        "id": "I_3oplc6c8it"
      },
      "source": [
        "### Splitting, grabbing, expanding"
      ]
    },
    {
      "cell_type": "code",
      "metadata": {
        "colab": {
          "base_uri": "https://localhost:8080/"
        },
        "id": "WCqcYEsbc3Co",
        "outputId": "9dbe1898-4aed-4fc5-c469-99573b9dfa9f"
      },
      "source": [
        "tech_finance = ['GOOG,APPL,AMZN','JPM,BAC,GS']\n",
        "len(tech_finance)"
      ],
      "execution_count": 299,
      "outputs": [
        {
          "output_type": "execute_result",
          "data": {
            "text/plain": [
              "2"
            ]
          },
          "metadata": {},
          "execution_count": 299
        }
      ]
    },
    {
      "cell_type": "code",
      "metadata": {
        "colab": {
          "base_uri": "https://localhost:8080/"
        },
        "id": "ottEZm-CdH6p",
        "outputId": "2e62d57c-7b44-4364-874a-120096287565"
      },
      "source": [
        "tickers = pd.Series(tech_finance)\n",
        "tickers"
      ],
      "execution_count": 300,
      "outputs": [
        {
          "output_type": "execute_result",
          "data": {
            "text/plain": [
              "0    GOOG,APPL,AMZN\n",
              "1        JPM,BAC,GS\n",
              "dtype: object"
            ]
          },
          "metadata": {},
          "execution_count": 300
        }
      ]
    },
    {
      "cell_type": "code",
      "metadata": {
        "colab": {
          "base_uri": "https://localhost:8080/"
        },
        "id": "cF9YVk6pdLQI",
        "outputId": "dd80627a-a0d9-4543-9c63-e0d8c579a1e7"
      },
      "source": [
        "tickers.str.split(',')"
      ],
      "execution_count": 301,
      "outputs": [
        {
          "output_type": "execute_result",
          "data": {
            "text/plain": [
              "0    [GOOG, APPL, AMZN]\n",
              "1        [JPM, BAC, GS]\n",
              "dtype: object"
            ]
          },
          "metadata": {},
          "execution_count": 301
        }
      ]
    },
    {
      "cell_type": "code",
      "metadata": {
        "colab": {
          "base_uri": "https://localhost:8080/"
        },
        "id": "ff6qrggvdNjA",
        "outputId": "19d73bec-f99f-4611-9219-894a01af63e3"
      },
      "source": [
        "tickers.str.split(',').str[0]"
      ],
      "execution_count": 302,
      "outputs": [
        {
          "output_type": "execute_result",
          "data": {
            "text/plain": [
              "0    GOOG\n",
              "1     JPM\n",
              "dtype: object"
            ]
          },
          "metadata": {},
          "execution_count": 302
        }
      ]
    },
    {
      "cell_type": "code",
      "metadata": {
        "colab": {
          "base_uri": "https://localhost:8080/",
          "height": 0
        },
        "id": "sKeH2UfVdQ1Q",
        "outputId": "ce02fadb-8cd1-4466-8a13-c3f3d47ef516"
      },
      "source": [
        "tickers.str.split(',',expand=True)"
      ],
      "execution_count": 303,
      "outputs": [
        {
          "output_type": "execute_result",
          "data": {
            "text/html": [
              "<div>\n",
              "<style scoped>\n",
              "    .dataframe tbody tr th:only-of-type {\n",
              "        vertical-align: middle;\n",
              "    }\n",
              "\n",
              "    .dataframe tbody tr th {\n",
              "        vertical-align: top;\n",
              "    }\n",
              "\n",
              "    .dataframe thead th {\n",
              "        text-align: right;\n",
              "    }\n",
              "</style>\n",
              "<table border=\"1\" class=\"dataframe\">\n",
              "  <thead>\n",
              "    <tr style=\"text-align: right;\">\n",
              "      <th></th>\n",
              "      <th>0</th>\n",
              "      <th>1</th>\n",
              "      <th>2</th>\n",
              "    </tr>\n",
              "  </thead>\n",
              "  <tbody>\n",
              "    <tr>\n",
              "      <th>0</th>\n",
              "      <td>GOOG</td>\n",
              "      <td>APPL</td>\n",
              "      <td>AMZN</td>\n",
              "    </tr>\n",
              "    <tr>\n",
              "      <th>1</th>\n",
              "      <td>JPM</td>\n",
              "      <td>BAC</td>\n",
              "      <td>GS</td>\n",
              "    </tr>\n",
              "  </tbody>\n",
              "</table>\n",
              "</div>"
            ],
            "text/plain": [
              "      0     1     2\n",
              "0  GOOG  APPL  AMZN\n",
              "1   JPM   BAC    GS"
            ]
          },
          "metadata": {},
          "execution_count": 303
        }
      ]
    },
    {
      "cell_type": "markdown",
      "metadata": {
        "id": "OQAJ2k6Ddcq7"
      },
      "source": [
        "### Cleaning , Editing strings"
      ]
    },
    {
      "cell_type": "code",
      "metadata": {
        "colab": {
          "base_uri": "https://localhost:8080/"
        },
        "id": "ULAFlEr8dX1Y",
        "outputId": "d790dd11-f99a-4374-b7b5-86b5d398a0dd"
      },
      "source": [
        "names = pd.Series(['andrew','da;id','  rose  '])\n",
        "names"
      ],
      "execution_count": 304,
      "outputs": [
        {
          "output_type": "execute_result",
          "data": {
            "text/plain": [
              "0      andrew\n",
              "1       da;id\n",
              "2      rose  \n",
              "dtype: object"
            ]
          },
          "metadata": {},
          "execution_count": 304
        }
      ]
    },
    {
      "cell_type": "code",
      "metadata": {
        "colab": {
          "base_uri": "https://localhost:8080/"
        },
        "id": "AVHU3BKKdq_R",
        "outputId": "6a38c3f1-c186-4bb5-d2e8-d241185ed9cf"
      },
      "source": [
        "names.str.replace(';','v').str.strip().str.capitalize()"
      ],
      "execution_count": 305,
      "outputs": [
        {
          "output_type": "execute_result",
          "data": {
            "text/plain": [
              "0    Andrew\n",
              "1     David\n",
              "2      Rose\n",
              "dtype: object"
            ]
          },
          "metadata": {},
          "execution_count": 305
        }
      ]
    },
    {
      "cell_type": "code",
      "metadata": {
        "id": "HTOVh7kYdxHh"
      },
      "source": [
        "# using apply\n",
        "def clean(name):\n",
        "  name = name.replace(';','v')\n",
        "  name = name.strip()\n",
        "  name = name.capitalize()\n",
        "  return name"
      ],
      "execution_count": 306,
      "outputs": []
    },
    {
      "cell_type": "code",
      "metadata": {
        "colab": {
          "base_uri": "https://localhost:8080/"
        },
        "id": "Omc2xaVteI5Y",
        "outputId": "5b42aa3e-755e-4c9e-d3f5-b187038aea3c"
      },
      "source": [
        "names.apply(clean)"
      ],
      "execution_count": 307,
      "outputs": [
        {
          "output_type": "execute_result",
          "data": {
            "text/plain": [
              "0    Andrew\n",
              "1     David\n",
              "2      Rose\n",
              "dtype: object"
            ]
          },
          "metadata": {},
          "execution_count": 307
        }
      ]
    },
    {
      "cell_type": "code",
      "metadata": {
        "colab": {
          "base_uri": "https://localhost:8080/"
        },
        "id": "KcmpRo01eKkh",
        "outputId": "2bfbd20e-24db-48c6-ef13-aec224348bfa"
      },
      "source": [
        "# this method is the most efficient\n",
        "np.vectorize(clean)(names)"
      ],
      "execution_count": 308,
      "outputs": [
        {
          "output_type": "execute_result",
          "data": {
            "text/plain": [
              "array(['Andrew', 'David', 'Rose'], dtype='<U6')"
            ]
          },
          "metadata": {},
          "execution_count": 308
        }
      ]
    },
    {
      "cell_type": "markdown",
      "metadata": {
        "id": "XP5gWqr6eh_S"
      },
      "source": [
        "<a id='time'></a>\n",
        "## Time Methods"
      ]
    },
    {
      "cell_type": "code",
      "metadata": {
        "colab": {
          "base_uri": "https://localhost:8080/"
        },
        "id": "H7q0pIfbeYKI",
        "outputId": "04cbdcaf-a499-4d32-d2fd-2cee422c9b3d"
      },
      "source": [
        "pds = pd.Series(['Aug 14, 2018', '2020-02-01', None])\n",
        "pds"
      ],
      "execution_count": 309,
      "outputs": [
        {
          "output_type": "execute_result",
          "data": {
            "text/plain": [
              "0    Aug 14, 2018\n",
              "1      2020-02-01\n",
              "2            None\n",
              "dtype: object"
            ]
          },
          "metadata": {},
          "execution_count": 309
        }
      ]
    },
    {
      "cell_type": "code",
      "metadata": {
        "colab": {
          "base_uri": "https://localhost:8080/"
        },
        "id": "csFb98qgfR5R",
        "outputId": "a7a89d8e-8b11-47fe-d492-b582c79c77c7"
      },
      "source": [
        "pd.to_datetime(pds)"
      ],
      "execution_count": 310,
      "outputs": [
        {
          "output_type": "execute_result",
          "data": {
            "text/plain": [
              "0   2018-08-14\n",
              "1   2020-02-01\n",
              "2          NaT\n",
              "dtype: datetime64[ns]"
            ]
          },
          "metadata": {},
          "execution_count": 310
        }
      ]
    },
    {
      "cell_type": "code",
      "metadata": {
        "colab": {
          "base_uri": "https://localhost:8080/"
        },
        "id": "4a_-7SpefVOB",
        "outputId": "67e32175-d286-49a2-80ee-b237c3e18c0e"
      },
      "source": [
        "pd.to_datetime(pds)[0]"
      ],
      "execution_count": 311,
      "outputs": [
        {
          "output_type": "execute_result",
          "data": {
            "text/plain": [
              "Timestamp('2018-08-14 00:00:00')"
            ]
          },
          "metadata": {},
          "execution_count": 311
        }
      ]
    },
    {
      "cell_type": "code",
      "metadata": {
        "colab": {
          "base_uri": "https://localhost:8080/"
        },
        "id": "llqXJh9-fbAh",
        "outputId": "06ee0b69-6ecb-47b1-d0cd-3bed9d1c31fb"
      },
      "source": [
        "date = '31-12-2020'\n",
        "pd.to_datetime(date)"
      ],
      "execution_count": 312,
      "outputs": [
        {
          "output_type": "execute_result",
          "data": {
            "text/plain": [
              "Timestamp('2020-12-31 00:00:00')"
            ]
          },
          "metadata": {},
          "execution_count": 312
        }
      ]
    },
    {
      "cell_type": "code",
      "metadata": {
        "colab": {
          "base_uri": "https://localhost:8080/"
        },
        "id": "32orC33gfmuo",
        "outputId": "256f3ac4-1c0e-4ab8-9c50-40ca65607f2a"
      },
      "source": [
        "pd.to_datetime(date, dayfirst=True)"
      ],
      "execution_count": 313,
      "outputs": [
        {
          "output_type": "execute_result",
          "data": {
            "text/plain": [
              "Timestamp('2020-12-31 00:00:00')"
            ]
          },
          "metadata": {},
          "execution_count": 313
        }
      ]
    },
    {
      "cell_type": "markdown",
      "metadata": {
        "id": "xxcAr_7lf18X"
      },
      "source": [
        "### Custom time string \n",
        "https://docs.python.org/3/library/datetime.html#strftime-and-strptime-format-codes"
      ]
    },
    {
      "cell_type": "code",
      "metadata": {
        "colab": {
          "base_uri": "https://localhost:8080/"
        },
        "id": "npulUgjifrSY",
        "outputId": "1cf272e1-18c6-4cd1-f24b-e6d75881cef5"
      },
      "source": [
        "date_style = '31--Dec--2020'\n",
        "pd.to_datetime(date_style, format = '%d--%b--%Y')"
      ],
      "execution_count": 314,
      "outputs": [
        {
          "output_type": "execute_result",
          "data": {
            "text/plain": [
              "Timestamp('2020-12-31 00:00:00')"
            ]
          },
          "metadata": {},
          "execution_count": 314
        }
      ]
    },
    {
      "cell_type": "code",
      "metadata": {
        "colab": {
          "base_uri": "https://localhost:8080/"
        },
        "id": "Bo_8MqNdgDFY",
        "outputId": "7221fe78-4ac4-4452-baa2-e311da60b58b"
      },
      "source": [
        "pd.to_datetime('12th of Nov 2020')"
      ],
      "execution_count": 315,
      "outputs": [
        {
          "output_type": "execute_result",
          "data": {
            "text/plain": [
              "Timestamp('2020-11-12 00:00:00')"
            ]
          },
          "metadata": {},
          "execution_count": 315
        }
      ]
    },
    {
      "cell_type": "code",
      "metadata": {
        "colab": {
          "base_uri": "https://localhost:8080/",
          "height": 203
        },
        "id": "UA4JJTnCgJKo",
        "outputId": "bc4bf203-2d30-48f7-b833-f39aa2b1d345"
      },
      "source": [
        "sales = pd.read_csv('RetailSales_BeerWineLiquor.csv')\n",
        "sales.head()"
      ],
      "execution_count": 316,
      "outputs": [
        {
          "output_type": "execute_result",
          "data": {
            "text/html": [
              "<div>\n",
              "<style scoped>\n",
              "    .dataframe tbody tr th:only-of-type {\n",
              "        vertical-align: middle;\n",
              "    }\n",
              "\n",
              "    .dataframe tbody tr th {\n",
              "        vertical-align: top;\n",
              "    }\n",
              "\n",
              "    .dataframe thead th {\n",
              "        text-align: right;\n",
              "    }\n",
              "</style>\n",
              "<table border=\"1\" class=\"dataframe\">\n",
              "  <thead>\n",
              "    <tr style=\"text-align: right;\">\n",
              "      <th></th>\n",
              "      <th>DATE</th>\n",
              "      <th>MRTSSM4453USN</th>\n",
              "    </tr>\n",
              "  </thead>\n",
              "  <tbody>\n",
              "    <tr>\n",
              "      <th>0</th>\n",
              "      <td>1992-01-01</td>\n",
              "      <td>1509</td>\n",
              "    </tr>\n",
              "    <tr>\n",
              "      <th>1</th>\n",
              "      <td>1992-02-01</td>\n",
              "      <td>1541</td>\n",
              "    </tr>\n",
              "    <tr>\n",
              "      <th>2</th>\n",
              "      <td>1992-03-01</td>\n",
              "      <td>1597</td>\n",
              "    </tr>\n",
              "    <tr>\n",
              "      <th>3</th>\n",
              "      <td>1992-04-01</td>\n",
              "      <td>1675</td>\n",
              "    </tr>\n",
              "    <tr>\n",
              "      <th>4</th>\n",
              "      <td>1992-05-01</td>\n",
              "      <td>1822</td>\n",
              "    </tr>\n",
              "  </tbody>\n",
              "</table>\n",
              "</div>"
            ],
            "text/plain": [
              "         DATE  MRTSSM4453USN\n",
              "0  1992-01-01           1509\n",
              "1  1992-02-01           1541\n",
              "2  1992-03-01           1597\n",
              "3  1992-04-01           1675\n",
              "4  1992-05-01           1822"
            ]
          },
          "metadata": {},
          "execution_count": 316
        }
      ]
    },
    {
      "cell_type": "code",
      "metadata": {
        "colab": {
          "base_uri": "https://localhost:8080/"
        },
        "id": "oLy4C-vngWY5",
        "outputId": "32470249-4bb0-4c89-fa31-c437132d601c"
      },
      "source": [
        "type(sales.iloc[0]['DATE'])"
      ],
      "execution_count": 317,
      "outputs": [
        {
          "output_type": "execute_result",
          "data": {
            "text/plain": [
              "str"
            ]
          },
          "metadata": {},
          "execution_count": 317
        }
      ]
    },
    {
      "cell_type": "code",
      "metadata": {
        "colab": {
          "base_uri": "https://localhost:8080/"
        },
        "id": "DAnt6szxgcc6",
        "outputId": "49914258-e3b6-4818-d843-75ecaadcdfc6"
      },
      "source": [
        "sales['DATE'] = pd.to_datetime(sales['DATE'])\n",
        "sales.iloc[0]['DATE']"
      ],
      "execution_count": 318,
      "outputs": [
        {
          "output_type": "execute_result",
          "data": {
            "text/plain": [
              "Timestamp('1992-01-01 00:00:00')"
            ]
          },
          "metadata": {},
          "execution_count": 318
        }
      ]
    },
    {
      "cell_type": "code",
      "metadata": {
        "colab": {
          "base_uri": "https://localhost:8080/"
        },
        "id": "aQjRPK0IgjJh",
        "outputId": "8d94f935-1cb8-4798-ecd9-c76669eea173"
      },
      "source": [
        "# parse dates at importing \n",
        "sales = pd.read_csv('RetailSales_BeerWineLiquor.csv',parse_dates=[0])\n",
        "sales.iloc[0]['DATE']"
      ],
      "execution_count": 319,
      "outputs": [
        {
          "output_type": "execute_result",
          "data": {
            "text/plain": [
              "Timestamp('1992-01-01 00:00:00')"
            ]
          },
          "metadata": {},
          "execution_count": 319
        }
      ]
    },
    {
      "cell_type": "code",
      "metadata": {
        "colab": {
          "base_uri": "https://localhost:8080/",
          "height": 234
        },
        "id": "L7xlCAOag_gY",
        "outputId": "7fea111b-0bc7-4fdc-add2-ff9dcc292d71"
      },
      "source": [
        "# date as index\n",
        "sales = sales.set_index('DATE')\n",
        "sales.head()"
      ],
      "execution_count": 320,
      "outputs": [
        {
          "output_type": "execute_result",
          "data": {
            "text/html": [
              "<div>\n",
              "<style scoped>\n",
              "    .dataframe tbody tr th:only-of-type {\n",
              "        vertical-align: middle;\n",
              "    }\n",
              "\n",
              "    .dataframe tbody tr th {\n",
              "        vertical-align: top;\n",
              "    }\n",
              "\n",
              "    .dataframe thead th {\n",
              "        text-align: right;\n",
              "    }\n",
              "</style>\n",
              "<table border=\"1\" class=\"dataframe\">\n",
              "  <thead>\n",
              "    <tr style=\"text-align: right;\">\n",
              "      <th></th>\n",
              "      <th>MRTSSM4453USN</th>\n",
              "    </tr>\n",
              "    <tr>\n",
              "      <th>DATE</th>\n",
              "      <th></th>\n",
              "    </tr>\n",
              "  </thead>\n",
              "  <tbody>\n",
              "    <tr>\n",
              "      <th>1992-01-01</th>\n",
              "      <td>1509</td>\n",
              "    </tr>\n",
              "    <tr>\n",
              "      <th>1992-02-01</th>\n",
              "      <td>1541</td>\n",
              "    </tr>\n",
              "    <tr>\n",
              "      <th>1992-03-01</th>\n",
              "      <td>1597</td>\n",
              "    </tr>\n",
              "    <tr>\n",
              "      <th>1992-04-01</th>\n",
              "      <td>1675</td>\n",
              "    </tr>\n",
              "    <tr>\n",
              "      <th>1992-05-01</th>\n",
              "      <td>1822</td>\n",
              "    </tr>\n",
              "  </tbody>\n",
              "</table>\n",
              "</div>"
            ],
            "text/plain": [
              "            MRTSSM4453USN\n",
              "DATE                     \n",
              "1992-01-01           1509\n",
              "1992-02-01           1541\n",
              "1992-03-01           1597\n",
              "1992-04-01           1675\n",
              "1992-05-01           1822"
            ]
          },
          "metadata": {},
          "execution_count": 320
        }
      ]
    },
    {
      "cell_type": "markdown",
      "metadata": {
        "id": "g98e6hNHhnR8"
      },
      "source": [
        "### Resample"
      ]
    },
    {
      "cell_type": "markdown",
      "metadata": {
        "id": "5aWOPU-Dha9W"
      },
      "source": [
        "<table style=\"display: inline-block\">\n",
        "    <caption style=\"text-align: center\"><strong>TIME SERIES OFFSET ALIASES</strong></caption>\n",
        "<tr><th>ALIAS</th><th>DESCRIPTION</th></tr>\n",
        "<tr><td>B</td><td>business day frequency</td></tr>\n",
        "<tr><td>C</td><td>custom business day frequency (experimental)</td></tr>\n",
        "<tr><td>D</td><td>calendar day frequency</td></tr>\n",
        "<tr><td>W</td><td>weekly frequency</td></tr>\n",
        "<tr><td>M</td><td>month end frequency</td></tr>\n",
        "<tr><td>SM</td><td>semi-month end frequency (15th and end of month)</td></tr>\n",
        "<tr><td>BM</td><td>business month end frequency</td></tr>\n",
        "<tr><td>CBM</td><td>custom business month end frequency</td></tr>\n",
        "<tr><td>MS</td><td>month start frequency</td></tr>\n",
        "<tr><td>SMS</td><td>semi-month start frequency (1st and 15th)</td></tr>\n",
        "<tr><td>BMS</td><td>business month start frequency</td></tr>\n",
        "<tr><td>CBMS</td><td>custom business month start frequency</td></tr>\n",
        "<tr><td>Q</td><td>quarter end frequency</td></tr>\n",
        "<tr><td></td><td><font color=white>intentionally left blank</font></td></tr></table>\n",
        "\n",
        "<table style=\"display: inline-block; margin-left: 40px\">\n",
        "<caption style=\"text-align: center\"></caption>\n",
        "<tr><th>ALIAS</th><th>DESCRIPTION</th></tr>\n",
        "<tr><td>BQ</td><td>business quarter endfrequency</td></tr>\n",
        "<tr><td>QS</td><td>quarter start frequency</td></tr>\n",
        "<tr><td>BQS</td><td>business quarter start frequency</td></tr>\n",
        "<tr><td>A</td><td>year end frequency</td></tr>\n",
        "<tr><td>BA</td><td>business year end frequency</td></tr>\n",
        "<tr><td>AS</td><td>year start frequency</td></tr>\n",
        "<tr><td>BAS</td><td>business year start frequency</td></tr>\n",
        "<tr><td>BH</td><td>business hour frequency</td></tr>\n",
        "<tr><td>H</td><td>hourly frequency</td></tr>\n",
        "<tr><td>T, min</td><td>minutely frequency</td></tr>\n",
        "<tr><td>S</td><td>secondly frequency</td></tr>\n",
        "<tr><td>L, ms</td><td>milliseconds</td></tr>\n",
        "<tr><td>U, us</td><td>microseconds</td></tr>\n",
        "<tr><td>N</td><td>nanoseconds</td></tr></table>"
      ]
    },
    {
      "cell_type": "code",
      "metadata": {
        "colab": {
          "base_uri": "https://localhost:8080/",
          "height": 234
        },
        "id": "vWvJqO7JhIIB",
        "outputId": "be492a8c-6ffb-461a-afab-d9a5c6f87ee9"
      },
      "source": [
        "sales.resample(rule='A').mean().head()"
      ],
      "execution_count": 321,
      "outputs": [
        {
          "output_type": "execute_result",
          "data": {
            "text/html": [
              "<div>\n",
              "<style scoped>\n",
              "    .dataframe tbody tr th:only-of-type {\n",
              "        vertical-align: middle;\n",
              "    }\n",
              "\n",
              "    .dataframe tbody tr th {\n",
              "        vertical-align: top;\n",
              "    }\n",
              "\n",
              "    .dataframe thead th {\n",
              "        text-align: right;\n",
              "    }\n",
              "</style>\n",
              "<table border=\"1\" class=\"dataframe\">\n",
              "  <thead>\n",
              "    <tr style=\"text-align: right;\">\n",
              "      <th></th>\n",
              "      <th>MRTSSM4453USN</th>\n",
              "    </tr>\n",
              "    <tr>\n",
              "      <th>DATE</th>\n",
              "      <th></th>\n",
              "    </tr>\n",
              "  </thead>\n",
              "  <tbody>\n",
              "    <tr>\n",
              "      <th>1992-12-31</th>\n",
              "      <td>1807.250000</td>\n",
              "    </tr>\n",
              "    <tr>\n",
              "      <th>1993-12-31</th>\n",
              "      <td>1794.833333</td>\n",
              "    </tr>\n",
              "    <tr>\n",
              "      <th>1994-12-31</th>\n",
              "      <td>1841.750000</td>\n",
              "    </tr>\n",
              "    <tr>\n",
              "      <th>1995-12-31</th>\n",
              "      <td>1833.916667</td>\n",
              "    </tr>\n",
              "    <tr>\n",
              "      <th>1996-12-31</th>\n",
              "      <td>1929.750000</td>\n",
              "    </tr>\n",
              "  </tbody>\n",
              "</table>\n",
              "</div>"
            ],
            "text/plain": [
              "            MRTSSM4453USN\n",
              "DATE                     \n",
              "1992-12-31    1807.250000\n",
              "1993-12-31    1794.833333\n",
              "1994-12-31    1841.750000\n",
              "1995-12-31    1833.916667\n",
              "1996-12-31    1929.750000"
            ]
          },
          "metadata": {},
          "execution_count": 321
        }
      ]
    },
    {
      "cell_type": "markdown",
      "metadata": {
        "id": "5Fj8nhTdiCIJ"
      },
      "source": [
        "### .dt method \n",
        "https://pandas.pydata.org/pandas-docs/stable/reference/api/pandas.Series.dt.html"
      ]
    },
    {
      "cell_type": "code",
      "metadata": {
        "colab": {
          "base_uri": "https://localhost:8080/"
        },
        "id": "pUV80xqghvtw",
        "outputId": "52f9d319-295b-4fa6-8b02-c19ee7a35e42"
      },
      "source": [
        "sales = sales.reset_index()\n",
        "# help(sales['DATE'].dt)\n",
        "sales['DATE'].dt.month"
      ],
      "execution_count": 322,
      "outputs": [
        {
          "output_type": "execute_result",
          "data": {
            "text/plain": [
              "0       1\n",
              "1       2\n",
              "2       3\n",
              "3       4\n",
              "4       5\n",
              "       ..\n",
              "335    12\n",
              "336     1\n",
              "337     2\n",
              "338     3\n",
              "339     4\n",
              "Name: DATE, Length: 340, dtype: int64"
            ]
          },
          "metadata": {},
          "execution_count": 322
        }
      ]
    },
    {
      "cell_type": "code",
      "metadata": {
        "colab": {
          "base_uri": "https://localhost:8080/"
        },
        "id": "nUOln7UoiRM4",
        "outputId": "d606d52f-e3cf-4783-f59f-a35a5836ee2a"
      },
      "source": [
        "sales['DATE'].dt.is_leap_year"
      ],
      "execution_count": 323,
      "outputs": [
        {
          "output_type": "execute_result",
          "data": {
            "text/plain": [
              "0       True\n",
              "1       True\n",
              "2       True\n",
              "3       True\n",
              "4       True\n",
              "       ...  \n",
              "335    False\n",
              "336     True\n",
              "337     True\n",
              "338     True\n",
              "339     True\n",
              "Name: DATE, Length: 340, dtype: bool"
            ]
          },
          "metadata": {},
          "execution_count": 323
        }
      ]
    },
    {
      "cell_type": "code",
      "metadata": {
        "id": "tMaWIDyFiVNw"
      },
      "source": [
        ""
      ],
      "execution_count": 323,
      "outputs": []
    }
  ]
}